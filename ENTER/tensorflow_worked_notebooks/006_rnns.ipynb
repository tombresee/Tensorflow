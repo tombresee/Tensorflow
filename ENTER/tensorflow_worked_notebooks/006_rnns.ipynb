{
  "nbformat": 4,
  "nbformat_minor": 0,
  "metadata": {
    "kernelspec": {
      "display_name": "Python 3",
      "language": "python",
      "name": "python3"
    },
    "language_info": {
      "codemirror_mode": {
        "name": "ipython",
        "version": 3
      },
      "file_extension": ".py",
      "mimetype": "text/x-python",
      "name": "python",
      "nbconvert_exporter": "python",
      "pygments_lexer": "ipython3",
      "version": "3.6.8"
    },
    "colab": {
      "name": "006_rnns.ipynb",
      "provenance": [],
      "collapsed_sections": [],
      "include_colab_link": true
    }
  },
  "cells": [
    {
      "cell_type": "markdown",
      "metadata": {
        "id": "view-in-github",
        "colab_type": "text"
      },
      "source": [
        "<a href=\"https://colab.research.google.com/github/tombresee/Tensorflow/blob/master/ENTER/tensorflow_worked_notebooks/006_rnns.ipynb\" target=\"_parent\"><img src=\"https://colab.research.google.com/assets/colab-badge.svg\" alt=\"Open In Colab\"/></a>"
      ]
    },
    {
      "cell_type": "markdown",
      "metadata": {
        "id": "MaZjrSPfTPsY",
        "colab_type": "text"
      },
      "source": [
        "# RNNs"
      ]
    },
    {
      "cell_type": "markdown",
      "metadata": {
        "id": "rBSgKKNGTPsa",
        "colab_type": "text"
      },
      "source": [
        "In this notebook you will learn how to build Recurrent Neural Networks (RNNs) for time series forecasting and sequence classification."
      ]
    },
    {
      "cell_type": "markdown",
      "metadata": {
        "id": "mEcNR-P8TPsa",
        "colab_type": "text"
      },
      "source": [
        "## Imports"
      ]
    },
    {
      "cell_type": "code",
      "metadata": {
        "id": "z9HPKGLATPsb",
        "colab_type": "code",
        "colab": {}
      },
      "source": [
        "%matplotlib inline"
      ],
      "execution_count": 0,
      "outputs": []
    },
    {
      "cell_type": "code",
      "metadata": {
        "id": "uD4ZMT8aTPse",
        "colab_type": "code",
        "colab": {}
      },
      "source": [
        "import matplotlib as mpl\n",
        "import matplotlib.pyplot as plt\n",
        "import numpy as np\n",
        "import os\n",
        "import pandas as pd\n",
        "import sklearn\n",
        "import sys\n",
        "import tensorflow as tf\n",
        "from tensorflow import keras\n",
        "import time"
      ],
      "execution_count": 0,
      "outputs": []
    },
    {
      "cell_type": "code",
      "metadata": {
        "id": "VxL7dgIgTPsh",
        "colab_type": "code",
        "outputId": "f1e001e5-88a5-4c88-905c-6294d95540c0",
        "colab": {
          "base_uri": "https://localhost:8080/",
          "height": 163
        }
      },
      "source": [
        "print(\"python\", sys.version)\n",
        "for module in mpl, np, pd, sklearn, tf, keras:\n",
        "    print(module.__name__, module.__version__)"
      ],
      "execution_count": 3,
      "outputs": [
        {
          "output_type": "stream",
          "text": [
            "python 3.6.9 (default, Apr 18 2020, 01:56:04) \n",
            "[GCC 8.4.0]\n",
            "matplotlib 3.2.1\n",
            "numpy 1.18.5\n",
            "pandas 1.0.4\n",
            "sklearn 0.22.2.post1\n",
            "tensorflow 2.2.0\n",
            "tensorflow.keras 2.3.0-tf\n"
          ],
          "name": "stdout"
        }
      ]
    },
    {
      "cell_type": "code",
      "metadata": {
        "id": "SOVqx1v9TPsj",
        "colab_type": "code",
        "colab": {}
      },
      "source": [
        "assert sys.version_info >= (3, 5) # Python ≥3.5 required\n",
        "assert tf.__version__ >= \"2.0\"    # TensorFlow ≥2.0 required"
      ],
      "execution_count": 0,
      "outputs": []
    },
    {
      "cell_type": "markdown",
      "metadata": {
        "id": "77HYEJqgTPsm",
        "colab_type": "text"
      },
      "source": [
        "# Exercise 1 – Time series forecasting"
      ]
    },
    {
      "cell_type": "markdown",
      "metadata": {
        "id": "zYnXn61xTPsn",
        "colab_type": "text"
      },
      "source": [
        "## 1.1) Load the data"
      ]
    },
    {
      "cell_type": "markdown",
      "metadata": {
        "id": "IHPJmRjfTPso",
        "colab_type": "text"
      },
      "source": [
        "Let's start with a simple univariate time series: the daily temperatures in Melbourne from 1981 to 1990 ([source](https://datamarket.com/data/set/2324/daily-minimum-temperatures-in-melbourne-australia-1981-1990))."
      ]
    },
    {
      "cell_type": "code",
      "metadata": {
        "id": "DhTNoa8fTPso",
        "colab_type": "code",
        "colab": {}
      },
      "source": [
        "temps = pd.read_csv(\"https://github.com/ageron/tf2_course/raw/master/datasets/daily-minimum-temperatures-in-me.csv\",\n",
        "                    parse_dates=[0], index_col=0)"
      ],
      "execution_count": 0,
      "outputs": []
    },
    {
      "cell_type": "code",
      "metadata": {
        "id": "vVarzkuyTPsr",
        "colab_type": "code",
        "outputId": "60af8927-8827-438c-8cc0-7cd4b826dd2b",
        "colab": {
          "base_uri": "https://localhost:8080/",
          "height": 163
        }
      },
      "source": [
        "temps.info()"
      ],
      "execution_count": 6,
      "outputs": [
        {
          "output_type": "stream",
          "text": [
            "<class 'pandas.core.frame.DataFrame'>\n",
            "DatetimeIndex: 3650 entries, 1981-01-01 to 1990-12-31\n",
            "Data columns (total 1 columns):\n",
            " #   Column       Non-Null Count  Dtype  \n",
            "---  ------       --------------  -----  \n",
            " 0   Temperature  3650 non-null   float64\n",
            "dtypes: float64(1)\n",
            "memory usage: 57.0 KB\n"
          ],
          "name": "stdout"
        }
      ]
    },
    {
      "cell_type": "code",
      "metadata": {
        "id": "0zk4FUVGTPsv",
        "colab_type": "code",
        "outputId": "bd198146-29bf-4e59-e311-ef6b34d682fe",
        "colab": {
          "base_uri": "https://localhost:8080/",
          "height": 228
        }
      },
      "source": [
        "temps.head()"
      ],
      "execution_count": 7,
      "outputs": [
        {
          "output_type": "execute_result",
          "data": {
            "text/html": [
              "<div>\n",
              "<style scoped>\n",
              "    .dataframe tbody tr th:only-of-type {\n",
              "        vertical-align: middle;\n",
              "    }\n",
              "\n",
              "    .dataframe tbody tr th {\n",
              "        vertical-align: top;\n",
              "    }\n",
              "\n",
              "    .dataframe thead th {\n",
              "        text-align: right;\n",
              "    }\n",
              "</style>\n",
              "<table border=\"1\" class=\"dataframe\">\n",
              "  <thead>\n",
              "    <tr style=\"text-align: right;\">\n",
              "      <th></th>\n",
              "      <th>Temperature</th>\n",
              "    </tr>\n",
              "    <tr>\n",
              "      <th>Date</th>\n",
              "      <th></th>\n",
              "    </tr>\n",
              "  </thead>\n",
              "  <tbody>\n",
              "    <tr>\n",
              "      <th>1981-01-01</th>\n",
              "      <td>20.7</td>\n",
              "    </tr>\n",
              "    <tr>\n",
              "      <th>1981-01-02</th>\n",
              "      <td>17.9</td>\n",
              "    </tr>\n",
              "    <tr>\n",
              "      <th>1981-01-03</th>\n",
              "      <td>18.8</td>\n",
              "    </tr>\n",
              "    <tr>\n",
              "      <th>1981-01-04</th>\n",
              "      <td>14.6</td>\n",
              "    </tr>\n",
              "    <tr>\n",
              "      <th>1981-01-05</th>\n",
              "      <td>15.8</td>\n",
              "    </tr>\n",
              "  </tbody>\n",
              "</table>\n",
              "</div>"
            ],
            "text/plain": [
              "            Temperature\n",
              "Date                   \n",
              "1981-01-01         20.7\n",
              "1981-01-02         17.9\n",
              "1981-01-03         18.8\n",
              "1981-01-04         14.6\n",
              "1981-01-05         15.8"
            ]
          },
          "metadata": {
            "tags": []
          },
          "execution_count": 7
        }
      ]
    },
    {
      "cell_type": "code",
      "metadata": {
        "id": "YN-SHcYTTPsx",
        "colab_type": "code",
        "outputId": "4f6911f9-d52c-4273-a33a-17f0b60a0b3a",
        "colab": {
          "base_uri": "https://localhost:8080/",
          "height": 318
        }
      },
      "source": [
        "temps.plot(figsize=(10,5))\n",
        "plt.show()"
      ],
      "execution_count": 8,
      "outputs": [
        {
          "output_type": "display_data",
          "data": {
            "image/png": "[encoded data removed]",
            "text/plain": [
              "<Figure size 720x360 with 1 Axes>"
            ]
          },
          "metadata": {
            "tags": [],
            "needs_background": "light"
          }
        }
      ]
    },
    {
      "cell_type": "markdown",
      "metadata": {
        "id": "MkNWdrvNTPsz",
        "colab_type": "text"
      },
      "source": [
        "## 1.2) Prepare the data"
      ]
    },
    {
      "cell_type": "markdown",
      "metadata": {
        "id": "4ESVpCmtTPs0",
        "colab_type": "text"
      },
      "source": [
        "A few dates are missing, for example December 31st, 1984:"
      ]
    },
    {
      "cell_type": "code",
      "metadata": {
        "id": "m-M0aVOkTPs0",
        "colab_type": "code",
        "outputId": "307a6d12-f38c-449b-a335-ae982a0c2559",
        "colab": {
          "base_uri": "https://localhost:8080/",
          "height": 198
        }
      },
      "source": [
        "temps.loc[\"1984-12-29\":\"1985-01-02\"]"
      ],
      "execution_count": 9,
      "outputs": [
        {
          "output_type": "execute_result",
          "data": {
            "text/html": [
              "<div>\n",
              "<style scoped>\n",
              "    .dataframe tbody tr th:only-of-type {\n",
              "        vertical-align: middle;\n",
              "    }\n",
              "\n",
              "    .dataframe tbody tr th {\n",
              "        vertical-align: top;\n",
              "    }\n",
              "\n",
              "    .dataframe thead th {\n",
              "        text-align: right;\n",
              "    }\n",
              "</style>\n",
              "<table border=\"1\" class=\"dataframe\">\n",
              "  <thead>\n",
              "    <tr style=\"text-align: right;\">\n",
              "      <th></th>\n",
              "      <th>Temperature</th>\n",
              "    </tr>\n",
              "    <tr>\n",
              "      <th>Date</th>\n",
              "      <th></th>\n",
              "    </tr>\n",
              "  </thead>\n",
              "  <tbody>\n",
              "    <tr>\n",
              "      <th>1984-12-29</th>\n",
              "      <td>16.0</td>\n",
              "    </tr>\n",
              "    <tr>\n",
              "      <th>1984-12-30</th>\n",
              "      <td>16.4</td>\n",
              "    </tr>\n",
              "    <tr>\n",
              "      <th>1985-01-01</th>\n",
              "      <td>13.3</td>\n",
              "    </tr>\n",
              "    <tr>\n",
              "      <th>1985-01-02</th>\n",
              "      <td>15.2</td>\n",
              "    </tr>\n",
              "  </tbody>\n",
              "</table>\n",
              "</div>"
            ],
            "text/plain": [
              "            Temperature\n",
              "Date                   \n",
              "1984-12-29         16.0\n",
              "1984-12-30         16.4\n",
              "1985-01-01         13.3\n",
              "1985-01-02         15.2"
            ]
          },
          "metadata": {
            "tags": []
          },
          "execution_count": 9
        }
      ]
    },
    {
      "cell_type": "markdown",
      "metadata": {
        "id": "XFH2GzeoTPs3",
        "colab_type": "text"
      },
      "source": [
        "Let's ensure there's one row per day, filling missing values with the previous valid value:"
      ]
    },
    {
      "cell_type": "code",
      "metadata": {
        "id": "-uH7jFHhTPs3",
        "colab_type": "code",
        "outputId": "2ae1183f-ea85-4e33-f1f6-7e09a92d6c58",
        "colab": {
          "base_uri": "https://localhost:8080/",
          "height": 228
        }
      },
      "source": [
        "temps = temps.asfreq(\"1D\", method=\"ffill\")\n",
        "temps.loc[\"1984-12-29\":\"1985-01-02\"]"
      ],
      "execution_count": 10,
      "outputs": [
        {
          "output_type": "execute_result",
          "data": {
            "text/html": [
              "<div>\n",
              "<style scoped>\n",
              "    .dataframe tbody tr th:only-of-type {\n",
              "        vertical-align: middle;\n",
              "    }\n",
              "\n",
              "    .dataframe tbody tr th {\n",
              "        vertical-align: top;\n",
              "    }\n",
              "\n",
              "    .dataframe thead th {\n",
              "        text-align: right;\n",
              "    }\n",
              "</style>\n",
              "<table border=\"1\" class=\"dataframe\">\n",
              "  <thead>\n",
              "    <tr style=\"text-align: right;\">\n",
              "      <th></th>\n",
              "      <th>Temperature</th>\n",
              "    </tr>\n",
              "    <tr>\n",
              "      <th>Date</th>\n",
              "      <th></th>\n",
              "    </tr>\n",
              "  </thead>\n",
              "  <tbody>\n",
              "    <tr>\n",
              "      <th>1984-12-29</th>\n",
              "      <td>16.0</td>\n",
              "    </tr>\n",
              "    <tr>\n",
              "      <th>1984-12-30</th>\n",
              "      <td>16.4</td>\n",
              "    </tr>\n",
              "    <tr>\n",
              "      <th>1984-12-31</th>\n",
              "      <td>16.4</td>\n",
              "    </tr>\n",
              "    <tr>\n",
              "      <th>1985-01-01</th>\n",
              "      <td>13.3</td>\n",
              "    </tr>\n",
              "    <tr>\n",
              "      <th>1985-01-02</th>\n",
              "      <td>15.2</td>\n",
              "    </tr>\n",
              "  </tbody>\n",
              "</table>\n",
              "</div>"
            ],
            "text/plain": [
              "            Temperature\n",
              "Date                   \n",
              "1984-12-29         16.0\n",
              "1984-12-30         16.4\n",
              "1984-12-31         16.4\n",
              "1985-01-01         13.3\n",
              "1985-01-02         15.2"
            ]
          },
          "metadata": {
            "tags": []
          },
          "execution_count": 10
        }
      ]
    },
    {
      "cell_type": "markdown",
      "metadata": {
        "id": "_fGRX_nITPs7",
        "colab_type": "text"
      },
      "source": [
        "Alternatively, we could have interpolated using `temps.interpolate()`."
      ]
    },
    {
      "cell_type": "markdown",
      "metadata": {
        "id": "SSLZzOtUTPs7",
        "colab_type": "text"
      },
      "source": [
        "## 1.3) Add the shifted columns"
      ]
    },
    {
      "cell_type": "markdown",
      "metadata": {
        "id": "AKMLJIf-TPs8",
        "colab_type": "text"
      },
      "source": [
        "Next, let's create a function to add lag columns:"
      ]
    },
    {
      "cell_type": "code",
      "metadata": {
        "id": "fLXEGIcUTPs9",
        "colab_type": "code",
        "colab": {}
      },
      "source": [
        "def add_lags(series, times):\n",
        "    cols = []\n",
        "    column_index = []\n",
        "    for time in times:\n",
        "        cols.append(series.shift(-time))\n",
        "        lag_fmt = \"t+{time}\" if time > 0 else \"t{time}\" if time < 0 else \"t\"\n",
        "        column_index += [(lag_fmt.format(time=time), col_name)\n",
        "                        for col_name in series.columns]\n",
        "    df = pd.concat(cols, axis=1)\n",
        "    df.columns = pd.MultiIndex.from_tuples(column_index)\n",
        "    return df"
      ],
      "execution_count": 0,
      "outputs": []
    },
    {
      "cell_type": "markdown",
      "metadata": {
        "id": "Savd0gfzTPs_",
        "colab_type": "text"
      },
      "source": [
        "We will try to predict the temperature in 5 days (t+5) using the temperatures from the last 30 days (t-29 to t):"
      ]
    },
    {
      "cell_type": "code",
      "metadata": {
        "id": "7qbwtIn3TPs_",
        "colab_type": "code",
        "colab": {}
      },
      "source": [
        "X = add_lags(temps, times=range(-30+1,1)).iloc[30:-5]\n",
        "y = add_lags(temps, times=[5]).iloc[30:-5]"
      ],
      "execution_count": 0,
      "outputs": []
    },
    {
      "cell_type": "code",
      "metadata": {
        "id": "3c8i2Ii4TPtB",
        "colab_type": "code",
        "outputId": "a37ff2a4-687c-4824-9da5-906d6d422110",
        "colab": {
          "base_uri": "https://localhost:8080/",
          "height": 365
        }
      },
      "source": [
        "X.head()"
      ],
      "execution_count": 13,
      "outputs": [
        {
          "output_type": "execute_result",
          "data": {
            "text/html": [
              "<div>\n",
              "<style scoped>\n",
              "    .dataframe tbody tr th:only-of-type {\n",
              "        vertical-align: middle;\n",
              "    }\n",
              "\n",
              "    .dataframe tbody tr th {\n",
              "        vertical-align: top;\n",
              "    }\n",
              "\n",
              "    .dataframe thead tr th {\n",
              "        text-align: left;\n",
              "    }\n",
              "\n",
              "    .dataframe thead tr:last-of-type th {\n",
              "        text-align: right;\n",
              "    }\n",
              "</style>\n",
              "<table border=\"1\" class=\"dataframe\">\n",
              "  <thead>\n",
              "    <tr>\n",
              "      <th></th>\n",
              "      <th>t-29</th>\n",
              "      <th>t-28</th>\n",
              "      <th>t-27</th>\n",
              "      <th>t-26</th>\n",
              "      <th>t-25</th>\n",
              "      <th>t-24</th>\n",
              "      <th>t-23</th>\n",
              "      <th>t-22</th>\n",
              "      <th>t-21</th>\n",
              "      <th>t-20</th>\n",
              "      <th>t-19</th>\n",
              "      <th>t-18</th>\n",
              "      <th>t-17</th>\n",
              "      <th>t-16</th>\n",
              "      <th>t-15</th>\n",
              "      <th>t-14</th>\n",
              "      <th>t-13</th>\n",
              "      <th>t-12</th>\n",
              "      <th>t-11</th>\n",
              "      <th>t-10</th>\n",
              "      <th>t-9</th>\n",
              "      <th>t-8</th>\n",
              "      <th>t-7</th>\n",
              "      <th>t-6</th>\n",
              "      <th>t-5</th>\n",
              "      <th>t-4</th>\n",
              "      <th>t-3</th>\n",
              "      <th>t-2</th>\n",
              "      <th>t-1</th>\n",
              "      <th>t</th>\n",
              "    </tr>\n",
              "    <tr>\n",
              "      <th></th>\n",
              "      <th>Temperature</th>\n",
              "      <th>Temperature</th>\n",
              "      <th>Temperature</th>\n",
              "      <th>Temperature</th>\n",
              "      <th>Temperature</th>\n",
              "      <th>Temperature</th>\n",
              "      <th>Temperature</th>\n",
              "      <th>Temperature</th>\n",
              "      <th>Temperature</th>\n",
              "      <th>Temperature</th>\n",
              "      <th>Temperature</th>\n",
              "      <th>Temperature</th>\n",
              "      <th>Temperature</th>\n",
              "      <th>Temperature</th>\n",
              "      <th>Temperature</th>\n",
              "      <th>Temperature</th>\n",
              "      <th>Temperature</th>\n",
              "      <th>Temperature</th>\n",
              "      <th>Temperature</th>\n",
              "      <th>Temperature</th>\n",
              "      <th>Temperature</th>\n",
              "      <th>Temperature</th>\n",
              "      <th>Temperature</th>\n",
              "      <th>Temperature</th>\n",
              "      <th>Temperature</th>\n",
              "      <th>Temperature</th>\n",
              "      <th>Temperature</th>\n",
              "      <th>Temperature</th>\n",
              "      <th>Temperature</th>\n",
              "      <th>Temperature</th>\n",
              "    </tr>\n",
              "    <tr>\n",
              "      <th>Date</th>\n",
              "      <th></th>\n",
              "      <th></th>\n",
              "      <th></th>\n",
              "      <th></th>\n",
              "      <th></th>\n",
              "      <th></th>\n",
              "      <th></th>\n",
              "      <th></th>\n",
              "      <th></th>\n",
              "      <th></th>\n",
              "      <th></th>\n",
              "      <th></th>\n",
              "      <th></th>\n",
              "      <th></th>\n",
              "      <th></th>\n",
              "      <th></th>\n",
              "      <th></th>\n",
              "      <th></th>\n",
              "      <th></th>\n",
              "      <th></th>\n",
              "      <th></th>\n",
              "      <th></th>\n",
              "      <th></th>\n",
              "      <th></th>\n",
              "      <th></th>\n",
              "      <th></th>\n",
              "      <th></th>\n",
              "      <th></th>\n",
              "      <th></th>\n",
              "      <th></th>\n",
              "    </tr>\n",
              "  </thead>\n",
              "  <tbody>\n",
              "    <tr>\n",
              "      <th>1981-01-31</th>\n",
              "      <td>17.9</td>\n",
              "      <td>18.8</td>\n",
              "      <td>14.6</td>\n",
              "      <td>15.8</td>\n",
              "      <td>15.8</td>\n",
              "      <td>15.8</td>\n",
              "      <td>17.4</td>\n",
              "      <td>21.8</td>\n",
              "      <td>20.0</td>\n",
              "      <td>16.2</td>\n",
              "      <td>13.3</td>\n",
              "      <td>16.7</td>\n",
              "      <td>21.5</td>\n",
              "      <td>25.0</td>\n",
              "      <td>20.7</td>\n",
              "      <td>20.6</td>\n",
              "      <td>24.8</td>\n",
              "      <td>17.7</td>\n",
              "      <td>15.5</td>\n",
              "      <td>18.2</td>\n",
              "      <td>12.1</td>\n",
              "      <td>14.4</td>\n",
              "      <td>16.0</td>\n",
              "      <td>16.5</td>\n",
              "      <td>18.7</td>\n",
              "      <td>19.4</td>\n",
              "      <td>17.2</td>\n",
              "      <td>15.5</td>\n",
              "      <td>15.1</td>\n",
              "      <td>15.4</td>\n",
              "    </tr>\n",
              "    <tr>\n",
              "      <th>1981-02-01</th>\n",
              "      <td>18.8</td>\n",
              "      <td>14.6</td>\n",
              "      <td>15.8</td>\n",
              "      <td>15.8</td>\n",
              "      <td>15.8</td>\n",
              "      <td>17.4</td>\n",
              "      <td>21.8</td>\n",
              "      <td>20.0</td>\n",
              "      <td>16.2</td>\n",
              "      <td>13.3</td>\n",
              "      <td>16.7</td>\n",
              "      <td>21.5</td>\n",
              "      <td>25.0</td>\n",
              "      <td>20.7</td>\n",
              "      <td>20.6</td>\n",
              "      <td>24.8</td>\n",
              "      <td>17.7</td>\n",
              "      <td>15.5</td>\n",
              "      <td>18.2</td>\n",
              "      <td>12.1</td>\n",
              "      <td>14.4</td>\n",
              "      <td>16.0</td>\n",
              "      <td>16.5</td>\n",
              "      <td>18.7</td>\n",
              "      <td>19.4</td>\n",
              "      <td>17.2</td>\n",
              "      <td>15.5</td>\n",
              "      <td>15.1</td>\n",
              "      <td>15.4</td>\n",
              "      <td>15.3</td>\n",
              "    </tr>\n",
              "    <tr>\n",
              "      <th>1981-02-02</th>\n",
              "      <td>14.6</td>\n",
              "      <td>15.8</td>\n",
              "      <td>15.8</td>\n",
              "      <td>15.8</td>\n",
              "      <td>17.4</td>\n",
              "      <td>21.8</td>\n",
              "      <td>20.0</td>\n",
              "      <td>16.2</td>\n",
              "      <td>13.3</td>\n",
              "      <td>16.7</td>\n",
              "      <td>21.5</td>\n",
              "      <td>25.0</td>\n",
              "      <td>20.7</td>\n",
              "      <td>20.6</td>\n",
              "      <td>24.8</td>\n",
              "      <td>17.7</td>\n",
              "      <td>15.5</td>\n",
              "      <td>18.2</td>\n",
              "      <td>12.1</td>\n",
              "      <td>14.4</td>\n",
              "      <td>16.0</td>\n",
              "      <td>16.5</td>\n",
              "      <td>18.7</td>\n",
              "      <td>19.4</td>\n",
              "      <td>17.2</td>\n",
              "      <td>15.5</td>\n",
              "      <td>15.1</td>\n",
              "      <td>15.4</td>\n",
              "      <td>15.3</td>\n",
              "      <td>18.8</td>\n",
              "    </tr>\n",
              "    <tr>\n",
              "      <th>1981-02-03</th>\n",
              "      <td>15.8</td>\n",
              "      <td>15.8</td>\n",
              "      <td>15.8</td>\n",
              "      <td>17.4</td>\n",
              "      <td>21.8</td>\n",
              "      <td>20.0</td>\n",
              "      <td>16.2</td>\n",
              "      <td>13.3</td>\n",
              "      <td>16.7</td>\n",
              "      <td>21.5</td>\n",
              "      <td>25.0</td>\n",
              "      <td>20.7</td>\n",
              "      <td>20.6</td>\n",
              "      <td>24.8</td>\n",
              "      <td>17.7</td>\n",
              "      <td>15.5</td>\n",
              "      <td>18.2</td>\n",
              "      <td>12.1</td>\n",
              "      <td>14.4</td>\n",
              "      <td>16.0</td>\n",
              "      <td>16.5</td>\n",
              "      <td>18.7</td>\n",
              "      <td>19.4</td>\n",
              "      <td>17.2</td>\n",
              "      <td>15.5</td>\n",
              "      <td>15.1</td>\n",
              "      <td>15.4</td>\n",
              "      <td>15.3</td>\n",
              "      <td>18.8</td>\n",
              "      <td>21.9</td>\n",
              "    </tr>\n",
              "    <tr>\n",
              "      <th>1981-02-04</th>\n",
              "      <td>15.8</td>\n",
              "      <td>15.8</td>\n",
              "      <td>17.4</td>\n",
              "      <td>21.8</td>\n",
              "      <td>20.0</td>\n",
              "      <td>16.2</td>\n",
              "      <td>13.3</td>\n",
              "      <td>16.7</td>\n",
              "      <td>21.5</td>\n",
              "      <td>25.0</td>\n",
              "      <td>20.7</td>\n",
              "      <td>20.6</td>\n",
              "      <td>24.8</td>\n",
              "      <td>17.7</td>\n",
              "      <td>15.5</td>\n",
              "      <td>18.2</td>\n",
              "      <td>12.1</td>\n",
              "      <td>14.4</td>\n",
              "      <td>16.0</td>\n",
              "      <td>16.5</td>\n",
              "      <td>18.7</td>\n",
              "      <td>19.4</td>\n",
              "      <td>17.2</td>\n",
              "      <td>15.5</td>\n",
              "      <td>15.1</td>\n",
              "      <td>15.4</td>\n",
              "      <td>15.3</td>\n",
              "      <td>18.8</td>\n",
              "      <td>21.9</td>\n",
              "      <td>19.9</td>\n",
              "    </tr>\n",
              "  </tbody>\n",
              "</table>\n",
              "</div>"
            ],
            "text/plain": [
              "                  t-29        t-28  ...         t-1           t\n",
              "           Temperature Temperature  ... Temperature Temperature\n",
              "Date                                ...                        \n",
              "1981-01-31        17.9        18.8  ...        15.1        15.4\n",
              "1981-02-01        18.8        14.6  ...        15.4        15.3\n",
              "1981-02-02        14.6        15.8  ...        15.3        18.8\n",
              "1981-02-03        15.8        15.8  ...        18.8        21.9\n",
              "1981-02-04        15.8        15.8  ...        21.9        19.9\n",
              "\n",
              "[5 rows x 30 columns]"
            ]
          },
          "metadata": {
            "tags": []
          },
          "execution_count": 13
        }
      ]
    },
    {
      "cell_type": "code",
      "metadata": {
        "id": "FrGW8Bq2TPtE",
        "colab_type": "code",
        "outputId": "6e912905-08b7-415b-e2ca-f778bd184b42",
        "colab": {
          "base_uri": "https://localhost:8080/",
          "height": 258
        }
      },
      "source": [
        "y.head()"
      ],
      "execution_count": 14,
      "outputs": [
        {
          "output_type": "execute_result",
          "data": {
            "text/html": [
              "<div>\n",
              "<style scoped>\n",
              "    .dataframe tbody tr th:only-of-type {\n",
              "        vertical-align: middle;\n",
              "    }\n",
              "\n",
              "    .dataframe tbody tr th {\n",
              "        vertical-align: top;\n",
              "    }\n",
              "\n",
              "    .dataframe thead tr th {\n",
              "        text-align: left;\n",
              "    }\n",
              "\n",
              "    .dataframe thead tr:last-of-type th {\n",
              "        text-align: right;\n",
              "    }\n",
              "</style>\n",
              "<table border=\"1\" class=\"dataframe\">\n",
              "  <thead>\n",
              "    <tr>\n",
              "      <th></th>\n",
              "      <th>t+5</th>\n",
              "    </tr>\n",
              "    <tr>\n",
              "      <th></th>\n",
              "      <th>Temperature</th>\n",
              "    </tr>\n",
              "    <tr>\n",
              "      <th>Date</th>\n",
              "      <th></th>\n",
              "    </tr>\n",
              "  </thead>\n",
              "  <tbody>\n",
              "    <tr>\n",
              "      <th>1981-01-31</th>\n",
              "      <td>16.6</td>\n",
              "    </tr>\n",
              "    <tr>\n",
              "      <th>1981-02-01</th>\n",
              "      <td>16.8</td>\n",
              "    </tr>\n",
              "    <tr>\n",
              "      <th>1981-02-02</th>\n",
              "      <td>14.6</td>\n",
              "    </tr>\n",
              "    <tr>\n",
              "      <th>1981-02-03</th>\n",
              "      <td>17.1</td>\n",
              "    </tr>\n",
              "    <tr>\n",
              "      <th>1981-02-04</th>\n",
              "      <td>25.0</td>\n",
              "    </tr>\n",
              "  </tbody>\n",
              "</table>\n",
              "</div>"
            ],
            "text/plain": [
              "                   t+5\n",
              "           Temperature\n",
              "Date                  \n",
              "1981-01-31        16.6\n",
              "1981-02-01        16.8\n",
              "1981-02-02        14.6\n",
              "1981-02-03        17.1\n",
              "1981-02-04        25.0"
            ]
          },
          "metadata": {
            "tags": []
          },
          "execution_count": 14
        }
      ]
    },
    {
      "cell_type": "markdown",
      "metadata": {
        "id": "AAnbeyLSTPtG",
        "colab_type": "text"
      },
      "source": [
        "Note: you may want to use `keras.preprocessing.sequence.TimeseriesGenerator` or `tf.data.Dataset.window()` instead."
      ]
    },
    {
      "cell_type": "markdown",
      "metadata": {
        "id": "VqcP-4OtTPtG",
        "colab_type": "text"
      },
      "source": [
        "## 1.4) Split the dataset"
      ]
    },
    {
      "cell_type": "markdown",
      "metadata": {
        "id": "DGj-PNMTTPtH",
        "colab_type": "text"
      },
      "source": [
        "Split this dataset into three periods: training (1981-1986), validation (1987-1988) and testing (1989-1990)."
      ]
    },
    {
      "cell_type": "code",
      "metadata": {
        "id": "4jgpJWmrTPtI",
        "colab_type": "code",
        "colab": {}
      },
      "source": [
        "#X_train, y_train = ...\n",
        "#X_valid, y_valid = ...\n",
        "#X_test, y_test = ..."
      ],
      "execution_count": 0,
      "outputs": []
    },
    {
      "cell_type": "code",
      "metadata": {
        "id": "MEclxVGXTPtK",
        "colab_type": "code",
        "colab": {}
      },
      "source": [
        ""
      ],
      "execution_count": 0,
      "outputs": []
    },
    {
      "cell_type": "code",
      "metadata": {
        "id": "WW5-bA2UTPtM",
        "colab_type": "code",
        "colab": {}
      },
      "source": [
        ""
      ],
      "execution_count": 0,
      "outputs": []
    },
    {
      "cell_type": "code",
      "metadata": {
        "id": "lHYDJ-vbTPtO",
        "colab_type": "code",
        "colab": {}
      },
      "source": [
        ""
      ],
      "execution_count": 0,
      "outputs": []
    },
    {
      "cell_type": "markdown",
      "metadata": {
        "id": "fQUlMcSjTPtQ",
        "colab_type": "text"
      },
      "source": [
        "## 1.5) Reshape the inputs for the RNN"
      ]
    },
    {
      "cell_type": "markdown",
      "metadata": {
        "id": "yVASZBp3TPtQ",
        "colab_type": "text"
      },
      "source": [
        "Keras and TensorFlow expect a 3D NumPy array for any sequence. Its shape should be (number of instances, number of time steps, number of features per time step). Since this is a univariate time series, the last dimension is 1. Reshape the input features to get 3D arrays:"
      ]
    },
    {
      "cell_type": "code",
      "metadata": {
        "id": "wlJ_P9Y_TPtQ",
        "colab_type": "code",
        "colab": {}
      },
      "source": [
        "#X_train_3D = ...\n",
        "#X_valid_3D = ...\n",
        "#X_test_3D = ..."
      ],
      "execution_count": 0,
      "outputs": []
    },
    {
      "cell_type": "code",
      "metadata": {
        "id": "BZ-ZeImWTPtT",
        "colab_type": "code",
        "colab": {}
      },
      "source": [
        ""
      ],
      "execution_count": 0,
      "outputs": []
    },
    {
      "cell_type": "code",
      "metadata": {
        "id": "csG2LMIpTPtW",
        "colab_type": "code",
        "colab": {}
      },
      "source": [
        ""
      ],
      "execution_count": 0,
      "outputs": []
    },
    {
      "cell_type": "code",
      "metadata": {
        "id": "r3Hejwu5TPtY",
        "colab_type": "code",
        "colab": {}
      },
      "source": [
        ""
      ],
      "execution_count": 0,
      "outputs": []
    },
    {
      "cell_type": "markdown",
      "metadata": {
        "id": "07aUmTH4TPta",
        "colab_type": "text"
      },
      "source": [
        "## 1.6) Build some baseline models"
      ]
    },
    {
      "cell_type": "markdown",
      "metadata": {
        "id": "fBG-C8pTTPtb",
        "colab_type": "text"
      },
      "source": [
        "Build some baseline models (at least one) and evaluate them on the validation set, using the Mean Absolute Error (MAE). For example:\n",
        "\n",
        "* a naive model, that just predicts the last known value.\n",
        "* an EMA model that predicts an exponential moving average of the last 48 hours (you can try to find the best span).\n",
        "* a linear model.\n",
        "\n",
        "Optional: plot the predictions."
      ]
    },
    {
      "cell_type": "code",
      "metadata": {
        "id": "IsaEyfl7TPtc",
        "colab_type": "code",
        "colab": {}
      },
      "source": [
        ""
      ],
      "execution_count": 0,
      "outputs": []
    },
    {
      "cell_type": "code",
      "metadata": {
        "id": "QClX-LAATPte",
        "colab_type": "code",
        "colab": {}
      },
      "source": [
        ""
      ],
      "execution_count": 0,
      "outputs": []
    },
    {
      "cell_type": "code",
      "metadata": {
        "id": "4WGSvMD9TPtg",
        "colab_type": "code",
        "colab": {}
      },
      "source": [
        ""
      ],
      "execution_count": 0,
      "outputs": []
    },
    {
      "cell_type": "markdown",
      "metadata": {
        "id": "qKq-h0bGTPth",
        "colab_type": "text"
      },
      "source": [
        "## 1.7) Build a simple RNN"
      ]
    },
    {
      "cell_type": "markdown",
      "metadata": {
        "id": "OQlTRPH-TPti",
        "colab_type": "text"
      },
      "source": [
        "Using Keras, build a simple 2-layer RNN with 100 neurons per layer, plus a dense layer with a single neuron. Train the model for 200 epochs with a batch size of 200, using Stochastic Gradient Descent with an learning rate of 0.005. Make sure to print the validation loss during training.\n",
        "\n",
        "Hints:\n",
        "\n",
        "* Create a `Sequential` model.\n",
        "* Add two `SimpleRNN` layers, with 100 units each. The first should return sequences but not the second. Indeed, in a Seq2Vec model, the last RNN layer should not return sequences. The first layer should specify the input shape (i.e., the shape of a single input sequence).\n",
        "* Use the MSE as the loss.\n",
        "* Call the model's `compile()` method, passing it an `SGD` instance with `lr=0.005`.\n",
        "* Call the model's `fit()` method, with the inputs and targets, number of epochs, batch size and validation data."
      ]
    },
    {
      "cell_type": "code",
      "metadata": {
        "id": "lfYXZfQOTPti",
        "colab_type": "code",
        "colab": {}
      },
      "source": [
        "#model1 = ..."
      ],
      "execution_count": 0,
      "outputs": []
    },
    {
      "cell_type": "code",
      "metadata": {
        "id": "3nFLnLhYTPtk",
        "colab_type": "code",
        "colab": {}
      },
      "source": [
        ""
      ],
      "execution_count": 0,
      "outputs": []
    },
    {
      "cell_type": "code",
      "metadata": {
        "id": "yYeMhd-HTPtm",
        "colab_type": "code",
        "colab": {}
      },
      "source": [
        ""
      ],
      "execution_count": 0,
      "outputs": []
    },
    {
      "cell_type": "code",
      "metadata": {
        "id": "I67u0dMWTPto",
        "colab_type": "code",
        "colab": {}
      },
      "source": [
        ""
      ],
      "execution_count": 0,
      "outputs": []
    },
    {
      "cell_type": "markdown",
      "metadata": {
        "id": "N1ii27HZTPtq",
        "colab_type": "text"
      },
      "source": [
        "## 1.8) Plot the history"
      ]
    },
    {
      "cell_type": "markdown",
      "metadata": {
        "id": "YAxLDOrmTPtr",
        "colab_type": "text"
      },
      "source": [
        "Recall that you can simply use `pd.DataFrame(history.history).plot()`."
      ]
    },
    {
      "cell_type": "code",
      "metadata": {
        "id": "RfZFBzEoTPtr",
        "colab_type": "code",
        "colab": {}
      },
      "source": [
        ""
      ],
      "execution_count": 0,
      "outputs": []
    },
    {
      "cell_type": "code",
      "metadata": {
        "id": "SqIxdrvGTPtt",
        "colab_type": "code",
        "colab": {}
      },
      "source": [
        ""
      ],
      "execution_count": 0,
      "outputs": []
    },
    {
      "cell_type": "code",
      "metadata": {
        "id": "iXonfDR9TPtv",
        "colab_type": "code",
        "colab": {}
      },
      "source": [
        ""
      ],
      "execution_count": 0,
      "outputs": []
    },
    {
      "cell_type": "markdown",
      "metadata": {
        "id": "zVXBSWJLTPty",
        "colab_type": "text"
      },
      "source": [
        "## 1.9) Evaluate the model"
      ]
    },
    {
      "cell_type": "markdown",
      "metadata": {
        "id": "iDKq3iyqTPty",
        "colab_type": "text"
      },
      "source": [
        "Evaluate your RNN on the validation set, using the MAE. Try training your model again using the Huber loss and see if you get better performance."
      ]
    },
    {
      "cell_type": "code",
      "metadata": {
        "id": "TUlYX6bETPtz",
        "colab_type": "code",
        "colab": {}
      },
      "source": [
        "def huber_loss(y_true, y_pred, max_grad=1.):\n",
        "    err = tf.abs(y_true - y_pred, name='abs')\n",
        "    mg = tf.constant(max_grad, name='max_grad')\n",
        "    lin = mg * (err - 0.5 * mg)\n",
        "    quad = 0.5 * err * err\n",
        "    return tf.where(err < mg, quad, lin)"
      ],
      "execution_count": 0,
      "outputs": []
    },
    {
      "cell_type": "code",
      "metadata": {
        "id": "gaHhFnlaTPt1",
        "colab_type": "code",
        "colab": {}
      },
      "source": [
        ""
      ],
      "execution_count": 0,
      "outputs": []
    },
    {
      "cell_type": "code",
      "metadata": {
        "id": "czDTd1H9TPt3",
        "colab_type": "code",
        "colab": {}
      },
      "source": [
        ""
      ],
      "execution_count": 0,
      "outputs": []
    },
    {
      "cell_type": "code",
      "metadata": {
        "id": "3-YeCZ_wTPt6",
        "colab_type": "code",
        "colab": {}
      },
      "source": [
        ""
      ],
      "execution_count": 0,
      "outputs": []
    },
    {
      "cell_type": "markdown",
      "metadata": {
        "id": "mRghMvFBTPt9",
        "colab_type": "text"
      },
      "source": [
        "## 1.10) Plot the predictions"
      ]
    },
    {
      "cell_type": "markdown",
      "metadata": {
        "id": "4HqJ5rsATPt-",
        "colab_type": "text"
      },
      "source": [
        "Make predictions on the validation set and plot them. Compare them to the targets and the baseline predictions."
      ]
    },
    {
      "cell_type": "code",
      "metadata": {
        "id": "w-yOQDcqTPt_",
        "colab_type": "code",
        "colab": {}
      },
      "source": [
        ""
      ],
      "execution_count": 0,
      "outputs": []
    },
    {
      "cell_type": "code",
      "metadata": {
        "id": "8K1qPGdaTPuB",
        "colab_type": "code",
        "colab": {}
      },
      "source": [
        ""
      ],
      "execution_count": 0,
      "outputs": []
    },
    {
      "cell_type": "code",
      "metadata": {
        "id": "_56zxNURTPuE",
        "colab_type": "code",
        "colab": {}
      },
      "source": [
        ""
      ],
      "execution_count": 0,
      "outputs": []
    },
    {
      "cell_type": "markdown",
      "metadata": {
        "id": "33QU7DUYTPuI",
        "colab_type": "text"
      },
      "source": [
        "# Exercise 1 – Solution"
      ]
    },
    {
      "cell_type": "markdown",
      "metadata": {
        "id": "ke502UtITPuK",
        "colab_type": "text"
      },
      "source": [
        "## 1.1) Load the data"
      ]
    },
    {
      "cell_type": "markdown",
      "metadata": {
        "id": "LdcSy78-TPuL",
        "colab_type": "text"
      },
      "source": [
        "Let's start with a simple univariate time series: the daily temperatures in Melbourne from 1981 to 1990 ([source](https://datamarket.com/data/set/2324/daily-minimum-temperatures-in-melbourne-australia-1981-1990))."
      ]
    },
    {
      "cell_type": "code",
      "metadata": {
        "id": "IOpZsG0yTPuL",
        "colab_type": "code",
        "colab": {}
      },
      "source": [
        "temps = pd.read_csv(\"https://github.com/ageron/tf2_course/raw/master/datasets/daily-minimum-temperatures-in-me.csv\",\n",
        "                    parse_dates=[0], index_col=0)"
      ],
      "execution_count": 0,
      "outputs": []
    },
    {
      "cell_type": "code",
      "metadata": {
        "id": "EgqUZnMLTPuN",
        "colab_type": "code",
        "outputId": "460e93bb-66e0-4e4b-fef3-9a553b770267",
        "colab": {
          "base_uri": "https://localhost:8080/",
          "height": 163
        }
      },
      "source": [
        "temps.info()"
      ],
      "execution_count": 20,
      "outputs": [
        {
          "output_type": "stream",
          "text": [
            "<class 'pandas.core.frame.DataFrame'>\n",
            "DatetimeIndex: 3650 entries, 1981-01-01 to 1990-12-31\n",
            "Data columns (total 1 columns):\n",
            " #   Column       Non-Null Count  Dtype  \n",
            "---  ------       --------------  -----  \n",
            " 0   Temperature  3650 non-null   float64\n",
            "dtypes: float64(1)\n",
            "memory usage: 57.0 KB\n"
          ],
          "name": "stdout"
        }
      ]
    },
    {
      "cell_type": "code",
      "metadata": {
        "id": "vOpxfRfxTPuR",
        "colab_type": "code",
        "outputId": "d2cce0e4-6c6f-4694-c30a-f4e91e416cfc",
        "colab": {
          "base_uri": "https://localhost:8080/",
          "height": 228
        }
      },
      "source": [
        "temps.head()"
      ],
      "execution_count": 21,
      "outputs": [
        {
          "output_type": "execute_result",
          "data": {
            "text/html": [
              "<div>\n",
              "<style scoped>\n",
              "    .dataframe tbody tr th:only-of-type {\n",
              "        vertical-align: middle;\n",
              "    }\n",
              "\n",
              "    .dataframe tbody tr th {\n",
              "        vertical-align: top;\n",
              "    }\n",
              "\n",
              "    .dataframe thead th {\n",
              "        text-align: right;\n",
              "    }\n",
              "</style>\n",
              "<table border=\"1\" class=\"dataframe\">\n",
              "  <thead>\n",
              "    <tr style=\"text-align: right;\">\n",
              "      <th></th>\n",
              "      <th>Temperature</th>\n",
              "    </tr>\n",
              "    <tr>\n",
              "      <th>Date</th>\n",
              "      <th></th>\n",
              "    </tr>\n",
              "  </thead>\n",
              "  <tbody>\n",
              "    <tr>\n",
              "      <th>1981-01-01</th>\n",
              "      <td>20.7</td>\n",
              "    </tr>\n",
              "    <tr>\n",
              "      <th>1981-01-02</th>\n",
              "      <td>17.9</td>\n",
              "    </tr>\n",
              "    <tr>\n",
              "      <th>1981-01-03</th>\n",
              "      <td>18.8</td>\n",
              "    </tr>\n",
              "    <tr>\n",
              "      <th>1981-01-04</th>\n",
              "      <td>14.6</td>\n",
              "    </tr>\n",
              "    <tr>\n",
              "      <th>1981-01-05</th>\n",
              "      <td>15.8</td>\n",
              "    </tr>\n",
              "  </tbody>\n",
              "</table>\n",
              "</div>"
            ],
            "text/plain": [
              "            Temperature\n",
              "Date                   \n",
              "1981-01-01         20.7\n",
              "1981-01-02         17.9\n",
              "1981-01-03         18.8\n",
              "1981-01-04         14.6\n",
              "1981-01-05         15.8"
            ]
          },
          "metadata": {
            "tags": []
          },
          "execution_count": 21
        }
      ]
    },
    {
      "cell_type": "code",
      "metadata": {
        "id": "nT68yog7TPuU",
        "colab_type": "code",
        "outputId": "08433076-657b-438a-d501-7b764bee2744",
        "colab": {
          "base_uri": "https://localhost:8080/",
          "height": 318
        }
      },
      "source": [
        "temps.plot(figsize=(10,5))\n",
        "plt.show()"
      ],
      "execution_count": 22,
      "outputs": [
        {
          "output_type": "display_data",
          "data": {
            "image/png": "[encoded data removed]",
            "text/plain": [
              "<Figure size 720x360 with 1 Axes>"
            ]
          },
          "metadata": {
            "tags": [],
            "needs_background": "light"
          }
        }
      ]
    },
    {
      "cell_type": "markdown",
      "metadata": {
        "id": "ipVNUoGMTPuW",
        "colab_type": "text"
      },
      "source": [
        "## 1.2) Prepare the data"
      ]
    },
    {
      "cell_type": "markdown",
      "metadata": {
        "id": "UMZEgrLtTPuW",
        "colab_type": "text"
      },
      "source": [
        "A few dates are missing, for example December 31st, 1984:"
      ]
    },
    {
      "cell_type": "code",
      "metadata": {
        "id": "dv4aScKkTPuW",
        "colab_type": "code",
        "outputId": "3ae027e0-f86c-4be2-c2f8-d8fd663a10fe",
        "colab": {
          "base_uri": "https://localhost:8080/",
          "height": 198
        }
      },
      "source": [
        "temps.loc[\"1984-12-29\":\"1985-01-02\"]"
      ],
      "execution_count": 23,
      "outputs": [
        {
          "output_type": "execute_result",
          "data": {
            "text/html": [
              "<div>\n",
              "<style scoped>\n",
              "    .dataframe tbody tr th:only-of-type {\n",
              "        vertical-align: middle;\n",
              "    }\n",
              "\n",
              "    .dataframe tbody tr th {\n",
              "        vertical-align: top;\n",
              "    }\n",
              "\n",
              "    .dataframe thead th {\n",
              "        text-align: right;\n",
              "    }\n",
              "</style>\n",
              "<table border=\"1\" class=\"dataframe\">\n",
              "  <thead>\n",
              "    <tr style=\"text-align: right;\">\n",
              "      <th></th>\n",
              "      <th>Temperature</th>\n",
              "    </tr>\n",
              "    <tr>\n",
              "      <th>Date</th>\n",
              "      <th></th>\n",
              "    </tr>\n",
              "  </thead>\n",
              "  <tbody>\n",
              "    <tr>\n",
              "      <th>1984-12-29</th>\n",
              "      <td>16.0</td>\n",
              "    </tr>\n",
              "    <tr>\n",
              "      <th>1984-12-30</th>\n",
              "      <td>16.4</td>\n",
              "    </tr>\n",
              "    <tr>\n",
              "      <th>1985-01-01</th>\n",
              "      <td>13.3</td>\n",
              "    </tr>\n",
              "    <tr>\n",
              "      <th>1985-01-02</th>\n",
              "      <td>15.2</td>\n",
              "    </tr>\n",
              "  </tbody>\n",
              "</table>\n",
              "</div>"
            ],
            "text/plain": [
              "            Temperature\n",
              "Date                   \n",
              "1984-12-29         16.0\n",
              "1984-12-30         16.4\n",
              "1985-01-01         13.3\n",
              "1985-01-02         15.2"
            ]
          },
          "metadata": {
            "tags": []
          },
          "execution_count": 23
        }
      ]
    },
    {
      "cell_type": "markdown",
      "metadata": {
        "id": "WF6crz9CTPuY",
        "colab_type": "text"
      },
      "source": [
        "Let's ensure there's one row per day, filling missing values with the previous valid value:"
      ]
    },
    {
      "cell_type": "code",
      "metadata": {
        "id": "ZJVJpR96TPuY",
        "colab_type": "code",
        "outputId": "56124644-a976-4302-cadb-a6104c9e07d9",
        "colab": {
          "base_uri": "https://localhost:8080/",
          "height": 228
        }
      },
      "source": [
        "temps = temps.asfreq(\"1D\", method=\"ffill\")\n",
        "temps.loc[\"1984-12-29\":\"1985-01-02\"]"
      ],
      "execution_count": 24,
      "outputs": [
        {
          "output_type": "execute_result",
          "data": {
            "text/html": [
              "<div>\n",
              "<style scoped>\n",
              "    .dataframe tbody tr th:only-of-type {\n",
              "        vertical-align: middle;\n",
              "    }\n",
              "\n",
              "    .dataframe tbody tr th {\n",
              "        vertical-align: top;\n",
              "    }\n",
              "\n",
              "    .dataframe thead th {\n",
              "        text-align: right;\n",
              "    }\n",
              "</style>\n",
              "<table border=\"1\" class=\"dataframe\">\n",
              "  <thead>\n",
              "    <tr style=\"text-align: right;\">\n",
              "      <th></th>\n",
              "      <th>Temperature</th>\n",
              "    </tr>\n",
              "    <tr>\n",
              "      <th>Date</th>\n",
              "      <th></th>\n",
              "    </tr>\n",
              "  </thead>\n",
              "  <tbody>\n",
              "    <tr>\n",
              "      <th>1984-12-29</th>\n",
              "      <td>16.0</td>\n",
              "    </tr>\n",
              "    <tr>\n",
              "      <th>1984-12-30</th>\n",
              "      <td>16.4</td>\n",
              "    </tr>\n",
              "    <tr>\n",
              "      <th>1984-12-31</th>\n",
              "      <td>16.4</td>\n",
              "    </tr>\n",
              "    <tr>\n",
              "      <th>1985-01-01</th>\n",
              "      <td>13.3</td>\n",
              "    </tr>\n",
              "    <tr>\n",
              "      <th>1985-01-02</th>\n",
              "      <td>15.2</td>\n",
              "    </tr>\n",
              "  </tbody>\n",
              "</table>\n",
              "</div>"
            ],
            "text/plain": [
              "            Temperature\n",
              "Date                   \n",
              "1984-12-29         16.0\n",
              "1984-12-30         16.4\n",
              "1984-12-31         16.4\n",
              "1985-01-01         13.3\n",
              "1985-01-02         15.2"
            ]
          },
          "metadata": {
            "tags": []
          },
          "execution_count": 24
        }
      ]
    },
    {
      "cell_type": "markdown",
      "metadata": {
        "id": "oLfzJHJXTPua",
        "colab_type": "text"
      },
      "source": [
        "Alternatively, we could have interpolated using `temps.interpolate()`."
      ]
    },
    {
      "cell_type": "markdown",
      "metadata": {
        "id": "oe5oOmTzTPub",
        "colab_type": "text"
      },
      "source": [
        "## 1.3) Add the shifted columns"
      ]
    },
    {
      "cell_type": "markdown",
      "metadata": {
        "id": "l1TDWgv7TPuc",
        "colab_type": "text"
      },
      "source": [
        "Next, let's create a function to add lag columns:"
      ]
    },
    {
      "cell_type": "code",
      "metadata": {
        "id": "8hv4RDbdTPuc",
        "colab_type": "code",
        "colab": {}
      },
      "source": [
        "def add_lags(series, times):\n",
        "    cols = []\n",
        "    column_index = []\n",
        "    for time in times:\n",
        "        cols.append(series.shift(-time))\n",
        "        lag_fmt = \"t+{time}\" if time > 0 else \"t{time}\" if time < 0 else \"t\"\n",
        "        column_index += [(lag_fmt.format(time=time), col_name)\n",
        "                        for col_name in series.columns]\n",
        "    df = pd.concat(cols, axis=1)\n",
        "    df.columns = pd.MultiIndex.from_tuples(column_index)\n",
        "    return df"
      ],
      "execution_count": 0,
      "outputs": []
    },
    {
      "cell_type": "code",
      "metadata": {
        "id": "s_WkqMEOTPuf",
        "colab_type": "code",
        "outputId": "398f4e41-36c5-4dfe-bf85-b4b354d455f8",
        "colab": {
          "base_uri": "https://localhost:8080/",
          "height": 408
        }
      },
      "source": [
        "add_lags(temps, times=(-2, -1, 0, +2)).head(10)"
      ],
      "execution_count": 26,
      "outputs": [
        {
          "output_type": "execute_result",
          "data": {
            "text/html": [
              "<div>\n",
              "<style scoped>\n",
              "    .dataframe tbody tr th:only-of-type {\n",
              "        vertical-align: middle;\n",
              "    }\n",
              "\n",
              "    .dataframe tbody tr th {\n",
              "        vertical-align: top;\n",
              "    }\n",
              "\n",
              "    .dataframe thead tr th {\n",
              "        text-align: left;\n",
              "    }\n",
              "\n",
              "    .dataframe thead tr:last-of-type th {\n",
              "        text-align: right;\n",
              "    }\n",
              "</style>\n",
              "<table border=\"1\" class=\"dataframe\">\n",
              "  <thead>\n",
              "    <tr>\n",
              "      <th></th>\n",
              "      <th>t-2</th>\n",
              "      <th>t-1</th>\n",
              "      <th>t</th>\n",
              "      <th>t+2</th>\n",
              "    </tr>\n",
              "    <tr>\n",
              "      <th></th>\n",
              "      <th>Temperature</th>\n",
              "      <th>Temperature</th>\n",
              "      <th>Temperature</th>\n",
              "      <th>Temperature</th>\n",
              "    </tr>\n",
              "    <tr>\n",
              "      <th>Date</th>\n",
              "      <th></th>\n",
              "      <th></th>\n",
              "      <th></th>\n",
              "      <th></th>\n",
              "    </tr>\n",
              "  </thead>\n",
              "  <tbody>\n",
              "    <tr>\n",
              "      <th>1981-01-01</th>\n",
              "      <td>NaN</td>\n",
              "      <td>NaN</td>\n",
              "      <td>20.7</td>\n",
              "      <td>18.8</td>\n",
              "    </tr>\n",
              "    <tr>\n",
              "      <th>1981-01-02</th>\n",
              "      <td>NaN</td>\n",
              "      <td>20.7</td>\n",
              "      <td>17.9</td>\n",
              "      <td>14.6</td>\n",
              "    </tr>\n",
              "    <tr>\n",
              "      <th>1981-01-03</th>\n",
              "      <td>20.7</td>\n",
              "      <td>17.9</td>\n",
              "      <td>18.8</td>\n",
              "      <td>15.8</td>\n",
              "    </tr>\n",
              "    <tr>\n",
              "      <th>1981-01-04</th>\n",
              "      <td>17.9</td>\n",
              "      <td>18.8</td>\n",
              "      <td>14.6</td>\n",
              "      <td>15.8</td>\n",
              "    </tr>\n",
              "    <tr>\n",
              "      <th>1981-01-05</th>\n",
              "      <td>18.8</td>\n",
              "      <td>14.6</td>\n",
              "      <td>15.8</td>\n",
              "      <td>15.8</td>\n",
              "    </tr>\n",
              "    <tr>\n",
              "      <th>1981-01-06</th>\n",
              "      <td>14.6</td>\n",
              "      <td>15.8</td>\n",
              "      <td>15.8</td>\n",
              "      <td>17.4</td>\n",
              "    </tr>\n",
              "    <tr>\n",
              "      <th>1981-01-07</th>\n",
              "      <td>15.8</td>\n",
              "      <td>15.8</td>\n",
              "      <td>15.8</td>\n",
              "      <td>21.8</td>\n",
              "    </tr>\n",
              "    <tr>\n",
              "      <th>1981-01-08</th>\n",
              "      <td>15.8</td>\n",
              "      <td>15.8</td>\n",
              "      <td>17.4</td>\n",
              "      <td>20.0</td>\n",
              "    </tr>\n",
              "    <tr>\n",
              "      <th>1981-01-09</th>\n",
              "      <td>15.8</td>\n",
              "      <td>17.4</td>\n",
              "      <td>21.8</td>\n",
              "      <td>16.2</td>\n",
              "    </tr>\n",
              "    <tr>\n",
              "      <th>1981-01-10</th>\n",
              "      <td>17.4</td>\n",
              "      <td>21.8</td>\n",
              "      <td>20.0</td>\n",
              "      <td>13.3</td>\n",
              "    </tr>\n",
              "  </tbody>\n",
              "</table>\n",
              "</div>"
            ],
            "text/plain": [
              "                   t-2         t-1           t         t+2\n",
              "           Temperature Temperature Temperature Temperature\n",
              "Date                                                      \n",
              "1981-01-01         NaN         NaN        20.7        18.8\n",
              "1981-01-02         NaN        20.7        17.9        14.6\n",
              "1981-01-03        20.7        17.9        18.8        15.8\n",
              "1981-01-04        17.9        18.8        14.6        15.8\n",
              "1981-01-05        18.8        14.6        15.8        15.8\n",
              "1981-01-06        14.6        15.8        15.8        17.4\n",
              "1981-01-07        15.8        15.8        15.8        21.8\n",
              "1981-01-08        15.8        15.8        17.4        20.0\n",
              "1981-01-09        15.8        17.4        21.8        16.2\n",
              "1981-01-10        17.4        21.8        20.0        13.3"
            ]
          },
          "metadata": {
            "tags": []
          },
          "execution_count": 26
        }
      ]
    },
    {
      "cell_type": "markdown",
      "metadata": {
        "id": "7bvMtZtMTPuh",
        "colab_type": "text"
      },
      "source": [
        "We will try to predict the temperature in 5 days (t+5) using the temperatures from the last 30 days (t-29 to t):"
      ]
    },
    {
      "cell_type": "code",
      "metadata": {
        "id": "m9W-qrbrTPuj",
        "colab_type": "code",
        "colab": {}
      },
      "source": [
        "X = add_lags(temps, times=range(-30+1,1)).iloc[30:-5]\n",
        "y = add_lags(temps, times=[5]).iloc[30:-5]"
      ],
      "execution_count": 0,
      "outputs": []
    },
    {
      "cell_type": "code",
      "metadata": {
        "id": "Eplx89qZTPul",
        "colab_type": "code",
        "outputId": "5543d392-f41c-4b6a-c27f-280fbd30b0d6",
        "colab": {
          "base_uri": "https://localhost:8080/",
          "height": 365
        }
      },
      "source": [
        "X.head()"
      ],
      "execution_count": 28,
      "outputs": [
        {
          "output_type": "execute_result",
          "data": {
            "text/html": [
              "<div>\n",
              "<style scoped>\n",
              "    .dataframe tbody tr th:only-of-type {\n",
              "        vertical-align: middle;\n",
              "    }\n",
              "\n",
              "    .dataframe tbody tr th {\n",
              "        vertical-align: top;\n",
              "    }\n",
              "\n",
              "    .dataframe thead tr th {\n",
              "        text-align: left;\n",
              "    }\n",
              "\n",
              "    .dataframe thead tr:last-of-type th {\n",
              "        text-align: right;\n",
              "    }\n",
              "</style>\n",
              "<table border=\"1\" class=\"dataframe\">\n",
              "  <thead>\n",
              "    <tr>\n",
              "      <th></th>\n",
              "      <th>t-29</th>\n",
              "      <th>t-28</th>\n",
              "      <th>t-27</th>\n",
              "      <th>t-26</th>\n",
              "      <th>t-25</th>\n",
              "      <th>t-24</th>\n",
              "      <th>t-23</th>\n",
              "      <th>t-22</th>\n",
              "      <th>t-21</th>\n",
              "      <th>t-20</th>\n",
              "      <th>t-19</th>\n",
              "      <th>t-18</th>\n",
              "      <th>t-17</th>\n",
              "      <th>t-16</th>\n",
              "      <th>t-15</th>\n",
              "      <th>t-14</th>\n",
              "      <th>t-13</th>\n",
              "      <th>t-12</th>\n",
              "      <th>t-11</th>\n",
              "      <th>t-10</th>\n",
              "      <th>t-9</th>\n",
              "      <th>t-8</th>\n",
              "      <th>t-7</th>\n",
              "      <th>t-6</th>\n",
              "      <th>t-5</th>\n",
              "      <th>t-4</th>\n",
              "      <th>t-3</th>\n",
              "      <th>t-2</th>\n",
              "      <th>t-1</th>\n",
              "      <th>t</th>\n",
              "    </tr>\n",
              "    <tr>\n",
              "      <th></th>\n",
              "      <th>Temperature</th>\n",
              "      <th>Temperature</th>\n",
              "      <th>Temperature</th>\n",
              "      <th>Temperature</th>\n",
              "      <th>Temperature</th>\n",
              "      <th>Temperature</th>\n",
              "      <th>Temperature</th>\n",
              "      <th>Temperature</th>\n",
              "      <th>Temperature</th>\n",
              "      <th>Temperature</th>\n",
              "      <th>Temperature</th>\n",
              "      <th>Temperature</th>\n",
              "      <th>Temperature</th>\n",
              "      <th>Temperature</th>\n",
              "      <th>Temperature</th>\n",
              "      <th>Temperature</th>\n",
              "      <th>Temperature</th>\n",
              "      <th>Temperature</th>\n",
              "      <th>Temperature</th>\n",
              "      <th>Temperature</th>\n",
              "      <th>Temperature</th>\n",
              "      <th>Temperature</th>\n",
              "      <th>Temperature</th>\n",
              "      <th>Temperature</th>\n",
              "      <th>Temperature</th>\n",
              "      <th>Temperature</th>\n",
              "      <th>Temperature</th>\n",
              "      <th>Temperature</th>\n",
              "      <th>Temperature</th>\n",
              "      <th>Temperature</th>\n",
              "    </tr>\n",
              "    <tr>\n",
              "      <th>Date</th>\n",
              "      <th></th>\n",
              "      <th></th>\n",
              "      <th></th>\n",
              "      <th></th>\n",
              "      <th></th>\n",
              "      <th></th>\n",
              "      <th></th>\n",
              "      <th></th>\n",
              "      <th></th>\n",
              "      <th></th>\n",
              "      <th></th>\n",
              "      <th></th>\n",
              "      <th></th>\n",
              "      <th></th>\n",
              "      <th></th>\n",
              "      <th></th>\n",
              "      <th></th>\n",
              "      <th></th>\n",
              "      <th></th>\n",
              "      <th></th>\n",
              "      <th></th>\n",
              "      <th></th>\n",
              "      <th></th>\n",
              "      <th></th>\n",
              "      <th></th>\n",
              "      <th></th>\n",
              "      <th></th>\n",
              "      <th></th>\n",
              "      <th></th>\n",
              "      <th></th>\n",
              "    </tr>\n",
              "  </thead>\n",
              "  <tbody>\n",
              "    <tr>\n",
              "      <th>1981-01-31</th>\n",
              "      <td>17.9</td>\n",
              "      <td>18.8</td>\n",
              "      <td>14.6</td>\n",
              "      <td>15.8</td>\n",
              "      <td>15.8</td>\n",
              "      <td>15.8</td>\n",
              "      <td>17.4</td>\n",
              "      <td>21.8</td>\n",
              "      <td>20.0</td>\n",
              "      <td>16.2</td>\n",
              "      <td>13.3</td>\n",
              "      <td>16.7</td>\n",
              "      <td>21.5</td>\n",
              "      <td>25.0</td>\n",
              "      <td>20.7</td>\n",
              "      <td>20.6</td>\n",
              "      <td>24.8</td>\n",
              "      <td>17.7</td>\n",
              "      <td>15.5</td>\n",
              "      <td>18.2</td>\n",
              "      <td>12.1</td>\n",
              "      <td>14.4</td>\n",
              "      <td>16.0</td>\n",
              "      <td>16.5</td>\n",
              "      <td>18.7</td>\n",
              "      <td>19.4</td>\n",
              "      <td>17.2</td>\n",
              "      <td>15.5</td>\n",
              "      <td>15.1</td>\n",
              "      <td>15.4</td>\n",
              "    </tr>\n",
              "    <tr>\n",
              "      <th>1981-02-01</th>\n",
              "      <td>18.8</td>\n",
              "      <td>14.6</td>\n",
              "      <td>15.8</td>\n",
              "      <td>15.8</td>\n",
              "      <td>15.8</td>\n",
              "      <td>17.4</td>\n",
              "      <td>21.8</td>\n",
              "      <td>20.0</td>\n",
              "      <td>16.2</td>\n",
              "      <td>13.3</td>\n",
              "      <td>16.7</td>\n",
              "      <td>21.5</td>\n",
              "      <td>25.0</td>\n",
              "      <td>20.7</td>\n",
              "      <td>20.6</td>\n",
              "      <td>24.8</td>\n",
              "      <td>17.7</td>\n",
              "      <td>15.5</td>\n",
              "      <td>18.2</td>\n",
              "      <td>12.1</td>\n",
              "      <td>14.4</td>\n",
              "      <td>16.0</td>\n",
              "      <td>16.5</td>\n",
              "      <td>18.7</td>\n",
              "      <td>19.4</td>\n",
              "      <td>17.2</td>\n",
              "      <td>15.5</td>\n",
              "      <td>15.1</td>\n",
              "      <td>15.4</td>\n",
              "      <td>15.3</td>\n",
              "    </tr>\n",
              "    <tr>\n",
              "      <th>1981-02-02</th>\n",
              "      <td>14.6</td>\n",
              "      <td>15.8</td>\n",
              "      <td>15.8</td>\n",
              "      <td>15.8</td>\n",
              "      <td>17.4</td>\n",
              "      <td>21.8</td>\n",
              "      <td>20.0</td>\n",
              "      <td>16.2</td>\n",
              "      <td>13.3</td>\n",
              "      <td>16.7</td>\n",
              "      <td>21.5</td>\n",
              "      <td>25.0</td>\n",
              "      <td>20.7</td>\n",
              "      <td>20.6</td>\n",
              "      <td>24.8</td>\n",
              "      <td>17.7</td>\n",
              "      <td>15.5</td>\n",
              "      <td>18.2</td>\n",
              "      <td>12.1</td>\n",
              "      <td>14.4</td>\n",
              "      <td>16.0</td>\n",
              "      <td>16.5</td>\n",
              "      <td>18.7</td>\n",
              "      <td>19.4</td>\n",
              "      <td>17.2</td>\n",
              "      <td>15.5</td>\n",
              "      <td>15.1</td>\n",
              "      <td>15.4</td>\n",
              "      <td>15.3</td>\n",
              "      <td>18.8</td>\n",
              "    </tr>\n",
              "    <tr>\n",
              "      <th>1981-02-03</th>\n",
              "      <td>15.8</td>\n",
              "      <td>15.8</td>\n",
              "      <td>15.8</td>\n",
              "      <td>17.4</td>\n",
              "      <td>21.8</td>\n",
              "      <td>20.0</td>\n",
              "      <td>16.2</td>\n",
              "      <td>13.3</td>\n",
              "      <td>16.7</td>\n",
              "      <td>21.5</td>\n",
              "      <td>25.0</td>\n",
              "      <td>20.7</td>\n",
              "      <td>20.6</td>\n",
              "      <td>24.8</td>\n",
              "      <td>17.7</td>\n",
              "      <td>15.5</td>\n",
              "      <td>18.2</td>\n",
              "      <td>12.1</td>\n",
              "      <td>14.4</td>\n",
              "      <td>16.0</td>\n",
              "      <td>16.5</td>\n",
              "      <td>18.7</td>\n",
              "      <td>19.4</td>\n",
              "      <td>17.2</td>\n",
              "      <td>15.5</td>\n",
              "      <td>15.1</td>\n",
              "      <td>15.4</td>\n",
              "      <td>15.3</td>\n",
              "      <td>18.8</td>\n",
              "      <td>21.9</td>\n",
              "    </tr>\n",
              "    <tr>\n",
              "      <th>1981-02-04</th>\n",
              "      <td>15.8</td>\n",
              "      <td>15.8</td>\n",
              "      <td>17.4</td>\n",
              "      <td>21.8</td>\n",
              "      <td>20.0</td>\n",
              "      <td>16.2</td>\n",
              "      <td>13.3</td>\n",
              "      <td>16.7</td>\n",
              "      <td>21.5</td>\n",
              "      <td>25.0</td>\n",
              "      <td>20.7</td>\n",
              "      <td>20.6</td>\n",
              "      <td>24.8</td>\n",
              "      <td>17.7</td>\n",
              "      <td>15.5</td>\n",
              "      <td>18.2</td>\n",
              "      <td>12.1</td>\n",
              "      <td>14.4</td>\n",
              "      <td>16.0</td>\n",
              "      <td>16.5</td>\n",
              "      <td>18.7</td>\n",
              "      <td>19.4</td>\n",
              "      <td>17.2</td>\n",
              "      <td>15.5</td>\n",
              "      <td>15.1</td>\n",
              "      <td>15.4</td>\n",
              "      <td>15.3</td>\n",
              "      <td>18.8</td>\n",
              "      <td>21.9</td>\n",
              "      <td>19.9</td>\n",
              "    </tr>\n",
              "  </tbody>\n",
              "</table>\n",
              "</div>"
            ],
            "text/plain": [
              "                  t-29        t-28  ...         t-1           t\n",
              "           Temperature Temperature  ... Temperature Temperature\n",
              "Date                                ...                        \n",
              "1981-01-31        17.9        18.8  ...        15.1        15.4\n",
              "1981-02-01        18.8        14.6  ...        15.4        15.3\n",
              "1981-02-02        14.6        15.8  ...        15.3        18.8\n",
              "1981-02-03        15.8        15.8  ...        18.8        21.9\n",
              "1981-02-04        15.8        15.8  ...        21.9        19.9\n",
              "\n",
              "[5 rows x 30 columns]"
            ]
          },
          "metadata": {
            "tags": []
          },
          "execution_count": 28
        }
      ]
    },
    {
      "cell_type": "code",
      "metadata": {
        "id": "PpbXRDpITPun",
        "colab_type": "code",
        "outputId": "c499c5c6-c498-4533-a426-a6ae2cb9c2a0",
        "colab": {
          "base_uri": "https://localhost:8080/",
          "height": 258
        }
      },
      "source": [
        "y.head()"
      ],
      "execution_count": 29,
      "outputs": [
        {
          "output_type": "execute_result",
          "data": {
            "text/html": [
              "<div>\n",
              "<style scoped>\n",
              "    .dataframe tbody tr th:only-of-type {\n",
              "        vertical-align: middle;\n",
              "    }\n",
              "\n",
              "    .dataframe tbody tr th {\n",
              "        vertical-align: top;\n",
              "    }\n",
              "\n",
              "    .dataframe thead tr th {\n",
              "        text-align: left;\n",
              "    }\n",
              "\n",
              "    .dataframe thead tr:last-of-type th {\n",
              "        text-align: right;\n",
              "    }\n",
              "</style>\n",
              "<table border=\"1\" class=\"dataframe\">\n",
              "  <thead>\n",
              "    <tr>\n",
              "      <th></th>\n",
              "      <th>t+5</th>\n",
              "    </tr>\n",
              "    <tr>\n",
              "      <th></th>\n",
              "      <th>Temperature</th>\n",
              "    </tr>\n",
              "    <tr>\n",
              "      <th>Date</th>\n",
              "      <th></th>\n",
              "    </tr>\n",
              "  </thead>\n",
              "  <tbody>\n",
              "    <tr>\n",
              "      <th>1981-01-31</th>\n",
              "      <td>16.6</td>\n",
              "    </tr>\n",
              "    <tr>\n",
              "      <th>1981-02-01</th>\n",
              "      <td>16.8</td>\n",
              "    </tr>\n",
              "    <tr>\n",
              "      <th>1981-02-02</th>\n",
              "      <td>14.6</td>\n",
              "    </tr>\n",
              "    <tr>\n",
              "      <th>1981-02-03</th>\n",
              "      <td>17.1</td>\n",
              "    </tr>\n",
              "    <tr>\n",
              "      <th>1981-02-04</th>\n",
              "      <td>25.0</td>\n",
              "    </tr>\n",
              "  </tbody>\n",
              "</table>\n",
              "</div>"
            ],
            "text/plain": [
              "                   t+5\n",
              "           Temperature\n",
              "Date                  \n",
              "1981-01-31        16.6\n",
              "1981-02-01        16.8\n",
              "1981-02-02        14.6\n",
              "1981-02-03        17.1\n",
              "1981-02-04        25.0"
            ]
          },
          "metadata": {
            "tags": []
          },
          "execution_count": 29
        }
      ]
    },
    {
      "cell_type": "markdown",
      "metadata": {
        "id": "y9CcfvLuTPuo",
        "colab_type": "text"
      },
      "source": [
        "## 1.4) Split the dataset"
      ]
    },
    {
      "cell_type": "markdown",
      "metadata": {
        "id": "YS8dl61aTPup",
        "colab_type": "text"
      },
      "source": [
        "Let's split this dataset into three periods: training, validation and testing:"
      ]
    },
    {
      "cell_type": "code",
      "metadata": {
        "id": "tCBh2VFjTPup",
        "colab_type": "code",
        "colab": {}
      },
      "source": [
        "train_slice = slice(None, \"1986-12-25\")\n",
        "valid_slice = slice(\"1987-01-01\", \"1988-12-25\")\n",
        "test_slice = slice(\"1989-01-01\", None)"
      ],
      "execution_count": 0,
      "outputs": []
    },
    {
      "cell_type": "code",
      "metadata": {
        "id": "aW40PobYTPuq",
        "colab_type": "code",
        "colab": {}
      },
      "source": [
        "X_train, y_train = X.loc[train_slice], y.loc[train_slice]\n",
        "X_valid, y_valid = X.loc[valid_slice], y.loc[valid_slice]\n",
        "X_test, y_test = X.loc[test_slice], y.loc[test_slice]"
      ],
      "execution_count": 0,
      "outputs": []
    },
    {
      "cell_type": "markdown",
      "metadata": {
        "id": "pIviWRVxTPus",
        "colab_type": "text"
      },
      "source": [
        "## 1.5) Reshape the inputs for the RNN"
      ]
    },
    {
      "cell_type": "markdown",
      "metadata": {
        "id": "tc_gHXRVTPus",
        "colab_type": "text"
      },
      "source": [
        "Now let's create a function to reshape the multilevel DataFrames to 3D numpy arrays to feed to an RNN:"
      ]
    },
    {
      "cell_type": "code",
      "metadata": {
        "id": "XEMiUEIgTPut",
        "colab_type": "code",
        "colab": {}
      },
      "source": [
        "def multilevel_df_to_ndarray(df):\n",
        "    shape = [-1] + [len(level) for level in df.columns.remove_unused_levels().levels]\n",
        "    return df.values.reshape(shape)"
      ],
      "execution_count": 0,
      "outputs": []
    },
    {
      "cell_type": "code",
      "metadata": {
        "id": "5O3DjdwjTPuv",
        "colab_type": "code",
        "colab": {}
      },
      "source": [
        "X_train_3D = multilevel_df_to_ndarray(X_train)\n",
        "X_valid_3D = multilevel_df_to_ndarray(X_valid)\n",
        "X_test_3D = multilevel_df_to_ndarray(X_test)"
      ],
      "execution_count": 0,
      "outputs": []
    },
    {
      "cell_type": "code",
      "metadata": {
        "id": "9qlKfK79TPux",
        "colab_type": "code",
        "outputId": "64e9c329-281b-4be4-8661-8562aca8d27b",
        "colab": {
          "base_uri": "https://localhost:8080/",
          "height": 35
        }
      },
      "source": [
        "X_train.shape"
      ],
      "execution_count": 34,
      "outputs": [
        {
          "output_type": "execute_result",
          "data": {
            "text/plain": [
              "(2155, 30)"
            ]
          },
          "metadata": {
            "tags": []
          },
          "execution_count": 34
        }
      ]
    },
    {
      "cell_type": "code",
      "metadata": {
        "id": "IZMrsMK4TPuy",
        "colab_type": "code",
        "outputId": "05dd50b6-29c2-44ba-fc6d-da04891eb424",
        "colab": {
          "base_uri": "https://localhost:8080/",
          "height": 35
        }
      },
      "source": [
        "X_train_3D.shape"
      ],
      "execution_count": 35,
      "outputs": [
        {
          "output_type": "execute_result",
          "data": {
            "text/plain": [
              "(2155, 30, 1)"
            ]
          },
          "metadata": {
            "tags": []
          },
          "execution_count": 35
        }
      ]
    },
    {
      "cell_type": "markdown",
      "metadata": {
        "id": "ULdTOXVITPu0",
        "colab_type": "text"
      },
      "source": [
        "## 1.6) Build some baseline models"
      ]
    },
    {
      "cell_type": "markdown",
      "metadata": {
        "id": "kxt4ozRiTPu0",
        "colab_type": "text"
      },
      "source": [
        "Now let's evaluate some basic strategies, to get some baselines:"
      ]
    },
    {
      "cell_type": "code",
      "metadata": {
        "id": "eZKFfj1TTPu1",
        "colab_type": "code",
        "colab": {}
      },
      "source": [
        "from sklearn.metrics import mean_absolute_error"
      ],
      "execution_count": 0,
      "outputs": []
    },
    {
      "cell_type": "code",
      "metadata": {
        "id": "QEy_DQoaTPu3",
        "colab_type": "code",
        "colab": {}
      },
      "source": [
        "def naive(X):\n",
        "    return X.iloc[:, -1]"
      ],
      "execution_count": 0,
      "outputs": []
    },
    {
      "cell_type": "code",
      "metadata": {
        "id": "Q936iktmTPu4",
        "colab_type": "code",
        "colab": {}
      },
      "source": [
        "y_pred_naive = naive(X_valid)"
      ],
      "execution_count": 0,
      "outputs": []
    },
    {
      "cell_type": "code",
      "metadata": {
        "id": "5knJ_UkpTPu6",
        "colab_type": "code",
        "outputId": "2d0c0030-98b4-44dd-f62b-45069d320958",
        "colab": {
          "base_uri": "https://localhost:8080/",
          "height": 35
        }
      },
      "source": [
        "mean_absolute_error(y_valid, y_pred_naive)"
      ],
      "execution_count": 39,
      "outputs": [
        {
          "output_type": "execute_result",
          "data": {
            "text/plain": [
              "2.976551724137931"
            ]
          },
          "metadata": {
            "tags": []
          },
          "execution_count": 39
        }
      ]
    },
    {
      "cell_type": "code",
      "metadata": {
        "id": "dmxyyTcRTPu7",
        "colab_type": "code",
        "colab": {}
      },
      "source": [
        "def ema(X, span):\n",
        "    return X.T.ewm(span=span).mean().T.iloc[:, -1]"
      ],
      "execution_count": 0,
      "outputs": []
    },
    {
      "cell_type": "code",
      "metadata": {
        "id": "i0IuUGR_TPu9",
        "colab_type": "code",
        "colab": {}
      },
      "source": [
        "y_pred_ema = ema(X_valid, span=10)"
      ],
      "execution_count": 0,
      "outputs": []
    },
    {
      "cell_type": "code",
      "metadata": {
        "id": "rs7C451RTPu_",
        "colab_type": "code",
        "outputId": "66edbaa0-71eb-4ec2-855c-efb940dc1c16",
        "colab": {
          "base_uri": "https://localhost:8080/",
          "height": 35
        }
      },
      "source": [
        "mean_absolute_error(y_valid, y_pred_ema)"
      ],
      "execution_count": 42,
      "outputs": [
        {
          "output_type": "execute_result",
          "data": {
            "text/plain": [
              "2.3581754113889133"
            ]
          },
          "metadata": {
            "tags": []
          },
          "execution_count": 42
        }
      ]
    },
    {
      "cell_type": "code",
      "metadata": {
        "id": "BwqbEwe4TPvD",
        "colab_type": "code",
        "colab": {}
      },
      "source": [
        "from sklearn.linear_model import LinearRegression"
      ],
      "execution_count": 0,
      "outputs": []
    },
    {
      "cell_type": "code",
      "metadata": {
        "id": "ScJFqrPhTPvE",
        "colab_type": "code",
        "outputId": "c44a88f3-48c0-4fd9-e118-2b11533dfbc5",
        "colab": {
          "base_uri": "https://localhost:8080/",
          "height": 35
        }
      },
      "source": [
        "lin_reg = LinearRegression()\n",
        "lin_reg.fit(X_train, y_train)"
      ],
      "execution_count": 44,
      "outputs": [
        {
          "output_type": "execute_result",
          "data": {
            "text/plain": [
              "LinearRegression(copy_X=True, fit_intercept=True, n_jobs=None, normalize=False)"
            ]
          },
          "metadata": {
            "tags": []
          },
          "execution_count": 44
        }
      ]
    },
    {
      "cell_type": "code",
      "metadata": {
        "id": "JpysFBreTPvG",
        "colab_type": "code",
        "colab": {}
      },
      "source": [
        "y_pred_linear = lin_reg.predict(X_valid)"
      ],
      "execution_count": 0,
      "outputs": []
    },
    {
      "cell_type": "code",
      "metadata": {
        "id": "kAhVnQRATPvI",
        "colab_type": "code",
        "outputId": "b2441b97-51ee-4b50-f92f-f822b8d45468",
        "colab": {
          "base_uri": "https://localhost:8080/",
          "height": 35
        }
      },
      "source": [
        "mean_absolute_error(y_valid, y_pred_linear)"
      ],
      "execution_count": 46,
      "outputs": [
        {
          "output_type": "execute_result",
          "data": {
            "text/plain": [
              "2.2606549856754157"
            ]
          },
          "metadata": {
            "tags": []
          },
          "execution_count": 46
        }
      ]
    },
    {
      "cell_type": "markdown",
      "metadata": {
        "id": "oiRgqd2hTPvK",
        "colab_type": "text"
      },
      "source": [
        "Let's plot these predictions:"
      ]
    },
    {
      "cell_type": "code",
      "metadata": {
        "id": "NN4XwGtCTPvL",
        "colab_type": "code",
        "colab": {}
      },
      "source": [
        "def plot_predictions(*named_predictions, start=None, end=None, **kwargs):\n",
        "    day_range = slice(start, end)\n",
        "    plt.figure(figsize=(10,5))\n",
        "    for name, y_pred in named_predictions:\n",
        "        if hasattr(y_pred, \"values\"):\n",
        "            y_pred = y_pred.values\n",
        "        plt.plot(y_pred[day_range], label=name, **kwargs)\n",
        "    plt.legend()\n",
        "    plt.show()"
      ],
      "execution_count": 0,
      "outputs": []
    },
    {
      "cell_type": "code",
      "metadata": {
        "id": "THRJTAD8TPvP",
        "colab_type": "code",
        "outputId": "5af6c62b-c3db-42b9-be41-9f3d14a5c615",
        "colab": {
          "base_uri": "https://localhost:8080/",
          "height": 321
        }
      },
      "source": [
        "plot_predictions((\"Target\", y_valid),\n",
        "                 (\"Naive\", y_pred_naive),\n",
        "                 (\"EMA\", y_pred_ema),\n",
        "                 (\"Linear\", y_pred_linear),\n",
        "                 end=365)"
      ],
      "execution_count": 48,
      "outputs": [
        {
          "output_type": "display_data",
          "data": {
            "image/png": "[encoded data removed]",
            "text/plain": [
              "<Figure size 720x360 with 1 Axes>"
            ]
          },
          "metadata": {
            "tags": [],
            "needs_background": "light"
          }
        }
      ]
    },
    {
      "cell_type": "markdown",
      "metadata": {
        "id": "kcALBh8JTPvQ",
        "colab_type": "text"
      },
      "source": [
        "## 1.7) Build a simple RNN"
      ]
    },
    {
      "cell_type": "markdown",
      "metadata": {
        "id": "W_gL-tgsTPvQ",
        "colab_type": "text"
      },
      "source": [
        "Let's create a simple 2-layer RNN with 100 neurons per layer, plus a dense layer with a single neuron:"
      ]
    },
    {
      "cell_type": "code",
      "metadata": {
        "id": "qOz7N7lXTPvR",
        "colab_type": "code",
        "outputId": "2a8f7d22-a5be-4cac-ffde-7bee47c38ea1",
        "colab": {
          "base_uri": "https://localhost:8080/",
          "height": 35
        }
      },
      "source": [
        "input_shape = X_train_3D.shape[1:]\n",
        "input_shape"
      ],
      "execution_count": 49,
      "outputs": [
        {
          "output_type": "execute_result",
          "data": {
            "text/plain": [
              "(30, 1)"
            ]
          },
          "metadata": {
            "tags": []
          },
          "execution_count": 49
        }
      ]
    },
    {
      "cell_type": "code",
      "metadata": {
        "id": "m4YI_vpGTPvS",
        "colab_type": "code",
        "colab": {}
      },
      "source": [
        "model1 = keras.models.Sequential()\n",
        "model1.add(keras.layers.SimpleRNN(100, return_sequences=True, input_shape=input_shape))\n",
        "model1.add(keras.layers.SimpleRNN(50))\n",
        "model1.add(keras.layers.Dense(1))\n",
        "model1.compile(loss=\"mse\", optimizer=keras.optimizers.SGD(lr=0.005), metrics=[\"mae\"])"
      ],
      "execution_count": 0,
      "outputs": []
    },
    {
      "cell_type": "code",
      "metadata": {
        "id": "K5KhyuDzTPvU",
        "colab_type": "code",
        "outputId": "8dceb77a-1781-4037-f0d9-ae5868b9ec49",
        "colab": {
          "base_uri": "https://localhost:8080/",
          "height": 1000
        }
      },
      "source": [
        "history1 = model1.fit(X_train_3D, y_train, epochs=200, batch_size=200,\n",
        "                      validation_data=(X_valid_3D, y_valid))"
      ],
      "execution_count": 51,
      "outputs": [
        {
          "output_type": "stream",
          "text": [
            "Epoch 1/200\n",
            "11/11 [==============================] - 1s 69ms/step - loss: 28.8026 - mae: 4.0498 - val_loss: 12.6076 - val_mae: 2.7941\n",
            "Epoch 2/200\n",
            "11/11 [==============================] - 0s 41ms/step - loss: 13.8136 - mae: 2.9362 - val_loss: 16.8742 - val_mae: 3.3309\n",
            "Epoch 3/200\n",
            "11/11 [==============================] - 0s 42ms/step - loss: 14.9635 - mae: 3.0700 - val_loss: 12.1440 - val_mae: 2.7427\n",
            "Epoch 4/200\n",
            "11/11 [==============================] - 1s 53ms/step - loss: 13.5557 - mae: 2.9199 - val_loss: 18.3677 - val_mae: 3.4921\n",
            "Epoch 5/200\n",
            "11/11 [==============================] - 0s 42ms/step - loss: 14.1797 - mae: 2.9803 - val_loss: 10.8935 - val_mae: 2.5973\n",
            "Epoch 6/200\n",
            "11/11 [==============================] - 0s 42ms/step - loss: 12.3347 - mae: 2.7602 - val_loss: 10.0933 - val_mae: 2.5031\n",
            "Epoch 7/200\n",
            "11/11 [==============================] - 0s 40ms/step - loss: 11.9989 - mae: 2.7107 - val_loss: 9.3423 - val_mae: 2.4202\n",
            "Epoch 8/200\n",
            "11/11 [==============================] - 0s 42ms/step - loss: 11.5313 - mae: 2.6598 - val_loss: 10.3435 - val_mae: 2.5670\n",
            "Epoch 9/200\n",
            "11/11 [==============================] - 0s 42ms/step - loss: 11.7513 - mae: 2.6887 - val_loss: 10.7471 - val_mae: 2.5541\n",
            "Epoch 10/200\n",
            "11/11 [==============================] - 0s 40ms/step - loss: 10.0796 - mae: 2.5033 - val_loss: 12.8419 - val_mae: 2.8044\n",
            "Epoch 11/200\n",
            "11/11 [==============================] - 0s 41ms/step - loss: 11.2572 - mae: 2.6254 - val_loss: 9.2099 - val_mae: 2.3862\n",
            "Epoch 12/200\n",
            "11/11 [==============================] - 0s 41ms/step - loss: 9.7496 - mae: 2.4468 - val_loss: 10.0813 - val_mae: 2.5324\n",
            "Epoch 13/200\n",
            "11/11 [==============================] - 0s 42ms/step - loss: 10.7832 - mae: 2.5634 - val_loss: 8.8979 - val_mae: 2.3741\n",
            "Epoch 14/200\n",
            "11/11 [==============================] - 0s 42ms/step - loss: 10.2748 - mae: 2.5090 - val_loss: 9.0810 - val_mae: 2.3607\n",
            "Epoch 15/200\n",
            "11/11 [==============================] - 0s 42ms/step - loss: 10.6336 - mae: 2.5614 - val_loss: 9.1433 - val_mae: 2.3597\n",
            "Epoch 16/200\n",
            "11/11 [==============================] - 0s 41ms/step - loss: 10.2318 - mae: 2.5106 - val_loss: 8.8861 - val_mae: 2.3758\n",
            "Epoch 17/200\n",
            "11/11 [==============================] - 0s 42ms/step - loss: 9.8503 - mae: 2.4501 - val_loss: 9.0894 - val_mae: 2.3550\n",
            "Epoch 18/200\n",
            "11/11 [==============================] - 0s 40ms/step - loss: 10.1020 - mae: 2.5046 - val_loss: 8.8620 - val_mae: 2.3264\n",
            "Epoch 19/200\n",
            "11/11 [==============================] - 0s 41ms/step - loss: 9.3204 - mae: 2.3865 - val_loss: 11.5741 - val_mae: 2.6365\n",
            "Epoch 20/200\n",
            "11/11 [==============================] - 0s 40ms/step - loss: 10.3623 - mae: 2.5256 - val_loss: 9.4438 - val_mae: 2.3854\n",
            "Epoch 21/200\n",
            "11/11 [==============================] - 0s 41ms/step - loss: 9.3793 - mae: 2.3869 - val_loss: 9.4733 - val_mae: 2.3798\n",
            "Epoch 22/200\n",
            "11/11 [==============================] - 0s 42ms/step - loss: 9.5926 - mae: 2.4154 - val_loss: 9.4026 - val_mae: 2.3694\n",
            "Epoch 23/200\n",
            "11/11 [==============================] - 0s 42ms/step - loss: 9.8616 - mae: 2.4701 - val_loss: 8.4943 - val_mae: 2.3019\n",
            "Epoch 24/200\n",
            "11/11 [==============================] - 0s 41ms/step - loss: 9.2103 - mae: 2.3583 - val_loss: 8.5793 - val_mae: 2.3053\n",
            "Epoch 25/200\n",
            "11/11 [==============================] - 0s 42ms/step - loss: 9.0180 - mae: 2.3500 - val_loss: 8.7005 - val_mae: 2.3120\n",
            "Epoch 26/200\n",
            "11/11 [==============================] - 0s 42ms/step - loss: 9.8785 - mae: 2.4759 - val_loss: 9.3515 - val_mae: 2.3643\n",
            "Epoch 27/200\n",
            "11/11 [==============================] - 0s 44ms/step - loss: 10.6190 - mae: 2.5542 - val_loss: 8.7349 - val_mae: 2.3087\n",
            "Epoch 28/200\n",
            "11/11 [==============================] - 0s 41ms/step - loss: 9.6925 - mae: 2.4433 - val_loss: 8.9564 - val_mae: 2.3206\n",
            "Epoch 29/200\n",
            "11/11 [==============================] - 0s 41ms/step - loss: 9.4397 - mae: 2.3973 - val_loss: 10.9851 - val_mae: 2.6544\n",
            "Epoch 30/200\n",
            "11/11 [==============================] - 0s 41ms/step - loss: 9.3942 - mae: 2.3968 - val_loss: 8.6319 - val_mae: 2.2917\n",
            "Epoch 31/200\n",
            "11/11 [==============================] - 0s 43ms/step - loss: 9.0920 - mae: 2.3613 - val_loss: 8.6425 - val_mae: 2.2978\n",
            "Epoch 32/200\n",
            "11/11 [==============================] - 0s 41ms/step - loss: 9.0509 - mae: 2.3554 - val_loss: 8.9329 - val_mae: 2.3190\n",
            "Epoch 33/200\n",
            "11/11 [==============================] - 0s 41ms/step - loss: 9.2134 - mae: 2.3809 - val_loss: 8.7024 - val_mae: 2.3394\n",
            "Epoch 34/200\n",
            "11/11 [==============================] - 0s 42ms/step - loss: 9.3198 - mae: 2.4036 - val_loss: 10.2339 - val_mae: 2.4768\n",
            "Epoch 35/200\n",
            "11/11 [==============================] - 0s 42ms/step - loss: 10.0811 - mae: 2.4784 - val_loss: 8.7130 - val_mae: 2.3001\n",
            "Epoch 36/200\n",
            "11/11 [==============================] - 0s 41ms/step - loss: 9.3365 - mae: 2.3970 - val_loss: 8.6707 - val_mae: 2.2871\n",
            "Epoch 37/200\n",
            "11/11 [==============================] - 0s 42ms/step - loss: 9.2579 - mae: 2.3810 - val_loss: 8.6368 - val_mae: 2.2935\n",
            "Epoch 38/200\n",
            "11/11 [==============================] - 0s 41ms/step - loss: 9.4498 - mae: 2.4043 - val_loss: 13.3293 - val_mae: 2.8351\n",
            "Epoch 39/200\n",
            "11/11 [==============================] - 0s 42ms/step - loss: 10.0971 - mae: 2.5011 - val_loss: 9.0419 - val_mae: 2.3221\n",
            "Epoch 40/200\n",
            "11/11 [==============================] - 0s 41ms/step - loss: 9.2445 - mae: 2.3748 - val_loss: 10.2236 - val_mae: 2.5538\n",
            "Epoch 41/200\n",
            "11/11 [==============================] - 0s 43ms/step - loss: 9.3983 - mae: 2.4026 - val_loss: 8.5529 - val_mae: 2.3020\n",
            "Epoch 42/200\n",
            "11/11 [==============================] - 0s 42ms/step - loss: 8.8759 - mae: 2.3319 - val_loss: 8.9844 - val_mae: 2.3284\n",
            "Epoch 43/200\n",
            "11/11 [==============================] - 0s 42ms/step - loss: 9.0191 - mae: 2.3485 - val_loss: 9.2009 - val_mae: 2.3500\n",
            "Epoch 44/200\n",
            "11/11 [==============================] - 0s 40ms/step - loss: 9.6063 - mae: 2.4173 - val_loss: 8.6231 - val_mae: 2.2902\n",
            "Epoch 45/200\n",
            "11/11 [==============================] - 0s 42ms/step - loss: 9.0153 - mae: 2.3583 - val_loss: 8.5564 - val_mae: 2.2836\n",
            "Epoch 46/200\n",
            "11/11 [==============================] - 0s 41ms/step - loss: 9.1684 - mae: 2.3731 - val_loss: 8.7694 - val_mae: 2.3286\n",
            "Epoch 47/200\n",
            "11/11 [==============================] - 0s 41ms/step - loss: 8.9299 - mae: 2.3317 - val_loss: 9.3504 - val_mae: 2.4287\n",
            "Epoch 48/200\n",
            "11/11 [==============================] - 0s 41ms/step - loss: 8.9599 - mae: 2.3566 - val_loss: 9.2531 - val_mae: 2.3535\n",
            "Epoch 49/200\n",
            "11/11 [==============================] - 0s 42ms/step - loss: 9.1420 - mae: 2.3597 - val_loss: 10.8325 - val_mae: 2.5352\n",
            "Epoch 50/200\n",
            "11/11 [==============================] - 0s 43ms/step - loss: 9.3454 - mae: 2.3897 - val_loss: 8.8598 - val_mae: 2.3593\n",
            "Epoch 51/200\n",
            "11/11 [==============================] - 0s 42ms/step - loss: 8.8648 - mae: 2.3269 - val_loss: 8.5307 - val_mae: 2.2807\n",
            "Epoch 52/200\n",
            "11/11 [==============================] - 0s 42ms/step - loss: 9.2717 - mae: 2.3850 - val_loss: 8.5152 - val_mae: 2.3122\n",
            "Epoch 53/200\n",
            "11/11 [==============================] - 0s 42ms/step - loss: 9.1623 - mae: 2.3851 - val_loss: 8.7065 - val_mae: 2.2906\n",
            "Epoch 54/200\n",
            "11/11 [==============================] - 0s 41ms/step - loss: 8.9629 - mae: 2.3410 - val_loss: 8.6778 - val_mae: 2.3246\n",
            "Epoch 55/200\n",
            "11/11 [==============================] - 0s 42ms/step - loss: 8.9380 - mae: 2.3422 - val_loss: 8.4121 - val_mae: 2.2825\n",
            "Epoch 56/200\n",
            "11/11 [==============================] - 0s 40ms/step - loss: 8.7872 - mae: 2.3188 - val_loss: 8.5120 - val_mae: 2.2920\n",
            "Epoch 57/200\n",
            "11/11 [==============================] - 0s 43ms/step - loss: 9.7500 - mae: 2.4459 - val_loss: 9.0488 - val_mae: 2.3839\n",
            "Epoch 58/200\n",
            "11/11 [==============================] - 0s 41ms/step - loss: 9.8910 - mae: 2.4672 - val_loss: 9.2653 - val_mae: 2.3577\n",
            "Epoch 59/200\n",
            "11/11 [==============================] - 0s 41ms/step - loss: 9.0864 - mae: 2.3460 - val_loss: 8.4665 - val_mae: 2.2851\n",
            "Epoch 60/200\n",
            "11/11 [==============================] - 0s 41ms/step - loss: 9.2303 - mae: 2.3859 - val_loss: 8.4632 - val_mae: 2.2934\n",
            "Epoch 61/200\n",
            "11/11 [==============================] - 0s 42ms/step - loss: 8.8642 - mae: 2.3315 - val_loss: 8.4649 - val_mae: 2.2728\n",
            "Epoch 62/200\n",
            "11/11 [==============================] - 0s 41ms/step - loss: 8.8804 - mae: 2.3415 - val_loss: 9.4348 - val_mae: 2.4443\n",
            "Epoch 63/200\n",
            "11/11 [==============================] - 0s 41ms/step - loss: 9.0835 - mae: 2.3563 - val_loss: 8.5654 - val_mae: 2.3165\n",
            "Epoch 64/200\n",
            "11/11 [==============================] - 0s 41ms/step - loss: 8.7632 - mae: 2.3186 - val_loss: 8.8196 - val_mae: 2.3005\n",
            "Epoch 65/200\n",
            "11/11 [==============================] - 0s 42ms/step - loss: 9.0065 - mae: 2.3361 - val_loss: 8.4772 - val_mae: 2.2961\n",
            "Epoch 66/200\n",
            "11/11 [==============================] - 0s 41ms/step - loss: 9.0214 - mae: 2.3469 - val_loss: 11.7650 - val_mae: 2.7609\n",
            "Epoch 67/200\n",
            "11/11 [==============================] - 0s 42ms/step - loss: 9.0425 - mae: 2.3505 - val_loss: 8.5495 - val_mae: 2.2728\n",
            "Epoch 68/200\n",
            "11/11 [==============================] - 0s 41ms/step - loss: 8.7485 - mae: 2.3195 - val_loss: 8.7377 - val_mae: 2.2949\n",
            "Epoch 69/200\n",
            "11/11 [==============================] - 0s 42ms/step - loss: 9.1053 - mae: 2.3694 - val_loss: 9.4124 - val_mae: 2.3560\n",
            "Epoch 70/200\n",
            "11/11 [==============================] - 0s 40ms/step - loss: 8.8047 - mae: 2.3206 - val_loss: 8.7408 - val_mae: 2.3244\n",
            "Epoch 71/200\n",
            "11/11 [==============================] - 0s 42ms/step - loss: 9.2157 - mae: 2.3680 - val_loss: 8.8056 - val_mae: 2.3180\n",
            "Epoch 72/200\n",
            "11/11 [==============================] - 0s 42ms/step - loss: 8.9750 - mae: 2.3524 - val_loss: 8.7373 - val_mae: 2.3122\n",
            "Epoch 73/200\n",
            "11/11 [==============================] - 0s 41ms/step - loss: 9.0348 - mae: 2.3482 - val_loss: 11.1098 - val_mae: 2.5868\n",
            "Epoch 74/200\n",
            "11/11 [==============================] - 0s 41ms/step - loss: 9.5900 - mae: 2.4250 - val_loss: 8.5438 - val_mae: 2.2802\n",
            "Epoch 75/200\n",
            "11/11 [==============================] - 0s 41ms/step - loss: 8.8636 - mae: 2.3255 - val_loss: 8.7415 - val_mae: 2.3393\n",
            "Epoch 76/200\n",
            "11/11 [==============================] - 0s 42ms/step - loss: 8.9730 - mae: 2.3475 - val_loss: 8.8972 - val_mae: 2.3117\n",
            "Epoch 77/200\n",
            "11/11 [==============================] - 0s 41ms/step - loss: 8.9360 - mae: 2.3390 - val_loss: 8.6439 - val_mae: 2.3118\n",
            "Epoch 78/200\n",
            "11/11 [==============================] - 0s 42ms/step - loss: 8.7987 - mae: 2.3206 - val_loss: 8.4990 - val_mae: 2.2761\n",
            "Epoch 79/200\n",
            "11/11 [==============================] - 0s 40ms/step - loss: 8.7636 - mae: 2.3181 - val_loss: 8.3949 - val_mae: 2.2520\n",
            "Epoch 80/200\n",
            "11/11 [==============================] - 0s 42ms/step - loss: 8.9743 - mae: 2.3576 - val_loss: 8.4064 - val_mae: 2.2536\n",
            "Epoch 81/200\n",
            "11/11 [==============================] - 0s 42ms/step - loss: 8.8346 - mae: 2.3287 - val_loss: 9.2440 - val_mae: 2.4170\n",
            "Epoch 82/200\n",
            "11/11 [==============================] - 0s 42ms/step - loss: 9.3868 - mae: 2.4002 - val_loss: 8.8041 - val_mae: 2.3373\n",
            "Epoch 83/200\n",
            "11/11 [==============================] - 0s 42ms/step - loss: 8.9715 - mae: 2.3513 - val_loss: 8.3681 - val_mae: 2.2447\n",
            "Epoch 84/200\n",
            "11/11 [==============================] - 0s 42ms/step - loss: 8.8059 - mae: 2.3177 - val_loss: 8.3513 - val_mae: 2.2455\n",
            "Epoch 85/200\n",
            "11/11 [==============================] - 0s 41ms/step - loss: 8.6677 - mae: 2.3030 - val_loss: 8.5598 - val_mae: 2.3058\n",
            "Epoch 86/200\n",
            "11/11 [==============================] - 0s 41ms/step - loss: 8.8979 - mae: 2.3453 - val_loss: 8.3714 - val_mae: 2.2651\n",
            "Epoch 87/200\n",
            "11/11 [==============================] - 0s 41ms/step - loss: 9.1199 - mae: 2.3688 - val_loss: 8.5829 - val_mae: 2.2702\n",
            "Epoch 88/200\n",
            "11/11 [==============================] - 0s 42ms/step - loss: 9.0260 - mae: 2.3567 - val_loss: 8.5383 - val_mae: 2.2756\n",
            "Epoch 89/200\n",
            "11/11 [==============================] - 0s 40ms/step - loss: 8.6264 - mae: 2.2959 - val_loss: 8.3888 - val_mae: 2.2643\n",
            "Epoch 90/200\n",
            "11/11 [==============================] - 0s 43ms/step - loss: 8.9234 - mae: 2.3323 - val_loss: 8.4909 - val_mae: 2.2859\n",
            "Epoch 91/200\n",
            "11/11 [==============================] - 0s 42ms/step - loss: 8.8364 - mae: 2.3281 - val_loss: 8.3356 - val_mae: 2.2684\n",
            "Epoch 92/200\n",
            "11/11 [==============================] - 0s 42ms/step - loss: 8.6538 - mae: 2.3135 - val_loss: 8.8319 - val_mae: 2.2941\n",
            "Epoch 93/200\n",
            "11/11 [==============================] - 0s 42ms/step - loss: 8.7496 - mae: 2.3211 - val_loss: 8.5846 - val_mae: 2.2723\n",
            "Epoch 94/200\n",
            "11/11 [==============================] - 0s 43ms/step - loss: 8.8559 - mae: 2.3258 - val_loss: 8.7265 - val_mae: 2.3407\n",
            "Epoch 95/200\n",
            "11/11 [==============================] - 0s 42ms/step - loss: 8.8359 - mae: 2.3259 - val_loss: 8.4075 - val_mae: 2.2583\n",
            "Epoch 96/200\n",
            "11/11 [==============================] - 0s 42ms/step - loss: 8.6682 - mae: 2.3071 - val_loss: 8.3229 - val_mae: 2.2585\n",
            "Epoch 97/200\n",
            "11/11 [==============================] - 0s 41ms/step - loss: 8.7990 - mae: 2.3218 - val_loss: 8.3300 - val_mae: 2.2434\n",
            "Epoch 98/200\n",
            "11/11 [==============================] - 0s 41ms/step - loss: 9.0235 - mae: 2.3564 - val_loss: 8.8601 - val_mae: 2.3206\n",
            "Epoch 99/200\n",
            "11/11 [==============================] - 0s 42ms/step - loss: 8.7963 - mae: 2.3316 - val_loss: 9.0789 - val_mae: 2.3161\n",
            "Epoch 100/200\n",
            "11/11 [==============================] - 0s 41ms/step - loss: 8.9443 - mae: 2.3494 - val_loss: 8.8881 - val_mae: 2.3183\n",
            "Epoch 101/200\n",
            "11/11 [==============================] - 0s 42ms/step - loss: 8.7969 - mae: 2.3220 - val_loss: 8.4668 - val_mae: 2.2812\n",
            "Epoch 102/200\n",
            "11/11 [==============================] - 0s 42ms/step - loss: 8.7486 - mae: 2.3184 - val_loss: 8.4827 - val_mae: 2.2860\n",
            "Epoch 103/200\n",
            "11/11 [==============================] - 0s 42ms/step - loss: 9.2828 - mae: 2.3837 - val_loss: 8.8794 - val_mae: 2.3525\n",
            "Epoch 104/200\n",
            "11/11 [==============================] - 0s 43ms/step - loss: 8.6901 - mae: 2.3140 - val_loss: 8.4706 - val_mae: 2.2802\n",
            "Epoch 105/200\n",
            "11/11 [==============================] - 0s 42ms/step - loss: 8.6885 - mae: 2.3116 - val_loss: 8.6336 - val_mae: 2.2750\n",
            "Epoch 106/200\n",
            "11/11 [==============================] - 0s 43ms/step - loss: 8.7534 - mae: 2.3183 - val_loss: 8.7026 - val_mae: 2.2866\n",
            "Epoch 107/200\n",
            "11/11 [==============================] - 0s 42ms/step - loss: 8.6036 - mae: 2.2937 - val_loss: 8.5994 - val_mae: 2.2718\n",
            "Epoch 108/200\n",
            "11/11 [==============================] - 0s 40ms/step - loss: 8.7646 - mae: 2.3292 - val_loss: 8.7722 - val_mae: 2.2828\n",
            "Epoch 109/200\n",
            "11/11 [==============================] - 0s 41ms/step - loss: 8.8251 - mae: 2.3315 - val_loss: 8.5881 - val_mae: 2.2798\n",
            "Epoch 110/200\n",
            "11/11 [==============================] - 0s 43ms/step - loss: 8.6502 - mae: 2.3009 - val_loss: 8.3652 - val_mae: 2.2491\n",
            "Epoch 111/200\n",
            "11/11 [==============================] - 0s 41ms/step - loss: 8.7599 - mae: 2.3174 - val_loss: 8.8600 - val_mae: 2.3340\n",
            "Epoch 112/200\n",
            "11/11 [==============================] - 0s 43ms/step - loss: 9.0308 - mae: 2.3627 - val_loss: 8.4585 - val_mae: 2.2650\n",
            "Epoch 113/200\n",
            "11/11 [==============================] - 0s 41ms/step - loss: 8.5816 - mae: 2.3002 - val_loss: 8.4334 - val_mae: 2.2642\n",
            "Epoch 114/200\n",
            "11/11 [==============================] - 0s 40ms/step - loss: 9.0321 - mae: 2.3527 - val_loss: 8.9137 - val_mae: 2.3624\n",
            "Epoch 115/200\n",
            "11/11 [==============================] - 0s 42ms/step - loss: 8.8209 - mae: 2.3271 - val_loss: 8.4410 - val_mae: 2.2648\n",
            "Epoch 116/200\n",
            "11/11 [==============================] - 0s 43ms/step - loss: 8.7004 - mae: 2.3150 - val_loss: 8.5643 - val_mae: 2.2800\n",
            "Epoch 117/200\n",
            "11/11 [==============================] - 0s 41ms/step - loss: 8.6058 - mae: 2.2998 - val_loss: 8.3952 - val_mae: 2.2678\n",
            "Epoch 118/200\n",
            "11/11 [==============================] - 0s 43ms/step - loss: 8.6530 - mae: 2.3034 - val_loss: 8.4698 - val_mae: 2.2785\n",
            "Epoch 119/200\n",
            "11/11 [==============================] - 0s 41ms/step - loss: 8.6750 - mae: 2.3126 - val_loss: 8.4779 - val_mae: 2.2839\n",
            "Epoch 120/200\n",
            "11/11 [==============================] - 0s 42ms/step - loss: 8.7609 - mae: 2.3211 - val_loss: 8.6660 - val_mae: 2.3298\n",
            "Epoch 121/200\n",
            "11/11 [==============================] - 0s 43ms/step - loss: 8.8258 - mae: 2.3259 - val_loss: 8.3936 - val_mae: 2.2429\n",
            "Epoch 122/200\n",
            "11/11 [==============================] - 0s 43ms/step - loss: 8.5525 - mae: 2.3005 - val_loss: 8.6097 - val_mae: 2.3048\n",
            "Epoch 123/200\n",
            "11/11 [==============================] - 0s 42ms/step - loss: 8.6151 - mae: 2.3015 - val_loss: 8.5686 - val_mae: 2.2839\n",
            "Epoch 124/200\n",
            "11/11 [==============================] - 0s 43ms/step - loss: 8.8835 - mae: 2.3439 - val_loss: 8.3736 - val_mae: 2.2651\n",
            "Epoch 125/200\n",
            "11/11 [==============================] - 0s 42ms/step - loss: 8.7959 - mae: 2.3182 - val_loss: 8.3669 - val_mae: 2.2579\n",
            "Epoch 126/200\n",
            "11/11 [==============================] - 0s 43ms/step - loss: 8.7277 - mae: 2.3127 - val_loss: 8.3463 - val_mae: 2.2601\n",
            "Epoch 127/200\n",
            "11/11 [==============================] - 0s 42ms/step - loss: 8.7722 - mae: 2.3250 - val_loss: 8.4787 - val_mae: 2.2628\n",
            "Epoch 128/200\n",
            "11/11 [==============================] - 0s 43ms/step - loss: 8.6779 - mae: 2.3047 - val_loss: 8.4516 - val_mae: 2.2747\n",
            "Epoch 129/200\n",
            "11/11 [==============================] - 0s 41ms/step - loss: 8.6543 - mae: 2.3039 - val_loss: 8.3790 - val_mae: 2.2573\n",
            "Epoch 130/200\n",
            "11/11 [==============================] - 0s 45ms/step - loss: 8.5911 - mae: 2.2960 - val_loss: 8.4320 - val_mae: 2.2600\n",
            "Epoch 131/200\n",
            "11/11 [==============================] - 0s 41ms/step - loss: 8.5502 - mae: 2.2899 - val_loss: 8.4441 - val_mae: 2.2767\n",
            "Epoch 132/200\n",
            "11/11 [==============================] - 0s 41ms/step - loss: 8.6921 - mae: 2.3075 - val_loss: 8.4272 - val_mae: 2.2610\n",
            "Epoch 133/200\n",
            "11/11 [==============================] - 0s 42ms/step - loss: 8.6075 - mae: 2.3049 - val_loss: 8.3520 - val_mae: 2.2573\n",
            "Epoch 134/200\n",
            "11/11 [==============================] - 0s 43ms/step - loss: 8.6683 - mae: 2.3104 - val_loss: 8.7337 - val_mae: 2.3097\n",
            "Epoch 135/200\n",
            "11/11 [==============================] - 0s 40ms/step - loss: 8.6998 - mae: 2.3161 - val_loss: 8.4919 - val_mae: 2.2790\n",
            "Epoch 136/200\n",
            "11/11 [==============================] - 0s 41ms/step - loss: 8.6947 - mae: 2.3025 - val_loss: 8.6149 - val_mae: 2.3011\n",
            "Epoch 137/200\n",
            "11/11 [==============================] - 0s 41ms/step - loss: 8.8867 - mae: 2.3491 - val_loss: 8.5831 - val_mae: 2.3146\n",
            "Epoch 138/200\n",
            "11/11 [==============================] - 0s 42ms/step - loss: 8.8113 - mae: 2.3230 - val_loss: 8.9429 - val_mae: 2.3604\n",
            "Epoch 139/200\n",
            "11/11 [==============================] - 0s 42ms/step - loss: 8.7356 - mae: 2.3119 - val_loss: 8.3797 - val_mae: 2.2629\n",
            "Epoch 140/200\n",
            "11/11 [==============================] - 0s 41ms/step - loss: 8.6621 - mae: 2.3025 - val_loss: 8.5045 - val_mae: 2.2712\n",
            "Epoch 141/200\n",
            "11/11 [==============================] - 0s 42ms/step - loss: 8.8525 - mae: 2.3360 - val_loss: 8.5401 - val_mae: 2.2640\n",
            "Epoch 142/200\n",
            "11/11 [==============================] - 0s 43ms/step - loss: 8.6956 - mae: 2.3119 - val_loss: 8.5372 - val_mae: 2.2989\n",
            "Epoch 143/200\n",
            "11/11 [==============================] - 0s 42ms/step - loss: 8.6374 - mae: 2.3125 - val_loss: 8.4988 - val_mae: 2.2891\n",
            "Epoch 144/200\n",
            "11/11 [==============================] - 0s 42ms/step - loss: 8.6374 - mae: 2.3033 - val_loss: 8.5306 - val_mae: 2.2928\n",
            "Epoch 145/200\n",
            "11/11 [==============================] - 0s 42ms/step - loss: 8.6470 - mae: 2.3020 - val_loss: 8.3590 - val_mae: 2.2532\n",
            "Epoch 146/200\n",
            "11/11 [==============================] - 0s 43ms/step - loss: 8.7054 - mae: 2.3167 - val_loss: 9.0856 - val_mae: 2.3154\n",
            "Epoch 147/200\n",
            "11/11 [==============================] - 0s 42ms/step - loss: 8.9622 - mae: 2.3560 - val_loss: 8.3849 - val_mae: 2.2657\n",
            "Epoch 148/200\n",
            "11/11 [==============================] - 0s 43ms/step - loss: 8.5662 - mae: 2.2887 - val_loss: 8.5122 - val_mae: 2.2825\n",
            "Epoch 149/200\n",
            "11/11 [==============================] - 0s 42ms/step - loss: 8.5127 - mae: 2.2853 - val_loss: 8.5810 - val_mae: 2.2865\n",
            "Epoch 150/200\n",
            "11/11 [==============================] - 0s 42ms/step - loss: 8.6473 - mae: 2.3103 - val_loss: 8.8033 - val_mae: 2.3458\n",
            "Epoch 151/200\n",
            "11/11 [==============================] - 0s 41ms/step - loss: 8.7680 - mae: 2.3190 - val_loss: 8.4383 - val_mae: 2.2794\n",
            "Epoch 152/200\n",
            "11/11 [==============================] - 0s 41ms/step - loss: 8.6295 - mae: 2.3082 - val_loss: 8.4347 - val_mae: 2.2610\n",
            "Epoch 153/200\n",
            "11/11 [==============================] - 0s 42ms/step - loss: 8.5190 - mae: 2.2883 - val_loss: 8.7599 - val_mae: 2.3237\n",
            "Epoch 154/200\n",
            "11/11 [==============================] - 0s 42ms/step - loss: 8.7652 - mae: 2.3245 - val_loss: 8.4111 - val_mae: 2.2608\n",
            "Epoch 155/200\n",
            "11/11 [==============================] - 0s 42ms/step - loss: 9.2503 - mae: 2.3711 - val_loss: 8.5543 - val_mae: 2.2791\n",
            "Epoch 156/200\n",
            "11/11 [==============================] - 0s 41ms/step - loss: 8.7376 - mae: 2.3104 - val_loss: 8.4849 - val_mae: 2.2652\n",
            "Epoch 157/200\n",
            "11/11 [==============================] - 0s 43ms/step - loss: 8.5265 - mae: 2.2939 - val_loss: 8.4701 - val_mae: 2.2769\n",
            "Epoch 158/200\n",
            "11/11 [==============================] - 0s 43ms/step - loss: 8.7200 - mae: 2.3148 - val_loss: 8.7742 - val_mae: 2.3376\n",
            "Epoch 159/200\n",
            "11/11 [==============================] - 0s 42ms/step - loss: 8.6741 - mae: 2.3151 - val_loss: 8.4433 - val_mae: 2.2767\n",
            "Epoch 160/200\n",
            "11/11 [==============================] - 0s 43ms/step - loss: 8.5752 - mae: 2.2844 - val_loss: 8.4793 - val_mae: 2.2623\n",
            "Epoch 161/200\n",
            "11/11 [==============================] - 0s 41ms/step - loss: 8.6198 - mae: 2.2973 - val_loss: 8.3932 - val_mae: 2.2678\n",
            "Epoch 162/200\n",
            "11/11 [==============================] - 0s 43ms/step - loss: 8.6518 - mae: 2.2999 - val_loss: 8.5984 - val_mae: 2.2839\n",
            "Epoch 163/200\n",
            "11/11 [==============================] - 0s 41ms/step - loss: 8.4720 - mae: 2.2816 - val_loss: 8.5120 - val_mae: 2.2633\n",
            "Epoch 164/200\n",
            "11/11 [==============================] - 0s 43ms/step - loss: 8.6268 - mae: 2.3086 - val_loss: 8.5416 - val_mae: 2.2874\n",
            "Epoch 165/200\n",
            "11/11 [==============================] - 0s 43ms/step - loss: 8.5942 - mae: 2.2931 - val_loss: 8.4507 - val_mae: 2.2869\n",
            "Epoch 166/200\n",
            "11/11 [==============================] - 0s 43ms/step - loss: 8.5486 - mae: 2.2949 - val_loss: 8.4051 - val_mae: 2.2543\n",
            "Epoch 167/200\n",
            "11/11 [==============================] - 0s 42ms/step - loss: 8.5542 - mae: 2.2874 - val_loss: 8.3229 - val_mae: 2.2617\n",
            "Epoch 168/200\n",
            "11/11 [==============================] - 0s 43ms/step - loss: 8.6537 - mae: 2.3024 - val_loss: 9.5662 - val_mae: 2.3853\n",
            "Epoch 169/200\n",
            "11/11 [==============================] - 0s 42ms/step - loss: 8.5388 - mae: 2.2850 - val_loss: 8.5551 - val_mae: 2.2837\n",
            "Epoch 170/200\n",
            "11/11 [==============================] - 0s 45ms/step - loss: 8.6985 - mae: 2.3213 - val_loss: 9.7730 - val_mae: 2.3974\n",
            "Epoch 171/200\n",
            "11/11 [==============================] - 0s 41ms/step - loss: 8.8260 - mae: 2.3232 - val_loss: 8.7805 - val_mae: 2.3091\n",
            "Epoch 172/200\n",
            "11/11 [==============================] - 0s 42ms/step - loss: 8.6582 - mae: 2.3122 - val_loss: 8.3789 - val_mae: 2.2566\n",
            "Epoch 173/200\n",
            "11/11 [==============================] - 0s 42ms/step - loss: 8.6623 - mae: 2.3064 - val_loss: 9.1982 - val_mae: 2.4036\n",
            "Epoch 174/200\n",
            "11/11 [==============================] - 0s 42ms/step - loss: 8.7796 - mae: 2.3229 - val_loss: 9.1598 - val_mae: 2.3907\n",
            "Epoch 175/200\n",
            "11/11 [==============================] - 0s 42ms/step - loss: 8.4945 - mae: 2.2804 - val_loss: 8.6318 - val_mae: 2.2779\n",
            "Epoch 176/200\n",
            "11/11 [==============================] - 0s 42ms/step - loss: 8.7364 - mae: 2.3120 - val_loss: 8.4653 - val_mae: 2.2501\n",
            "Epoch 177/200\n",
            "11/11 [==============================] - 0s 42ms/step - loss: 8.4715 - mae: 2.2805 - val_loss: 8.9333 - val_mae: 2.3431\n",
            "Epoch 178/200\n",
            "11/11 [==============================] - 0s 43ms/step - loss: 8.9429 - mae: 2.3391 - val_loss: 8.4687 - val_mae: 2.2623\n",
            "Epoch 179/200\n",
            "11/11 [==============================] - 0s 43ms/step - loss: 8.4664 - mae: 2.2781 - val_loss: 8.9113 - val_mae: 2.3020\n",
            "Epoch 180/200\n",
            "11/11 [==============================] - 0s 42ms/step - loss: 8.6032 - mae: 2.2895 - val_loss: 8.4365 - val_mae: 2.2493\n",
            "Epoch 181/200\n",
            "11/11 [==============================] - 0s 41ms/step - loss: 8.6907 - mae: 2.3093 - val_loss: 8.5372 - val_mae: 2.2689\n",
            "Epoch 182/200\n",
            "11/11 [==============================] - 0s 43ms/step - loss: 8.8822 - mae: 2.3458 - val_loss: 8.5849 - val_mae: 2.3093\n",
            "Epoch 183/200\n",
            "11/11 [==============================] - 0s 42ms/step - loss: 8.7058 - mae: 2.2955 - val_loss: 8.4342 - val_mae: 2.2756\n",
            "Epoch 184/200\n",
            "11/11 [==============================] - 0s 45ms/step - loss: 8.8947 - mae: 2.3295 - val_loss: 8.4329 - val_mae: 2.2776\n",
            "Epoch 185/200\n",
            "11/11 [==============================] - 0s 41ms/step - loss: 8.7428 - mae: 2.3051 - val_loss: 8.4212 - val_mae: 2.2845\n",
            "Epoch 186/200\n",
            "11/11 [==============================] - 0s 42ms/step - loss: 8.6402 - mae: 2.3108 - val_loss: 8.5366 - val_mae: 2.2943\n",
            "Epoch 187/200\n",
            "11/11 [==============================] - 0s 41ms/step - loss: 8.4733 - mae: 2.2800 - val_loss: 8.5018 - val_mae: 2.2622\n",
            "Epoch 188/200\n",
            "11/11 [==============================] - 0s 42ms/step - loss: 8.6357 - mae: 2.2952 - val_loss: 8.4096 - val_mae: 2.2650\n",
            "Epoch 189/200\n",
            "11/11 [==============================] - 0s 42ms/step - loss: 8.4920 - mae: 2.2786 - val_loss: 8.7467 - val_mae: 2.3361\n",
            "Epoch 190/200\n",
            "11/11 [==============================] - 0s 43ms/step - loss: 8.6681 - mae: 2.3057 - val_loss: 8.4485 - val_mae: 2.2384\n",
            "Epoch 191/200\n",
            "11/11 [==============================] - 0s 41ms/step - loss: 8.5146 - mae: 2.2824 - val_loss: 8.5384 - val_mae: 2.2863\n",
            "Epoch 192/200\n",
            "11/11 [==============================] - 0s 43ms/step - loss: 8.7464 - mae: 2.3134 - val_loss: 8.3782 - val_mae: 2.2566\n",
            "Epoch 193/200\n",
            "11/11 [==============================] - 0s 43ms/step - loss: 8.4945 - mae: 2.2860 - val_loss: 8.4029 - val_mae: 2.2610\n",
            "Epoch 194/200\n",
            "11/11 [==============================] - 0s 43ms/step - loss: 8.5710 - mae: 2.2888 - val_loss: 8.4074 - val_mae: 2.2648\n",
            "Epoch 195/200\n",
            "11/11 [==============================] - 0s 42ms/step - loss: 9.0665 - mae: 2.3556 - val_loss: 8.7493 - val_mae: 2.3124\n",
            "Epoch 196/200\n",
            "11/11 [==============================] - 0s 43ms/step - loss: 8.7939 - mae: 2.3250 - val_loss: 8.5850 - val_mae: 2.2677\n",
            "Epoch 197/200\n",
            "11/11 [==============================] - 0s 43ms/step - loss: 8.8271 - mae: 2.3256 - val_loss: 8.9304 - val_mae: 2.3094\n",
            "Epoch 198/200\n",
            "11/11 [==============================] - 0s 43ms/step - loss: 11.5551 - mae: 2.6651 - val_loss: 9.0083 - val_mae: 2.3632\n",
            "Epoch 199/200\n",
            "11/11 [==============================] - 0s 42ms/step - loss: 11.1107 - mae: 2.6151 - val_loss: 8.8224 - val_mae: 2.3295\n",
            "Epoch 200/200\n",
            "11/11 [==============================] - 0s 43ms/step - loss: 9.6264 - mae: 2.4216 - val_loss: 8.8810 - val_mae: 2.3294\n"
          ],
          "name": "stdout"
        }
      ]
    },
    {
      "cell_type": "markdown",
      "metadata": {
        "id": "RYS3JUfKTPvV",
        "colab_type": "text"
      },
      "source": [
        "## 1.8) Plot the history"
      ]
    },
    {
      "cell_type": "code",
      "metadata": {
        "id": "s3eGh4gBTPvW",
        "colab_type": "code",
        "colab": {}
      },
      "source": [
        "def plot_history(history, loss=\"loss\"):\n",
        "    train_losses = history.history[loss]\n",
        "    valid_losses = history.history[\"val_\" + loss]\n",
        "    n_epochs = len(history.epoch)\n",
        "    minloss = np.min(valid_losses)\n",
        "    \n",
        "    plt.plot(train_losses, color=\"b\", label=\"Train\")\n",
        "    plt.plot(valid_losses, color=\"r\", label=\"Validation\")\n",
        "    plt.plot([0, n_epochs], [minloss, minloss], \"k--\",\n",
        "             label=\"Min val: {:.2f}\".format(minloss))\n",
        "    plt.axis([0, n_epochs, 0, 20])\n",
        "    plt.legend()\n",
        "    plt.show()"
      ],
      "execution_count": 0,
      "outputs": []
    },
    {
      "cell_type": "code",
      "metadata": {
        "id": "gdlVu3k5TPvZ",
        "colab_type": "code",
        "outputId": "d7a66815-9c8d-4ecf-f226-97147d6dd8a5",
        "colab": {
          "base_uri": "https://localhost:8080/",
          "height": 269
        }
      },
      "source": [
        "plot_history(history1)"
      ],
      "execution_count": 53,
      "outputs": [
        {
          "output_type": "display_data",
          "data": {
            "image/png": "[encoded data removed]",
            "text/plain": [
              "<Figure size 432x288 with 1 Axes>"
            ]
          },
          "metadata": {
            "tags": [],
            "needs_background": "light"
          }
        }
      ]
    },
    {
      "cell_type": "markdown",
      "metadata": {
        "id": "jUUDCcfPTPva",
        "colab_type": "text"
      },
      "source": [
        "## 1.9) Evaluate the model"
      ]
    },
    {
      "cell_type": "code",
      "metadata": {
        "id": "s2mR0-USTPva",
        "colab_type": "code",
        "outputId": "7fd6a99c-52d9-4ebc-b112-4148f5226112",
        "colab": {
          "base_uri": "https://localhost:8080/",
          "height": 54
        }
      },
      "source": [
        "model1.evaluate(X_valid_3D, y_valid)"
      ],
      "execution_count": 54,
      "outputs": [
        {
          "output_type": "stream",
          "text": [
            "23/23 [==============================] - 0s 5ms/step - loss: 8.8810 - mae: 2.3294\n"
          ],
          "name": "stdout"
        },
        {
          "output_type": "execute_result",
          "data": {
            "text/plain": [
              "[8.880999565124512, 2.329437255859375]"
            ]
          },
          "metadata": {
            "tags": []
          },
          "execution_count": 54
        }
      ]
    },
    {
      "cell_type": "code",
      "metadata": {
        "id": "IiMZ0XJrTPvc",
        "colab_type": "code",
        "colab": {}
      },
      "source": [
        "def huber_loss(y_true, y_pred, max_grad=1.):\n",
        "    err = tf.abs(y_true - y_pred, name='abs')\n",
        "    mg = tf.constant(max_grad, name='max_grad')\n",
        "    lin = mg * (err - 0.5 * mg)\n",
        "    quad = 0.5 * err * err\n",
        "    return tf.where(err < mg, quad, lin)"
      ],
      "execution_count": 0,
      "outputs": []
    },
    {
      "cell_type": "code",
      "metadata": {
        "id": "nbVFTa2cTPve",
        "colab_type": "code",
        "colab": {}
      },
      "source": [
        "model1 = keras.models.Sequential()\n",
        "model1.add(keras.layers.SimpleRNN(100, return_sequences=True, input_shape=input_shape))\n",
        "model1.add(keras.layers.SimpleRNN(100))\n",
        "model1.add(keras.layers.Dense(1))\n",
        "model1.compile(loss=huber_loss, optimizer=keras.optimizers.SGD(lr=0.005), metrics=[\"mae\"])"
      ],
      "execution_count": 0,
      "outputs": []
    },
    {
      "cell_type": "code",
      "metadata": {
        "id": "Xa0lSbwLTPvf",
        "colab_type": "code",
        "outputId": "cb976c94-ced0-47cd-9cce-c877978145e3",
        "colab": {
          "base_uri": "https://localhost:8080/",
          "height": 1000
        }
      },
      "source": [
        "history1 = model1.fit(X_train_3D, y_train, epochs=200, batch_size=200,\n",
        "                      validation_data=(X_valid_3D, y_valid))"
      ],
      "execution_count": 57,
      "outputs": [
        {
          "output_type": "stream",
          "text": [
            "Epoch 1/200\n",
            "11/11 [==============================] - 1s 77ms/step - loss: 7.0431 - mae: 7.5357 - val_loss: 4.3374 - val_mae: 4.8186\n",
            "Epoch 2/200\n",
            "11/11 [==============================] - 1s 54ms/step - loss: 3.4153 - mae: 3.8887 - val_loss: 2.8077 - val_mae: 3.2751\n",
            "Epoch 3/200\n",
            "11/11 [==============================] - 1s 55ms/step - loss: 2.7624 - mae: 3.2304 - val_loss: 2.4934 - val_mae: 2.9529\n",
            "Epoch 4/200\n",
            "11/11 [==============================] - 1s 55ms/step - loss: 2.6335 - mae: 3.0969 - val_loss: 2.3968 - val_mae: 2.8548\n",
            "Epoch 5/200\n",
            "11/11 [==============================] - 1s 56ms/step - loss: 2.5391 - mae: 3.0013 - val_loss: 2.2964 - val_mae: 2.7545\n",
            "Epoch 6/200\n",
            "11/11 [==============================] - 1s 54ms/step - loss: 2.4083 - mae: 2.8691 - val_loss: 2.1927 - val_mae: 2.6513\n",
            "Epoch 7/200\n",
            "11/11 [==============================] - 1s 56ms/step - loss: 2.2753 - mae: 2.7365 - val_loss: 2.0591 - val_mae: 2.5132\n",
            "Epoch 8/200\n",
            "11/11 [==============================] - 1s 55ms/step - loss: 2.1494 - mae: 2.6062 - val_loss: 1.9953 - val_mae: 2.4493\n",
            "Epoch 9/200\n",
            "11/11 [==============================] - 1s 56ms/step - loss: 2.0760 - mae: 2.5317 - val_loss: 2.0643 - val_mae: 2.5229\n",
            "Epoch 10/200\n",
            "11/11 [==============================] - 1s 54ms/step - loss: 2.0548 - mae: 2.5102 - val_loss: 1.9672 - val_mae: 2.4214\n",
            "Epoch 11/200\n",
            "11/11 [==============================] - 1s 56ms/step - loss: 1.9994 - mae: 2.4544 - val_loss: 1.8648 - val_mae: 2.3199\n",
            "Epoch 12/200\n",
            "11/11 [==============================] - 1s 56ms/step - loss: 1.9479 - mae: 2.4019 - val_loss: 1.8415 - val_mae: 2.2992\n",
            "Epoch 13/200\n",
            "11/11 [==============================] - 1s 57ms/step - loss: 1.9654 - mae: 2.4206 - val_loss: 1.9587 - val_mae: 2.4167\n",
            "Epoch 14/200\n",
            "11/11 [==============================] - 1s 56ms/step - loss: 2.0266 - mae: 2.4834 - val_loss: 1.8519 - val_mae: 2.3121\n",
            "Epoch 15/200\n",
            "11/11 [==============================] - 1s 57ms/step - loss: 1.9322 - mae: 2.3830 - val_loss: 1.8324 - val_mae: 2.2905\n",
            "Epoch 16/200\n",
            "11/11 [==============================] - 1s 57ms/step - loss: 1.9315 - mae: 2.3842 - val_loss: 1.8362 - val_mae: 2.2925\n",
            "Epoch 17/200\n",
            "11/11 [==============================] - 1s 56ms/step - loss: 1.9333 - mae: 2.3867 - val_loss: 1.8549 - val_mae: 2.3093\n",
            "Epoch 18/200\n",
            "11/11 [==============================] - 1s 55ms/step - loss: 1.9293 - mae: 2.3843 - val_loss: 1.8862 - val_mae: 2.3420\n",
            "Epoch 19/200\n",
            "11/11 [==============================] - 1s 55ms/step - loss: 1.9750 - mae: 2.4291 - val_loss: 1.9265 - val_mae: 2.3782\n",
            "Epoch 20/200\n",
            "11/11 [==============================] - 1s 55ms/step - loss: 1.9794 - mae: 2.4346 - val_loss: 1.9505 - val_mae: 2.4022\n",
            "Epoch 21/200\n",
            "11/11 [==============================] - 1s 55ms/step - loss: 1.9141 - mae: 2.3671 - val_loss: 1.8336 - val_mae: 2.2903\n",
            "Epoch 22/200\n",
            "11/11 [==============================] - 1s 54ms/step - loss: 1.9368 - mae: 2.3916 - val_loss: 1.8330 - val_mae: 2.2892\n",
            "Epoch 23/200\n",
            "11/11 [==============================] - 1s 56ms/step - loss: 1.9251 - mae: 2.3781 - val_loss: 2.0615 - val_mae: 2.5189\n",
            "Epoch 24/200\n",
            "11/11 [==============================] - 1s 55ms/step - loss: 1.9430 - mae: 2.3973 - val_loss: 1.8333 - val_mae: 2.2894\n",
            "Epoch 25/200\n",
            "11/11 [==============================] - 1s 58ms/step - loss: 1.8910 - mae: 2.3417 - val_loss: 1.8671 - val_mae: 2.3229\n",
            "Epoch 26/200\n",
            "11/11 [==============================] - 1s 56ms/step - loss: 1.9071 - mae: 2.3621 - val_loss: 1.8231 - val_mae: 2.2792\n",
            "Epoch 27/200\n",
            "11/11 [==============================] - 1s 54ms/step - loss: 1.9342 - mae: 2.3859 - val_loss: 1.9213 - val_mae: 2.3796\n",
            "Epoch 28/200\n",
            "11/11 [==============================] - 1s 57ms/step - loss: 1.9260 - mae: 2.3797 - val_loss: 1.8392 - val_mae: 2.2951\n",
            "Epoch 29/200\n",
            "11/11 [==============================] - 1s 56ms/step - loss: 1.9075 - mae: 2.3577 - val_loss: 1.8288 - val_mae: 2.2860\n",
            "Epoch 30/200\n",
            "11/11 [==============================] - 1s 54ms/step - loss: 1.8929 - mae: 2.3470 - val_loss: 1.8847 - val_mae: 2.3413\n",
            "Epoch 31/200\n",
            "11/11 [==============================] - 1s 53ms/step - loss: 1.9130 - mae: 2.3656 - val_loss: 1.8660 - val_mae: 2.3222\n",
            "Epoch 32/200\n",
            "11/11 [==============================] - 1s 56ms/step - loss: 1.9009 - mae: 2.3518 - val_loss: 1.8193 - val_mae: 2.2758\n",
            "Epoch 33/200\n",
            "11/11 [==============================] - 1s 55ms/step - loss: 1.8844 - mae: 2.3354 - val_loss: 1.8922 - val_mae: 2.3489\n",
            "Epoch 34/200\n",
            "11/11 [==============================] - 1s 56ms/step - loss: 1.9010 - mae: 2.3534 - val_loss: 1.8211 - val_mae: 2.2784\n",
            "Epoch 35/200\n",
            "11/11 [==============================] - 1s 55ms/step - loss: 1.9166 - mae: 2.3691 - val_loss: 1.8256 - val_mae: 2.2823\n",
            "Epoch 36/200\n",
            "11/11 [==============================] - 1s 55ms/step - loss: 1.9123 - mae: 2.3623 - val_loss: 1.9409 - val_mae: 2.3989\n",
            "Epoch 37/200\n",
            "11/11 [==============================] - 1s 56ms/step - loss: 1.9205 - mae: 2.3774 - val_loss: 1.8406 - val_mae: 2.2966\n",
            "Epoch 38/200\n",
            "11/11 [==============================] - 1s 55ms/step - loss: 1.9127 - mae: 2.3660 - val_loss: 1.8653 - val_mae: 2.3210\n",
            "Epoch 39/200\n",
            "11/11 [==============================] - 1s 54ms/step - loss: 1.9259 - mae: 2.3771 - val_loss: 1.8345 - val_mae: 2.2899\n",
            "Epoch 40/200\n",
            "11/11 [==============================] - 1s 56ms/step - loss: 1.9058 - mae: 2.3596 - val_loss: 1.8250 - val_mae: 2.2819\n",
            "Epoch 41/200\n",
            "11/11 [==============================] - 1s 55ms/step - loss: 1.8995 - mae: 2.3538 - val_loss: 1.8139 - val_mae: 2.2709\n",
            "Epoch 42/200\n",
            "11/11 [==============================] - 1s 55ms/step - loss: 1.8821 - mae: 2.3334 - val_loss: 1.8159 - val_mae: 2.2717\n",
            "Epoch 43/200\n",
            "11/11 [==============================] - 1s 55ms/step - loss: 1.8796 - mae: 2.3314 - val_loss: 1.8297 - val_mae: 2.2858\n",
            "Epoch 44/200\n",
            "11/11 [==============================] - 1s 54ms/step - loss: 1.8793 - mae: 2.3326 - val_loss: 1.8308 - val_mae: 2.2859\n",
            "Epoch 45/200\n",
            "11/11 [==============================] - 1s 55ms/step - loss: 1.8957 - mae: 2.3458 - val_loss: 1.9453 - val_mae: 2.3933\n",
            "Epoch 46/200\n",
            "11/11 [==============================] - 1s 55ms/step - loss: 1.9197 - mae: 2.3737 - val_loss: 1.9829 - val_mae: 2.4401\n",
            "Epoch 47/200\n",
            "11/11 [==============================] - 1s 54ms/step - loss: 1.9492 - mae: 2.4026 - val_loss: 1.8168 - val_mae: 2.2727\n",
            "Epoch 48/200\n",
            "11/11 [==============================] - 1s 56ms/step - loss: 1.8942 - mae: 2.3478 - val_loss: 1.8242 - val_mae: 2.2797\n",
            "Epoch 49/200\n",
            "11/11 [==============================] - 1s 56ms/step - loss: 1.8694 - mae: 2.3211 - val_loss: 1.8098 - val_mae: 2.2674\n",
            "Epoch 50/200\n",
            "11/11 [==============================] - 1s 56ms/step - loss: 1.8943 - mae: 2.3486 - val_loss: 1.8095 - val_mae: 2.2657\n",
            "Epoch 51/200\n",
            "11/11 [==============================] - 1s 57ms/step - loss: 1.8693 - mae: 2.3203 - val_loss: 1.8806 - val_mae: 2.3349\n",
            "Epoch 52/200\n",
            "11/11 [==============================] - 1s 56ms/step - loss: 1.9209 - mae: 2.3758 - val_loss: 1.9498 - val_mae: 2.4079\n",
            "Epoch 53/200\n",
            "11/11 [==============================] - 1s 55ms/step - loss: 1.9021 - mae: 2.3574 - val_loss: 1.8105 - val_mae: 2.2676\n",
            "Epoch 54/200\n",
            "11/11 [==============================] - 1s 56ms/step - loss: 1.8749 - mae: 2.3291 - val_loss: 1.9185 - val_mae: 2.3750\n",
            "Epoch 55/200\n",
            "11/11 [==============================] - 1s 55ms/step - loss: 1.8775 - mae: 2.3281 - val_loss: 1.8470 - val_mae: 2.3008\n",
            "Epoch 56/200\n",
            "11/11 [==============================] - 1s 54ms/step - loss: 1.9039 - mae: 2.3588 - val_loss: 1.8207 - val_mae: 2.2755\n",
            "Epoch 57/200\n",
            "11/11 [==============================] - 1s 58ms/step - loss: 1.8671 - mae: 2.3200 - val_loss: 1.8032 - val_mae: 2.2607\n",
            "Epoch 58/200\n",
            "11/11 [==============================] - 1s 56ms/step - loss: 1.9169 - mae: 2.3712 - val_loss: 1.9207 - val_mae: 2.3691\n",
            "Epoch 59/200\n",
            "11/11 [==============================] - 1s 54ms/step - loss: 1.8929 - mae: 2.3483 - val_loss: 1.9031 - val_mae: 2.3589\n",
            "Epoch 60/200\n",
            "11/11 [==============================] - 1s 55ms/step - loss: 1.8892 - mae: 2.3417 - val_loss: 1.8007 - val_mae: 2.2590\n",
            "Epoch 61/200\n",
            "11/11 [==============================] - 1s 55ms/step - loss: 1.8712 - mae: 2.3248 - val_loss: 1.8138 - val_mae: 2.2683\n",
            "Epoch 62/200\n",
            "11/11 [==============================] - 1s 54ms/step - loss: 1.8679 - mae: 2.3177 - val_loss: 1.8060 - val_mae: 2.2608\n",
            "Epoch 63/200\n",
            "11/11 [==============================] - 1s 56ms/step - loss: 1.8836 - mae: 2.3366 - val_loss: 1.8437 - val_mae: 2.2971\n",
            "Epoch 64/200\n",
            "11/11 [==============================] - 1s 54ms/step - loss: 1.8813 - mae: 2.3315 - val_loss: 1.7974 - val_mae: 2.2545\n",
            "Epoch 65/200\n",
            "11/11 [==============================] - 1s 56ms/step - loss: 1.8725 - mae: 2.3265 - val_loss: 1.8737 - val_mae: 2.3288\n",
            "Epoch 66/200\n",
            "11/11 [==============================] - 1s 56ms/step - loss: 1.8945 - mae: 2.3472 - val_loss: 1.9019 - val_mae: 2.3567\n",
            "Epoch 67/200\n",
            "11/11 [==============================] - 1s 57ms/step - loss: 1.8733 - mae: 2.3256 - val_loss: 1.9226 - val_mae: 2.3756\n",
            "Epoch 68/200\n",
            "11/11 [==============================] - 1s 55ms/step - loss: 1.8941 - mae: 2.3498 - val_loss: 1.7971 - val_mae: 2.2543\n",
            "Epoch 69/200\n",
            "11/11 [==============================] - 1s 55ms/step - loss: 1.8758 - mae: 2.3288 - val_loss: 1.8143 - val_mae: 2.2677\n",
            "Epoch 70/200\n",
            "11/11 [==============================] - 1s 55ms/step - loss: 1.8803 - mae: 2.3330 - val_loss: 1.8929 - val_mae: 2.3476\n",
            "Epoch 71/200\n",
            "11/11 [==============================] - 1s 55ms/step - loss: 1.9126 - mae: 2.3679 - val_loss: 1.8037 - val_mae: 2.2581\n",
            "Epoch 72/200\n",
            "11/11 [==============================] - 1s 56ms/step - loss: 1.8767 - mae: 2.3280 - val_loss: 1.8066 - val_mae: 2.2603\n",
            "Epoch 73/200\n",
            "11/11 [==============================] - 1s 53ms/step - loss: 1.8808 - mae: 2.3358 - val_loss: 2.0467 - val_mae: 2.5007\n",
            "Epoch 74/200\n",
            "11/11 [==============================] - 1s 55ms/step - loss: 1.8885 - mae: 2.3402 - val_loss: 1.7941 - val_mae: 2.2501\n",
            "Epoch 75/200\n",
            "11/11 [==============================] - 1s 54ms/step - loss: 1.8855 - mae: 2.3377 - val_loss: 1.7946 - val_mae: 2.2514\n",
            "Epoch 76/200\n",
            "11/11 [==============================] - 1s 55ms/step - loss: 1.8755 - mae: 2.3271 - val_loss: 1.8875 - val_mae: 2.3412\n",
            "Epoch 77/200\n",
            "11/11 [==============================] - 1s 56ms/step - loss: 1.8755 - mae: 2.3282 - val_loss: 1.8390 - val_mae: 2.2968\n",
            "Epoch 78/200\n",
            "11/11 [==============================] - 1s 55ms/step - loss: 1.8675 - mae: 2.3214 - val_loss: 1.8125 - val_mae: 2.2718\n",
            "Epoch 79/200\n",
            "11/11 [==============================] - 1s 58ms/step - loss: 1.8738 - mae: 2.3250 - val_loss: 1.8828 - val_mae: 2.3377\n",
            "Epoch 80/200\n",
            "11/11 [==============================] - 1s 58ms/step - loss: 1.8863 - mae: 2.3366 - val_loss: 1.9068 - val_mae: 2.3588\n",
            "Epoch 81/200\n",
            "11/11 [==============================] - 1s 56ms/step - loss: 1.8717 - mae: 2.3214 - val_loss: 1.8008 - val_mae: 2.2536\n",
            "Epoch 82/200\n",
            "11/11 [==============================] - 1s 55ms/step - loss: 1.8820 - mae: 2.3362 - val_loss: 1.7897 - val_mae: 2.2458\n",
            "Epoch 83/200\n",
            "11/11 [==============================] - 1s 55ms/step - loss: 1.8742 - mae: 2.3277 - val_loss: 1.8369 - val_mae: 2.2944\n",
            "Epoch 84/200\n",
            "11/11 [==============================] - 1s 55ms/step - loss: 1.8647 - mae: 2.3181 - val_loss: 1.7967 - val_mae: 2.2543\n",
            "Epoch 85/200\n",
            "11/11 [==============================] - 1s 56ms/step - loss: 1.9013 - mae: 2.3539 - val_loss: 1.8113 - val_mae: 2.2629\n",
            "Epoch 86/200\n",
            "11/11 [==============================] - 1s 56ms/step - loss: 1.8519 - mae: 2.3019 - val_loss: 1.7890 - val_mae: 2.2451\n",
            "Epoch 87/200\n",
            "11/11 [==============================] - 1s 56ms/step - loss: 1.8856 - mae: 2.3382 - val_loss: 1.7937 - val_mae: 2.2516\n",
            "Epoch 88/200\n",
            "11/11 [==============================] - 1s 54ms/step - loss: 1.9089 - mae: 2.3595 - val_loss: 1.7893 - val_mae: 2.2443\n",
            "Epoch 89/200\n",
            "11/11 [==============================] - 1s 54ms/step - loss: 1.8645 - mae: 2.3159 - val_loss: 1.8082 - val_mae: 2.2595\n",
            "Epoch 90/200\n",
            "11/11 [==============================] - 1s 56ms/step - loss: 1.8513 - mae: 2.3054 - val_loss: 1.8518 - val_mae: 2.3043\n",
            "Epoch 91/200\n",
            "11/11 [==============================] - 1s 55ms/step - loss: 1.8630 - mae: 2.3143 - val_loss: 1.7904 - val_mae: 2.2443\n",
            "Epoch 92/200\n",
            "11/11 [==============================] - 1s 56ms/step - loss: 1.8580 - mae: 2.3091 - val_loss: 1.7866 - val_mae: 2.2399\n",
            "Epoch 93/200\n",
            "11/11 [==============================] - 1s 55ms/step - loss: 1.8914 - mae: 2.3455 - val_loss: 1.7872 - val_mae: 2.2401\n",
            "Epoch 94/200\n",
            "11/11 [==============================] - 1s 55ms/step - loss: 1.8505 - mae: 2.3038 - val_loss: 1.7928 - val_mae: 2.2442\n",
            "Epoch 95/200\n",
            "11/11 [==============================] - 1s 53ms/step - loss: 1.8542 - mae: 2.3059 - val_loss: 1.8618 - val_mae: 2.3143\n",
            "Epoch 96/200\n",
            "11/11 [==============================] - 1s 56ms/step - loss: 1.8874 - mae: 2.3423 - val_loss: 1.8584 - val_mae: 2.3146\n",
            "Epoch 97/200\n",
            "11/11 [==============================] - 1s 55ms/step - loss: 1.9213 - mae: 2.3720 - val_loss: 1.7821 - val_mae: 2.2395\n",
            "Epoch 98/200\n",
            "11/11 [==============================] - 1s 56ms/step - loss: 1.8527 - mae: 2.3033 - val_loss: 1.7909 - val_mae: 2.2430\n",
            "Epoch 99/200\n",
            "11/11 [==============================] - 1s 56ms/step - loss: 1.8513 - mae: 2.3022 - val_loss: 1.8004 - val_mae: 2.2574\n",
            "Epoch 100/200\n",
            "11/11 [==============================] - 1s 54ms/step - loss: 1.8681 - mae: 2.3204 - val_loss: 1.7865 - val_mae: 2.2430\n",
            "Epoch 101/200\n",
            "11/11 [==============================] - 1s 55ms/step - loss: 1.8556 - mae: 2.3066 - val_loss: 1.7836 - val_mae: 2.2415\n",
            "Epoch 102/200\n",
            "11/11 [==============================] - 1s 56ms/step - loss: 1.8684 - mae: 2.3224 - val_loss: 1.7920 - val_mae: 2.2445\n",
            "Epoch 103/200\n",
            "11/11 [==============================] - 1s 57ms/step - loss: 1.8744 - mae: 2.3258 - val_loss: 1.8054 - val_mae: 2.2575\n",
            "Epoch 104/200\n",
            "11/11 [==============================] - 1s 56ms/step - loss: 1.8508 - mae: 2.3024 - val_loss: 1.7947 - val_mae: 2.2453\n",
            "Epoch 105/200\n",
            "11/11 [==============================] - 1s 55ms/step - loss: 1.8784 - mae: 2.3290 - val_loss: 1.8389 - val_mae: 2.2909\n",
            "Epoch 106/200\n",
            "11/11 [==============================] - 1s 54ms/step - loss: 1.8552 - mae: 2.3069 - val_loss: 1.8564 - val_mae: 2.3092\n",
            "Epoch 107/200\n",
            "11/11 [==============================] - 1s 57ms/step - loss: 1.8714 - mae: 2.3212 - val_loss: 1.7942 - val_mae: 2.2467\n",
            "Epoch 108/200\n",
            "11/11 [==============================] - 1s 55ms/step - loss: 1.8797 - mae: 2.3321 - val_loss: 1.8287 - val_mae: 2.2801\n",
            "Epoch 109/200\n",
            "11/11 [==============================] - 1s 56ms/step - loss: 1.8464 - mae: 2.2949 - val_loss: 1.7991 - val_mae: 2.2521\n",
            "Epoch 110/200\n",
            "11/11 [==============================] - 1s 57ms/step - loss: 1.8588 - mae: 2.3108 - val_loss: 1.7818 - val_mae: 2.2352\n",
            "Epoch 111/200\n",
            "11/11 [==============================] - 1s 55ms/step - loss: 1.8815 - mae: 2.3342 - val_loss: 1.9701 - val_mae: 2.4199\n",
            "Epoch 112/200\n",
            "11/11 [==============================] - 1s 56ms/step - loss: 1.8821 - mae: 2.3354 - val_loss: 1.7914 - val_mae: 2.2485\n",
            "Epoch 113/200\n",
            "11/11 [==============================] - 1s 55ms/step - loss: 1.8440 - mae: 2.2957 - val_loss: 1.7902 - val_mae: 2.2471\n",
            "Epoch 114/200\n",
            "11/11 [==============================] - 1s 56ms/step - loss: 1.8533 - mae: 2.3050 - val_loss: 1.8032 - val_mae: 2.2540\n",
            "Epoch 115/200\n",
            "11/11 [==============================] - 1s 57ms/step - loss: 1.8816 - mae: 2.3348 - val_loss: 1.8240 - val_mae: 2.2801\n",
            "Epoch 116/200\n",
            "11/11 [==============================] - 1s 54ms/step - loss: 1.8546 - mae: 2.3088 - val_loss: 1.7797 - val_mae: 2.2360\n",
            "Epoch 117/200\n",
            "11/11 [==============================] - 1s 57ms/step - loss: 1.8516 - mae: 2.3036 - val_loss: 1.7775 - val_mae: 2.2324\n",
            "Epoch 118/200\n",
            "11/11 [==============================] - 1s 58ms/step - loss: 1.8813 - mae: 2.3375 - val_loss: 1.7787 - val_mae: 2.2316\n",
            "Epoch 119/200\n",
            "11/11 [==============================] - 1s 57ms/step - loss: 1.8531 - mae: 2.3041 - val_loss: 1.8113 - val_mae: 2.2673\n",
            "Epoch 120/200\n",
            "11/11 [==============================] - 1s 55ms/step - loss: 1.8797 - mae: 2.3346 - val_loss: 1.8440 - val_mae: 2.2967\n",
            "Epoch 121/200\n",
            "11/11 [==============================] - 1s 58ms/step - loss: 1.8735 - mae: 2.3244 - val_loss: 1.7752 - val_mae: 2.2308\n",
            "Epoch 122/200\n",
            "11/11 [==============================] - 1s 57ms/step - loss: 1.8589 - mae: 2.3082 - val_loss: 1.7784 - val_mae: 2.2317\n",
            "Epoch 123/200\n",
            "11/11 [==============================] - 1s 55ms/step - loss: 1.8750 - mae: 2.3282 - val_loss: 1.7869 - val_mae: 2.2404\n",
            "Epoch 124/200\n",
            "11/11 [==============================] - 1s 57ms/step - loss: 1.8502 - mae: 2.3012 - val_loss: 1.8447 - val_mae: 2.2990\n",
            "Epoch 125/200\n",
            "11/11 [==============================] - 1s 55ms/step - loss: 1.8974 - mae: 2.3503 - val_loss: 1.7745 - val_mae: 2.2283\n",
            "Epoch 126/200\n",
            "11/11 [==============================] - 1s 57ms/step - loss: 1.8497 - mae: 2.3004 - val_loss: 1.7749 - val_mae: 2.2292\n",
            "Epoch 127/200\n",
            "11/11 [==============================] - 1s 57ms/step - loss: 1.8550 - mae: 2.3064 - val_loss: 1.7878 - val_mae: 2.2394\n",
            "Epoch 128/200\n",
            "11/11 [==============================] - 1s 56ms/step - loss: 1.9007 - mae: 2.3524 - val_loss: 1.7751 - val_mae: 2.2309\n",
            "Epoch 129/200\n",
            "11/11 [==============================] - 1s 55ms/step - loss: 1.8536 - mae: 2.3069 - val_loss: 1.7771 - val_mae: 2.2311\n",
            "Epoch 130/200\n",
            "11/11 [==============================] - 1s 54ms/step - loss: 1.8539 - mae: 2.3068 - val_loss: 1.7852 - val_mae: 2.2420\n",
            "Epoch 131/200\n",
            "11/11 [==============================] - 1s 56ms/step - loss: 1.8527 - mae: 2.3044 - val_loss: 1.8053 - val_mae: 2.2612\n",
            "Epoch 132/200\n",
            "11/11 [==============================] - 1s 57ms/step - loss: 1.8585 - mae: 2.3106 - val_loss: 1.7945 - val_mae: 2.2457\n",
            "Epoch 133/200\n",
            "11/11 [==============================] - 1s 57ms/step - loss: 1.8441 - mae: 2.2949 - val_loss: 1.7778 - val_mae: 2.2339\n",
            "Epoch 134/200\n",
            "11/11 [==============================] - 1s 56ms/step - loss: 1.8485 - mae: 2.3007 - val_loss: 2.0368 - val_mae: 2.4987\n",
            "Epoch 135/200\n",
            "11/11 [==============================] - 1s 55ms/step - loss: 1.8648 - mae: 2.3152 - val_loss: 1.7809 - val_mae: 2.2318\n",
            "Epoch 136/200\n",
            "11/11 [==============================] - 1s 55ms/step - loss: 1.8863 - mae: 2.3392 - val_loss: 1.8208 - val_mae: 2.2711\n",
            "Epoch 137/200\n",
            "11/11 [==============================] - 1s 55ms/step - loss: 1.8432 - mae: 2.2942 - val_loss: 1.7904 - val_mae: 2.2467\n",
            "Epoch 138/200\n",
            "11/11 [==============================] - 1s 56ms/step - loss: 1.8387 - mae: 2.2891 - val_loss: 1.7897 - val_mae: 2.2412\n",
            "Epoch 139/200\n",
            "11/11 [==============================] - 1s 56ms/step - loss: 1.8670 - mae: 2.3199 - val_loss: 1.7711 - val_mae: 2.2270\n",
            "Epoch 140/200\n",
            "11/11 [==============================] - 1s 56ms/step - loss: 1.8539 - mae: 2.3056 - val_loss: 1.7851 - val_mae: 2.2362\n",
            "Epoch 141/200\n",
            "11/11 [==============================] - 1s 55ms/step - loss: 1.8494 - mae: 2.2996 - val_loss: 1.8517 - val_mae: 2.3055\n",
            "Epoch 142/200\n",
            "11/11 [==============================] - 1s 56ms/step - loss: 1.8848 - mae: 2.3389 - val_loss: 1.7721 - val_mae: 2.2285\n",
            "Epoch 143/200\n",
            "11/11 [==============================] - 1s 54ms/step - loss: 1.8409 - mae: 2.2909 - val_loss: 1.7708 - val_mae: 2.2247\n",
            "Epoch 144/200\n",
            "11/11 [==============================] - 1s 55ms/step - loss: 1.8458 - mae: 2.2957 - val_loss: 1.7861 - val_mae: 2.2370\n",
            "Epoch 145/200\n",
            "11/11 [==============================] - 1s 56ms/step - loss: 1.8814 - mae: 2.3360 - val_loss: 1.7748 - val_mae: 2.2312\n",
            "Epoch 146/200\n",
            "11/11 [==============================] - 1s 56ms/step - loss: 1.8567 - mae: 2.3076 - val_loss: 1.7858 - val_mae: 2.2380\n",
            "Epoch 147/200\n",
            "11/11 [==============================] - 1s 54ms/step - loss: 1.8490 - mae: 2.2997 - val_loss: 1.7720 - val_mae: 2.2276\n",
            "Epoch 148/200\n",
            "11/11 [==============================] - 1s 55ms/step - loss: 1.8628 - mae: 2.3151 - val_loss: 1.7719 - val_mae: 2.2277\n",
            "Epoch 149/200\n",
            "11/11 [==============================] - 1s 55ms/step - loss: 1.8527 - mae: 2.3047 - val_loss: 1.7755 - val_mae: 2.2323\n",
            "Epoch 150/200\n",
            "11/11 [==============================] - 1s 55ms/step - loss: 1.8465 - mae: 2.2990 - val_loss: 1.7749 - val_mae: 2.2308\n",
            "Epoch 151/200\n",
            "11/11 [==============================] - 1s 56ms/step - loss: 1.8491 - mae: 2.2987 - val_loss: 1.8545 - val_mae: 2.3050\n",
            "Epoch 152/200\n",
            "11/11 [==============================] - 1s 54ms/step - loss: 1.8556 - mae: 2.3086 - val_loss: 1.8059 - val_mae: 2.2581\n",
            "Epoch 153/200\n",
            "11/11 [==============================] - 1s 56ms/step - loss: 1.8504 - mae: 2.3033 - val_loss: 1.7821 - val_mae: 2.2338\n",
            "Epoch 154/200\n",
            "11/11 [==============================] - 1s 55ms/step - loss: 1.8685 - mae: 2.3226 - val_loss: 1.8591 - val_mae: 2.3136\n",
            "Epoch 155/200\n",
            "11/11 [==============================] - 1s 55ms/step - loss: 1.8726 - mae: 2.3246 - val_loss: 1.8887 - val_mae: 2.3409\n",
            "Epoch 156/200\n",
            "11/11 [==============================] - 1s 53ms/step - loss: 1.8609 - mae: 2.3117 - val_loss: 1.7769 - val_mae: 2.2332\n",
            "Epoch 157/200\n",
            "11/11 [==============================] - 1s 54ms/step - loss: 1.8485 - mae: 2.3003 - val_loss: 1.8770 - val_mae: 2.3317\n",
            "Epoch 158/200\n",
            "11/11 [==============================] - 1s 53ms/step - loss: 1.8558 - mae: 2.3079 - val_loss: 1.7747 - val_mae: 2.2296\n",
            "Epoch 159/200\n",
            "11/11 [==============================] - 1s 56ms/step - loss: 1.8419 - mae: 2.2936 - val_loss: 1.7759 - val_mae: 2.2301\n",
            "Epoch 160/200\n",
            "11/11 [==============================] - 1s 57ms/step - loss: 1.8555 - mae: 2.3083 - val_loss: 1.7723 - val_mae: 2.2258\n",
            "Epoch 161/200\n",
            "11/11 [==============================] - 1s 56ms/step - loss: 1.8406 - mae: 2.2939 - val_loss: 1.7955 - val_mae: 2.2460\n",
            "Epoch 162/200\n",
            "11/11 [==============================] - 1s 57ms/step - loss: 1.8437 - mae: 2.2942 - val_loss: 1.7676 - val_mae: 2.2212\n",
            "Epoch 163/200\n",
            "11/11 [==============================] - 1s 56ms/step - loss: 1.8516 - mae: 2.3065 - val_loss: 1.7701 - val_mae: 2.2242\n",
            "Epoch 164/200\n",
            "11/11 [==============================] - 1s 56ms/step - loss: 1.8410 - mae: 2.2924 - val_loss: 1.8043 - val_mae: 2.2547\n",
            "Epoch 165/200\n",
            "11/11 [==============================] - 1s 56ms/step - loss: 1.8534 - mae: 2.3053 - val_loss: 1.8359 - val_mae: 2.2876\n",
            "Epoch 166/200\n",
            "11/11 [==============================] - 1s 55ms/step - loss: 1.8558 - mae: 2.3076 - val_loss: 1.8294 - val_mae: 2.2820\n",
            "Epoch 167/200\n",
            "11/11 [==============================] - 1s 55ms/step - loss: 1.8462 - mae: 2.2952 - val_loss: 1.7681 - val_mae: 2.2213\n",
            "Epoch 168/200\n",
            "11/11 [==============================] - 1s 55ms/step - loss: 1.8486 - mae: 2.3017 - val_loss: 1.8336 - val_mae: 2.2870\n",
            "Epoch 169/200\n",
            "11/11 [==============================] - 1s 55ms/step - loss: 1.8426 - mae: 2.2947 - val_loss: 1.7746 - val_mae: 2.2291\n",
            "Epoch 170/200\n",
            "11/11 [==============================] - 1s 56ms/step - loss: 1.8440 - mae: 2.2949 - val_loss: 1.7991 - val_mae: 2.2536\n",
            "Epoch 171/200\n",
            "11/11 [==============================] - 1s 58ms/step - loss: 1.8561 - mae: 2.3110 - val_loss: 1.8217 - val_mae: 2.2737\n",
            "Epoch 172/200\n",
            "11/11 [==============================] - 1s 55ms/step - loss: 1.8711 - mae: 2.3233 - val_loss: 1.7862 - val_mae: 2.2383\n",
            "Epoch 173/200\n",
            "11/11 [==============================] - 1s 56ms/step - loss: 1.8764 - mae: 2.3278 - val_loss: 1.7668 - val_mae: 2.2210\n",
            "Epoch 174/200\n",
            "11/11 [==============================] - 1s 56ms/step - loss: 1.8430 - mae: 2.2936 - val_loss: 1.7769 - val_mae: 2.2293\n",
            "Epoch 175/200\n",
            "11/11 [==============================] - 1s 54ms/step - loss: 1.8339 - mae: 2.2845 - val_loss: 1.8147 - val_mae: 2.2688\n",
            "Epoch 176/200\n",
            "11/11 [==============================] - 1s 56ms/step - loss: 1.8392 - mae: 2.2899 - val_loss: 1.7953 - val_mae: 2.2511\n",
            "Epoch 177/200\n",
            "11/11 [==============================] - 1s 55ms/step - loss: 1.8742 - mae: 2.3269 - val_loss: 1.7980 - val_mae: 2.2521\n",
            "Epoch 178/200\n",
            "11/11 [==============================] - 1s 54ms/step - loss: 1.8571 - mae: 2.3077 - val_loss: 1.7711 - val_mae: 2.2255\n",
            "Epoch 179/200\n",
            "11/11 [==============================] - 1s 55ms/step - loss: 1.8368 - mae: 2.2895 - val_loss: 1.7953 - val_mae: 2.2505\n",
            "Epoch 180/200\n",
            "11/11 [==============================] - 1s 57ms/step - loss: 1.8544 - mae: 2.3078 - val_loss: 1.8081 - val_mae: 2.2598\n",
            "Epoch 181/200\n",
            "11/11 [==============================] - 1s 56ms/step - loss: 1.8594 - mae: 2.3107 - val_loss: 1.7927 - val_mae: 2.2480\n",
            "Epoch 182/200\n",
            "11/11 [==============================] - 1s 56ms/step - loss: 1.8539 - mae: 2.3047 - val_loss: 1.7729 - val_mae: 2.2254\n",
            "Epoch 183/200\n",
            "11/11 [==============================] - 1s 56ms/step - loss: 1.8325 - mae: 2.2823 - val_loss: 1.7662 - val_mae: 2.2199\n",
            "Epoch 184/200\n",
            "11/11 [==============================] - 1s 56ms/step - loss: 1.8368 - mae: 2.2871 - val_loss: 1.7665 - val_mae: 2.2204\n",
            "Epoch 185/200\n",
            "11/11 [==============================] - 1s 55ms/step - loss: 1.8373 - mae: 2.2893 - val_loss: 1.7947 - val_mae: 2.2425\n",
            "Epoch 186/200\n",
            "11/11 [==============================] - 1s 56ms/step - loss: 1.8695 - mae: 2.3213 - val_loss: 1.8127 - val_mae: 2.2687\n",
            "Epoch 187/200\n",
            "11/11 [==============================] - 1s 55ms/step - loss: 1.8638 - mae: 2.3150 - val_loss: 1.7703 - val_mae: 2.2254\n",
            "Epoch 188/200\n",
            "11/11 [==============================] - 1s 54ms/step - loss: 1.8447 - mae: 2.2965 - val_loss: 1.7766 - val_mae: 2.2323\n",
            "Epoch 189/200\n",
            "11/11 [==============================] - 1s 57ms/step - loss: 1.8563 - mae: 2.3105 - val_loss: 1.7661 - val_mae: 2.2185\n",
            "Epoch 190/200\n",
            "11/11 [==============================] - 1s 55ms/step - loss: 1.8422 - mae: 2.2939 - val_loss: 1.7713 - val_mae: 2.2232\n",
            "Epoch 191/200\n",
            "11/11 [==============================] - 1s 56ms/step - loss: 1.8490 - mae: 2.3014 - val_loss: 1.7892 - val_mae: 2.2443\n",
            "Epoch 192/200\n",
            "11/11 [==============================] - 1s 55ms/step - loss: 1.8374 - mae: 2.2885 - val_loss: 1.7802 - val_mae: 2.2350\n",
            "Epoch 193/200\n",
            "11/11 [==============================] - 1s 56ms/step - loss: 1.8492 - mae: 2.3004 - val_loss: 1.7921 - val_mae: 2.2433\n",
            "Epoch 194/200\n",
            "11/11 [==============================] - 1s 56ms/step - loss: 1.8405 - mae: 2.2908 - val_loss: 1.7719 - val_mae: 2.2261\n",
            "Epoch 195/200\n",
            "11/11 [==============================] - 1s 54ms/step - loss: 1.8541 - mae: 2.3072 - val_loss: 1.7686 - val_mae: 2.2228\n",
            "Epoch 196/200\n",
            "11/11 [==============================] - 1s 55ms/step - loss: 1.8322 - mae: 2.2825 - val_loss: 1.7938 - val_mae: 2.2445\n",
            "Epoch 197/200\n",
            "11/11 [==============================] - 1s 53ms/step - loss: 1.8499 - mae: 2.2999 - val_loss: 1.8017 - val_mae: 2.2511\n",
            "Epoch 198/200\n",
            "11/11 [==============================] - 1s 55ms/step - loss: 1.8459 - mae: 2.2964 - val_loss: 1.7777 - val_mae: 2.2330\n",
            "Epoch 199/200\n",
            "11/11 [==============================] - 1s 55ms/step - loss: 1.8320 - mae: 2.2832 - val_loss: 1.7732 - val_mae: 2.2263\n",
            "Epoch 200/200\n",
            "11/11 [==============================] - 1s 59ms/step - loss: 1.8596 - mae: 2.3124 - val_loss: 1.8079 - val_mae: 2.2615\n"
          ],
          "name": "stdout"
        }
      ]
    },
    {
      "cell_type": "code",
      "metadata": {
        "id": "kmqJAlNdTPvh",
        "colab_type": "code",
        "outputId": "1b590aa0-a4be-42b1-ea0d-4d0e7aad7ab7",
        "colab": {
          "base_uri": "https://localhost:8080/",
          "height": 54
        }
      },
      "source": [
        "model1.evaluate(X_valid_3D, y_valid)"
      ],
      "execution_count": 58,
      "outputs": [
        {
          "output_type": "stream",
          "text": [
            "23/23 [==============================] - 0s 7ms/step - loss: 1.8079 - mae: 2.2615\n"
          ],
          "name": "stdout"
        },
        {
          "output_type": "execute_result",
          "data": {
            "text/plain": [
              "[1.8079193830490112, 2.2615160942077637]"
            ]
          },
          "metadata": {
            "tags": []
          },
          "execution_count": 58
        }
      ]
    },
    {
      "cell_type": "markdown",
      "metadata": {
        "id": "dywKR3NbTPvi",
        "colab_type": "text"
      },
      "source": [
        "## 1.10) Plot the predictions"
      ]
    },
    {
      "cell_type": "code",
      "metadata": {
        "id": "yH68QCUvTPvj",
        "colab_type": "code",
        "colab": {}
      },
      "source": [
        "y_pred_rnn1 = model1.predict(X_valid_3D)"
      ],
      "execution_count": 0,
      "outputs": []
    },
    {
      "cell_type": "code",
      "metadata": {
        "scrolled": true,
        "id": "SisCN0JNTPvk",
        "colab_type": "code",
        "outputId": "e9b9e464-5c70-4740-bc61-54d85e1b0e4d",
        "colab": {
          "base_uri": "https://localhost:8080/",
          "height": 321
        }
      },
      "source": [
        "plot_predictions((\"Target\", y_valid),\n",
        "                 (\"Linear\", y_pred_linear),\n",
        "                 (\"RNN\", y_pred_rnn1),\n",
        "                 end=365)"
      ],
      "execution_count": 60,
      "outputs": [
        {
          "output_type": "display_data",
          "data": {
            "image/png": "[encoded data removed]",
            "text/plain": [
              "<Figure size 720x360 with 1 Axes>"
            ]
          },
          "metadata": {
            "tags": [],
            "needs_background": "light"
          }
        }
      ]
    },
    {
      "cell_type": "markdown",
      "metadata": {
        "id": "BkL-KYOuTPvl",
        "colab_type": "text"
      },
      "source": [
        "# Exercise 2 – Forecasting the shifted sequence (Seq2Seq)"
      ]
    },
    {
      "cell_type": "markdown",
      "metadata": {
        "id": "leUlbh90TPvm",
        "colab_type": "text"
      },
      "source": [
        "Now let's predict temperatures for 30 days (from t-24 to t+5) instead of just one."
      ]
    },
    {
      "cell_type": "markdown",
      "metadata": {
        "id": "zs0sW29ITPvm",
        "colab_type": "text"
      },
      "source": [
        "## 2.1) Define the 3D targets for training, validation and testing"
      ]
    },
    {
      "cell_type": "code",
      "metadata": {
        "id": "9N38S-FvTPvn",
        "colab_type": "code",
        "colab": {}
      },
      "source": [
        "#Y_train_3D = ...\n",
        "#Y_valid_3D = ...\n",
        "#Y_test_3D = ..."
      ],
      "execution_count": 0,
      "outputs": []
    },
    {
      "cell_type": "code",
      "metadata": {
        "id": "TsT_e8bETPvo",
        "colab_type": "code",
        "colab": {}
      },
      "source": [
        ""
      ],
      "execution_count": 0,
      "outputs": []
    },
    {
      "cell_type": "code",
      "metadata": {
        "id": "XvEkM_s8TPvp",
        "colab_type": "code",
        "colab": {}
      },
      "source": [
        ""
      ],
      "execution_count": 0,
      "outputs": []
    },
    {
      "cell_type": "code",
      "metadata": {
        "id": "10I2PHh5TPvq",
        "colab_type": "code",
        "colab": {}
      },
      "source": [
        ""
      ],
      "execution_count": 0,
      "outputs": []
    },
    {
      "cell_type": "markdown",
      "metadata": {
        "id": "s7IwgCHgTPvr",
        "colab_type": "text"
      },
      "source": [
        "## 2.2) Define an `mae_last_step()` function"
      ]
    },
    {
      "cell_type": "markdown",
      "metadata": {
        "id": "O4V1l2mdTPvr",
        "colab_type": "text"
      },
      "source": [
        "For the final evaluation, we only want to look at the final time step (t+5). Create an `mae_last_step()` function that computes the MAE based on the final time step."
      ]
    },
    {
      "cell_type": "code",
      "metadata": {
        "id": "oXtqd0jiTPvs",
        "colab_type": "code",
        "colab": {}
      },
      "source": [
        ""
      ],
      "execution_count": 0,
      "outputs": []
    },
    {
      "cell_type": "code",
      "metadata": {
        "id": "EnDgcjz-TPvv",
        "colab_type": "code",
        "colab": {}
      },
      "source": [
        ""
      ],
      "execution_count": 0,
      "outputs": []
    },
    {
      "cell_type": "code",
      "metadata": {
        "id": "B8GsflgcTPvw",
        "colab_type": "code",
        "colab": {}
      },
      "source": [
        ""
      ],
      "execution_count": 0,
      "outputs": []
    },
    {
      "cell_type": "markdown",
      "metadata": {
        "id": "XGG0YVT1TPvy",
        "colab_type": "text"
      },
      "source": [
        "## 2.3) Build a Seq2Seq model"
      ]
    },
    {
      "cell_type": "markdown",
      "metadata": {
        "id": "g3Twc0H0TPvz",
        "colab_type": "text"
      },
      "source": [
        "Build a Seq2Seq model and compile it, using the Huber Loss, and using the last step MAE as the metric. Use SGD with a learning rate of 0.01. Hint: the layers are the same as earlier, except that the last RNN layer has `return_sequences=False`, and the `Dense` layer must be wrapped in a `keras.layers.TimeDistributed` layer."
      ]
    },
    {
      "cell_type": "code",
      "metadata": {
        "id": "eIHi6F-rTPvz",
        "colab_type": "code",
        "colab": {}
      },
      "source": [
        ""
      ],
      "execution_count": 0,
      "outputs": []
    },
    {
      "cell_type": "code",
      "metadata": {
        "id": "V0FP8YuPTPv0",
        "colab_type": "code",
        "colab": {}
      },
      "source": [
        ""
      ],
      "execution_count": 0,
      "outputs": []
    },
    {
      "cell_type": "code",
      "metadata": {
        "id": "ULnG_MVUTPv2",
        "colab_type": "code",
        "colab": {}
      },
      "source": [
        ""
      ],
      "execution_count": 0,
      "outputs": []
    },
    {
      "cell_type": "markdown",
      "metadata": {
        "id": "v7PZf7xzTPv3",
        "colab_type": "text"
      },
      "source": [
        "## 2.4) Train the model"
      ]
    },
    {
      "cell_type": "markdown",
      "metadata": {
        "id": "ZqhjBpT4TPv3",
        "colab_type": "text"
      },
      "source": [
        "Fit the model as earlier (but with the 3D targets). Again, evaluate the model and plot the predictions."
      ]
    },
    {
      "cell_type": "code",
      "metadata": {
        "id": "CFk4FMzwTPv3",
        "colab_type": "code",
        "colab": {}
      },
      "source": [
        ""
      ],
      "execution_count": 0,
      "outputs": []
    },
    {
      "cell_type": "code",
      "metadata": {
        "id": "M-IMWWv0TPv4",
        "colab_type": "code",
        "colab": {}
      },
      "source": [
        ""
      ],
      "execution_count": 0,
      "outputs": []
    },
    {
      "cell_type": "code",
      "metadata": {
        "id": "TQVAy1-oTPv6",
        "colab_type": "code",
        "colab": {}
      },
      "source": [
        ""
      ],
      "execution_count": 0,
      "outputs": []
    },
    {
      "cell_type": "markdown",
      "metadata": {
        "id": "zBUX9hjzTPv9",
        "colab_type": "text"
      },
      "source": [
        "# Exercise 2 – Solution"
      ]
    },
    {
      "cell_type": "markdown",
      "metadata": {
        "id": "uL434nC-TPv9",
        "colab_type": "text"
      },
      "source": [
        "## 2.1) Define the 3D targets for training, validation and testing"
      ]
    },
    {
      "cell_type": "code",
      "metadata": {
        "id": "NtMtZxCdTPv9",
        "colab_type": "code",
        "colab": {}
      },
      "source": [
        "Y = add_lags(temps, times=range(-24, 5+1)).iloc[30:-5]\n",
        "Y_train = Y.loc[train_slice]\n",
        "Y_valid = Y.loc[valid_slice]\n",
        "Y_test = Y.loc[test_slice]\n",
        "Y_train_3D = multilevel_df_to_ndarray(Y_train)\n",
        "Y_valid_3D = multilevel_df_to_ndarray(Y_valid)\n",
        "Y_test_3D = multilevel_df_to_ndarray(Y_test)"
      ],
      "execution_count": 0,
      "outputs": []
    },
    {
      "cell_type": "markdown",
      "metadata": {
        "id": "MKtxAdJVTPv_",
        "colab_type": "text"
      },
      "source": [
        "## 2.2) Define an `mae_last_step()` function"
      ]
    },
    {
      "cell_type": "markdown",
      "metadata": {
        "id": "hPnKQMR9TPv_",
        "colab_type": "text"
      },
      "source": [
        "For the final evaluation, we only want to look at the final time step (t+5):"
      ]
    },
    {
      "cell_type": "code",
      "metadata": {
        "id": "3cA94L6bTPv_",
        "colab_type": "code",
        "colab": {}
      },
      "source": [
        "K = keras.backend\n",
        "\n",
        "def mae_last_step(Y_true, Y_pred):\n",
        "    return K.mean(K.abs(Y_pred[:, -1] - Y_true[:, -1]))"
      ],
      "execution_count": 0,
      "outputs": []
    },
    {
      "cell_type": "markdown",
      "metadata": {
        "id": "fraWU6U6TPwB",
        "colab_type": "text"
      },
      "source": [
        "## 2.3) Build a Seq2Seq model"
      ]
    },
    {
      "cell_type": "code",
      "metadata": {
        "id": "aP0n6v_JTPwB",
        "colab_type": "code",
        "colab": {}
      },
      "source": [
        "model2 = keras.models.Sequential()\n",
        "model2.add(keras.layers.SimpleRNN(100, return_sequences=True, input_shape=input_shape))\n",
        "model2.add(keras.layers.SimpleRNN(100, return_sequences=True))\n",
        "model2.add(keras.layers.TimeDistributed(keras.layers.Dense(1)))\n",
        "model2.compile(loss=huber_loss, optimizer=keras.optimizers.SGD(lr=0.01),\n",
        "               metrics=[mae_last_step])"
      ],
      "execution_count": 0,
      "outputs": []
    },
    {
      "cell_type": "markdown",
      "metadata": {
        "id": "atNLUEHoTPwC",
        "colab_type": "text"
      },
      "source": [
        "## 2.4) Train the model"
      ]
    },
    {
      "cell_type": "code",
      "metadata": {
        "id": "wy-40LEnTPwE",
        "colab_type": "code",
        "outputId": "e6761fe7-efdb-4078-b7a1-a33316219a8f",
        "colab": {
          "base_uri": "https://localhost:8080/",
          "height": 1000
        }
      },
      "source": [
        "history2 = model2.fit(X_train_3D, Y_train_3D, epochs=200, batch_size=200,\n",
        "                      validation_data=(X_valid_3D, Y_valid_3D))"
      ],
      "execution_count": 65,
      "outputs": [
        {
          "output_type": "stream",
          "text": [
            "Epoch 1/200\n",
            "11/11 [==============================] - 1s 81ms/step - loss: 5.4474 - mae_last_step: 5.8014 - val_loss: 2.7109 - val_mae_last_step: 3.1408\n",
            "Epoch 2/200\n",
            "11/11 [==============================] - 1s 58ms/step - loss: 2.7132 - mae_last_step: 3.0795 - val_loss: 2.3603 - val_mae_last_step: 2.7948\n",
            "Epoch 3/200\n",
            "11/11 [==============================] - 1s 60ms/step - loss: 2.5378 - mae_last_step: 2.9176 - val_loss: 2.2504 - val_mae_last_step: 2.7037\n",
            "Epoch 4/200\n",
            "11/11 [==============================] - 1s 57ms/step - loss: 2.3761 - mae_last_step: 2.7585 - val_loss: 2.0985 - val_mae_last_step: 2.5415\n",
            "Epoch 5/200\n",
            "11/11 [==============================] - 1s 59ms/step - loss: 2.2491 - mae_last_step: 2.6249 - val_loss: 2.0182 - val_mae_last_step: 2.4507\n",
            "Epoch 6/200\n",
            "11/11 [==============================] - 1s 60ms/step - loss: 2.2431 - mae_last_step: 2.6483 - val_loss: 2.0348 - val_mae_last_step: 2.4526\n",
            "Epoch 7/200\n",
            "11/11 [==============================] - 1s 57ms/step - loss: 2.1881 - mae_last_step: 2.5642 - val_loss: 2.0293 - val_mae_last_step: 2.4908\n",
            "Epoch 8/200\n",
            "11/11 [==============================] - 1s 60ms/step - loss: 2.2035 - mae_last_step: 2.5776 - val_loss: 2.0698 - val_mae_last_step: 2.4851\n",
            "Epoch 9/200\n",
            "11/11 [==============================] - 1s 60ms/step - loss: 2.1832 - mae_last_step: 2.5661 - val_loss: 2.0140 - val_mae_last_step: 2.4794\n",
            "Epoch 10/200\n",
            "11/11 [==============================] - 1s 59ms/step - loss: 2.1159 - mae_last_step: 2.4970 - val_loss: 1.9306 - val_mae_last_step: 2.3675\n",
            "Epoch 11/200\n",
            "11/11 [==============================] - 1s 59ms/step - loss: 2.1201 - mae_last_step: 2.4952 - val_loss: 1.9806 - val_mae_last_step: 2.4422\n",
            "Epoch 12/200\n",
            "11/11 [==============================] - 1s 57ms/step - loss: 2.0856 - mae_last_step: 2.4520 - val_loss: 1.9429 - val_mae_last_step: 2.3660\n",
            "Epoch 13/200\n",
            "11/11 [==============================] - 1s 57ms/step - loss: 2.0621 - mae_last_step: 2.4414 - val_loss: 1.9764 - val_mae_last_step: 2.4417\n",
            "Epoch 14/200\n",
            "11/11 [==============================] - 1s 57ms/step - loss: 2.0388 - mae_last_step: 2.4331 - val_loss: 1.9542 - val_mae_last_step: 2.3756\n",
            "Epoch 15/200\n",
            "11/11 [==============================] - 1s 58ms/step - loss: 2.0782 - mae_last_step: 2.4320 - val_loss: 1.9489 - val_mae_last_step: 2.4105\n",
            "Epoch 16/200\n",
            "11/11 [==============================] - 1s 59ms/step - loss: 2.0030 - mae_last_step: 2.3970 - val_loss: 1.8924 - val_mae_last_step: 2.3378\n",
            "Epoch 17/200\n",
            "11/11 [==============================] - 1s 60ms/step - loss: 1.9898 - mae_last_step: 2.3677 - val_loss: 1.9552 - val_mae_last_step: 2.4207\n",
            "Epoch 18/200\n",
            "11/11 [==============================] - 1s 56ms/step - loss: 2.0978 - mae_last_step: 2.4764 - val_loss: 1.9992 - val_mae_last_step: 2.4271\n",
            "Epoch 19/200\n",
            "11/11 [==============================] - 1s 58ms/step - loss: 2.0239 - mae_last_step: 2.4162 - val_loss: 1.9696 - val_mae_last_step: 2.4413\n",
            "Epoch 20/200\n",
            "11/11 [==============================] - 1s 59ms/step - loss: 1.9946 - mae_last_step: 2.3545 - val_loss: 1.8925 - val_mae_last_step: 2.3496\n",
            "Epoch 21/200\n",
            "11/11 [==============================] - 1s 58ms/step - loss: 1.9746 - mae_last_step: 2.3803 - val_loss: 1.9549 - val_mae_last_step: 2.3843\n",
            "Epoch 22/200\n",
            "11/11 [==============================] - 1s 57ms/step - loss: 2.0017 - mae_last_step: 2.4061 - val_loss: 1.9651 - val_mae_last_step: 2.4362\n",
            "Epoch 23/200\n",
            "11/11 [==============================] - 1s 57ms/step - loss: 2.0278 - mae_last_step: 2.4298 - val_loss: 1.9292 - val_mae_last_step: 2.3624\n",
            "Epoch 24/200\n",
            "11/11 [==============================] - 1s 57ms/step - loss: 1.9874 - mae_last_step: 2.3843 - val_loss: 1.8789 - val_mae_last_step: 2.3366\n",
            "Epoch 25/200\n",
            "11/11 [==============================] - 1s 56ms/step - loss: 1.9622 - mae_last_step: 2.3485 - val_loss: 1.9685 - val_mae_last_step: 2.4384\n",
            "Epoch 26/200\n",
            "11/11 [==============================] - 1s 59ms/step - loss: 2.0358 - mae_last_step: 2.4338 - val_loss: 1.9076 - val_mae_last_step: 2.3466\n",
            "Epoch 27/200\n",
            "11/11 [==============================] - 1s 58ms/step - loss: 1.9841 - mae_last_step: 2.3937 - val_loss: 1.8933 - val_mae_last_step: 2.3518\n",
            "Epoch 28/200\n",
            "11/11 [==============================] - 1s 57ms/step - loss: 1.9678 - mae_last_step: 2.3684 - val_loss: 1.8675 - val_mae_last_step: 2.3216\n",
            "Epoch 29/200\n",
            "11/11 [==============================] - 1s 57ms/step - loss: 1.9628 - mae_last_step: 2.3541 - val_loss: 2.0068 - val_mae_last_step: 2.4856\n",
            "Epoch 30/200\n",
            "11/11 [==============================] - 1s 57ms/step - loss: 2.0178 - mae_last_step: 2.4476 - val_loss: 1.8926 - val_mae_last_step: 2.3364\n",
            "Epoch 31/200\n",
            "11/11 [==============================] - 1s 57ms/step - loss: 1.9643 - mae_last_step: 2.3570 - val_loss: 1.8712 - val_mae_last_step: 2.3300\n",
            "Epoch 32/200\n",
            "11/11 [==============================] - 1s 59ms/step - loss: 1.9496 - mae_last_step: 2.3388 - val_loss: 1.8937 - val_mae_last_step: 2.3494\n",
            "Epoch 33/200\n",
            "11/11 [==============================] - 1s 57ms/step - loss: 1.9750 - mae_last_step: 2.3461 - val_loss: 1.8616 - val_mae_last_step: 2.3180\n",
            "Epoch 34/200\n",
            "11/11 [==============================] - 1s 57ms/step - loss: 1.9467 - mae_last_step: 2.3393 - val_loss: 1.9330 - val_mae_last_step: 2.3945\n",
            "Epoch 35/200\n",
            "11/11 [==============================] - 1s 61ms/step - loss: 1.9855 - mae_last_step: 2.3839 - val_loss: 1.9112 - val_mae_last_step: 2.3546\n",
            "Epoch 36/200\n",
            "11/11 [==============================] - 1s 59ms/step - loss: 1.9533 - mae_last_step: 2.3513 - val_loss: 1.8642 - val_mae_last_step: 2.3214\n",
            "Epoch 37/200\n",
            "11/11 [==============================] - 1s 59ms/step - loss: 1.9604 - mae_last_step: 2.3550 - val_loss: 1.9670 - val_mae_last_step: 2.4102\n",
            "Epoch 38/200\n",
            "11/11 [==============================] - 1s 59ms/step - loss: 1.9825 - mae_last_step: 2.3810 - val_loss: 1.8555 - val_mae_last_step: 2.3118\n",
            "Epoch 39/200\n",
            "11/11 [==============================] - 1s 59ms/step - loss: 1.9652 - mae_last_step: 2.3644 - val_loss: 1.9861 - val_mae_last_step: 2.4601\n",
            "Epoch 40/200\n",
            "11/11 [==============================] - 1s 58ms/step - loss: 1.9732 - mae_last_step: 2.3685 - val_loss: 1.8786 - val_mae_last_step: 2.3262\n",
            "Epoch 41/200\n",
            "11/11 [==============================] - 1s 59ms/step - loss: 1.9405 - mae_last_step: 2.3369 - val_loss: 1.8597 - val_mae_last_step: 2.3169\n",
            "Epoch 42/200\n",
            "11/11 [==============================] - 1s 58ms/step - loss: 1.9655 - mae_last_step: 2.3553 - val_loss: 1.8646 - val_mae_last_step: 2.3153\n",
            "Epoch 43/200\n",
            "11/11 [==============================] - 1s 59ms/step - loss: 1.9557 - mae_last_step: 2.3388 - val_loss: 1.8625 - val_mae_last_step: 2.3211\n",
            "Epoch 44/200\n",
            "11/11 [==============================] - 1s 58ms/step - loss: 1.9467 - mae_last_step: 2.3475 - val_loss: 1.8616 - val_mae_last_step: 2.3146\n",
            "Epoch 45/200\n",
            "11/11 [==============================] - 1s 58ms/step - loss: 1.9356 - mae_last_step: 2.3340 - val_loss: 1.8668 - val_mae_last_step: 2.3217\n",
            "Epoch 46/200\n",
            "11/11 [==============================] - 1s 59ms/step - loss: 1.9407 - mae_last_step: 2.3276 - val_loss: 1.8701 - val_mae_last_step: 2.3206\n",
            "Epoch 47/200\n",
            "11/11 [==============================] - 1s 56ms/step - loss: 2.0004 - mae_last_step: 2.3966 - val_loss: 1.9601 - val_mae_last_step: 2.4270\n",
            "Epoch 48/200\n",
            "11/11 [==============================] - 1s 58ms/step - loss: 1.9702 - mae_last_step: 2.3521 - val_loss: 1.8491 - val_mae_last_step: 2.3045\n",
            "Epoch 49/200\n",
            "11/11 [==============================] - 1s 57ms/step - loss: 1.9287 - mae_last_step: 2.3236 - val_loss: 1.8494 - val_mae_last_step: 2.3041\n",
            "Epoch 50/200\n",
            "11/11 [==============================] - 1s 55ms/step - loss: 1.9290 - mae_last_step: 2.3269 - val_loss: 1.8468 - val_mae_last_step: 2.3008\n",
            "Epoch 51/200\n",
            "11/11 [==============================] - 1s 56ms/step - loss: 1.9247 - mae_last_step: 2.3310 - val_loss: 1.8504 - val_mae_last_step: 2.3042\n",
            "Epoch 52/200\n",
            "11/11 [==============================] - 1s 56ms/step - loss: 1.9445 - mae_last_step: 2.3454 - val_loss: 1.9389 - val_mae_last_step: 2.3969\n",
            "Epoch 53/200\n",
            "11/11 [==============================] - 1s 56ms/step - loss: 1.9994 - mae_last_step: 2.4019 - val_loss: 1.9298 - val_mae_last_step: 2.3753\n",
            "Epoch 54/200\n",
            "11/11 [==============================] - 1s 59ms/step - loss: 1.9791 - mae_last_step: 2.3933 - val_loss: 1.8573 - val_mae_last_step: 2.3123\n",
            "Epoch 55/200\n",
            "11/11 [==============================] - 1s 56ms/step - loss: 1.9241 - mae_last_step: 2.3236 - val_loss: 1.8484 - val_mae_last_step: 2.3021\n",
            "Epoch 56/200\n",
            "11/11 [==============================] - 1s 54ms/step - loss: 1.9771 - mae_last_step: 2.3750 - val_loss: 1.9010 - val_mae_last_step: 2.3544\n",
            "Epoch 57/200\n",
            "11/11 [==============================] - 1s 58ms/step - loss: 1.9286 - mae_last_step: 2.3262 - val_loss: 1.8464 - val_mae_last_step: 2.3005\n",
            "Epoch 58/200\n",
            "11/11 [==============================] - 1s 58ms/step - loss: 1.9254 - mae_last_step: 2.3270 - val_loss: 1.8593 - val_mae_last_step: 2.3134\n",
            "Epoch 59/200\n",
            "11/11 [==============================] - 1s 56ms/step - loss: 1.9494 - mae_last_step: 2.3542 - val_loss: 1.8437 - val_mae_last_step: 2.2978\n",
            "Epoch 60/200\n",
            "11/11 [==============================] - 1s 57ms/step - loss: 1.9234 - mae_last_step: 2.3239 - val_loss: 1.8752 - val_mae_last_step: 2.3267\n",
            "Epoch 61/200\n",
            "11/11 [==============================] - 1s 57ms/step - loss: 1.9207 - mae_last_step: 2.3156 - val_loss: 1.8458 - val_mae_last_step: 2.2964\n",
            "Epoch 62/200\n",
            "11/11 [==============================] - 1s 54ms/step - loss: 1.9191 - mae_last_step: 2.3121 - val_loss: 1.8781 - val_mae_last_step: 2.3256\n",
            "Epoch 63/200\n",
            "11/11 [==============================] - 1s 59ms/step - loss: 2.0218 - mae_last_step: 2.4329 - val_loss: 1.8421 - val_mae_last_step: 2.2961\n",
            "Epoch 64/200\n",
            "11/11 [==============================] - 1s 58ms/step - loss: 1.9204 - mae_last_step: 2.3124 - val_loss: 1.8536 - val_mae_last_step: 2.3055\n",
            "Epoch 65/200\n",
            "11/11 [==============================] - 1s 58ms/step - loss: 1.9220 - mae_last_step: 2.3231 - val_loss: 1.8390 - val_mae_last_step: 2.2898\n",
            "Epoch 66/200\n",
            "11/11 [==============================] - 1s 58ms/step - loss: 1.9405 - mae_last_step: 2.3527 - val_loss: 1.8520 - val_mae_last_step: 2.3023\n",
            "Epoch 67/200\n",
            "11/11 [==============================] - 1s 59ms/step - loss: 1.9533 - mae_last_step: 2.3575 - val_loss: 1.9044 - val_mae_last_step: 2.3556\n",
            "Epoch 68/200\n",
            "11/11 [==============================] - 1s 58ms/step - loss: 1.9363 - mae_last_step: 2.3425 - val_loss: 1.8401 - val_mae_last_step: 2.2923\n",
            "Epoch 69/200\n",
            "11/11 [==============================] - 1s 59ms/step - loss: 1.9371 - mae_last_step: 2.3321 - val_loss: 1.8871 - val_mae_last_step: 2.3363\n",
            "Epoch 70/200\n",
            "11/11 [==============================] - 1s 58ms/step - loss: 1.9422 - mae_last_step: 2.3322 - val_loss: 1.8369 - val_mae_last_step: 2.2887\n",
            "Epoch 71/200\n",
            "11/11 [==============================] - 1s 58ms/step - loss: 1.9184 - mae_last_step: 2.3093 - val_loss: 1.8462 - val_mae_last_step: 2.2967\n",
            "Epoch 72/200\n",
            "11/11 [==============================] - 1s 59ms/step - loss: 1.9404 - mae_last_step: 2.3543 - val_loss: 1.9201 - val_mae_last_step: 2.3745\n",
            "Epoch 73/200\n",
            "11/11 [==============================] - 1s 57ms/step - loss: 1.9603 - mae_last_step: 2.3550 - val_loss: 1.8493 - val_mae_last_step: 2.3010\n",
            "Epoch 74/200\n",
            "11/11 [==============================] - 1s 59ms/step - loss: 1.9215 - mae_last_step: 2.3180 - val_loss: 1.8348 - val_mae_last_step: 2.2848\n",
            "Epoch 75/200\n",
            "11/11 [==============================] - 1s 57ms/step - loss: 1.9563 - mae_last_step: 2.3669 - val_loss: 1.9123 - val_mae_last_step: 2.3651\n",
            "Epoch 76/200\n",
            "11/11 [==============================] - 1s 58ms/step - loss: 1.9501 - mae_last_step: 2.3557 - val_loss: 1.8574 - val_mae_last_step: 2.3087\n",
            "Epoch 77/200\n",
            "11/11 [==============================] - 1s 59ms/step - loss: 1.9509 - mae_last_step: 2.3319 - val_loss: 1.9332 - val_mae_last_step: 2.3943\n",
            "Epoch 78/200\n",
            "11/11 [==============================] - 1s 57ms/step - loss: 1.9355 - mae_last_step: 2.3188 - val_loss: 1.8366 - val_mae_last_step: 2.2886\n",
            "Epoch 79/200\n",
            "11/11 [==============================] - 1s 57ms/step - loss: 1.9165 - mae_last_step: 2.3127 - val_loss: 1.8529 - val_mae_last_step: 2.3017\n",
            "Epoch 80/200\n",
            "11/11 [==============================] - 1s 58ms/step - loss: 1.9197 - mae_last_step: 2.3183 - val_loss: 1.8501 - val_mae_last_step: 2.2996\n",
            "Epoch 81/200\n",
            "11/11 [==============================] - 1s 58ms/step - loss: 1.9398 - mae_last_step: 2.3367 - val_loss: 1.9130 - val_mae_last_step: 2.3691\n",
            "Epoch 82/200\n",
            "11/11 [==============================] - 1s 58ms/step - loss: 1.9444 - mae_last_step: 2.3421 - val_loss: 1.8476 - val_mae_last_step: 2.2980\n",
            "Epoch 83/200\n",
            "11/11 [==============================] - 1s 57ms/step - loss: 1.9496 - mae_last_step: 2.3691 - val_loss: 1.8788 - val_mae_last_step: 2.3292\n",
            "Epoch 84/200\n",
            "11/11 [==============================] - 1s 56ms/step - loss: 1.9358 - mae_last_step: 2.3385 - val_loss: 1.8344 - val_mae_last_step: 2.2848\n",
            "Epoch 85/200\n",
            "11/11 [==============================] - 1s 59ms/step - loss: 1.9208 - mae_last_step: 2.3304 - val_loss: 1.8352 - val_mae_last_step: 2.2823\n",
            "Epoch 86/200\n",
            "11/11 [==============================] - 1s 57ms/step - loss: 1.9175 - mae_last_step: 2.3213 - val_loss: 1.8473 - val_mae_last_step: 2.2981\n",
            "Epoch 87/200\n",
            "11/11 [==============================] - 1s 56ms/step - loss: 1.9508 - mae_last_step: 2.3404 - val_loss: 1.8327 - val_mae_last_step: 2.2792\n",
            "Epoch 88/200\n",
            "11/11 [==============================] - 1s 58ms/step - loss: 1.9149 - mae_last_step: 2.3162 - val_loss: 1.8576 - val_mae_last_step: 2.3015\n",
            "Epoch 89/200\n",
            "11/11 [==============================] - 1s 58ms/step - loss: 1.9371 - mae_last_step: 2.3481 - val_loss: 1.8466 - val_mae_last_step: 2.2964\n",
            "Epoch 90/200\n",
            "11/11 [==============================] - 1s 60ms/step - loss: 1.9118 - mae_last_step: 2.3197 - val_loss: 1.8280 - val_mae_last_step: 2.2748\n",
            "Epoch 91/200\n",
            "11/11 [==============================] - 1s 58ms/step - loss: 1.9192 - mae_last_step: 2.3123 - val_loss: 1.8552 - val_mae_last_step: 2.3058\n",
            "Epoch 92/200\n",
            "11/11 [==============================] - 1s 58ms/step - loss: 1.9437 - mae_last_step: 2.3450 - val_loss: 1.8466 - val_mae_last_step: 2.2911\n",
            "Epoch 93/200\n",
            "11/11 [==============================] - 1s 58ms/step - loss: 1.9133 - mae_last_step: 2.3074 - val_loss: 1.8554 - val_mae_last_step: 2.3037\n",
            "Epoch 94/200\n",
            "11/11 [==============================] - 1s 57ms/step - loss: 1.9484 - mae_last_step: 2.3399 - val_loss: 1.8472 - val_mae_last_step: 2.2944\n",
            "Epoch 95/200\n",
            "11/11 [==============================] - 1s 58ms/step - loss: 1.9358 - mae_last_step: 2.3437 - val_loss: 1.9109 - val_mae_last_step: 2.3680\n",
            "Epoch 96/200\n",
            "11/11 [==============================] - 1s 58ms/step - loss: 1.9326 - mae_last_step: 2.3535 - val_loss: 1.8368 - val_mae_last_step: 2.2855\n",
            "Epoch 97/200\n",
            "11/11 [==============================] - 1s 57ms/step - loss: 1.9120 - mae_last_step: 2.3065 - val_loss: 1.8617 - val_mae_last_step: 2.3102\n",
            "Epoch 98/200\n",
            "11/11 [==============================] - 1s 57ms/step - loss: 1.9438 - mae_last_step: 2.3272 - val_loss: 1.8615 - val_mae_last_step: 2.3087\n",
            "Epoch 99/200\n",
            "11/11 [==============================] - 1s 59ms/step - loss: 1.9420 - mae_last_step: 2.3462 - val_loss: 1.8897 - val_mae_last_step: 2.3394\n",
            "Epoch 100/200\n",
            "11/11 [==============================] - 1s 58ms/step - loss: 1.9315 - mae_last_step: 2.3318 - val_loss: 1.8292 - val_mae_last_step: 2.2762\n",
            "Epoch 101/200\n",
            "11/11 [==============================] - 1s 59ms/step - loss: 1.9081 - mae_last_step: 2.3070 - val_loss: 1.8285 - val_mae_last_step: 2.2754\n",
            "Epoch 102/200\n",
            "11/11 [==============================] - 1s 58ms/step - loss: 1.9053 - mae_last_step: 2.3082 - val_loss: 1.8302 - val_mae_last_step: 2.2737\n",
            "Epoch 103/200\n",
            "11/11 [==============================] - 1s 57ms/step - loss: 1.9073 - mae_last_step: 2.3197 - val_loss: 1.8240 - val_mae_last_step: 2.2659\n",
            "Epoch 104/200\n",
            "11/11 [==============================] - 1s 57ms/step - loss: 1.9163 - mae_last_step: 2.3130 - val_loss: 1.8687 - val_mae_last_step: 2.3141\n",
            "Epoch 105/200\n",
            "11/11 [==============================] - 1s 57ms/step - loss: 1.9533 - mae_last_step: 2.3442 - val_loss: 1.8684 - val_mae_last_step: 2.3169\n",
            "Epoch 106/200\n",
            "11/11 [==============================] - 1s 58ms/step - loss: 1.9186 - mae_last_step: 2.3079 - val_loss: 1.8248 - val_mae_last_step: 2.2709\n",
            "Epoch 107/200\n",
            "11/11 [==============================] - 1s 59ms/step - loss: 1.9300 - mae_last_step: 2.3311 - val_loss: 1.8360 - val_mae_last_step: 2.2780\n",
            "Epoch 108/200\n",
            "11/11 [==============================] - 1s 58ms/step - loss: 1.9017 - mae_last_step: 2.3003 - val_loss: 1.8431 - val_mae_last_step: 2.2837\n",
            "Epoch 109/200\n",
            "11/11 [==============================] - 1s 60ms/step - loss: 1.9266 - mae_last_step: 2.3158 - val_loss: 1.8256 - val_mae_last_step: 2.2720\n",
            "Epoch 110/200\n",
            "11/11 [==============================] - 1s 60ms/step - loss: 1.9312 - mae_last_step: 2.3424 - val_loss: 1.8591 - val_mae_last_step: 2.3043\n",
            "Epoch 111/200\n",
            "11/11 [==============================] - 1s 59ms/step - loss: 1.9046 - mae_last_step: 2.3076 - val_loss: 1.8325 - val_mae_last_step: 2.2744\n",
            "Epoch 112/200\n",
            "11/11 [==============================] - 1s 59ms/step - loss: 1.9032 - mae_last_step: 2.3019 - val_loss: 1.8443 - val_mae_last_step: 2.2920\n",
            "Epoch 113/200\n",
            "11/11 [==============================] - 1s 59ms/step - loss: 1.9302 - mae_last_step: 2.3513 - val_loss: 1.9050 - val_mae_last_step: 2.3555\n",
            "Epoch 114/200\n",
            "11/11 [==============================] - 1s 59ms/step - loss: 1.9630 - mae_last_step: 2.3642 - val_loss: 1.8215 - val_mae_last_step: 2.2678\n",
            "Epoch 115/200\n",
            "11/11 [==============================] - 1s 58ms/step - loss: 1.9033 - mae_last_step: 2.3050 - val_loss: 1.8240 - val_mae_last_step: 2.2699\n",
            "Epoch 116/200\n",
            "11/11 [==============================] - 1s 57ms/step - loss: 1.9303 - mae_last_step: 2.3338 - val_loss: 1.8672 - val_mae_last_step: 2.3131\n",
            "Epoch 117/200\n",
            "11/11 [==============================] - 1s 58ms/step - loss: 1.9101 - mae_last_step: 2.3127 - val_loss: 1.8411 - val_mae_last_step: 2.2830\n",
            "Epoch 118/200\n",
            "11/11 [==============================] - 1s 59ms/step - loss: 1.9109 - mae_last_step: 2.2970 - val_loss: 1.8380 - val_mae_last_step: 2.2828\n",
            "Epoch 119/200\n",
            "11/11 [==============================] - 1s 57ms/step - loss: 1.9209 - mae_last_step: 2.3130 - val_loss: 1.9161 - val_mae_last_step: 2.3634\n",
            "Epoch 120/200\n",
            "11/11 [==============================] - 1s 59ms/step - loss: 1.9299 - mae_last_step: 2.3174 - val_loss: 1.8224 - val_mae_last_step: 2.2649\n",
            "Epoch 121/200\n",
            "11/11 [==============================] - 1s 59ms/step - loss: 1.9010 - mae_last_step: 2.3025 - val_loss: 1.8212 - val_mae_last_step: 2.2645\n",
            "Epoch 122/200\n",
            "11/11 [==============================] - 1s 56ms/step - loss: 1.9007 - mae_last_step: 2.3065 - val_loss: 1.8561 - val_mae_last_step: 2.2987\n",
            "Epoch 123/200\n",
            "11/11 [==============================] - 1s 58ms/step - loss: 1.9167 - mae_last_step: 2.3068 - val_loss: 1.8333 - val_mae_last_step: 2.2762\n",
            "Epoch 124/200\n",
            "11/11 [==============================] - 1s 59ms/step - loss: 1.9395 - mae_last_step: 2.3294 - val_loss: 1.8886 - val_mae_last_step: 2.3418\n",
            "Epoch 125/200\n",
            "11/11 [==============================] - 1s 59ms/step - loss: 1.9286 - mae_last_step: 2.3283 - val_loss: 1.8188 - val_mae_last_step: 2.2634\n",
            "Epoch 126/200\n",
            "11/11 [==============================] - 1s 59ms/step - loss: 1.9077 - mae_last_step: 2.3091 - val_loss: 1.8533 - val_mae_last_step: 2.2987\n",
            "Epoch 127/200\n",
            "11/11 [==============================] - 1s 61ms/step - loss: 1.9133 - mae_last_step: 2.3252 - val_loss: 1.8470 - val_mae_last_step: 2.2928\n",
            "Epoch 128/200\n",
            "11/11 [==============================] - 1s 59ms/step - loss: 1.9182 - mae_last_step: 2.3127 - val_loss: 1.9075 - val_mae_last_step: 2.3541\n",
            "Epoch 129/200\n",
            "11/11 [==============================] - 1s 59ms/step - loss: 1.9170 - mae_last_step: 2.3289 - val_loss: 1.8180 - val_mae_last_step: 2.2605\n",
            "Epoch 130/200\n",
            "11/11 [==============================] - 1s 59ms/step - loss: 1.9012 - mae_last_step: 2.2983 - val_loss: 1.8192 - val_mae_last_step: 2.2618\n",
            "Epoch 131/200\n",
            "11/11 [==============================] - 1s 58ms/step - loss: 1.9086 - mae_last_step: 2.3102 - val_loss: 1.9305 - val_mae_last_step: 2.3779\n",
            "Epoch 132/200\n",
            "11/11 [==============================] - 1s 58ms/step - loss: 1.9476 - mae_last_step: 2.3390 - val_loss: 1.8296 - val_mae_last_step: 2.2738\n",
            "Epoch 133/200\n",
            "11/11 [==============================] - 1s 58ms/step - loss: 1.8995 - mae_last_step: 2.2940 - val_loss: 1.8329 - val_mae_last_step: 2.2760\n",
            "Epoch 134/200\n",
            "11/11 [==============================] - 1s 59ms/step - loss: 1.9311 - mae_last_step: 2.3268 - val_loss: 1.9191 - val_mae_last_step: 2.3724\n",
            "Epoch 135/200\n",
            "11/11 [==============================] - 1s 58ms/step - loss: 1.9060 - mae_last_step: 2.2980 - val_loss: 1.8178 - val_mae_last_step: 2.2589\n",
            "Epoch 136/200\n",
            "11/11 [==============================] - 1s 59ms/step - loss: 1.8991 - mae_last_step: 2.2943 - val_loss: 1.8287 - val_mae_last_step: 2.2695\n",
            "Epoch 137/200\n",
            "11/11 [==============================] - 1s 58ms/step - loss: 1.9270 - mae_last_step: 2.3337 - val_loss: 1.8743 - val_mae_last_step: 2.3208\n",
            "Epoch 138/200\n",
            "11/11 [==============================] - 1s 59ms/step - loss: 1.9136 - mae_last_step: 2.3052 - val_loss: 1.8246 - val_mae_last_step: 2.2696\n",
            "Epoch 139/200\n",
            "11/11 [==============================] - 1s 59ms/step - loss: 1.9146 - mae_last_step: 2.3165 - val_loss: 1.9213 - val_mae_last_step: 2.3782\n",
            "Epoch 140/200\n",
            "11/11 [==============================] - 1s 58ms/step - loss: 1.9345 - mae_last_step: 2.3372 - val_loss: 1.8211 - val_mae_last_step: 2.2652\n",
            "Epoch 141/200\n",
            "11/11 [==============================] - 1s 57ms/step - loss: 1.8953 - mae_last_step: 2.2915 - val_loss: 1.8158 - val_mae_last_step: 2.2565\n",
            "Epoch 142/200\n",
            "11/11 [==============================] - 1s 57ms/step - loss: 1.9124 - mae_last_step: 2.3157 - val_loss: 1.8486 - val_mae_last_step: 2.2943\n",
            "Epoch 143/200\n",
            "11/11 [==============================] - 1s 58ms/step - loss: 1.9098 - mae_last_step: 2.3065 - val_loss: 1.8567 - val_mae_last_step: 2.3051\n",
            "Epoch 144/200\n",
            "11/11 [==============================] - 1s 58ms/step - loss: 1.9263 - mae_last_step: 2.3213 - val_loss: 1.8260 - val_mae_last_step: 2.2702\n",
            "Epoch 145/200\n",
            "11/11 [==============================] - 1s 58ms/step - loss: 1.9039 - mae_last_step: 2.3066 - val_loss: 1.8198 - val_mae_last_step: 2.2630\n",
            "Epoch 146/200\n",
            "11/11 [==============================] - 1s 59ms/step - loss: 1.8992 - mae_last_step: 2.2908 - val_loss: 1.8239 - val_mae_last_step: 2.2630\n",
            "Epoch 147/200\n",
            "11/11 [==============================] - 1s 59ms/step - loss: 1.9057 - mae_last_step: 2.3119 - val_loss: 1.8584 - val_mae_last_step: 2.3050\n",
            "Epoch 148/200\n",
            "11/11 [==============================] - 1s 58ms/step - loss: 1.9138 - mae_last_step: 2.3121 - val_loss: 1.8373 - val_mae_last_step: 2.2802\n",
            "Epoch 149/200\n",
            "11/11 [==============================] - 1s 57ms/step - loss: 1.9037 - mae_last_step: 2.2913 - val_loss: 1.8243 - val_mae_last_step: 2.2658\n",
            "Epoch 150/200\n",
            "11/11 [==============================] - 1s 58ms/step - loss: 1.9366 - mae_last_step: 2.3346 - val_loss: 1.8738 - val_mae_last_step: 2.3266\n",
            "Epoch 151/200\n",
            "11/11 [==============================] - 1s 57ms/step - loss: 1.9133 - mae_last_step: 2.2986 - val_loss: 1.8372 - val_mae_last_step: 2.2804\n",
            "Epoch 152/200\n",
            "11/11 [==============================] - 1s 57ms/step - loss: 1.9125 - mae_last_step: 2.3146 - val_loss: 1.8309 - val_mae_last_step: 2.2715\n",
            "Epoch 153/200\n",
            "11/11 [==============================] - 1s 59ms/step - loss: 1.8933 - mae_last_step: 2.2880 - val_loss: 1.8182 - val_mae_last_step: 2.2611\n",
            "Epoch 154/200\n",
            "11/11 [==============================] - 1s 55ms/step - loss: 1.8994 - mae_last_step: 2.2909 - val_loss: 1.8945 - val_mae_last_step: 2.3423\n",
            "Epoch 155/200\n",
            "11/11 [==============================] - 1s 60ms/step - loss: 1.9103 - mae_last_step: 2.2904 - val_loss: 1.8351 - val_mae_last_step: 2.2748\n",
            "Epoch 156/200\n",
            "11/11 [==============================] - 1s 58ms/step - loss: 1.9161 - mae_last_step: 2.3136 - val_loss: 1.8169 - val_mae_last_step: 2.2601\n",
            "Epoch 157/200\n",
            "11/11 [==============================] - 1s 60ms/step - loss: 1.9065 - mae_last_step: 2.3070 - val_loss: 1.8547 - val_mae_last_step: 2.3015\n",
            "Epoch 158/200\n",
            "11/11 [==============================] - 1s 59ms/step - loss: 1.9236 - mae_last_step: 2.3235 - val_loss: 1.8147 - val_mae_last_step: 2.2583\n",
            "Epoch 159/200\n",
            "11/11 [==============================] - 1s 59ms/step - loss: 1.8935 - mae_last_step: 2.2935 - val_loss: 1.8174 - val_mae_last_step: 2.2584\n",
            "Epoch 160/200\n",
            "11/11 [==============================] - 1s 60ms/step - loss: 1.8944 - mae_last_step: 2.2929 - val_loss: 1.8304 - val_mae_last_step: 2.2707\n",
            "Epoch 161/200\n",
            "11/11 [==============================] - 1s 59ms/step - loss: 1.9547 - mae_last_step: 2.3365 - val_loss: 1.8830 - val_mae_last_step: 2.3356\n",
            "Epoch 162/200\n",
            "11/11 [==============================] - 1s 59ms/step - loss: 1.9068 - mae_last_step: 2.3110 - val_loss: 1.8186 - val_mae_last_step: 2.2619\n",
            "Epoch 163/200\n",
            "11/11 [==============================] - 1s 59ms/step - loss: 1.8947 - mae_last_step: 2.2844 - val_loss: 1.8899 - val_mae_last_step: 2.3416\n",
            "Epoch 164/200\n",
            "11/11 [==============================] - 1s 59ms/step - loss: 1.9200 - mae_last_step: 2.3016 - val_loss: 1.8325 - val_mae_last_step: 2.2745\n",
            "Epoch 165/200\n",
            "11/11 [==============================] - 1s 57ms/step - loss: 1.9052 - mae_last_step: 2.3007 - val_loss: 1.8606 - val_mae_last_step: 2.3044\n",
            "Epoch 166/200\n",
            "11/11 [==============================] - 1s 59ms/step - loss: 1.8972 - mae_last_step: 2.2856 - val_loss: 1.8452 - val_mae_last_step: 2.2870\n",
            "Epoch 167/200\n",
            "11/11 [==============================] - 1s 59ms/step - loss: 1.9064 - mae_last_step: 2.3006 - val_loss: 1.8121 - val_mae_last_step: 2.2544\n",
            "Epoch 168/200\n",
            "11/11 [==============================] - 1s 58ms/step - loss: 1.8911 - mae_last_step: 2.2902 - val_loss: 1.8156 - val_mae_last_step: 2.2553\n",
            "Epoch 169/200\n",
            "11/11 [==============================] - 1s 60ms/step - loss: 1.9217 - mae_last_step: 2.3092 - val_loss: 1.8674 - val_mae_last_step: 2.3213\n",
            "Epoch 170/200\n",
            "11/11 [==============================] - 1s 58ms/step - loss: 1.9139 - mae_last_step: 2.3077 - val_loss: 1.8130 - val_mae_last_step: 2.2548\n",
            "Epoch 171/200\n",
            "11/11 [==============================] - 1s 58ms/step - loss: 1.8965 - mae_last_step: 2.3006 - val_loss: 1.8343 - val_mae_last_step: 2.2747\n",
            "Epoch 172/200\n",
            "11/11 [==============================] - 1s 58ms/step - loss: 1.9021 - mae_last_step: 2.3036 - val_loss: 1.8501 - val_mae_last_step: 2.2955\n",
            "Epoch 173/200\n",
            "11/11 [==============================] - 1s 59ms/step - loss: 1.8977 - mae_last_step: 2.3101 - val_loss: 1.8263 - val_mae_last_step: 2.2670\n",
            "Epoch 174/200\n",
            "11/11 [==============================] - 1s 59ms/step - loss: 1.8958 - mae_last_step: 2.2862 - val_loss: 1.8620 - val_mae_last_step: 2.3063\n",
            "Epoch 175/200\n",
            "11/11 [==============================] - 1s 56ms/step - loss: 1.9079 - mae_last_step: 2.3002 - val_loss: 1.8110 - val_mae_last_step: 2.2503\n",
            "Epoch 176/200\n",
            "11/11 [==============================] - 1s 59ms/step - loss: 1.9333 - mae_last_step: 2.3465 - val_loss: 1.8186 - val_mae_last_step: 2.2646\n",
            "Epoch 177/200\n",
            "11/11 [==============================] - 1s 59ms/step - loss: 1.8901 - mae_last_step: 2.2874 - val_loss: 1.8243 - val_mae_last_step: 2.2651\n",
            "Epoch 178/200\n",
            "11/11 [==============================] - 1s 58ms/step - loss: 1.8899 - mae_last_step: 2.2825 - val_loss: 1.8130 - val_mae_last_step: 2.2498\n",
            "Epoch 179/200\n",
            "11/11 [==============================] - 1s 60ms/step - loss: 1.9148 - mae_last_step: 2.3219 - val_loss: 1.8721 - val_mae_last_step: 2.3165\n",
            "Epoch 180/200\n",
            "11/11 [==============================] - 1s 59ms/step - loss: 1.9082 - mae_last_step: 2.3140 - val_loss: 1.8264 - val_mae_last_step: 2.2691\n",
            "Epoch 181/200\n",
            "11/11 [==============================] - 1s 59ms/step - loss: 1.8871 - mae_last_step: 2.2828 - val_loss: 1.8114 - val_mae_last_step: 2.2497\n",
            "Epoch 182/200\n",
            "11/11 [==============================] - 1s 59ms/step - loss: 1.9032 - mae_last_step: 2.3055 - val_loss: 1.8419 - val_mae_last_step: 2.2842\n",
            "Epoch 183/200\n",
            "11/11 [==============================] - 1s 61ms/step - loss: 1.9147 - mae_last_step: 2.2933 - val_loss: 1.8681 - val_mae_last_step: 2.3139\n",
            "Epoch 184/200\n",
            "11/11 [==============================] - 1s 60ms/step - loss: 1.9038 - mae_last_step: 2.2959 - val_loss: 1.8103 - val_mae_last_step: 2.2513\n",
            "Epoch 185/200\n",
            "11/11 [==============================] - 1s 59ms/step - loss: 1.8948 - mae_last_step: 2.2867 - val_loss: 1.8108 - val_mae_last_step: 2.2507\n",
            "Epoch 186/200\n",
            "11/11 [==============================] - 1s 58ms/step - loss: 1.8928 - mae_last_step: 2.2981 - val_loss: 1.8122 - val_mae_last_step: 2.2504\n",
            "Epoch 187/200\n",
            "11/11 [==============================] - 1s 59ms/step - loss: 1.9144 - mae_last_step: 2.3047 - val_loss: 1.8118 - val_mae_last_step: 2.2501\n",
            "Epoch 188/200\n",
            "11/11 [==============================] - 1s 58ms/step - loss: 1.8916 - mae_last_step: 2.2919 - val_loss: 1.8284 - val_mae_last_step: 2.2691\n",
            "Epoch 189/200\n",
            "11/11 [==============================] - 1s 59ms/step - loss: 1.9110 - mae_last_step: 2.3091 - val_loss: 1.8207 - val_mae_last_step: 2.2603\n",
            "Epoch 190/200\n",
            "11/11 [==============================] - 1s 59ms/step - loss: 1.9035 - mae_last_step: 2.3074 - val_loss: 1.8110 - val_mae_last_step: 2.2505\n",
            "Epoch 191/200\n",
            "11/11 [==============================] - 1s 57ms/step - loss: 1.8952 - mae_last_step: 2.2964 - val_loss: 1.8097 - val_mae_last_step: 2.2484\n",
            "Epoch 192/200\n",
            "11/11 [==============================] - 1s 59ms/step - loss: 1.9094 - mae_last_step: 2.3088 - val_loss: 1.8406 - val_mae_last_step: 2.2847\n",
            "Epoch 193/200\n",
            "11/11 [==============================] - 1s 57ms/step - loss: 1.8904 - mae_last_step: 2.3009 - val_loss: 1.8128 - val_mae_last_step: 2.2538\n",
            "Epoch 194/200\n",
            "11/11 [==============================] - 1s 58ms/step - loss: 1.9098 - mae_last_step: 2.2996 - val_loss: 1.8381 - val_mae_last_step: 2.2831\n",
            "Epoch 195/200\n",
            "11/11 [==============================] - 1s 60ms/step - loss: 1.9042 - mae_last_step: 2.2941 - val_loss: 1.8217 - val_mae_last_step: 2.2612\n",
            "Epoch 196/200\n",
            "11/11 [==============================] - 1s 59ms/step - loss: 1.8904 - mae_last_step: 2.2756 - val_loss: 1.8110 - val_mae_last_step: 2.2502\n",
            "Epoch 197/200\n",
            "11/11 [==============================] - 1s 58ms/step - loss: 1.8863 - mae_last_step: 2.2964 - val_loss: 1.8339 - val_mae_last_step: 2.2746\n",
            "Epoch 198/200\n",
            "11/11 [==============================] - 1s 58ms/step - loss: 1.9160 - mae_last_step: 2.3065 - val_loss: 1.8390 - val_mae_last_step: 2.2817\n",
            "Epoch 199/200\n",
            "11/11 [==============================] - 1s 57ms/step - loss: 1.8880 - mae_last_step: 2.2857 - val_loss: 1.8105 - val_mae_last_step: 2.2496\n",
            "Epoch 200/200\n",
            "11/11 [==============================] - 1s 59ms/step - loss: 1.8834 - mae_last_step: 2.2781 - val_loss: 1.8189 - val_mae_last_step: 2.2568\n"
          ],
          "name": "stdout"
        }
      ]
    },
    {
      "cell_type": "code",
      "metadata": {
        "id": "JwWJWJptTPwH",
        "colab_type": "code",
        "outputId": "e0a3d44b-5eca-468f-cb50-b33e07561eba",
        "colab": {
          "base_uri": "https://localhost:8080/",
          "height": 269
        }
      },
      "source": [
        "plot_history(history2, loss=\"mae_last_step\")\n",
        "\n",
        "#plt.figure(figsize=(20,10))\n",
        "\n"
      ],
      "execution_count": 66,
      "outputs": [
        {
          "output_type": "display_data",
          "data": {
            "image/png": "[encoded data removed]",
            "text/plain": [
              "<Figure size 432x288 with 1 Axes>"
            ]
          },
          "metadata": {
            "tags": [],
            "needs_background": "light"
          }
        }
      ]
    },
    {
      "cell_type": "code",
      "metadata": {
        "id": "tPmvj5LgTPwK",
        "colab_type": "code",
        "outputId": "b2dea65b-2581-463c-8daa-df85920b28ee",
        "colab": {
          "base_uri": "https://localhost:8080/",
          "height": 54
        }
      },
      "source": [
        "model2.evaluate(X_valid_3D, Y_valid_3D)"
      ],
      "execution_count": 67,
      "outputs": [
        {
          "output_type": "stream",
          "text": [
            "23/23 [==============================] - 0s 6ms/step - loss: 1.8189 - mae_last_step: 2.2412\n"
          ],
          "name": "stdout"
        },
        {
          "output_type": "execute_result",
          "data": {
            "text/plain": [
              "[1.8188661336898804, 2.241168737411499]"
            ]
          },
          "metadata": {
            "tags": []
          },
          "execution_count": 67
        }
      ]
    },
    {
      "cell_type": "code",
      "metadata": {
        "id": "inWAHoUhTPwL",
        "colab_type": "code",
        "colab": {}
      },
      "source": [
        "y_pred_rnn2 = model2.predict(X_valid_3D)[:, -1]"
      ],
      "execution_count": 0,
      "outputs": []
    },
    {
      "cell_type": "code",
      "metadata": {
        "id": "9hq2ayZ4TPwM",
        "colab_type": "code",
        "outputId": "c6698a64-3d89-4cde-855e-6d6aa8fe8eaa",
        "colab": {
          "base_uri": "https://localhost:8080/",
          "height": 321
        }
      },
      "source": [
        "plot_predictions((\"Target\", y_valid),\n",
        "                 (\"Linear\", y_pred_linear),\n",
        "                 (\"RNN\", y_pred_rnn2),\n",
        "                 end=365)"
      ],
      "execution_count": 69,
      "outputs": [
        {
          "output_type": "display_data",
          "data": {
            "image/png": "[encoded data removed]",
            "text/plain": [
              "<Figure size 720x360 with 1 Axes>"
            ]
          },
          "metadata": {
            "tags": [],
            "needs_background": "light"
          }
        }
      ]
    },
    {
      "cell_type": "markdown",
      "metadata": {
        "id": "C2LYfh0nTPwN",
        "colab_type": "text"
      },
      "source": [
        "# Exercise 3 – LSTM and GRU"
      ]
    },
    {
      "cell_type": "markdown",
      "metadata": {
        "id": "yr1dKO5iTPwO",
        "colab_type": "text"
      },
      "source": [
        "## 3.1) Build, train and evaluate a Seq2Seq LSTM"
      ]
    },
    {
      "cell_type": "markdown",
      "metadata": {
        "id": "lz2OF4ggTPwO",
        "colab_type": "text"
      },
      "source": [
        "Train the same model as earlier but using `LSTM` or `GRU` instead of `SimpleRNN`. You can also try reducing the learning rate when the validation loss reaches a plateau, using the `ReduceLROnPlateau` callback."
      ]
    },
    {
      "cell_type": "code",
      "metadata": {
        "id": "UfMbH5BATPwO",
        "colab_type": "code",
        "colab": {}
      },
      "source": [
        ""
      ],
      "execution_count": 0,
      "outputs": []
    },
    {
      "cell_type": "code",
      "metadata": {
        "id": "kIJwal2lTPwQ",
        "colab_type": "code",
        "colab": {}
      },
      "source": [
        ""
      ],
      "execution_count": 0,
      "outputs": []
    },
    {
      "cell_type": "code",
      "metadata": {
        "id": "a7Y6YxRZTPwR",
        "colab_type": "code",
        "colab": {}
      },
      "source": [
        ""
      ],
      "execution_count": 0,
      "outputs": []
    },
    {
      "cell_type": "markdown",
      "metadata": {
        "id": "Oizj5IaTTPwR",
        "colab_type": "text"
      },
      "source": [
        "## 3.2) Add $\\ell_2$ regularization"
      ]
    },
    {
      "cell_type": "markdown",
      "metadata": {
        "id": "q1_JeuJkTPwS",
        "colab_type": "text"
      },
      "source": [
        "Add $\\ell_2$ regularization to your RNN, using the layers' `kernel_regularizer` and `recurrent_regularizer` arguments, and the `l2()` function in `keras.regularizers`. Tip: use the `partial()` function in the `functools` package to avoid repeating the same arguments again and again."
      ]
    },
    {
      "cell_type": "code",
      "metadata": {
        "id": "FehS7staTPwS",
        "colab_type": "code",
        "colab": {}
      },
      "source": [
        ""
      ],
      "execution_count": 0,
      "outputs": []
    },
    {
      "cell_type": "code",
      "metadata": {
        "id": "RZt_N5ZfTPwT",
        "colab_type": "code",
        "colab": {}
      },
      "source": [
        ""
      ],
      "execution_count": 0,
      "outputs": []
    },
    {
      "cell_type": "code",
      "metadata": {
        "id": "7tm-fpI8TPwU",
        "colab_type": "code",
        "colab": {}
      },
      "source": [
        ""
      ],
      "execution_count": 0,
      "outputs": []
    },
    {
      "cell_type": "markdown",
      "metadata": {
        "id": "cU6C9qVSTPwV",
        "colab_type": "text"
      },
      "source": [
        "# Exercise 3 – Solution"
      ]
    },
    {
      "cell_type": "markdown",
      "metadata": {
        "id": "Kdk2RyeTTPwV",
        "colab_type": "text"
      },
      "source": [
        "## 3.1) Build, train and evaluate a Seq2Seq LSTM"
      ]
    },
    {
      "cell_type": "markdown",
      "metadata": {
        "id": "CURXrZ9WTPwW",
        "colab_type": "text"
      },
      "source": [
        "You can try replacing `LSTM` with `GRU`."
      ]
    },
    {
      "cell_type": "code",
      "metadata": {
        "id": "dhBKpZMGTPwW",
        "colab_type": "code",
        "colab": {}
      },
      "source": [
        "model3 = keras.models.Sequential()\n",
        "model3.add(keras.layers.LSTM(100, return_sequences=True, input_shape=input_shape))\n",
        "model3.add(keras.layers.LSTM(100, return_sequences=True))\n",
        "model3.add(keras.layers.TimeDistributed(keras.layers.Dense(1)))\n",
        "model3.compile(loss=huber_loss, optimizer=keras.optimizers.SGD(lr=0.01),\n",
        "               metrics=[mae_last_step])"
      ],
      "execution_count": 0,
      "outputs": []
    },
    {
      "cell_type": "code",
      "metadata": {
        "id": "xHtsVCmLTPwX",
        "colab_type": "code",
        "outputId": "2ed281ba-b22c-43c6-bdd9-a6328b3de704",
        "colab": {
          "base_uri": "https://localhost:8080/",
          "height": 1000
        }
      },
      "source": [
        "history3 = model3.fit(X_train_3D, Y_train_3D, epochs=200, batch_size=200,\n",
        "                      validation_data=(X_valid_3D, Y_valid_3D),\n",
        "                      callbacks=[keras.callbacks.ReduceLROnPlateau(verbose=1)])"
      ],
      "execution_count": 71,
      "outputs": [
        {
          "output_type": "stream",
          "text": [
            "Epoch 1/200\n",
            "11/11 [==============================] - 3s 254ms/step - loss: 8.9440 - mae_last_step: 9.1034 - val_loss: 7.3405 - val_mae_last_step: 7.3524 - lr: 0.0100\n",
            "Epoch 2/200\n",
            "11/11 [==============================] - 2s 193ms/step - loss: 5.8339 - mae_last_step: 5.5999 - val_loss: 4.6842 - val_mae_last_step: 4.4686 - lr: 0.0100\n",
            "Epoch 3/200\n",
            "11/11 [==============================] - 2s 193ms/step - loss: 3.9519 - mae_last_step: 3.7009 - val_loss: 3.3473 - val_mae_last_step: 3.1589 - lr: 0.0100\n",
            "Epoch 4/200\n",
            "11/11 [==============================] - 2s 194ms/step - loss: 3.2745 - mae_last_step: 3.1651 - val_loss: 2.9652 - val_mae_last_step: 2.8855 - lr: 0.0100\n",
            "Epoch 5/200\n",
            "11/11 [==============================] - 2s 197ms/step - loss: 3.1213 - mae_last_step: 3.1116 - val_loss: 2.8736 - val_mae_last_step: 2.8505 - lr: 0.0100\n",
            "Epoch 6/200\n",
            "11/11 [==============================] - 2s 194ms/step - loss: 3.0772 - mae_last_step: 3.1227 - val_loss: 2.8318 - val_mae_last_step: 2.8398 - lr: 0.0100\n",
            "Epoch 7/200\n",
            "11/11 [==============================] - 2s 192ms/step - loss: 3.0469 - mae_last_step: 3.1117 - val_loss: 2.8026 - val_mae_last_step: 2.8229 - lr: 0.0100\n",
            "Epoch 8/200\n",
            "11/11 [==============================] - 2s 194ms/step - loss: 3.0105 - mae_last_step: 3.0773 - val_loss: 2.7577 - val_mae_last_step: 2.7775 - lr: 0.0100\n",
            "Epoch 9/200\n",
            "11/11 [==============================] - 2s 192ms/step - loss: 2.9502 - mae_last_step: 3.0088 - val_loss: 2.7037 - val_mae_last_step: 2.7216 - lr: 0.0100\n",
            "Epoch 10/200\n",
            "11/11 [==============================] - 2s 191ms/step - loss: 2.8741 - mae_last_step: 2.9090 - val_loss: 2.6354 - val_mae_last_step: 2.6394 - lr: 0.0100\n",
            "Epoch 11/200\n",
            "11/11 [==============================] - 2s 192ms/step - loss: 2.7772 - mae_last_step: 2.7847 - val_loss: 2.5415 - val_mae_last_step: 2.5495 - lr: 0.0100\n",
            "Epoch 12/200\n",
            "11/11 [==============================] - 2s 194ms/step - loss: 2.6766 - mae_last_step: 2.6767 - val_loss: 2.5012 - val_mae_last_step: 2.5330 - lr: 0.0100\n",
            "Epoch 13/200\n",
            "11/11 [==============================] - 2s 193ms/step - loss: 2.5835 - mae_last_step: 2.5886 - val_loss: 2.3403 - val_mae_last_step: 2.3641 - lr: 0.0100\n",
            "Epoch 14/200\n",
            "11/11 [==============================] - 2s 197ms/step - loss: 2.5136 - mae_last_step: 2.5311 - val_loss: 2.2891 - val_mae_last_step: 2.3582 - lr: 0.0100\n",
            "Epoch 15/200\n",
            "11/11 [==============================] - 2s 197ms/step - loss: 2.5127 - mae_last_step: 2.5794 - val_loss: 2.2524 - val_mae_last_step: 2.2812 - lr: 0.0100\n",
            "Epoch 16/200\n",
            "11/11 [==============================] - 2s 195ms/step - loss: 2.3714 - mae_last_step: 2.3827 - val_loss: 2.2549 - val_mae_last_step: 2.4210 - lr: 0.0100\n",
            "Epoch 17/200\n",
            "11/11 [==============================] - 2s 194ms/step - loss: 2.3793 - mae_last_step: 2.4723 - val_loss: 2.1999 - val_mae_last_step: 2.2496 - lr: 0.0100\n",
            "Epoch 18/200\n",
            "11/11 [==============================] - 2s 194ms/step - loss: 2.3229 - mae_last_step: 2.4196 - val_loss: 2.2416 - val_mae_last_step: 2.4822 - lr: 0.0100\n",
            "Epoch 19/200\n",
            "11/11 [==============================] - 2s 198ms/step - loss: 2.3008 - mae_last_step: 2.4045 - val_loss: 2.1603 - val_mae_last_step: 2.2347 - lr: 0.0100\n",
            "Epoch 20/200\n",
            "11/11 [==============================] - 2s 194ms/step - loss: 2.2718 - mae_last_step: 2.3725 - val_loss: 2.1938 - val_mae_last_step: 2.4219 - lr: 0.0100\n",
            "Epoch 21/200\n",
            "11/11 [==============================] - 2s 195ms/step - loss: 2.2816 - mae_last_step: 2.3872 - val_loss: 2.1510 - val_mae_last_step: 2.2418 - lr: 0.0100\n",
            "Epoch 22/200\n",
            "11/11 [==============================] - 2s 193ms/step - loss: 2.2316 - mae_last_step: 2.3455 - val_loss: 2.1578 - val_mae_last_step: 2.2558 - lr: 0.0100\n",
            "Epoch 23/200\n",
            "11/11 [==============================] - 2s 196ms/step - loss: 2.2384 - mae_last_step: 2.3619 - val_loss: 2.1752 - val_mae_last_step: 2.2723 - lr: 0.0100\n",
            "Epoch 24/200\n",
            "11/11 [==============================] - 2s 196ms/step - loss: 2.2454 - mae_last_step: 2.3776 - val_loss: 2.1516 - val_mae_last_step: 2.4176 - lr: 0.0100\n",
            "Epoch 25/200\n",
            "11/11 [==============================] - 2s 196ms/step - loss: 2.2118 - mae_last_step: 2.3407 - val_loss: 2.1618 - val_mae_last_step: 2.2749 - lr: 0.0100\n",
            "Epoch 26/200\n",
            "11/11 [==============================] - 2s 194ms/step - loss: 2.2281 - mae_last_step: 2.3825 - val_loss: 2.1167 - val_mae_last_step: 2.3580 - lr: 0.0100\n",
            "Epoch 27/200\n",
            "11/11 [==============================] - 2s 196ms/step - loss: 2.1912 - mae_last_step: 2.3391 - val_loss: 2.0729 - val_mae_last_step: 2.2461 - lr: 0.0100\n",
            "Epoch 28/200\n",
            "11/11 [==============================] - 2s 196ms/step - loss: 2.1674 - mae_last_step: 2.3111 - val_loss: 2.0825 - val_mae_last_step: 2.3021 - lr: 0.0100\n",
            "Epoch 29/200\n",
            "11/11 [==============================] - 2s 194ms/step - loss: 2.1758 - mae_last_step: 2.3215 - val_loss: 2.0694 - val_mae_last_step: 2.2443 - lr: 0.0100\n",
            "Epoch 30/200\n",
            "11/11 [==============================] - 2s 195ms/step - loss: 2.1891 - mae_last_step: 2.3641 - val_loss: 2.0992 - val_mae_last_step: 2.3597 - lr: 0.0100\n",
            "Epoch 31/200\n",
            "11/11 [==============================] - 2s 199ms/step - loss: 2.1605 - mae_last_step: 2.3165 - val_loss: 2.0575 - val_mae_last_step: 2.2438 - lr: 0.0100\n",
            "Epoch 32/200\n",
            "11/11 [==============================] - 2s 195ms/step - loss: 2.1531 - mae_last_step: 2.3047 - val_loss: 2.0492 - val_mae_last_step: 2.2606 - lr: 0.0100\n",
            "Epoch 33/200\n",
            "11/11 [==============================] - 2s 195ms/step - loss: 2.1443 - mae_last_step: 2.3224 - val_loss: 2.0714 - val_mae_last_step: 2.2493 - lr: 0.0100\n",
            "Epoch 34/200\n",
            "11/11 [==============================] - 2s 196ms/step - loss: 2.1418 - mae_last_step: 2.3138 - val_loss: 2.0586 - val_mae_last_step: 2.3017 - lr: 0.0100\n",
            "Epoch 35/200\n",
            "11/11 [==============================] - 2s 196ms/step - loss: 2.1515 - mae_last_step: 2.3461 - val_loss: 2.0365 - val_mae_last_step: 2.2421 - lr: 0.0100\n",
            "Epoch 36/200\n",
            "11/11 [==============================] - 2s 195ms/step - loss: 2.1401 - mae_last_step: 2.3347 - val_loss: 2.0576 - val_mae_last_step: 2.3202 - lr: 0.0100\n",
            "Epoch 37/200\n",
            "11/11 [==============================] - 2s 197ms/step - loss: 2.1287 - mae_last_step: 2.3131 - val_loss: 2.0453 - val_mae_last_step: 2.2932 - lr: 0.0100\n",
            "Epoch 38/200\n",
            "11/11 [==============================] - 2s 195ms/step - loss: 2.1220 - mae_last_step: 2.3185 - val_loss: 2.0371 - val_mae_last_step: 2.2847 - lr: 0.0100\n",
            "Epoch 39/200\n",
            "11/11 [==============================] - 2s 197ms/step - loss: 2.1236 - mae_last_step: 2.3299 - val_loss: 2.0356 - val_mae_last_step: 2.2463 - lr: 0.0100\n",
            "Epoch 40/200\n",
            "11/11 [==============================] - 2s 195ms/step - loss: 2.1091 - mae_last_step: 2.2966 - val_loss: 2.0127 - val_mae_last_step: 2.2445 - lr: 0.0100\n",
            "Epoch 41/200\n",
            "11/11 [==============================] - 2s 196ms/step - loss: 2.1055 - mae_last_step: 2.2948 - val_loss: 2.0217 - val_mae_last_step: 2.2468 - lr: 0.0100\n",
            "Epoch 42/200\n",
            "11/11 [==============================] - 2s 196ms/step - loss: 2.1067 - mae_last_step: 2.3138 - val_loss: 2.0742 - val_mae_last_step: 2.3706 - lr: 0.0100\n",
            "Epoch 43/200\n",
            "11/11 [==============================] - 2s 195ms/step - loss: 2.1104 - mae_last_step: 2.3150 - val_loss: 2.0377 - val_mae_last_step: 2.2584 - lr: 0.0100\n",
            "Epoch 44/200\n",
            "11/11 [==============================] - 2s 203ms/step - loss: 2.1192 - mae_last_step: 2.3299 - val_loss: 2.0063 - val_mae_last_step: 2.2572 - lr: 0.0100\n",
            "Epoch 45/200\n",
            "11/11 [==============================] - 2s 199ms/step - loss: 2.1064 - mae_last_step: 2.3195 - val_loss: 1.9994 - val_mae_last_step: 2.2448 - lr: 0.0100\n",
            "Epoch 46/200\n",
            "11/11 [==============================] - 2s 199ms/step - loss: 2.1003 - mae_last_step: 2.3265 - val_loss: 1.9957 - val_mae_last_step: 2.2407 - lr: 0.0100\n",
            "Epoch 47/200\n",
            "11/11 [==============================] - 2s 195ms/step - loss: 2.0811 - mae_last_step: 2.2991 - val_loss: 1.9931 - val_mae_last_step: 2.2449 - lr: 0.0100\n",
            "Epoch 48/200\n",
            "11/11 [==============================] - 2s 194ms/step - loss: 2.0795 - mae_last_step: 2.2911 - val_loss: 1.9974 - val_mae_last_step: 2.2575 - lr: 0.0100\n",
            "Epoch 49/200\n",
            "11/11 [==============================] - 2s 196ms/step - loss: 2.0827 - mae_last_step: 2.3091 - val_loss: 2.0150 - val_mae_last_step: 2.2971 - lr: 0.0100\n",
            "Epoch 50/200\n",
            "11/11 [==============================] - 2s 194ms/step - loss: 2.0863 - mae_last_step: 2.3245 - val_loss: 2.0030 - val_mae_last_step: 2.2538 - lr: 0.0100\n",
            "Epoch 51/200\n",
            "11/11 [==============================] - 2s 197ms/step - loss: 2.0849 - mae_last_step: 2.3136 - val_loss: 2.0009 - val_mae_last_step: 2.2720 - lr: 0.0100\n",
            "Epoch 52/200\n",
            "11/11 [==============================] - 2s 194ms/step - loss: 2.0756 - mae_last_step: 2.3061 - val_loss: 1.9977 - val_mae_last_step: 2.2520 - lr: 0.0100\n",
            "Epoch 53/200\n",
            "11/11 [==============================] - 2s 200ms/step - loss: 2.0676 - mae_last_step: 2.2913 - val_loss: 2.0285 - val_mae_last_step: 2.2802 - lr: 0.0100\n",
            "Epoch 54/200\n",
            "11/11 [==============================] - 2s 197ms/step - loss: 2.0699 - mae_last_step: 2.3045 - val_loss: 1.9843 - val_mae_last_step: 2.2526 - lr: 0.0100\n",
            "Epoch 55/200\n",
            "11/11 [==============================] - 2s 197ms/step - loss: 2.0561 - mae_last_step: 2.2895 - val_loss: 1.9701 - val_mae_last_step: 2.2416 - lr: 0.0100\n",
            "Epoch 56/200\n",
            "11/11 [==============================] - 2s 198ms/step - loss: 2.0561 - mae_last_step: 2.2954 - val_loss: 1.9668 - val_mae_last_step: 2.2382 - lr: 0.0100\n",
            "Epoch 57/200\n",
            "11/11 [==============================] - 2s 197ms/step - loss: 2.0540 - mae_last_step: 2.2935 - val_loss: 1.9869 - val_mae_last_step: 2.2605 - lr: 0.0100\n",
            "Epoch 58/200\n",
            "11/11 [==============================] - 2s 198ms/step - loss: 2.0717 - mae_last_step: 2.3352 - val_loss: 1.9982 - val_mae_last_step: 2.2875 - lr: 0.0100\n",
            "Epoch 59/200\n",
            "11/11 [==============================] - 2s 195ms/step - loss: 2.0579 - mae_last_step: 2.2965 - val_loss: 1.9796 - val_mae_last_step: 2.2553 - lr: 0.0100\n",
            "Epoch 60/200\n",
            "11/11 [==============================] - 2s 198ms/step - loss: 2.0808 - mae_last_step: 2.3407 - val_loss: 1.9690 - val_mae_last_step: 2.2556 - lr: 0.0100\n",
            "Epoch 61/200\n",
            "11/11 [==============================] - 2s 196ms/step - loss: 2.0428 - mae_last_step: 2.2902 - val_loss: 1.9550 - val_mae_last_step: 2.2362 - lr: 0.0100\n",
            "Epoch 62/200\n",
            "11/11 [==============================] - 2s 195ms/step - loss: 2.0490 - mae_last_step: 2.3030 - val_loss: 1.9600 - val_mae_last_step: 2.2476 - lr: 0.0100\n",
            "Epoch 63/200\n",
            "11/11 [==============================] - 2s 195ms/step - loss: 2.0456 - mae_last_step: 2.3001 - val_loss: 1.9507 - val_mae_last_step: 2.2382 - lr: 0.0100\n",
            "Epoch 64/200\n",
            "11/11 [==============================] - 2s 196ms/step - loss: 2.0384 - mae_last_step: 2.2966 - val_loss: 1.9517 - val_mae_last_step: 2.2441 - lr: 0.0100\n",
            "Epoch 65/200\n",
            "11/11 [==============================] - 2s 196ms/step - loss: 2.0394 - mae_last_step: 2.3005 - val_loss: 1.9574 - val_mae_last_step: 2.2453 - lr: 0.0100\n",
            "Epoch 66/200\n",
            "11/11 [==============================] - 2s 198ms/step - loss: 2.0426 - mae_last_step: 2.3031 - val_loss: 1.9502 - val_mae_last_step: 2.2425 - lr: 0.0100\n",
            "Epoch 67/200\n",
            "11/11 [==============================] - 2s 198ms/step - loss: 2.0460 - mae_last_step: 2.3151 - val_loss: 1.9555 - val_mae_last_step: 2.2519 - lr: 0.0100\n",
            "Epoch 68/200\n",
            "11/11 [==============================] - 2s 196ms/step - loss: 2.0326 - mae_last_step: 2.2862 - val_loss: 1.9904 - val_mae_last_step: 2.3003 - lr: 0.0100\n",
            "Epoch 69/200\n",
            "11/11 [==============================] - 2s 196ms/step - loss: 2.0580 - mae_last_step: 2.3243 - val_loss: 1.9890 - val_mae_last_step: 2.2880 - lr: 0.0100\n",
            "Epoch 70/200\n",
            "11/11 [==============================] - 2s 199ms/step - loss: 2.0415 - mae_last_step: 2.3083 - val_loss: 1.9499 - val_mae_last_step: 2.2495 - lr: 0.0100\n",
            "Epoch 71/200\n",
            "11/11 [==============================] - 2s 200ms/step - loss: 2.0210 - mae_last_step: 2.2802 - val_loss: 1.9429 - val_mae_last_step: 2.2401 - lr: 0.0100\n",
            "Epoch 72/200\n",
            "11/11 [==============================] - 2s 202ms/step - loss: 2.0302 - mae_last_step: 2.2866 - val_loss: 1.9360 - val_mae_last_step: 2.2388 - lr: 0.0100\n",
            "Epoch 73/200\n",
            "11/11 [==============================] - 2s 202ms/step - loss: 2.0360 - mae_last_step: 2.3022 - val_loss: 1.9774 - val_mae_last_step: 2.2957 - lr: 0.0100\n",
            "Epoch 74/200\n",
            "11/11 [==============================] - 2s 201ms/step - loss: 2.0196 - mae_last_step: 2.2962 - val_loss: 1.9484 - val_mae_last_step: 2.2569 - lr: 0.0100\n",
            "Epoch 75/200\n",
            "11/11 [==============================] - 2s 197ms/step - loss: 2.0303 - mae_last_step: 2.3043 - val_loss: 1.9463 - val_mae_last_step: 2.2533 - lr: 0.0100\n",
            "Epoch 76/200\n",
            "11/11 [==============================] - 2s 194ms/step - loss: 2.0187 - mae_last_step: 2.2837 - val_loss: 1.9344 - val_mae_last_step: 2.2442 - lr: 0.0100\n",
            "Epoch 77/200\n",
            "11/11 [==============================] - 2s 196ms/step - loss: 2.0229 - mae_last_step: 2.2868 - val_loss: 1.9493 - val_mae_last_step: 2.2617 - lr: 0.0100\n",
            "Epoch 78/200\n",
            "11/11 [==============================] - 2s 195ms/step - loss: 2.0383 - mae_last_step: 2.3062 - val_loss: 1.9496 - val_mae_last_step: 2.2620 - lr: 0.0100\n",
            "Epoch 79/200\n",
            "11/11 [==============================] - 2s 197ms/step - loss: 2.0139 - mae_last_step: 2.2948 - val_loss: 1.9425 - val_mae_last_step: 2.2587 - lr: 0.0100\n",
            "Epoch 80/200\n",
            "11/11 [==============================] - 2s 197ms/step - loss: 2.0243 - mae_last_step: 2.3126 - val_loss: 1.9234 - val_mae_last_step: 2.2361 - lr: 0.0100\n",
            "Epoch 81/200\n",
            "11/11 [==============================] - 2s 196ms/step - loss: 2.0084 - mae_last_step: 2.2849 - val_loss: 1.9437 - val_mae_last_step: 2.2587 - lr: 0.0100\n",
            "Epoch 82/200\n",
            "11/11 [==============================] - 2s 198ms/step - loss: 2.0185 - mae_last_step: 2.3059 - val_loss: 1.9230 - val_mae_last_step: 2.2384 - lr: 0.0100\n",
            "Epoch 83/200\n",
            "11/11 [==============================] - 2s 195ms/step - loss: 2.0040 - mae_last_step: 2.2818 - val_loss: 1.9234 - val_mae_last_step: 2.2389 - lr: 0.0100\n",
            "Epoch 84/200\n",
            "11/11 [==============================] - 2s 195ms/step - loss: 2.0024 - mae_last_step: 2.2784 - val_loss: 1.9189 - val_mae_last_step: 2.2374 - lr: 0.0100\n",
            "Epoch 85/200\n",
            "11/11 [==============================] - 2s 196ms/step - loss: 2.0110 - mae_last_step: 2.2919 - val_loss: 1.9225 - val_mae_last_step: 2.2433 - lr: 0.0100\n",
            "Epoch 86/200\n",
            "11/11 [==============================] - 2s 198ms/step - loss: 2.0258 - mae_last_step: 2.3123 - val_loss: 1.9178 - val_mae_last_step: 2.2411 - lr: 0.0100\n",
            "Epoch 87/200\n",
            "11/11 [==============================] - 2s 196ms/step - loss: 1.9964 - mae_last_step: 2.2783 - val_loss: 1.9182 - val_mae_last_step: 2.2404 - lr: 0.0100\n",
            "Epoch 88/200\n",
            "11/11 [==============================] - 2s 196ms/step - loss: 2.0046 - mae_last_step: 2.3010 - val_loss: 1.9144 - val_mae_last_step: 2.2398 - lr: 0.0100\n",
            "Epoch 89/200\n",
            "11/11 [==============================] - 2s 198ms/step - loss: 2.0018 - mae_last_step: 2.2821 - val_loss: 1.9140 - val_mae_last_step: 2.2383 - lr: 0.0100\n",
            "Epoch 90/200\n",
            "11/11 [==============================] - 2s 197ms/step - loss: 1.9921 - mae_last_step: 2.2784 - val_loss: 1.9249 - val_mae_last_step: 2.2443 - lr: 0.0100\n",
            "Epoch 91/200\n",
            "11/11 [==============================] - 2s 198ms/step - loss: 2.0037 - mae_last_step: 2.2901 - val_loss: 1.9127 - val_mae_last_step: 2.2370 - lr: 0.0100\n",
            "Epoch 92/200\n",
            "11/11 [==============================] - 2s 196ms/step - loss: 1.9974 - mae_last_step: 2.2754 - val_loss: 1.9200 - val_mae_last_step: 2.2420 - lr: 0.0100\n",
            "Epoch 93/200\n",
            "11/11 [==============================] - 2s 197ms/step - loss: 2.0014 - mae_last_step: 2.2967 - val_loss: 1.9202 - val_mae_last_step: 2.2513 - lr: 0.0100\n",
            "Epoch 94/200\n",
            "11/11 [==============================] - 2s 194ms/step - loss: 1.9935 - mae_last_step: 2.2888 - val_loss: 1.9161 - val_mae_last_step: 2.2416 - lr: 0.0100\n",
            "Epoch 95/200\n",
            "11/11 [==============================] - 2s 195ms/step - loss: 1.9871 - mae_last_step: 2.2892 - val_loss: 1.9211 - val_mae_last_step: 2.2573 - lr: 0.0100\n",
            "Epoch 96/200\n",
            "11/11 [==============================] - 2s 199ms/step - loss: 2.0200 - mae_last_step: 2.3202 - val_loss: 1.9434 - val_mae_last_step: 2.2798 - lr: 0.0100\n",
            "Epoch 97/200\n",
            "11/11 [==============================] - 2s 199ms/step - loss: 2.0011 - mae_last_step: 2.3008 - val_loss: 1.9033 - val_mae_last_step: 2.2331 - lr: 0.0100\n",
            "Epoch 98/200\n",
            "11/11 [==============================] - 2s 197ms/step - loss: 1.9831 - mae_last_step: 2.2787 - val_loss: 1.9104 - val_mae_last_step: 2.2473 - lr: 0.0100\n",
            "Epoch 99/200\n",
            "11/11 [==============================] - 2s 196ms/step - loss: 2.0028 - mae_last_step: 2.2928 - val_loss: 1.9069 - val_mae_last_step: 2.2412 - lr: 0.0100\n",
            "Epoch 100/200\n",
            "11/11 [==============================] - 2s 196ms/step - loss: 1.9859 - mae_last_step: 2.2820 - val_loss: 1.9312 - val_mae_last_step: 2.2595 - lr: 0.0100\n",
            "Epoch 101/200\n",
            "11/11 [==============================] - 2s 195ms/step - loss: 1.9838 - mae_last_step: 2.2835 - val_loss: 1.9176 - val_mae_last_step: 2.2470 - lr: 0.0100\n",
            "Epoch 102/200\n",
            "11/11 [==============================] - 2s 195ms/step - loss: 1.9803 - mae_last_step: 2.2797 - val_loss: 1.9063 - val_mae_last_step: 2.2476 - lr: 0.0100\n",
            "Epoch 103/200\n",
            "11/11 [==============================] - 2s 195ms/step - loss: 1.9858 - mae_last_step: 2.2825 - val_loss: 1.8992 - val_mae_last_step: 2.2358 - lr: 0.0100\n",
            "Epoch 104/200\n",
            "11/11 [==============================] - 2s 196ms/step - loss: 1.9758 - mae_last_step: 2.2696 - val_loss: 1.9361 - val_mae_last_step: 2.2865 - lr: 0.0100\n",
            "Epoch 105/200\n",
            "11/11 [==============================] - 2s 197ms/step - loss: 1.9993 - mae_last_step: 2.2869 - val_loss: 1.9458 - val_mae_last_step: 2.2833 - lr: 0.0100\n",
            "Epoch 106/200\n",
            "11/11 [==============================] - 2s 198ms/step - loss: 1.9868 - mae_last_step: 2.2900 - val_loss: 1.9161 - val_mae_last_step: 2.2550 - lr: 0.0100\n",
            "Epoch 107/200\n",
            "11/11 [==============================] - 2s 198ms/step - loss: 1.9776 - mae_last_step: 2.2796 - val_loss: 1.8944 - val_mae_last_step: 2.2342 - lr: 0.0100\n",
            "Epoch 108/200\n",
            "11/11 [==============================] - 2s 198ms/step - loss: 1.9916 - mae_last_step: 2.2935 - val_loss: 1.8941 - val_mae_last_step: 2.2348 - lr: 0.0100\n",
            "Epoch 109/200\n",
            "11/11 [==============================] - 2s 194ms/step - loss: 1.9725 - mae_last_step: 2.2730 - val_loss: 1.8978 - val_mae_last_step: 2.2424 - lr: 0.0100\n",
            "Epoch 110/200\n",
            "11/11 [==============================] - 2s 195ms/step - loss: 1.9854 - mae_last_step: 2.2884 - val_loss: 1.9027 - val_mae_last_step: 2.2416 - lr: 0.0100\n",
            "Epoch 111/200\n",
            "11/11 [==============================] - 2s 197ms/step - loss: 1.9919 - mae_last_step: 2.2885 - val_loss: 1.9021 - val_mae_last_step: 2.2501 - lr: 0.0100\n",
            "Epoch 112/200\n",
            "11/11 [==============================] - 2s 196ms/step - loss: 1.9765 - mae_last_step: 2.2909 - val_loss: 1.9091 - val_mae_last_step: 2.2476 - lr: 0.0100\n",
            "Epoch 113/200\n",
            "11/11 [==============================] - 2s 198ms/step - loss: 1.9788 - mae_last_step: 2.2897 - val_loss: 1.8906 - val_mae_last_step: 2.2335 - lr: 0.0100\n",
            "Epoch 114/200\n",
            "11/11 [==============================] - 2s 197ms/step - loss: 1.9737 - mae_last_step: 2.2903 - val_loss: 1.9181 - val_mae_last_step: 2.2565 - lr: 0.0100\n",
            "Epoch 115/200\n",
            "11/11 [==============================] - 2s 197ms/step - loss: 1.9832 - mae_last_step: 2.2844 - val_loss: 1.9458 - val_mae_last_step: 2.3108 - lr: 0.0100\n",
            "Epoch 116/200\n",
            "11/11 [==============================] - 2s 197ms/step - loss: 1.9850 - mae_last_step: 2.2923 - val_loss: 1.9004 - val_mae_last_step: 2.2406 - lr: 0.0100\n",
            "Epoch 117/200\n",
            "11/11 [==============================] - 2s 194ms/step - loss: 1.9721 - mae_last_step: 2.2890 - val_loss: 1.8907 - val_mae_last_step: 2.2356 - lr: 0.0100\n",
            "Epoch 118/200\n",
            "11/11 [==============================] - 2s 198ms/step - loss: 1.9639 - mae_last_step: 2.2709 - val_loss: 1.8867 - val_mae_last_step: 2.2355 - lr: 0.0100\n",
            "Epoch 119/200\n",
            "11/11 [==============================] - 2s 195ms/step - loss: 1.9695 - mae_last_step: 2.2794 - val_loss: 1.8949 - val_mae_last_step: 2.2481 - lr: 0.0100\n",
            "Epoch 120/200\n",
            "11/11 [==============================] - 2s 194ms/step - loss: 1.9732 - mae_last_step: 2.2940 - val_loss: 1.8996 - val_mae_last_step: 2.2493 - lr: 0.0100\n",
            "Epoch 121/200\n",
            "11/11 [==============================] - 2s 197ms/step - loss: 1.9759 - mae_last_step: 2.2924 - val_loss: 1.8985 - val_mae_last_step: 2.2580 - lr: 0.0100\n",
            "Epoch 122/200\n",
            "11/11 [==============================] - 2s 198ms/step - loss: 1.9687 - mae_last_step: 2.2849 - val_loss: 1.8823 - val_mae_last_step: 2.2326 - lr: 0.0100\n",
            "Epoch 123/200\n",
            "11/11 [==============================] - 2s 197ms/step - loss: 1.9707 - mae_last_step: 2.2883 - val_loss: 1.8934 - val_mae_last_step: 2.2510 - lr: 0.0100\n",
            "Epoch 124/200\n",
            "11/11 [==============================] - 2s 196ms/step - loss: 1.9621 - mae_last_step: 2.2746 - val_loss: 1.8854 - val_mae_last_step: 2.2413 - lr: 0.0100\n",
            "Epoch 125/200\n",
            "11/11 [==============================] - 2s 196ms/step - loss: 1.9686 - mae_last_step: 2.2983 - val_loss: 1.9247 - val_mae_last_step: 2.2737 - lr: 0.0100\n",
            "Epoch 126/200\n",
            "11/11 [==============================] - 2s 197ms/step - loss: 1.9806 - mae_last_step: 2.2976 - val_loss: 1.8826 - val_mae_last_step: 2.2364 - lr: 0.0100\n",
            "Epoch 127/200\n",
            "11/11 [==============================] - 2s 196ms/step - loss: 1.9784 - mae_last_step: 2.2951 - val_loss: 1.8803 - val_mae_last_step: 2.2343 - lr: 0.0100\n",
            "Epoch 128/200\n",
            "11/11 [==============================] - 2s 196ms/step - loss: 1.9576 - mae_last_step: 2.2662 - val_loss: 1.8794 - val_mae_last_step: 2.2338 - lr: 0.0100\n",
            "Epoch 129/200\n",
            "11/11 [==============================] - 2s 198ms/step - loss: 1.9572 - mae_last_step: 2.2697 - val_loss: 1.8784 - val_mae_last_step: 2.2328 - lr: 0.0100\n",
            "Epoch 130/200\n",
            "11/11 [==============================] - 2s 199ms/step - loss: 1.9683 - mae_last_step: 2.2982 - val_loss: 1.8795 - val_mae_last_step: 2.2346 - lr: 0.0100\n",
            "Epoch 131/200\n",
            "11/11 [==============================] - 2s 196ms/step - loss: 1.9619 - mae_last_step: 2.2726 - val_loss: 1.8769 - val_mae_last_step: 2.2323 - lr: 0.0100\n",
            "Epoch 132/200\n",
            "11/11 [==============================] - 2s 197ms/step - loss: 1.9710 - mae_last_step: 2.2850 - val_loss: 1.8890 - val_mae_last_step: 2.2473 - lr: 0.0100\n",
            "Epoch 133/200\n",
            "11/11 [==============================] - 2s 196ms/step - loss: 1.9578 - mae_last_step: 2.2784 - val_loss: 1.8803 - val_mae_last_step: 2.2348 - lr: 0.0100\n",
            "Epoch 134/200\n",
            "11/11 [==============================] - 2s 196ms/step - loss: 1.9594 - mae_last_step: 2.2914 - val_loss: 1.8749 - val_mae_last_step: 2.2313 - lr: 0.0100\n",
            "Epoch 135/200\n",
            "11/11 [==============================] - 2s 201ms/step - loss: 1.9615 - mae_last_step: 2.2844 - val_loss: 1.8876 - val_mae_last_step: 2.2546 - lr: 0.0100\n",
            "Epoch 136/200\n",
            "11/11 [==============================] - 2s 197ms/step - loss: 1.9604 - mae_last_step: 2.2786 - val_loss: 1.8874 - val_mae_last_step: 2.2435 - lr: 0.0100\n",
            "Epoch 137/200\n",
            "11/11 [==============================] - 2s 196ms/step - loss: 1.9664 - mae_last_step: 2.2959 - val_loss: 1.8854 - val_mae_last_step: 2.2508 - lr: 0.0100\n",
            "Epoch 138/200\n",
            "11/11 [==============================] - 2s 196ms/step - loss: 1.9610 - mae_last_step: 2.2671 - val_loss: 1.8829 - val_mae_last_step: 2.2400 - lr: 0.0100\n",
            "Epoch 139/200\n",
            "11/11 [==============================] - 2s 198ms/step - loss: 1.9524 - mae_last_step: 2.2811 - val_loss: 1.8834 - val_mae_last_step: 2.2428 - lr: 0.0100\n",
            "Epoch 140/200\n",
            "11/11 [==============================] - 2s 197ms/step - loss: 1.9574 - mae_last_step: 2.2701 - val_loss: 1.8747 - val_mae_last_step: 2.2359 - lr: 0.0100\n",
            "Epoch 141/200\n",
            "11/11 [==============================] - 2s 197ms/step - loss: 1.9489 - mae_last_step: 2.2721 - val_loss: 1.8697 - val_mae_last_step: 2.2303 - lr: 0.0100\n",
            "Epoch 142/200\n",
            "11/11 [==============================] - 2s 199ms/step - loss: 1.9484 - mae_last_step: 2.2758 - val_loss: 1.8718 - val_mae_last_step: 2.2316 - lr: 0.0100\n",
            "Epoch 143/200\n",
            "11/11 [==============================] - 2s 196ms/step - loss: 1.9625 - mae_last_step: 2.2876 - val_loss: 1.8698 - val_mae_last_step: 2.2311 - lr: 0.0100\n",
            "Epoch 144/200\n",
            "11/11 [==============================] - 2s 199ms/step - loss: 1.9571 - mae_last_step: 2.2851 - val_loss: 1.8731 - val_mae_last_step: 2.2370 - lr: 0.0100\n",
            "Epoch 145/200\n",
            "11/11 [==============================] - 2s 197ms/step - loss: 1.9471 - mae_last_step: 2.2750 - val_loss: 1.8698 - val_mae_last_step: 2.2332 - lr: 0.0100\n",
            "Epoch 146/200\n",
            "11/11 [==============================] - 2s 195ms/step - loss: 1.9460 - mae_last_step: 2.2777 - val_loss: 1.8805 - val_mae_last_step: 2.2393 - lr: 0.0100\n",
            "Epoch 147/200\n",
            "11/11 [==============================] - 2s 195ms/step - loss: 1.9533 - mae_last_step: 2.2742 - val_loss: 1.8865 - val_mae_last_step: 2.2473 - lr: 0.0100\n",
            "Epoch 148/200\n",
            "11/11 [==============================] - 2s 195ms/step - loss: 1.9588 - mae_last_step: 2.2885 - val_loss: 1.8717 - val_mae_last_step: 2.2338 - lr: 0.0100\n",
            "Epoch 149/200\n",
            "11/11 [==============================] - 2s 197ms/step - loss: 1.9459 - mae_last_step: 2.2712 - val_loss: 1.8674 - val_mae_last_step: 2.2369 - lr: 0.0100\n",
            "Epoch 150/200\n",
            "11/11 [==============================] - 2s 197ms/step - loss: 1.9543 - mae_last_step: 2.2910 - val_loss: 1.8668 - val_mae_last_step: 2.2348 - lr: 0.0100\n",
            "Epoch 151/200\n",
            "11/11 [==============================] - 2s 198ms/step - loss: 1.9445 - mae_last_step: 2.2729 - val_loss: 1.8926 - val_mae_last_step: 2.2548 - lr: 0.0100\n",
            "Epoch 152/200\n",
            "11/11 [==============================] - 2s 200ms/step - loss: 1.9573 - mae_last_step: 2.2802 - val_loss: 1.8784 - val_mae_last_step: 2.2538 - lr: 0.0100\n",
            "Epoch 153/200\n",
            "11/11 [==============================] - 2s 199ms/step - loss: 1.9433 - mae_last_step: 2.2786 - val_loss: 1.8653 - val_mae_last_step: 2.2315 - lr: 0.0100\n",
            "Epoch 154/200\n",
            "11/11 [==============================] - 2s 199ms/step - loss: 1.9520 - mae_last_step: 2.2747 - val_loss: 1.8721 - val_mae_last_step: 2.2372 - lr: 0.0100\n",
            "Epoch 155/200\n",
            "11/11 [==============================] - 2s 200ms/step - loss: 1.9569 - mae_last_step: 2.2957 - val_loss: 1.8704 - val_mae_last_step: 2.2419 - lr: 0.0100\n",
            "Epoch 156/200\n",
            "11/11 [==============================] - 2s 196ms/step - loss: 1.9453 - mae_last_step: 2.2771 - val_loss: 1.9074 - val_mae_last_step: 2.2913 - lr: 0.0100\n",
            "Epoch 157/200\n",
            "11/11 [==============================] - 2s 196ms/step - loss: 1.9477 - mae_last_step: 2.2879 - val_loss: 1.8782 - val_mae_last_step: 2.2412 - lr: 0.0100\n",
            "Epoch 158/200\n",
            "11/11 [==============================] - 2s 195ms/step - loss: 1.9489 - mae_last_step: 2.2799 - val_loss: 1.8651 - val_mae_last_step: 2.2342 - lr: 0.0100\n",
            "Epoch 159/200\n",
            "11/11 [==============================] - 2s 193ms/step - loss: 1.9419 - mae_last_step: 2.2756 - val_loss: 1.8610 - val_mae_last_step: 2.2320 - lr: 0.0100\n",
            "Epoch 160/200\n",
            "11/11 [==============================] - 2s 192ms/step - loss: 1.9517 - mae_last_step: 2.2901 - val_loss: 1.8737 - val_mae_last_step: 2.2542 - lr: 0.0100\n",
            "Epoch 161/200\n",
            "11/11 [==============================] - 2s 190ms/step - loss: 1.9415 - mae_last_step: 2.2727 - val_loss: 1.8644 - val_mae_last_step: 2.2301 - lr: 0.0100\n",
            "Epoch 162/200\n",
            "11/11 [==============================] - 2s 189ms/step - loss: 1.9428 - mae_last_step: 2.2770 - val_loss: 1.8610 - val_mae_last_step: 2.2387 - lr: 0.0100\n",
            "Epoch 163/200\n",
            "11/11 [==============================] - 2s 191ms/step - loss: 1.9460 - mae_last_step: 2.2839 - val_loss: 1.8626 - val_mae_last_step: 2.2339 - lr: 0.0100\n",
            "Epoch 164/200\n",
            "11/11 [==============================] - 2s 191ms/step - loss: 1.9401 - mae_last_step: 2.2772 - val_loss: 1.8587 - val_mae_last_step: 2.2321 - lr: 0.0100\n",
            "Epoch 165/200\n",
            "11/11 [==============================] - 2s 192ms/step - loss: 1.9394 - mae_last_step: 2.2778 - val_loss: 1.8665 - val_mae_last_step: 2.2357 - lr: 0.0100\n",
            "Epoch 166/200\n",
            "11/11 [==============================] - 2s 190ms/step - loss: 1.9521 - mae_last_step: 2.2957 - val_loss: 1.8572 - val_mae_last_step: 2.2272 - lr: 0.0100\n",
            "Epoch 167/200\n",
            "11/11 [==============================] - 2s 193ms/step - loss: 1.9377 - mae_last_step: 2.2716 - val_loss: 1.8664 - val_mae_last_step: 2.2452 - lr: 0.0100\n",
            "Epoch 168/200\n",
            "11/11 [==============================] - 2s 196ms/step - loss: 1.9361 - mae_last_step: 2.2761 - val_loss: 1.8607 - val_mae_last_step: 2.2330 - lr: 0.0100\n",
            "Epoch 169/200\n",
            "11/11 [==============================] - 2s 192ms/step - loss: 1.9346 - mae_last_step: 2.2709 - val_loss: 1.8599 - val_mae_last_step: 2.2315 - lr: 0.0100\n",
            "Epoch 170/200\n",
            "11/11 [==============================] - 2s 194ms/step - loss: 1.9388 - mae_last_step: 2.2791 - val_loss: 1.8629 - val_mae_last_step: 2.2347 - lr: 0.0100\n",
            "Epoch 171/200\n",
            "11/11 [==============================] - 2s 195ms/step - loss: 1.9416 - mae_last_step: 2.2859 - val_loss: 1.8742 - val_mae_last_step: 2.2451 - lr: 0.0100\n",
            "Epoch 172/200\n",
            "11/11 [==============================] - 2s 196ms/step - loss: 1.9359 - mae_last_step: 2.2631 - val_loss: 1.8634 - val_mae_last_step: 2.2495 - lr: 0.0100\n",
            "Epoch 173/200\n",
            "11/11 [==============================] - 2s 195ms/step - loss: 1.9428 - mae_last_step: 2.2820 - val_loss: 1.8579 - val_mae_last_step: 2.2316 - lr: 0.0100\n",
            "Epoch 174/200\n",
            "11/11 [==============================] - 2s 202ms/step - loss: 1.9446 - mae_last_step: 2.2886 - val_loss: 1.8553 - val_mae_last_step: 2.2303 - lr: 0.0100\n",
            "Epoch 175/200\n",
            "11/11 [==============================] - 2s 201ms/step - loss: 1.9522 - mae_last_step: 2.2941 - val_loss: 1.8628 - val_mae_last_step: 2.2434 - lr: 0.0100\n",
            "Epoch 176/200\n",
            "11/11 [==============================] - 2s 197ms/step - loss: 1.9346 - mae_last_step: 2.2742 - val_loss: 1.8599 - val_mae_last_step: 2.2348 - lr: 0.0100\n",
            "Epoch 177/200\n",
            "11/11 [==============================] - 2s 196ms/step - loss: 1.9345 - mae_last_step: 2.2675 - val_loss: 1.8543 - val_mae_last_step: 2.2376 - lr: 0.0100\n",
            "Epoch 178/200\n",
            "11/11 [==============================] - 2s 195ms/step - loss: 1.9325 - mae_last_step: 2.2751 - val_loss: 1.8525 - val_mae_last_step: 2.2319 - lr: 0.0100\n",
            "Epoch 179/200\n",
            "11/11 [==============================] - 2s 198ms/step - loss: 1.9302 - mae_last_step: 2.2726 - val_loss: 1.8552 - val_mae_last_step: 2.2313 - lr: 0.0100\n",
            "Epoch 180/200\n",
            "11/11 [==============================] - 2s 197ms/step - loss: 1.9294 - mae_last_step: 2.2752 - val_loss: 1.8589 - val_mae_last_step: 2.2359 - lr: 0.0100\n",
            "Epoch 181/200\n",
            "11/11 [==============================] - 2s 198ms/step - loss: 1.9307 - mae_last_step: 2.2785 - val_loss: 1.8583 - val_mae_last_step: 2.2359 - lr: 0.0100\n",
            "Epoch 182/200\n",
            "11/11 [==============================] - 2s 197ms/step - loss: 1.9368 - mae_last_step: 2.2824 - val_loss: 1.8533 - val_mae_last_step: 2.2305 - lr: 0.0100\n",
            "Epoch 183/200\n",
            "11/11 [==============================] - 2s 196ms/step - loss: 1.9290 - mae_last_step: 2.2769 - val_loss: 1.8605 - val_mae_last_step: 2.2363 - lr: 0.0100\n",
            "Epoch 184/200\n",
            "11/11 [==============================] - 2s 197ms/step - loss: 1.9360 - mae_last_step: 2.2774 - val_loss: 1.8509 - val_mae_last_step: 2.2339 - lr: 0.0100\n",
            "Epoch 185/200\n",
            "11/11 [==============================] - 2s 197ms/step - loss: 1.9359 - mae_last_step: 2.2855 - val_loss: 1.8596 - val_mae_last_step: 2.2383 - lr: 0.0100\n",
            "Epoch 186/200\n",
            "11/11 [==============================] - 2s 197ms/step - loss: 1.9352 - mae_last_step: 2.2760 - val_loss: 1.8736 - val_mae_last_step: 2.2631 - lr: 0.0100\n",
            "Epoch 187/200\n",
            "11/11 [==============================] - 2s 197ms/step - loss: 1.9477 - mae_last_step: 2.3042 - val_loss: 1.8563 - val_mae_last_step: 2.2365 - lr: 0.0100\n",
            "Epoch 188/200\n",
            "11/11 [==============================] - 2s 197ms/step - loss: 1.9274 - mae_last_step: 2.2816 - val_loss: 1.8532 - val_mae_last_step: 2.2371 - lr: 0.0100\n",
            "Epoch 189/200\n",
            "11/11 [==============================] - 2s 197ms/step - loss: 1.9285 - mae_last_step: 2.2687 - val_loss: 1.8520 - val_mae_last_step: 2.2393 - lr: 0.0100\n",
            "Epoch 190/200\n",
            "11/11 [==============================] - 2s 197ms/step - loss: 1.9327 - mae_last_step: 2.2714 - val_loss: 1.8499 - val_mae_last_step: 2.2349 - lr: 0.0100\n",
            "Epoch 191/200\n",
            "11/11 [==============================] - 2s 195ms/step - loss: 1.9288 - mae_last_step: 2.2723 - val_loss: 1.8552 - val_mae_last_step: 2.2317 - lr: 0.0100\n",
            "Epoch 192/200\n",
            "11/11 [==============================] - 2s 190ms/step - loss: 1.9258 - mae_last_step: 2.2746 - val_loss: 1.8485 - val_mae_last_step: 2.2335 - lr: 0.0100\n",
            "Epoch 193/200\n",
            "11/11 [==============================] - 2s 194ms/step - loss: 1.9271 - mae_last_step: 2.2772 - val_loss: 1.8476 - val_mae_last_step: 2.2341 - lr: 0.0100\n",
            "Epoch 194/200\n",
            "11/11 [==============================] - 2s 194ms/step - loss: 1.9257 - mae_last_step: 2.2729 - val_loss: 1.8482 - val_mae_last_step: 2.2333 - lr: 0.0100\n",
            "Epoch 195/200\n",
            "11/11 [==============================] - 2s 199ms/step - loss: 1.9317 - mae_last_step: 2.2734 - val_loss: 1.8658 - val_mae_last_step: 2.2411 - lr: 0.0100\n",
            "Epoch 196/200\n",
            "11/11 [==============================] - 2s 198ms/step - loss: 1.9302 - mae_last_step: 2.2854 - val_loss: 1.8487 - val_mae_last_step: 2.2325 - lr: 0.0100\n",
            "Epoch 197/200\n",
            "11/11 [==============================] - 2s 195ms/step - loss: 1.9223 - mae_last_step: 2.2746 - val_loss: 1.8458 - val_mae_last_step: 2.2319 - lr: 0.0100\n",
            "Epoch 198/200\n",
            "11/11 [==============================] - 2s 199ms/step - loss: 1.9302 - mae_last_step: 2.2801 - val_loss: 1.8482 - val_mae_last_step: 2.2317 - lr: 0.0100\n",
            "Epoch 199/200\n",
            "11/11 [==============================] - 2s 198ms/step - loss: 1.9270 - mae_last_step: 2.2808 - val_loss: 1.8630 - val_mae_last_step: 2.2578 - lr: 0.0100\n",
            "Epoch 200/200\n",
            "11/11 [==============================] - 2s 196ms/step - loss: 1.9358 - mae_last_step: 2.3005 - val_loss: 1.8492 - val_mae_last_step: 2.2339 - lr: 0.0100\n"
          ],
          "name": "stdout"
        }
      ]
    },
    {
      "cell_type": "code",
      "metadata": {
        "id": "IPIKKktuTPwX",
        "colab_type": "code",
        "outputId": "24dc4a02-3b99-408b-ee8a-4ba1675832a3",
        "colab": {
          "base_uri": "https://localhost:8080/",
          "height": 54
        }
      },
      "source": [
        "model3.evaluate(X_valid_3D, Y_valid_3D)"
      ],
      "execution_count": 72,
      "outputs": [
        {
          "output_type": "stream",
          "text": [
            "23/23 [==============================] - 0s 15ms/step - loss: 1.8492 - mae_last_step: 2.2202\n"
          ],
          "name": "stdout"
        },
        {
          "output_type": "execute_result",
          "data": {
            "text/plain": [
              "[1.849229335784912, 2.220154047012329]"
            ]
          },
          "metadata": {
            "tags": []
          },
          "execution_count": 72
        }
      ]
    },
    {
      "cell_type": "code",
      "metadata": {
        "scrolled": true,
        "id": "oaY0eNM2TPwZ",
        "colab_type": "code",
        "outputId": "3078afbc-d937-442b-d8da-470be3140c87",
        "colab": {
          "base_uri": "https://localhost:8080/",
          "height": 269
        }
      },
      "source": [
        "plot_history(history3, loss=\"mae_last_step\")"
      ],
      "execution_count": 73,
      "outputs": [
        {
          "output_type": "display_data",
          "data": {
            "image/png": "[encoded data removed]",
            "text/plain": [
              "<Figure size 432x288 with 1 Axes>"
            ]
          },
          "metadata": {
            "tags": [],
            "needs_background": "light"
          }
        }
      ]
    },
    {
      "cell_type": "code",
      "metadata": {
        "id": "JAYNJpJpTPwa",
        "colab_type": "code",
        "colab": {}
      },
      "source": [
        "y_pred_rnn3 = model3.predict(X_valid_3D)[:, -1]"
      ],
      "execution_count": 0,
      "outputs": []
    },
    {
      "cell_type": "code",
      "metadata": {
        "id": "RPITUyKkTPwb",
        "colab_type": "code",
        "outputId": "41ec7de4-7751-4d1f-ab35-eeb5fc8eb336",
        "colab": {
          "base_uri": "https://localhost:8080/",
          "height": 321
        }
      },
      "source": [
        "plot_predictions((\"Target\", y_valid),\n",
        "                 (\"Linear\", y_pred_linear),\n",
        "                 (\"RNN\", y_pred_rnn3),\n",
        "                 end=365)"
      ],
      "execution_count": 75,
      "outputs": [
        {
          "output_type": "display_data",
          "data": {
            "image/png": "[encoded data removed]",
            "text/plain": [
              "<Figure size 720x360 with 1 Axes>"
            ]
          },
          "metadata": {
            "tags": [],
            "needs_background": "light"
          }
        }
      ]
    },
    {
      "cell_type": "markdown",
      "metadata": {
        "id": "nw6ToMzQTPwc",
        "colab_type": "text"
      },
      "source": [
        "## 3.2) Add $\\ell_2$ regularization"
      ]
    },
    {
      "cell_type": "code",
      "metadata": {
        "id": "aePVuBk9TPwc",
        "colab_type": "code",
        "colab": {}
      },
      "source": [
        "from functools import partial"
      ],
      "execution_count": 0,
      "outputs": []
    },
    {
      "cell_type": "code",
      "metadata": {
        "id": "WbMm9TM8TPwe",
        "colab_type": "code",
        "colab": {}
      },
      "source": [
        "RegularizedLSTM = partial(keras.layers.LSTM,\n",
        "                          return_sequences=True,\n",
        "                          kernel_regularizer=keras.regularizers.l2(1e-4),\n",
        "                          recurrent_regularizer=keras.regularizers.l2(1e-4))"
      ],
      "execution_count": 0,
      "outputs": []
    },
    {
      "cell_type": "code",
      "metadata": {
        "id": "7CnIPQksTPwf",
        "colab_type": "code",
        "colab": {}
      },
      "source": [
        "model3 = keras.models.Sequential()\n",
        "model3.add(RegularizedLSTM(100, input_shape=input_shape))\n",
        "model3.add(RegularizedLSTM(100))\n",
        "model3.add(keras.layers.Dense(1))\n",
        "model3.compile(loss=huber_loss, optimizer=keras.optimizers.SGD(lr=0.01),\n",
        "               metrics=[mae_last_step])"
      ],
      "execution_count": 0,
      "outputs": []
    },
    {
      "cell_type": "code",
      "metadata": {
        "id": "5go6K0M0TPwg",
        "colab_type": "code",
        "outputId": "715be3a5-4b6e-4c77-ff19-e6b6315accc9",
        "colab": {
          "base_uri": "https://localhost:8080/",
          "height": 1000
        }
      },
      "source": [
        "history3 = model3.fit(X_train_3D, Y_train_3D, epochs=200, batch_size=100,\n",
        "                      validation_data=(X_valid_3D, Y_valid_3D))"
      ],
      "execution_count": 79,
      "outputs": [
        {
          "output_type": "stream",
          "text": [
            "Epoch 1/200\n",
            "22/22 [==============================] - 3s 158ms/step - loss: 7.1513 - mae_last_step: 6.9884 - val_loss: 4.6874 - val_mae_last_step: 4.7225\n",
            "Epoch 2/200\n",
            "22/22 [==============================] - 3s 126ms/step - loss: 3.6572 - mae_last_step: 3.4389 - val_loss: 3.0031 - val_mae_last_step: 3.0481\n",
            "Epoch 3/200\n",
            "22/22 [==============================] - 3s 124ms/step - loss: 3.1300 - mae_last_step: 3.0974 - val_loss: 2.8324 - val_mae_last_step: 2.9072\n",
            "Epoch 4/200\n",
            "22/22 [==============================] - 3s 123ms/step - loss: 2.9789 - mae_last_step: 2.9511 - val_loss: 2.6933 - val_mae_last_step: 2.7742\n",
            "Epoch 5/200\n",
            "22/22 [==============================] - 3s 121ms/step - loss: 2.8015 - mae_last_step: 2.7675 - val_loss: 2.6170 - val_mae_last_step: 2.6875\n",
            "Epoch 6/200\n",
            "22/22 [==============================] - 3s 123ms/step - loss: 2.6411 - mae_last_step: 2.5910 - val_loss: 2.3808 - val_mae_last_step: 2.5572\n",
            "Epoch 7/200\n",
            "22/22 [==============================] - 3s 121ms/step - loss: 2.5637 - mae_last_step: 2.5750 - val_loss: 2.5740 - val_mae_last_step: 2.6726\n",
            "Epoch 8/200\n",
            "22/22 [==============================] - 3s 123ms/step - loss: 2.4655 - mae_last_step: 2.4867 - val_loss: 2.2924 - val_mae_last_step: 2.5003\n",
            "Epoch 9/200\n",
            "22/22 [==============================] - 3s 123ms/step - loss: 2.3784 - mae_last_step: 2.4188 - val_loss: 2.1939 - val_mae_last_step: 2.3190\n",
            "Epoch 10/200\n",
            "22/22 [==============================] - 3s 123ms/step - loss: 2.3021 - mae_last_step: 2.3603 - val_loss: 2.2526 - val_mae_last_step: 2.5684\n",
            "Epoch 11/200\n",
            "22/22 [==============================] - 3s 125ms/step - loss: 2.2741 - mae_last_step: 2.3397 - val_loss: 2.1467 - val_mae_last_step: 2.2895\n",
            "Epoch 12/200\n",
            "22/22 [==============================] - 3s 123ms/step - loss: 2.2493 - mae_last_step: 2.3342 - val_loss: 2.1457 - val_mae_last_step: 2.3413\n",
            "Epoch 13/200\n",
            "22/22 [==============================] - 3s 123ms/step - loss: 2.2511 - mae_last_step: 2.3501 - val_loss: 2.1189 - val_mae_last_step: 2.2883\n",
            "Epoch 14/200\n",
            "22/22 [==============================] - 3s 122ms/step - loss: 2.2373 - mae_last_step: 2.3561 - val_loss: 2.1054 - val_mae_last_step: 2.2800\n",
            "Epoch 15/200\n",
            "22/22 [==============================] - 3s 123ms/step - loss: 2.2234 - mae_last_step: 2.3388 - val_loss: 2.1189 - val_mae_last_step: 2.2690\n",
            "Epoch 16/200\n",
            "22/22 [==============================] - 3s 123ms/step - loss: 2.1949 - mae_last_step: 2.3281 - val_loss: 2.1497 - val_mae_last_step: 2.3029\n",
            "Epoch 17/200\n",
            "22/22 [==============================] - 3s 123ms/step - loss: 2.1854 - mae_last_step: 2.3183 - val_loss: 2.0789 - val_mae_last_step: 2.2628\n",
            "Epoch 18/200\n",
            "22/22 [==============================] - 3s 123ms/step - loss: 2.1735 - mae_last_step: 2.3187 - val_loss: 2.0836 - val_mae_last_step: 2.3163\n",
            "Epoch 19/200\n",
            "22/22 [==============================] - 3s 120ms/step - loss: 2.1646 - mae_last_step: 2.3190 - val_loss: 2.0675 - val_mae_last_step: 2.2832\n",
            "Epoch 20/200\n",
            "22/22 [==============================] - 3s 123ms/step - loss: 2.1516 - mae_last_step: 2.2936 - val_loss: 2.0729 - val_mae_last_step: 2.2730\n",
            "Epoch 21/200\n",
            "22/22 [==============================] - 3s 123ms/step - loss: 2.1535 - mae_last_step: 2.3067 - val_loss: 2.0457 - val_mae_last_step: 2.2636\n",
            "Epoch 22/200\n",
            "22/22 [==============================] - 3s 124ms/step - loss: 2.1400 - mae_last_step: 2.3139 - val_loss: 2.0487 - val_mae_last_step: 2.2676\n",
            "Epoch 23/200\n",
            "22/22 [==============================] - 3s 122ms/step - loss: 2.1274 - mae_last_step: 2.3134 - val_loss: 2.0324 - val_mae_last_step: 2.2618\n",
            "Epoch 24/200\n",
            "22/22 [==============================] - 3s 123ms/step - loss: 2.1271 - mae_last_step: 2.3039 - val_loss: 2.0282 - val_mae_last_step: 2.2614\n",
            "Epoch 25/200\n",
            "22/22 [==============================] - 3s 124ms/step - loss: 2.1212 - mae_last_step: 2.3055 - val_loss: 2.0496 - val_mae_last_step: 2.3097\n",
            "Epoch 26/200\n",
            "22/22 [==============================] - 3s 123ms/step - loss: 2.1141 - mae_last_step: 2.2950 - val_loss: 2.0212 - val_mae_last_step: 2.2648\n",
            "Epoch 27/200\n",
            "22/22 [==============================] - 3s 123ms/step - loss: 2.1068 - mae_last_step: 2.3073 - val_loss: 2.0131 - val_mae_last_step: 2.2600\n",
            "Epoch 28/200\n",
            "22/22 [==============================] - 3s 123ms/step - loss: 2.1133 - mae_last_step: 2.2989 - val_loss: 2.0101 - val_mae_last_step: 2.2616\n",
            "Epoch 29/200\n",
            "22/22 [==============================] - 3s 123ms/step - loss: 2.0946 - mae_last_step: 2.3051 - val_loss: 2.0106 - val_mae_last_step: 2.2654\n",
            "Epoch 30/200\n",
            "22/22 [==============================] - 3s 123ms/step - loss: 2.0967 - mae_last_step: 2.3118 - val_loss: 2.0054 - val_mae_last_step: 2.2653\n",
            "Epoch 31/200\n",
            "22/22 [==============================] - 3s 123ms/step - loss: 2.0942 - mae_last_step: 2.2992 - val_loss: 2.0207 - val_mae_last_step: 2.3056\n",
            "Epoch 32/200\n",
            "22/22 [==============================] - 3s 123ms/step - loss: 2.0892 - mae_last_step: 2.2951 - val_loss: 2.0012 - val_mae_last_step: 2.2707\n",
            "Epoch 33/200\n",
            "22/22 [==============================] - 3s 123ms/step - loss: 2.0744 - mae_last_step: 2.2969 - val_loss: 2.0173 - val_mae_last_step: 2.3140\n",
            "Epoch 34/200\n",
            "22/22 [==============================] - 3s 123ms/step - loss: 2.0879 - mae_last_step: 2.2985 - val_loss: 1.9974 - val_mae_last_step: 2.2719\n",
            "Epoch 35/200\n",
            "22/22 [==============================] - 3s 124ms/step - loss: 2.0812 - mae_last_step: 2.3138 - val_loss: 1.9856 - val_mae_last_step: 2.2629\n",
            "Epoch 36/200\n",
            "22/22 [==============================] - 3s 122ms/step - loss: 2.0658 - mae_last_step: 2.2943 - val_loss: 1.9788 - val_mae_last_step: 2.2616\n",
            "Epoch 37/200\n",
            "22/22 [==============================] - 3s 122ms/step - loss: 2.0597 - mae_last_step: 2.3006 - val_loss: 2.0221 - val_mae_last_step: 2.3190\n",
            "Epoch 38/200\n",
            "22/22 [==============================] - 3s 124ms/step - loss: 2.0625 - mae_last_step: 2.2915 - val_loss: 1.9752 - val_mae_last_step: 2.2607\n",
            "Epoch 39/200\n",
            "22/22 [==============================] - 3s 123ms/step - loss: 2.0629 - mae_last_step: 2.2967 - val_loss: 1.9745 - val_mae_last_step: 2.2613\n",
            "Epoch 40/200\n",
            "22/22 [==============================] - 3s 123ms/step - loss: 2.0501 - mae_last_step: 2.2853 - val_loss: 1.9858 - val_mae_last_step: 2.2816\n",
            "Epoch 41/200\n",
            "22/22 [==============================] - 3s 123ms/step - loss: 2.0585 - mae_last_step: 2.3012 - val_loss: 1.9781 - val_mae_last_step: 2.2737\n",
            "Epoch 42/200\n",
            "22/22 [==============================] - 3s 122ms/step - loss: 2.0519 - mae_last_step: 2.2872 - val_loss: 1.9718 - val_mae_last_step: 2.2596\n",
            "Epoch 43/200\n",
            "22/22 [==============================] - 3s 122ms/step - loss: 2.0594 - mae_last_step: 2.3008 - val_loss: 1.9712 - val_mae_last_step: 2.2617\n",
            "Epoch 44/200\n",
            "22/22 [==============================] - 3s 122ms/step - loss: 2.0483 - mae_last_step: 2.3209 - val_loss: 1.9754 - val_mae_last_step: 2.2658\n",
            "Epoch 45/200\n",
            "22/22 [==============================] - 3s 122ms/step - loss: 2.0435 - mae_last_step: 2.2915 - val_loss: 1.9696 - val_mae_last_step: 2.2673\n",
            "Epoch 46/200\n",
            "22/22 [==============================] - 3s 123ms/step - loss: 2.0354 - mae_last_step: 2.2936 - val_loss: 1.9739 - val_mae_last_step: 2.2863\n",
            "Epoch 47/200\n",
            "22/22 [==============================] - 3s 122ms/step - loss: 2.0378 - mae_last_step: 2.2888 - val_loss: 2.0347 - val_mae_last_step: 2.3450\n",
            "Epoch 48/200\n",
            "22/22 [==============================] - 3s 121ms/step - loss: 2.0370 - mae_last_step: 2.2873 - val_loss: 1.9524 - val_mae_last_step: 2.2544\n",
            "Epoch 49/200\n",
            "22/22 [==============================] - 3s 123ms/step - loss: 2.0366 - mae_last_step: 2.3041 - val_loss: 1.9511 - val_mae_last_step: 2.2593\n",
            "Epoch 50/200\n",
            "22/22 [==============================] - 3s 122ms/step - loss: 2.0409 - mae_last_step: 2.3077 - val_loss: 2.0004 - val_mae_last_step: 2.3355\n",
            "Epoch 51/200\n",
            "22/22 [==============================] - 3s 122ms/step - loss: 2.0429 - mae_last_step: 2.3023 - val_loss: 1.9714 - val_mae_last_step: 2.2952\n",
            "Epoch 52/200\n",
            "22/22 [==============================] - 3s 122ms/step - loss: 2.0298 - mae_last_step: 2.2847 - val_loss: 1.9898 - val_mae_last_step: 2.3249\n",
            "Epoch 53/200\n",
            "22/22 [==============================] - 3s 123ms/step - loss: 2.0347 - mae_last_step: 2.3100 - val_loss: 1.9443 - val_mae_last_step: 2.2578\n",
            "Epoch 54/200\n",
            "22/22 [==============================] - 3s 123ms/step - loss: 2.0232 - mae_last_step: 2.2787 - val_loss: 1.9445 - val_mae_last_step: 2.2705\n",
            "Epoch 55/200\n",
            "22/22 [==============================] - 3s 123ms/step - loss: 2.0152 - mae_last_step: 2.2749 - val_loss: 1.9415 - val_mae_last_step: 2.2636\n",
            "Epoch 56/200\n",
            "22/22 [==============================] - 3s 122ms/step - loss: 2.0192 - mae_last_step: 2.2825 - val_loss: 1.9356 - val_mae_last_step: 2.2585\n",
            "Epoch 57/200\n",
            "22/22 [==============================] - 3s 123ms/step - loss: 2.0194 - mae_last_step: 2.2844 - val_loss: 1.9510 - val_mae_last_step: 2.2685\n",
            "Epoch 58/200\n",
            "22/22 [==============================] - 3s 122ms/step - loss: 2.0246 - mae_last_step: 2.3009 - val_loss: 1.9318 - val_mae_last_step: 2.2589\n",
            "Epoch 59/200\n",
            "22/22 [==============================] - 3s 123ms/step - loss: 2.0138 - mae_last_step: 2.2946 - val_loss: 1.9429 - val_mae_last_step: 2.2729\n",
            "Epoch 60/200\n",
            "22/22 [==============================] - 3s 122ms/step - loss: 2.0172 - mae_last_step: 2.2964 - val_loss: 1.9424 - val_mae_last_step: 2.2646\n",
            "Epoch 61/200\n",
            "22/22 [==============================] - 3s 122ms/step - loss: 2.0090 - mae_last_step: 2.2802 - val_loss: 1.9273 - val_mae_last_step: 2.2552\n",
            "Epoch 62/200\n",
            "22/22 [==============================] - 3s 122ms/step - loss: 2.0114 - mae_last_step: 2.2849 - val_loss: 1.9293 - val_mae_last_step: 2.2578\n",
            "Epoch 63/200\n",
            "22/22 [==============================] - 3s 124ms/step - loss: 2.0128 - mae_last_step: 2.2854 - val_loss: 1.9361 - val_mae_last_step: 2.2772\n",
            "Epoch 64/200\n",
            "22/22 [==============================] - 3s 122ms/step - loss: 2.0085 - mae_last_step: 2.2852 - val_loss: 1.9269 - val_mae_last_step: 2.2633\n",
            "Epoch 65/200\n",
            "22/22 [==============================] - 3s 124ms/step - loss: 2.0050 - mae_last_step: 2.2875 - val_loss: 1.9342 - val_mae_last_step: 2.2753\n",
            "Epoch 66/200\n",
            "22/22 [==============================] - 3s 124ms/step - loss: 2.0094 - mae_last_step: 2.2792 - val_loss: 1.9222 - val_mae_last_step: 2.2562\n",
            "Epoch 67/200\n",
            "22/22 [==============================] - 3s 123ms/step - loss: 2.0008 - mae_last_step: 2.2838 - val_loss: 1.9189 - val_mae_last_step: 2.2566\n",
            "Epoch 68/200\n",
            "22/22 [==============================] - 3s 123ms/step - loss: 2.0056 - mae_last_step: 2.2950 - val_loss: 1.9271 - val_mae_last_step: 2.2699\n",
            "Epoch 69/200\n",
            "22/22 [==============================] - 3s 124ms/step - loss: 2.0000 - mae_last_step: 2.2866 - val_loss: 1.9296 - val_mae_last_step: 2.2764\n",
            "Epoch 70/200\n",
            "22/22 [==============================] - 3s 122ms/step - loss: 2.0014 - mae_last_step: 2.2875 - val_loss: 1.9223 - val_mae_last_step: 2.2580\n",
            "Epoch 71/200\n",
            "22/22 [==============================] - 3s 123ms/step - loss: 1.9933 - mae_last_step: 2.2770 - val_loss: 1.9222 - val_mae_last_step: 2.2710\n",
            "Epoch 72/200\n",
            "22/22 [==============================] - 3s 123ms/step - loss: 2.0027 - mae_last_step: 2.2951 - val_loss: 1.9176 - val_mae_last_step: 2.2558\n",
            "Epoch 73/200\n",
            "22/22 [==============================] - 3s 123ms/step - loss: 2.0028 - mae_last_step: 2.2937 - val_loss: 1.9369 - val_mae_last_step: 2.2728\n",
            "Epoch 74/200\n",
            "22/22 [==============================] - 3s 123ms/step - loss: 1.9994 - mae_last_step: 2.3023 - val_loss: 1.9250 - val_mae_last_step: 2.2832\n",
            "Epoch 75/200\n",
            "22/22 [==============================] - 3s 123ms/step - loss: 1.9955 - mae_last_step: 2.2846 - val_loss: 1.9118 - val_mae_last_step: 2.2571\n",
            "Epoch 76/200\n",
            "22/22 [==============================] - 3s 123ms/step - loss: 1.9953 - mae_last_step: 2.2823 - val_loss: 1.9174 - val_mae_last_step: 2.2656\n",
            "Epoch 77/200\n",
            "22/22 [==============================] - 3s 125ms/step - loss: 1.9890 - mae_last_step: 2.2823 - val_loss: 1.9545 - val_mae_last_step: 2.3186\n",
            "Epoch 78/200\n",
            "22/22 [==============================] - 3s 124ms/step - loss: 1.9913 - mae_last_step: 2.3009 - val_loss: 1.9114 - val_mae_last_step: 2.2550\n",
            "Epoch 79/200\n",
            "22/22 [==============================] - 3s 123ms/step - loss: 1.9843 - mae_last_step: 2.2676 - val_loss: 1.9063 - val_mae_last_step: 2.2555\n",
            "Epoch 80/200\n",
            "22/22 [==============================] - 3s 124ms/step - loss: 1.9842 - mae_last_step: 2.2824 - val_loss: 1.9123 - val_mae_last_step: 2.2738\n",
            "Epoch 81/200\n",
            "22/22 [==============================] - 3s 124ms/step - loss: 1.9890 - mae_last_step: 2.2950 - val_loss: 1.9215 - val_mae_last_step: 2.2842\n",
            "Epoch 82/200\n",
            "22/22 [==============================] - 3s 122ms/step - loss: 1.9894 - mae_last_step: 2.2970 - val_loss: 1.9143 - val_mae_last_step: 2.2619\n",
            "Epoch 83/200\n",
            "22/22 [==============================] - 3s 124ms/step - loss: 1.9807 - mae_last_step: 2.2738 - val_loss: 1.9083 - val_mae_last_step: 2.2643\n",
            "Epoch 84/200\n",
            "22/22 [==============================] - 3s 125ms/step - loss: 1.9826 - mae_last_step: 2.2727 - val_loss: 1.9067 - val_mae_last_step: 2.2630\n",
            "Epoch 85/200\n",
            "22/22 [==============================] - 3s 125ms/step - loss: 1.9812 - mae_last_step: 2.2797 - val_loss: 1.9053 - val_mae_last_step: 2.2566\n",
            "Epoch 86/200\n",
            "22/22 [==============================] - 3s 123ms/step - loss: 1.9841 - mae_last_step: 2.2979 - val_loss: 1.9044 - val_mae_last_step: 2.2563\n",
            "Epoch 87/200\n",
            "22/22 [==============================] - 3s 124ms/step - loss: 1.9777 - mae_last_step: 2.2714 - val_loss: 1.9105 - val_mae_last_step: 2.2754\n",
            "Epoch 88/200\n",
            "22/22 [==============================] - 3s 122ms/step - loss: 1.9871 - mae_last_step: 2.2769 - val_loss: 1.9002 - val_mae_last_step: 2.2543\n",
            "Epoch 89/200\n",
            "22/22 [==============================] - 3s 122ms/step - loss: 1.9748 - mae_last_step: 2.2766 - val_loss: 1.9131 - val_mae_last_step: 2.2659\n",
            "Epoch 90/200\n",
            "22/22 [==============================] - 3s 124ms/step - loss: 1.9900 - mae_last_step: 2.2869 - val_loss: 1.9159 - val_mae_last_step: 2.2849\n",
            "Epoch 91/200\n",
            "22/22 [==============================] - 3s 122ms/step - loss: 1.9838 - mae_last_step: 2.2833 - val_loss: 1.9184 - val_mae_last_step: 2.2831\n",
            "Epoch 92/200\n",
            "22/22 [==============================] - 3s 122ms/step - loss: 1.9753 - mae_last_step: 2.2797 - val_loss: 1.9016 - val_mae_last_step: 2.2582\n",
            "Epoch 93/200\n",
            "22/22 [==============================] - 3s 123ms/step - loss: 1.9740 - mae_last_step: 2.2624 - val_loss: 1.8917 - val_mae_last_step: 2.2549\n",
            "Epoch 94/200\n",
            "22/22 [==============================] - 3s 123ms/step - loss: 1.9736 - mae_last_step: 2.2831 - val_loss: 1.8958 - val_mae_last_step: 2.2599\n",
            "Epoch 95/200\n",
            "22/22 [==============================] - 3s 121ms/step - loss: 1.9754 - mae_last_step: 2.2884 - val_loss: 1.8934 - val_mae_last_step: 2.2516\n",
            "Epoch 96/200\n",
            "22/22 [==============================] - 3s 123ms/step - loss: 1.9755 - mae_last_step: 2.2807 - val_loss: 2.1465 - val_mae_last_step: 2.5614\n",
            "Epoch 97/200\n",
            "22/22 [==============================] - 3s 123ms/step - loss: 1.9847 - mae_last_step: 2.2772 - val_loss: 1.8934 - val_mae_last_step: 2.2530\n",
            "Epoch 98/200\n",
            "22/22 [==============================] - 3s 122ms/step - loss: 1.9718 - mae_last_step: 2.2774 - val_loss: 1.8950 - val_mae_last_step: 2.2540\n",
            "Epoch 99/200\n",
            "22/22 [==============================] - 3s 124ms/step - loss: 1.9721 - mae_last_step: 2.2884 - val_loss: 1.9101 - val_mae_last_step: 2.2851\n",
            "Epoch 100/200\n",
            "22/22 [==============================] - 3s 124ms/step - loss: 1.9800 - mae_last_step: 2.2837 - val_loss: 1.8948 - val_mae_last_step: 2.2604\n",
            "Epoch 101/200\n",
            "22/22 [==============================] - 3s 122ms/step - loss: 1.9721 - mae_last_step: 2.2899 - val_loss: 1.9116 - val_mae_last_step: 2.2896\n",
            "Epoch 102/200\n",
            "22/22 [==============================] - 3s 123ms/step - loss: 1.9672 - mae_last_step: 2.2886 - val_loss: 1.8867 - val_mae_last_step: 2.2504\n",
            "Epoch 103/200\n",
            "22/22 [==============================] - 3s 122ms/step - loss: 1.9707 - mae_last_step: 2.2832 - val_loss: 1.8898 - val_mae_last_step: 2.2560\n",
            "Epoch 104/200\n",
            "22/22 [==============================] - 3s 123ms/step - loss: 1.9695 - mae_last_step: 2.2935 - val_loss: 1.8926 - val_mae_last_step: 2.2584\n",
            "Epoch 105/200\n",
            "22/22 [==============================] - 3s 123ms/step - loss: 1.9664 - mae_last_step: 2.2893 - val_loss: 1.8915 - val_mae_last_step: 2.2536\n",
            "Epoch 106/200\n",
            "22/22 [==============================] - 3s 123ms/step - loss: 1.9644 - mae_last_step: 2.2672 - val_loss: 1.8863 - val_mae_last_step: 2.2499\n",
            "Epoch 107/200\n",
            "22/22 [==============================] - 3s 123ms/step - loss: 1.9694 - mae_last_step: 2.2875 - val_loss: 1.8855 - val_mae_last_step: 2.2513\n",
            "Epoch 108/200\n",
            "22/22 [==============================] - 3s 123ms/step - loss: 1.9644 - mae_last_step: 2.2745 - val_loss: 1.8845 - val_mae_last_step: 2.2504\n",
            "Epoch 109/200\n",
            "22/22 [==============================] - 3s 123ms/step - loss: 1.9729 - mae_last_step: 2.2878 - val_loss: 1.8853 - val_mae_last_step: 2.2517\n",
            "Epoch 110/200\n",
            "22/22 [==============================] - 3s 128ms/step - loss: 1.9656 - mae_last_step: 2.2776 - val_loss: 1.8849 - val_mae_last_step: 2.2539\n",
            "Epoch 111/200\n",
            "22/22 [==============================] - 3s 127ms/step - loss: 1.9600 - mae_last_step: 2.2737 - val_loss: 1.8881 - val_mae_last_step: 2.2560\n",
            "Epoch 112/200\n",
            "22/22 [==============================] - 3s 125ms/step - loss: 1.9611 - mae_last_step: 2.2699 - val_loss: 1.8841 - val_mae_last_step: 2.2510\n",
            "Epoch 113/200\n",
            "22/22 [==============================] - 3s 123ms/step - loss: 1.9649 - mae_last_step: 2.2817 - val_loss: 1.8885 - val_mae_last_step: 2.2686\n",
            "Epoch 114/200\n",
            "22/22 [==============================] - 3s 123ms/step - loss: 1.9604 - mae_last_step: 2.2778 - val_loss: 1.8915 - val_mae_last_step: 2.2744\n",
            "Epoch 115/200\n",
            "22/22 [==============================] - 3s 124ms/step - loss: 1.9647 - mae_last_step: 2.2754 - val_loss: 1.8917 - val_mae_last_step: 2.2714\n",
            "Epoch 116/200\n",
            "22/22 [==============================] - 3s 123ms/step - loss: 1.9616 - mae_last_step: 2.2849 - val_loss: 1.8833 - val_mae_last_step: 2.2533\n",
            "Epoch 117/200\n",
            "22/22 [==============================] - 3s 122ms/step - loss: 1.9576 - mae_last_step: 2.2747 - val_loss: 1.8801 - val_mae_last_step: 2.2489\n",
            "Epoch 118/200\n",
            "22/22 [==============================] - 3s 124ms/step - loss: 1.9604 - mae_last_step: 2.2926 - val_loss: 1.8826 - val_mae_last_step: 2.2643\n",
            "Epoch 119/200\n",
            "22/22 [==============================] - 3s 123ms/step - loss: 1.9697 - mae_last_step: 2.2842 - val_loss: 1.8939 - val_mae_last_step: 2.2646\n",
            "Epoch 120/200\n",
            "22/22 [==============================] - 3s 124ms/step - loss: 1.9609 - mae_last_step: 2.2813 - val_loss: 1.8775 - val_mae_last_step: 2.2500\n",
            "Epoch 121/200\n",
            "22/22 [==============================] - 3s 123ms/step - loss: 1.9571 - mae_last_step: 2.2659 - val_loss: 1.8808 - val_mae_last_step: 2.2536\n",
            "Epoch 122/200\n",
            "22/22 [==============================] - 3s 123ms/step - loss: 1.9561 - mae_last_step: 2.2714 - val_loss: 1.8752 - val_mae_last_step: 2.2472\n",
            "Epoch 123/200\n",
            "22/22 [==============================] - 3s 122ms/step - loss: 1.9602 - mae_last_step: 2.2745 - val_loss: 1.8831 - val_mae_last_step: 2.2596\n",
            "Epoch 124/200\n",
            "22/22 [==============================] - 3s 123ms/step - loss: 1.9573 - mae_last_step: 2.2663 - val_loss: 1.8728 - val_mae_last_step: 2.2585\n",
            "Epoch 125/200\n",
            "22/22 [==============================] - 3s 123ms/step - loss: 1.9551 - mae_last_step: 2.2744 - val_loss: 1.8885 - val_mae_last_step: 2.2778\n",
            "Epoch 126/200\n",
            "22/22 [==============================] - 3s 123ms/step - loss: 1.9572 - mae_last_step: 2.2782 - val_loss: 1.8777 - val_mae_last_step: 2.2578\n",
            "Epoch 127/200\n",
            "22/22 [==============================] - 3s 123ms/step - loss: 1.9594 - mae_last_step: 2.2912 - val_loss: 1.8808 - val_mae_last_step: 2.2610\n",
            "Epoch 128/200\n",
            "22/22 [==============================] - 3s 124ms/step - loss: 1.9555 - mae_last_step: 2.2760 - val_loss: 1.8748 - val_mae_last_step: 2.2588\n",
            "Epoch 129/200\n",
            "22/22 [==============================] - 3s 123ms/step - loss: 1.9538 - mae_last_step: 2.2793 - val_loss: 1.8747 - val_mae_last_step: 2.2553\n",
            "Epoch 130/200\n",
            "22/22 [==============================] - 3s 125ms/step - loss: 1.9507 - mae_last_step: 2.2656 - val_loss: 1.8849 - val_mae_last_step: 2.2751\n",
            "Epoch 131/200\n",
            "22/22 [==============================] - 3s 124ms/step - loss: 1.9486 - mae_last_step: 2.2790 - val_loss: 1.8733 - val_mae_last_step: 2.2597\n",
            "Epoch 132/200\n",
            "22/22 [==============================] - 3s 124ms/step - loss: 1.9530 - mae_last_step: 2.2738 - val_loss: 1.8774 - val_mae_last_step: 2.2569\n",
            "Epoch 133/200\n",
            "22/22 [==============================] - 3s 123ms/step - loss: 1.9525 - mae_last_step: 2.2795 - val_loss: 1.8712 - val_mae_last_step: 2.2490\n",
            "Epoch 134/200\n",
            "22/22 [==============================] - 3s 123ms/step - loss: 1.9497 - mae_last_step: 2.2701 - val_loss: 1.8725 - val_mae_last_step: 2.2474\n",
            "Epoch 135/200\n",
            "22/22 [==============================] - 3s 124ms/step - loss: 1.9575 - mae_last_step: 2.2998 - val_loss: 1.8701 - val_mae_last_step: 2.2534\n",
            "Epoch 136/200\n",
            "22/22 [==============================] - 3s 123ms/step - loss: 1.9512 - mae_last_step: 2.2847 - val_loss: 1.8873 - val_mae_last_step: 2.2718\n",
            "Epoch 137/200\n",
            "22/22 [==============================] - 3s 123ms/step - loss: 1.9518 - mae_last_step: 2.2681 - val_loss: 1.8954 - val_mae_last_step: 2.2980\n",
            "Epoch 138/200\n",
            "22/22 [==============================] - 3s 122ms/step - loss: 1.9511 - mae_last_step: 2.2785 - val_loss: 1.8800 - val_mae_last_step: 2.2665\n",
            "Epoch 139/200\n",
            "22/22 [==============================] - 3s 123ms/step - loss: 1.9483 - mae_last_step: 2.2772 - val_loss: 1.8940 - val_mae_last_step: 2.2940\n",
            "Epoch 140/200\n",
            "22/22 [==============================] - 3s 123ms/step - loss: 1.9522 - mae_last_step: 2.2736 - val_loss: 1.8690 - val_mae_last_step: 2.2483\n",
            "Epoch 141/200\n",
            "22/22 [==============================] - 3s 124ms/step - loss: 1.9432 - mae_last_step: 2.2619 - val_loss: 1.8731 - val_mae_last_step: 2.2538\n",
            "Epoch 142/200\n",
            "22/22 [==============================] - 3s 122ms/step - loss: 1.9479 - mae_last_step: 2.2729 - val_loss: 1.8714 - val_mae_last_step: 2.2639\n",
            "Epoch 143/200\n",
            "22/22 [==============================] - 3s 122ms/step - loss: 1.9483 - mae_last_step: 2.2789 - val_loss: 1.9025 - val_mae_last_step: 2.3001\n",
            "Epoch 144/200\n",
            "22/22 [==============================] - 3s 120ms/step - loss: 1.9479 - mae_last_step: 2.2863 - val_loss: 1.8646 - val_mae_last_step: 2.2499\n",
            "Epoch 145/200\n",
            "22/22 [==============================] - 3s 122ms/step - loss: 1.9436 - mae_last_step: 2.2798 - val_loss: 1.8768 - val_mae_last_step: 2.2684\n",
            "Epoch 146/200\n",
            "22/22 [==============================] - 3s 124ms/step - loss: 1.9483 - mae_last_step: 2.2668 - val_loss: 1.8721 - val_mae_last_step: 2.2494\n",
            "Epoch 147/200\n",
            "22/22 [==============================] - 3s 122ms/step - loss: 1.9445 - mae_last_step: 2.2786 - val_loss: 1.8709 - val_mae_last_step: 2.2598\n",
            "Epoch 148/200\n",
            "22/22 [==============================] - 3s 124ms/step - loss: 1.9468 - mae_last_step: 2.2846 - val_loss: 1.8723 - val_mae_last_step: 2.2637\n",
            "Epoch 149/200\n",
            "22/22 [==============================] - 3s 124ms/step - loss: 1.9442 - mae_last_step: 2.2738 - val_loss: 1.8696 - val_mae_last_step: 2.2607\n",
            "Epoch 150/200\n",
            "22/22 [==============================] - 3s 122ms/step - loss: 1.9421 - mae_last_step: 2.2714 - val_loss: 1.8747 - val_mae_last_step: 2.2717\n",
            "Epoch 151/200\n",
            "22/22 [==============================] - 3s 121ms/step - loss: 1.9425 - mae_last_step: 2.2810 - val_loss: 1.8996 - val_mae_last_step: 2.3055\n",
            "Epoch 152/200\n",
            "22/22 [==============================] - 3s 123ms/step - loss: 1.9461 - mae_last_step: 2.2755 - val_loss: 1.8687 - val_mae_last_step: 2.2557\n",
            "Epoch 153/200\n",
            "22/22 [==============================] - 3s 124ms/step - loss: 1.9404 - mae_last_step: 2.2680 - val_loss: 1.8640 - val_mae_last_step: 2.2473\n",
            "Epoch 154/200\n",
            "22/22 [==============================] - 3s 123ms/step - loss: 1.9424 - mae_last_step: 2.2810 - val_loss: 1.8696 - val_mae_last_step: 2.2552\n",
            "Epoch 155/200\n",
            "22/22 [==============================] - 3s 124ms/step - loss: 1.9423 - mae_last_step: 2.2832 - val_loss: 1.8630 - val_mae_last_step: 2.2479\n",
            "Epoch 156/200\n",
            "22/22 [==============================] - 3s 123ms/step - loss: 1.9435 - mae_last_step: 2.2589 - val_loss: 1.8617 - val_mae_last_step: 2.2493\n",
            "Epoch 157/200\n",
            "22/22 [==============================] - 3s 123ms/step - loss: 1.9420 - mae_last_step: 2.2810 - val_loss: 1.8641 - val_mae_last_step: 2.2539\n",
            "Epoch 158/200\n",
            "22/22 [==============================] - 3s 124ms/step - loss: 1.9453 - mae_last_step: 2.2719 - val_loss: 1.8741 - val_mae_last_step: 2.2630\n",
            "Epoch 159/200\n",
            "22/22 [==============================] - 3s 123ms/step - loss: 1.9450 - mae_last_step: 2.2784 - val_loss: 1.8809 - val_mae_last_step: 2.2759\n",
            "Epoch 160/200\n",
            "22/22 [==============================] - 3s 123ms/step - loss: 1.9403 - mae_last_step: 2.2708 - val_loss: 1.8696 - val_mae_last_step: 2.2709\n",
            "Epoch 161/200\n",
            "22/22 [==============================] - 3s 123ms/step - loss: 1.9379 - mae_last_step: 2.2817 - val_loss: 1.8675 - val_mae_last_step: 2.2516\n",
            "Epoch 162/200\n",
            "22/22 [==============================] - 3s 124ms/step - loss: 1.9399 - mae_last_step: 2.2728 - val_loss: 1.8867 - val_mae_last_step: 2.2985\n",
            "Epoch 163/200\n",
            "22/22 [==============================] - 3s 123ms/step - loss: 1.9418 - mae_last_step: 2.2841 - val_loss: 1.8626 - val_mae_last_step: 2.2541\n",
            "Epoch 164/200\n",
            "22/22 [==============================] - 3s 124ms/step - loss: 1.9369 - mae_last_step: 2.2807 - val_loss: 1.8601 - val_mae_last_step: 2.2449\n",
            "Epoch 165/200\n",
            "22/22 [==============================] - 3s 124ms/step - loss: 1.9354 - mae_last_step: 2.2708 - val_loss: 1.8644 - val_mae_last_step: 2.2649\n",
            "Epoch 166/200\n",
            "22/22 [==============================] - 3s 123ms/step - loss: 1.9356 - mae_last_step: 2.2673 - val_loss: 1.8618 - val_mae_last_step: 2.2493\n",
            "Epoch 167/200\n",
            "22/22 [==============================] - 3s 122ms/step - loss: 1.9371 - mae_last_step: 2.2712 - val_loss: 1.8627 - val_mae_last_step: 2.2512\n",
            "Epoch 168/200\n",
            "22/22 [==============================] - 3s 124ms/step - loss: 1.9474 - mae_last_step: 2.2945 - val_loss: 1.8592 - val_mae_last_step: 2.2448\n",
            "Epoch 169/200\n",
            "22/22 [==============================] - 3s 123ms/step - loss: 1.9441 - mae_last_step: 2.2668 - val_loss: 1.8571 - val_mae_last_step: 2.2571\n",
            "Epoch 170/200\n",
            "22/22 [==============================] - 3s 125ms/step - loss: 1.9377 - mae_last_step: 2.2805 - val_loss: 1.8669 - val_mae_last_step: 2.2614\n",
            "Epoch 171/200\n",
            "22/22 [==============================] - 3s 123ms/step - loss: 1.9402 - mae_last_step: 2.2887 - val_loss: 1.8667 - val_mae_last_step: 2.2645\n",
            "Epoch 172/200\n",
            "22/22 [==============================] - 3s 124ms/step - loss: 1.9385 - mae_last_step: 2.2681 - val_loss: 1.9001 - val_mae_last_step: 2.3044\n",
            "Epoch 173/200\n",
            "22/22 [==============================] - 3s 126ms/step - loss: 1.9420 - mae_last_step: 2.2822 - val_loss: 1.8674 - val_mae_last_step: 2.2725\n",
            "Epoch 174/200\n",
            "22/22 [==============================] - 3s 124ms/step - loss: 1.9418 - mae_last_step: 2.2762 - val_loss: 1.8647 - val_mae_last_step: 2.2600\n",
            "Epoch 175/200\n",
            "22/22 [==============================] - 3s 124ms/step - loss: 1.9349 - mae_last_step: 2.2778 - val_loss: 1.8766 - val_mae_last_step: 2.2683\n",
            "Epoch 176/200\n",
            "22/22 [==============================] - 3s 122ms/step - loss: 1.9425 - mae_last_step: 2.2770 - val_loss: 1.8619 - val_mae_last_step: 2.2534\n",
            "Epoch 177/200\n",
            "22/22 [==============================] - 3s 125ms/step - loss: 1.9356 - mae_last_step: 2.2721 - val_loss: 1.8591 - val_mae_last_step: 2.2481\n",
            "Epoch 178/200\n",
            "22/22 [==============================] - 3s 124ms/step - loss: 1.9429 - mae_last_step: 2.2861 - val_loss: 1.8596 - val_mae_last_step: 2.2509\n",
            "Epoch 179/200\n",
            "22/22 [==============================] - 3s 124ms/step - loss: 1.9371 - mae_last_step: 2.2923 - val_loss: 1.8688 - val_mae_last_step: 2.2745\n",
            "Epoch 180/200\n",
            "22/22 [==============================] - 3s 121ms/step - loss: 1.9376 - mae_last_step: 2.2634 - val_loss: 1.8694 - val_mae_last_step: 2.2609\n",
            "Epoch 181/200\n",
            "22/22 [==============================] - 3s 123ms/step - loss: 1.9359 - mae_last_step: 2.2659 - val_loss: 1.8591 - val_mae_last_step: 2.2491\n",
            "Epoch 182/200\n",
            "22/22 [==============================] - 3s 123ms/step - loss: 1.9338 - mae_last_step: 2.2708 - val_loss: 1.8840 - val_mae_last_step: 2.2869\n",
            "Epoch 183/200\n",
            "22/22 [==============================] - 3s 124ms/step - loss: 1.9382 - mae_last_step: 2.2748 - val_loss: 1.8894 - val_mae_last_step: 2.3099\n",
            "Epoch 184/200\n",
            "22/22 [==============================] - 3s 124ms/step - loss: 1.9360 - mae_last_step: 2.2816 - val_loss: 1.8724 - val_mae_last_step: 2.2644\n",
            "Epoch 185/200\n",
            "22/22 [==============================] - 3s 122ms/step - loss: 1.9323 - mae_last_step: 2.2639 - val_loss: 1.8585 - val_mae_last_step: 2.2495\n",
            "Epoch 186/200\n",
            "22/22 [==============================] - 3s 124ms/step - loss: 1.9396 - mae_last_step: 2.2847 - val_loss: 1.8534 - val_mae_last_step: 2.2553\n",
            "Epoch 187/200\n",
            "22/22 [==============================] - 3s 124ms/step - loss: 1.9380 - mae_last_step: 2.2837 - val_loss: 1.8717 - val_mae_last_step: 2.2695\n",
            "Epoch 188/200\n",
            "22/22 [==============================] - 3s 124ms/step - loss: 1.9332 - mae_last_step: 2.2564 - val_loss: 1.8524 - val_mae_last_step: 2.2471\n",
            "Epoch 189/200\n",
            "22/22 [==============================] - 3s 125ms/step - loss: 1.9361 - mae_last_step: 2.2765 - val_loss: 1.8529 - val_mae_last_step: 2.2516\n",
            "Epoch 190/200\n",
            "22/22 [==============================] - 3s 125ms/step - loss: 1.9302 - mae_last_step: 2.2746 - val_loss: 1.8601 - val_mae_last_step: 2.2501\n",
            "Epoch 191/200\n",
            "22/22 [==============================] - 3s 125ms/step - loss: 1.9362 - mae_last_step: 2.2698 - val_loss: 1.8615 - val_mae_last_step: 2.2581\n",
            "Epoch 192/200\n",
            "22/22 [==============================] - 3s 126ms/step - loss: 1.9339 - mae_last_step: 2.2725 - val_loss: 1.8678 - val_mae_last_step: 2.2825\n",
            "Epoch 193/200\n",
            "22/22 [==============================] - 3s 125ms/step - loss: 1.9341 - mae_last_step: 2.2788 - val_loss: 1.8638 - val_mae_last_step: 2.2770\n",
            "Epoch 194/200\n",
            "22/22 [==============================] - 3s 125ms/step - loss: 1.9293 - mae_last_step: 2.2661 - val_loss: 1.8814 - val_mae_last_step: 2.3015\n",
            "Epoch 195/200\n",
            "22/22 [==============================] - 3s 125ms/step - loss: 1.9348 - mae_last_step: 2.2782 - val_loss: 1.8619 - val_mae_last_step: 2.2752\n",
            "Epoch 196/200\n",
            "22/22 [==============================] - 3s 125ms/step - loss: 1.9380 - mae_last_step: 2.2840 - val_loss: 1.8600 - val_mae_last_step: 2.2583\n",
            "Epoch 197/200\n",
            "22/22 [==============================] - 3s 124ms/step - loss: 1.9292 - mae_last_step: 2.2706 - val_loss: 1.8638 - val_mae_last_step: 2.2833\n",
            "Epoch 198/200\n",
            "22/22 [==============================] - 3s 125ms/step - loss: 1.9298 - mae_last_step: 2.2671 - val_loss: 1.8728 - val_mae_last_step: 2.2857\n",
            "Epoch 199/200\n",
            "22/22 [==============================] - 3s 124ms/step - loss: 1.9297 - mae_last_step: 2.2624 - val_loss: 1.8582 - val_mae_last_step: 2.2509\n",
            "Epoch 200/200\n",
            "22/22 [==============================] - 3s 125ms/step - loss: 1.9295 - mae_last_step: 2.2781 - val_loss: 1.8526 - val_mae_last_step: 2.2422\n"
          ],
          "name": "stdout"
        }
      ]
    },
    {
      "cell_type": "code",
      "metadata": {
        "id": "KGBoP-ZsTPwk",
        "colab_type": "code",
        "outputId": "eb8da65f-98a5-4db1-a360-3a815647f445",
        "colab": {
          "base_uri": "https://localhost:8080/",
          "height": 54
        }
      },
      "source": [
        "model3.evaluate(X_valid_3D, Y_valid_3D)"
      ],
      "execution_count": 80,
      "outputs": [
        {
          "output_type": "stream",
          "text": [
            "23/23 [==============================] - 0s 16ms/step - loss: 1.8526 - mae_last_step: 2.2126\n"
          ],
          "name": "stdout"
        },
        {
          "output_type": "execute_result",
          "data": {
            "text/plain": [
              "[1.8526486158370972, 2.212561845779419]"
            ]
          },
          "metadata": {
            "tags": []
          },
          "execution_count": 80
        }
      ]
    },
    {
      "cell_type": "code",
      "metadata": {
        "id": "rHauuHrbTPwl",
        "colab_type": "code",
        "outputId": "eccd2542-595d-4425-b65c-9ff24f25f1ad",
        "colab": {
          "base_uri": "https://localhost:8080/",
          "height": 269
        }
      },
      "source": [
        "plot_history(history3)"
      ],
      "execution_count": 81,
      "outputs": [
        {
          "output_type": "display_data",
          "data": {
            "image/png": "[encoded data removed]",
            "text/plain": [
              "<Figure size 432x288 with 1 Axes>"
            ]
          },
          "metadata": {
            "tags": [],
            "needs_background": "light"
          }
        }
      ]
    },
    {
      "cell_type": "code",
      "metadata": {
        "id": "TGP4m1StTPwq",
        "colab_type": "code",
        "colab": {}
      },
      "source": [
        "y_pred_rnn3 = model3.predict(X_valid_3D)[:, -1]"
      ],
      "execution_count": 0,
      "outputs": []
    },
    {
      "cell_type": "code",
      "metadata": {
        "id": "5o57r59HTPws",
        "colab_type": "code",
        "outputId": "f59421ed-cdf5-4f18-f003-98000ecce061",
        "colab": {
          "base_uri": "https://localhost:8080/",
          "height": 321
        }
      },
      "source": [
        "plot_predictions((\"Target\", y_valid),\n",
        "                 (\"Linear\", y_pred_linear),\n",
        "                 (\"RNN\", y_pred_rnn3),\n",
        "                 end=365)"
      ],
      "execution_count": 83,
      "outputs": [
        {
          "output_type": "display_data",
          "data": {
            "image/png": "[encoded data removed]",
            "text/plain": [
              "<Figure size 720x360 with 1 Axes>"
            ]
          },
          "metadata": {
            "tags": [],
            "needs_background": "light"
          }
        }
      ]
    },
    {
      "cell_type": "markdown",
      "metadata": {
        "id": "M3IJQq5qTPwt",
        "colab_type": "text"
      },
      "source": [
        "# Exercise 4 – Preprocessing with 1D-ConvNets"
      ]
    },
    {
      "cell_type": "markdown",
      "metadata": {
        "id": "6y0Q2zPhTPwu",
        "colab_type": "text"
      },
      "source": [
        "At the beginning of your sequential model, add a `Conv1D` layer with 32 kernels of size 5, a `MaxPool1D` layer with pool size 5 and strides 2. Train and evaluate the model."
      ]
    },
    {
      "cell_type": "code",
      "metadata": {
        "id": "7Yb-czzeTPwu",
        "colab_type": "code",
        "colab": {}
      },
      "source": [
        ""
      ],
      "execution_count": 0,
      "outputs": []
    },
    {
      "cell_type": "code",
      "metadata": {
        "id": "70MH0gnrTPwv",
        "colab_type": "code",
        "colab": {}
      },
      "source": [
        ""
      ],
      "execution_count": 0,
      "outputs": []
    },
    {
      "cell_type": "code",
      "metadata": {
        "id": "Jv7euJMtTPwx",
        "colab_type": "code",
        "colab": {}
      },
      "source": [
        ""
      ],
      "execution_count": 0,
      "outputs": []
    },
    {
      "cell_type": "markdown",
      "metadata": {
        "id": "LbgXU1adTPwy",
        "colab_type": "text"
      },
      "source": [
        "# Exercise 4 – Solution"
      ]
    },
    {
      "cell_type": "code",
      "metadata": {
        "id": "lzGwtF3xTPwy",
        "colab_type": "code",
        "colab": {}
      },
      "source": [
        "model4 = keras.models.Sequential()\n",
        "model4.add(keras.layers.Conv1D(32, kernel_size=5, input_shape=input_shape))\n",
        "model4.add(keras.layers.MaxPool1D(pool_size=5, strides=2))\n",
        "model4.add(keras.layers.LSTM(32, return_sequences=True))\n",
        "model4.add(keras.layers.LSTM(32))\n",
        "model4.add(keras.layers.Dense(1))\n",
        "model4.compile(loss=huber_loss, optimizer=keras.optimizers.SGD(lr=0.005))"
      ],
      "execution_count": 0,
      "outputs": []
    },
    {
      "cell_type": "code",
      "metadata": {
        "id": "Wi-e9a1qTPw0",
        "colab_type": "code",
        "outputId": "ebd1f06e-29f5-4a51-8432-241b25da99d7",
        "colab": {
          "base_uri": "https://localhost:8080/",
          "height": 345
        }
      },
      "source": [
        "model4.summary()"
      ],
      "execution_count": 85,
      "outputs": [
        {
          "output_type": "stream",
          "text": [
            "Model: \"sequential_5\"\n",
            "_________________________________________________________________\n",
            "Layer (type)                 Output Shape              Param #   \n",
            "=================================================================\n",
            "conv1d (Conv1D)              (None, 26, 32)            192       \n",
            "_________________________________________________________________\n",
            "max_pooling1d (MaxPooling1D) (None, 11, 32)            0         \n",
            "_________________________________________________________________\n",
            "lstm_4 (LSTM)                (None, 11, 32)            8320      \n",
            "_________________________________________________________________\n",
            "lstm_5 (LSTM)                (None, 32)                8320      \n",
            "_________________________________________________________________\n",
            "dense_5 (Dense)              (None, 1)                 33        \n",
            "=================================================================\n",
            "Total params: 16,865\n",
            "Trainable params: 16,865\n",
            "Non-trainable params: 0\n",
            "_________________________________________________________________\n"
          ],
          "name": "stdout"
        }
      ]
    },
    {
      "cell_type": "code",
      "metadata": {
        "scrolled": true,
        "id": "r1uO4AjkTPw1",
        "colab_type": "code",
        "outputId": "800a5bc7-8c96-428a-e155-a08a12187557",
        "colab": {
          "base_uri": "https://localhost:8080/",
          "height": 1000
        }
      },
      "source": [
        "history4 = model4.fit(X_train_3D, y_train, epochs=200, batch_size=100,\n",
        "                      validation_data=(X_valid_3D, y_valid))"
      ],
      "execution_count": 86,
      "outputs": [
        {
          "output_type": "stream",
          "text": [
            "Epoch 1/200\n",
            "22/22 [==============================] - 1s 51ms/step - loss: 9.5462 - val_loss: 9.2468\n",
            "Epoch 2/200\n",
            "22/22 [==============================] - 0s 19ms/step - loss: 8.1881 - val_loss: 7.9450\n",
            "Epoch 3/200\n",
            "22/22 [==============================] - 0s 20ms/step - loss: 6.9112 - val_loss: 6.6041\n",
            "Epoch 4/200\n",
            "22/22 [==============================] - 0s 19ms/step - loss: 5.6494 - val_loss: 5.3000\n",
            "Epoch 5/200\n",
            "22/22 [==============================] - 0s 20ms/step - loss: 4.5037 - val_loss: 4.1681\n",
            "Epoch 6/200\n",
            "22/22 [==============================] - 0s 20ms/step - loss: 3.6528 - val_loss: 3.3844\n",
            "Epoch 7/200\n",
            "22/22 [==============================] - 0s 20ms/step - loss: 3.1580 - val_loss: 2.9274\n",
            "Epoch 8/200\n",
            "22/22 [==============================] - 0s 20ms/step - loss: 2.9149 - val_loss: 2.7035\n",
            "Epoch 9/200\n",
            "22/22 [==============================] - 0s 19ms/step - loss: 2.7958 - val_loss: 2.5810\n",
            "Epoch 10/200\n",
            "22/22 [==============================] - 0s 20ms/step - loss: 2.7134 - val_loss: 2.4840\n",
            "Epoch 11/200\n",
            "22/22 [==============================] - 0s 20ms/step - loss: 2.6505 - val_loss: 2.3676\n",
            "Epoch 12/200\n",
            "22/22 [==============================] - 0s 20ms/step - loss: 2.6000 - val_loss: 2.4096\n",
            "Epoch 13/200\n",
            "22/22 [==============================] - 0s 19ms/step - loss: 2.5742 - val_loss: 2.2995\n",
            "Epoch 14/200\n",
            "22/22 [==============================] - 0s 21ms/step - loss: 2.5155 - val_loss: 2.2257\n",
            "Epoch 15/200\n",
            "22/22 [==============================] - 0s 20ms/step - loss: 2.4238 - val_loss: 2.2192\n",
            "Epoch 16/200\n",
            "22/22 [==============================] - 0s 20ms/step - loss: 2.3580 - val_loss: 2.1300\n",
            "Epoch 17/200\n",
            "22/22 [==============================] - 0s 19ms/step - loss: 2.3239 - val_loss: 2.0819\n",
            "Epoch 18/200\n",
            "22/22 [==============================] - 0s 20ms/step - loss: 2.2400 - val_loss: 1.9914\n",
            "Epoch 19/200\n",
            "22/22 [==============================] - 0s 20ms/step - loss: 2.1458 - val_loss: 1.9435\n",
            "Epoch 20/200\n",
            "22/22 [==============================] - 0s 20ms/step - loss: 2.1970 - val_loss: 2.4186\n",
            "Epoch 21/200\n",
            "22/22 [==============================] - 0s 20ms/step - loss: 2.1512 - val_loss: 1.9368\n",
            "Epoch 22/200\n",
            "22/22 [==============================] - 0s 21ms/step - loss: 2.0606 - val_loss: 1.9456\n",
            "Epoch 23/200\n",
            "22/22 [==============================] - 0s 20ms/step - loss: 2.0427 - val_loss: 1.9156\n",
            "Epoch 24/200\n",
            "22/22 [==============================] - 0s 20ms/step - loss: 2.0421 - val_loss: 1.8464\n",
            "Epoch 25/200\n",
            "22/22 [==============================] - 0s 21ms/step - loss: 1.9959 - val_loss: 1.9810\n",
            "Epoch 26/200\n",
            "22/22 [==============================] - 0s 19ms/step - loss: 2.0383 - val_loss: 2.1234\n",
            "Epoch 27/200\n",
            "22/22 [==============================] - 0s 20ms/step - loss: 2.0380 - val_loss: 2.2510\n",
            "Epoch 28/200\n",
            "22/22 [==============================] - 0s 20ms/step - loss: 1.9922 - val_loss: 1.8786\n",
            "Epoch 29/200\n",
            "22/22 [==============================] - 0s 20ms/step - loss: 1.9810 - val_loss: 1.8803\n",
            "Epoch 30/200\n",
            "22/22 [==============================] - 0s 20ms/step - loss: 1.9657 - val_loss: 1.8067\n",
            "Epoch 31/200\n",
            "22/22 [==============================] - 0s 20ms/step - loss: 1.9642 - val_loss: 2.4079\n",
            "Epoch 32/200\n",
            "22/22 [==============================] - 0s 20ms/step - loss: 1.9635 - val_loss: 1.8358\n",
            "Epoch 33/200\n",
            "22/22 [==============================] - 0s 19ms/step - loss: 1.9755 - val_loss: 1.9070\n",
            "Epoch 34/200\n",
            "22/22 [==============================] - 0s 20ms/step - loss: 1.9286 - val_loss: 1.8130\n",
            "Epoch 35/200\n",
            "22/22 [==============================] - 0s 20ms/step - loss: 1.9453 - val_loss: 1.9328\n",
            "Epoch 36/200\n",
            "22/22 [==============================] - 0s 20ms/step - loss: 1.9359 - val_loss: 2.0614\n",
            "Epoch 37/200\n",
            "22/22 [==============================] - 0s 20ms/step - loss: 2.0216 - val_loss: 1.8479\n",
            "Epoch 38/200\n",
            "22/22 [==============================] - 0s 19ms/step - loss: 1.9449 - val_loss: 1.7943\n",
            "Epoch 39/200\n",
            "22/22 [==============================] - 0s 20ms/step - loss: 1.9344 - val_loss: 1.7900\n",
            "Epoch 40/200\n",
            "22/22 [==============================] - 0s 21ms/step - loss: 1.9487 - val_loss: 1.8013\n",
            "Epoch 41/200\n",
            "22/22 [==============================] - 0s 21ms/step - loss: 1.9312 - val_loss: 1.7866\n",
            "Epoch 42/200\n",
            "22/22 [==============================] - 0s 20ms/step - loss: 1.9291 - val_loss: 1.7901\n",
            "Epoch 43/200\n",
            "22/22 [==============================] - 0s 20ms/step - loss: 1.9461 - val_loss: 1.7942\n",
            "Epoch 44/200\n",
            "22/22 [==============================] - 0s 20ms/step - loss: 1.9473 - val_loss: 1.7987\n",
            "Epoch 45/200\n",
            "22/22 [==============================] - 0s 22ms/step - loss: 1.9383 - val_loss: 1.7963\n",
            "Epoch 46/200\n",
            "22/22 [==============================] - 0s 22ms/step - loss: 1.9590 - val_loss: 1.8179\n",
            "Epoch 47/200\n",
            "22/22 [==============================] - 0s 22ms/step - loss: 1.9427 - val_loss: 1.8238\n",
            "Epoch 48/200\n",
            "22/22 [==============================] - 0s 20ms/step - loss: 1.9272 - val_loss: 2.0800\n",
            "Epoch 49/200\n",
            "22/22 [==============================] - 0s 21ms/step - loss: 1.9224 - val_loss: 2.0743\n",
            "Epoch 50/200\n",
            "22/22 [==============================] - 0s 20ms/step - loss: 1.9529 - val_loss: 1.7998\n",
            "Epoch 51/200\n",
            "22/22 [==============================] - 0s 20ms/step - loss: 1.9674 - val_loss: 1.7984\n",
            "Epoch 52/200\n",
            "22/22 [==============================] - 0s 20ms/step - loss: 1.9444 - val_loss: 2.0096\n",
            "Epoch 53/200\n",
            "22/22 [==============================] - 0s 20ms/step - loss: 1.9783 - val_loss: 1.8522\n",
            "Epoch 54/200\n",
            "22/22 [==============================] - 0s 20ms/step - loss: 1.9026 - val_loss: 1.8853\n",
            "Epoch 55/200\n",
            "22/22 [==============================] - 0s 19ms/step - loss: 1.9411 - val_loss: 1.8932\n",
            "Epoch 56/200\n",
            "22/22 [==============================] - 0s 20ms/step - loss: 1.9066 - val_loss: 1.7935\n",
            "Epoch 57/200\n",
            "22/22 [==============================] - 0s 20ms/step - loss: 1.9096 - val_loss: 1.8279\n",
            "Epoch 58/200\n",
            "22/22 [==============================] - 0s 21ms/step - loss: 1.9309 - val_loss: 1.8141\n",
            "Epoch 59/200\n",
            "22/22 [==============================] - 0s 19ms/step - loss: 1.9053 - val_loss: 1.7996\n",
            "Epoch 60/200\n",
            "22/22 [==============================] - 0s 20ms/step - loss: 1.9255 - val_loss: 1.7769\n",
            "Epoch 61/200\n",
            "22/22 [==============================] - 0s 20ms/step - loss: 1.8999 - val_loss: 1.8246\n",
            "Epoch 62/200\n",
            "22/22 [==============================] - 0s 21ms/step - loss: 1.8793 - val_loss: 2.2347\n",
            "Epoch 63/200\n",
            "22/22 [==============================] - 0s 20ms/step - loss: 1.9577 - val_loss: 2.0484\n",
            "Epoch 64/200\n",
            "22/22 [==============================] - 0s 20ms/step - loss: 1.9241 - val_loss: 1.8314\n",
            "Epoch 65/200\n",
            "22/22 [==============================] - 0s 20ms/step - loss: 1.9064 - val_loss: 1.7921\n",
            "Epoch 66/200\n",
            "22/22 [==============================] - 0s 20ms/step - loss: 1.9073 - val_loss: 1.7686\n",
            "Epoch 67/200\n",
            "22/22 [==============================] - 0s 20ms/step - loss: 1.9125 - val_loss: 1.8871\n",
            "Epoch 68/200\n",
            "22/22 [==============================] - 0s 20ms/step - loss: 1.8941 - val_loss: 1.7831\n",
            "Epoch 69/200\n",
            "22/22 [==============================] - 0s 20ms/step - loss: 1.8771 - val_loss: 1.7983\n",
            "Epoch 70/200\n",
            "22/22 [==============================] - 0s 20ms/step - loss: 1.9005 - val_loss: 1.7669\n",
            "Epoch 71/200\n",
            "22/22 [==============================] - 0s 20ms/step - loss: 1.9330 - val_loss: 1.7910\n",
            "Epoch 72/200\n",
            "22/22 [==============================] - 0s 20ms/step - loss: 1.9200 - val_loss: 1.7665\n",
            "Epoch 73/200\n",
            "22/22 [==============================] - 0s 20ms/step - loss: 1.9249 - val_loss: 1.7865\n",
            "Epoch 74/200\n",
            "22/22 [==============================] - 0s 20ms/step - loss: 1.9026 - val_loss: 1.7652\n",
            "Epoch 75/200\n",
            "22/22 [==============================] - 0s 19ms/step - loss: 1.8827 - val_loss: 1.9832\n",
            "Epoch 76/200\n",
            "22/22 [==============================] - 0s 21ms/step - loss: 1.8965 - val_loss: 1.7909\n",
            "Epoch 77/200\n",
            "22/22 [==============================] - 0s 19ms/step - loss: 1.9075 - val_loss: 1.7695\n",
            "Epoch 78/200\n",
            "22/22 [==============================] - 0s 20ms/step - loss: 1.9085 - val_loss: 1.8070\n",
            "Epoch 79/200\n",
            "22/22 [==============================] - 0s 21ms/step - loss: 1.8991 - val_loss: 1.8179\n",
            "Epoch 80/200\n",
            "22/22 [==============================] - 0s 20ms/step - loss: 1.8948 - val_loss: 1.7816\n",
            "Epoch 81/200\n",
            "22/22 [==============================] - 0s 20ms/step - loss: 1.8890 - val_loss: 1.9266\n",
            "Epoch 82/200\n",
            "22/22 [==============================] - 0s 20ms/step - loss: 1.9139 - val_loss: 1.7605\n",
            "Epoch 83/200\n",
            "22/22 [==============================] - 0s 20ms/step - loss: 1.8912 - val_loss: 1.8916\n",
            "Epoch 84/200\n",
            "22/22 [==============================] - 0s 20ms/step - loss: 1.8811 - val_loss: 1.7640\n",
            "Epoch 85/200\n",
            "22/22 [==============================] - 0s 21ms/step - loss: 1.8624 - val_loss: 1.7578\n",
            "Epoch 86/200\n",
            "22/22 [==============================] - 0s 20ms/step - loss: 1.8733 - val_loss: 1.8252\n",
            "Epoch 87/200\n",
            "22/22 [==============================] - 0s 21ms/step - loss: 1.9110 - val_loss: 1.7654\n",
            "Epoch 88/200\n",
            "22/22 [==============================] - 0s 19ms/step - loss: 1.8861 - val_loss: 1.7541\n",
            "Epoch 89/200\n",
            "22/22 [==============================] - 0s 20ms/step - loss: 1.8977 - val_loss: 1.7566\n",
            "Epoch 90/200\n",
            "22/22 [==============================] - 0s 20ms/step - loss: 1.8901 - val_loss: 1.7892\n",
            "Epoch 91/200\n",
            "22/22 [==============================] - 0s 20ms/step - loss: 1.8564 - val_loss: 1.8072\n",
            "Epoch 92/200\n",
            "22/22 [==============================] - 0s 20ms/step - loss: 1.8752 - val_loss: 1.8170\n",
            "Epoch 93/200\n",
            "22/22 [==============================] - 0s 20ms/step - loss: 1.8936 - val_loss: 1.8354\n",
            "Epoch 94/200\n",
            "22/22 [==============================] - 0s 19ms/step - loss: 1.9108 - val_loss: 1.7725\n",
            "Epoch 95/200\n",
            "22/22 [==============================] - 0s 21ms/step - loss: 1.8842 - val_loss: 1.7785\n",
            "Epoch 96/200\n",
            "22/22 [==============================] - 0s 19ms/step - loss: 1.8823 - val_loss: 1.7671\n",
            "Epoch 97/200\n",
            "22/22 [==============================] - 0s 20ms/step - loss: 1.8763 - val_loss: 1.7546\n",
            "Epoch 98/200\n",
            "22/22 [==============================] - 0s 20ms/step - loss: 1.8618 - val_loss: 1.7479\n",
            "Epoch 99/200\n",
            "22/22 [==============================] - 0s 20ms/step - loss: 1.8969 - val_loss: 1.7540\n",
            "Epoch 100/200\n",
            "22/22 [==============================] - 0s 20ms/step - loss: 1.8696 - val_loss: 1.8813\n",
            "Epoch 101/200\n",
            "22/22 [==============================] - 0s 20ms/step - loss: 1.8629 - val_loss: 1.7639\n",
            "Epoch 102/200\n",
            "22/22 [==============================] - 0s 22ms/step - loss: 1.8607 - val_loss: 1.7775\n",
            "Epoch 103/200\n",
            "22/22 [==============================] - 0s 21ms/step - loss: 1.8636 - val_loss: 1.7693\n",
            "Epoch 104/200\n",
            "22/22 [==============================] - 0s 20ms/step - loss: 1.8773 - val_loss: 1.7684\n",
            "Epoch 105/200\n",
            "22/22 [==============================] - 0s 21ms/step - loss: 1.8867 - val_loss: 1.9071\n",
            "Epoch 106/200\n",
            "22/22 [==============================] - 0s 21ms/step - loss: 1.8792 - val_loss: 1.9171\n",
            "Epoch 107/200\n",
            "22/22 [==============================] - 0s 21ms/step - loss: 1.8680 - val_loss: 1.8569\n",
            "Epoch 108/200\n",
            "22/22 [==============================] - 0s 21ms/step - loss: 1.8876 - val_loss: 1.7602\n",
            "Epoch 109/200\n",
            "22/22 [==============================] - 0s 20ms/step - loss: 1.8913 - val_loss: 1.7643\n",
            "Epoch 110/200\n",
            "22/22 [==============================] - 0s 20ms/step - loss: 1.8689 - val_loss: 1.7907\n",
            "Epoch 111/200\n",
            "22/22 [==============================] - 0s 20ms/step - loss: 1.8544 - val_loss: 1.7870\n",
            "Epoch 112/200\n",
            "22/22 [==============================] - 0s 21ms/step - loss: 1.8808 - val_loss: 1.7466\n",
            "Epoch 113/200\n",
            "22/22 [==============================] - 0s 20ms/step - loss: 1.8528 - val_loss: 1.8414\n",
            "Epoch 114/200\n",
            "22/22 [==============================] - 0s 20ms/step - loss: 1.8547 - val_loss: 1.8389\n",
            "Epoch 115/200\n",
            "22/22 [==============================] - 0s 21ms/step - loss: 1.8807 - val_loss: 1.8889\n",
            "Epoch 116/200\n",
            "22/22 [==============================] - 0s 20ms/step - loss: 1.8859 - val_loss: 1.7434\n",
            "Epoch 117/200\n",
            "22/22 [==============================] - 0s 22ms/step - loss: 1.8591 - val_loss: 1.7567\n",
            "Epoch 118/200\n",
            "22/22 [==============================] - 0s 21ms/step - loss: 1.8760 - val_loss: 1.7821\n",
            "Epoch 119/200\n",
            "22/22 [==============================] - 0s 21ms/step - loss: 1.8363 - val_loss: 1.7419\n",
            "Epoch 120/200\n",
            "22/22 [==============================] - 0s 20ms/step - loss: 1.8575 - val_loss: 1.7477\n",
            "Epoch 121/200\n",
            "22/22 [==============================] - 0s 20ms/step - loss: 1.8492 - val_loss: 1.8045\n",
            "Epoch 122/200\n",
            "22/22 [==============================] - 0s 20ms/step - loss: 1.8569 - val_loss: 1.7450\n",
            "Epoch 123/200\n",
            "22/22 [==============================] - 0s 21ms/step - loss: 1.8638 - val_loss: 1.7610\n",
            "Epoch 124/200\n",
            "22/22 [==============================] - 0s 20ms/step - loss: 1.8577 - val_loss: 1.8410\n",
            "Epoch 125/200\n",
            "22/22 [==============================] - 0s 20ms/step - loss: 1.8758 - val_loss: 1.8619\n",
            "Epoch 126/200\n",
            "22/22 [==============================] - 0s 20ms/step - loss: 1.8779 - val_loss: 1.9092\n",
            "Epoch 127/200\n",
            "22/22 [==============================] - 0s 19ms/step - loss: 1.8685 - val_loss: 1.7466\n",
            "Epoch 128/200\n",
            "22/22 [==============================] - 0s 21ms/step - loss: 1.9304 - val_loss: 1.7461\n",
            "Epoch 129/200\n",
            "22/22 [==============================] - 0s 20ms/step - loss: 1.8372 - val_loss: 1.7623\n",
            "Epoch 130/200\n",
            "22/22 [==============================] - 0s 20ms/step - loss: 1.8822 - val_loss: 2.0284\n",
            "Epoch 131/200\n",
            "22/22 [==============================] - 0s 20ms/step - loss: 1.8739 - val_loss: 1.8301\n",
            "Epoch 132/200\n",
            "22/22 [==============================] - 0s 20ms/step - loss: 1.8449 - val_loss: 2.1404\n",
            "Epoch 133/200\n",
            "22/22 [==============================] - 0s 20ms/step - loss: 1.8533 - val_loss: 1.7758\n",
            "Epoch 134/200\n",
            "22/22 [==============================] - 0s 20ms/step - loss: 1.8655 - val_loss: 1.7417\n",
            "Epoch 135/200\n",
            "22/22 [==============================] - 0s 20ms/step - loss: 1.8639 - val_loss: 1.7538\n",
            "Epoch 136/200\n",
            "22/22 [==============================] - 0s 21ms/step - loss: 1.8553 - val_loss: 1.7507\n",
            "Epoch 137/200\n",
            "22/22 [==============================] - 0s 20ms/step - loss: 1.8561 - val_loss: 1.8142\n",
            "Epoch 138/200\n",
            "22/22 [==============================] - 0s 20ms/step - loss: 1.8503 - val_loss: 1.9776\n",
            "Epoch 139/200\n",
            "22/22 [==============================] - 0s 21ms/step - loss: 1.8341 - val_loss: 1.8718\n",
            "Epoch 140/200\n",
            "22/22 [==============================] - 0s 20ms/step - loss: 1.8660 - val_loss: 1.7496\n",
            "Epoch 141/200\n",
            "22/22 [==============================] - 0s 20ms/step - loss: 1.8320 - val_loss: 1.7395\n",
            "Epoch 142/200\n",
            "22/22 [==============================] - 0s 20ms/step - loss: 1.8425 - val_loss: 1.8322\n",
            "Epoch 143/200\n",
            "22/22 [==============================] - 0s 19ms/step - loss: 1.8449 - val_loss: 1.8203\n",
            "Epoch 144/200\n",
            "22/22 [==============================] - 0s 21ms/step - loss: 1.8665 - val_loss: 1.7419\n",
            "Epoch 145/200\n",
            "22/22 [==============================] - 0s 21ms/step - loss: 1.8455 - val_loss: 1.7429\n",
            "Epoch 146/200\n",
            "22/22 [==============================] - 0s 19ms/step - loss: 1.8587 - val_loss: 1.7560\n",
            "Epoch 147/200\n",
            "22/22 [==============================] - 0s 21ms/step - loss: 1.8341 - val_loss: 1.8814\n",
            "Epoch 148/200\n",
            "22/22 [==============================] - 0s 21ms/step - loss: 1.8793 - val_loss: 1.7619\n",
            "Epoch 149/200\n",
            "22/22 [==============================] - 0s 21ms/step - loss: 1.8359 - val_loss: 1.8419\n",
            "Epoch 150/200\n",
            "22/22 [==============================] - 0s 20ms/step - loss: 1.8590 - val_loss: 1.7778\n",
            "Epoch 151/200\n",
            "22/22 [==============================] - 0s 20ms/step - loss: 1.8421 - val_loss: 1.7549\n",
            "Epoch 152/200\n",
            "22/22 [==============================] - 0s 21ms/step - loss: 1.8355 - val_loss: 1.7406\n",
            "Epoch 153/200\n",
            "22/22 [==============================] - 0s 20ms/step - loss: 1.8362 - val_loss: 1.7415\n",
            "Epoch 154/200\n",
            "22/22 [==============================] - 0s 21ms/step - loss: 1.8386 - val_loss: 1.7877\n",
            "Epoch 155/200\n",
            "22/22 [==============================] - 0s 20ms/step - loss: 1.8357 - val_loss: 1.9381\n",
            "Epoch 156/200\n",
            "22/22 [==============================] - 0s 20ms/step - loss: 1.8204 - val_loss: 1.7509\n",
            "Epoch 157/200\n",
            "22/22 [==============================] - 0s 21ms/step - loss: 1.8346 - val_loss: 1.7669\n",
            "Epoch 158/200\n",
            "22/22 [==============================] - 0s 20ms/step - loss: 1.8230 - val_loss: 1.7555\n",
            "Epoch 159/200\n",
            "22/22 [==============================] - 0s 20ms/step - loss: 1.8451 - val_loss: 1.7799\n",
            "Epoch 160/200\n",
            "22/22 [==============================] - 0s 21ms/step - loss: 1.8352 - val_loss: 1.9015\n",
            "Epoch 161/200\n",
            "22/22 [==============================] - 0s 20ms/step - loss: 1.8192 - val_loss: 1.7727\n",
            "Epoch 162/200\n",
            "22/22 [==============================] - 0s 21ms/step - loss: 1.8160 - val_loss: 1.8326\n",
            "Epoch 163/200\n",
            "22/22 [==============================] - 0s 20ms/step - loss: 1.8556 - val_loss: 2.4106\n",
            "Epoch 164/200\n",
            "22/22 [==============================] - 0s 20ms/step - loss: 1.9094 - val_loss: 1.7454\n",
            "Epoch 165/200\n",
            "22/22 [==============================] - 0s 20ms/step - loss: 1.8619 - val_loss: 1.7509\n",
            "Epoch 166/200\n",
            "22/22 [==============================] - 0s 21ms/step - loss: 1.8317 - val_loss: 1.7450\n",
            "Epoch 167/200\n",
            "22/22 [==============================] - 0s 20ms/step - loss: 1.8248 - val_loss: 1.7309\n",
            "Epoch 168/200\n",
            "22/22 [==============================] - 0s 19ms/step - loss: 1.8429 - val_loss: 1.7388\n",
            "Epoch 169/200\n",
            "22/22 [==============================] - 0s 21ms/step - loss: 1.8300 - val_loss: 1.7641\n",
            "Epoch 170/200\n",
            "22/22 [==============================] - 0s 21ms/step - loss: 1.8534 - val_loss: 1.7895\n",
            "Epoch 171/200\n",
            "22/22 [==============================] - 0s 21ms/step - loss: 1.8215 - val_loss: 1.8559\n",
            "Epoch 172/200\n",
            "22/22 [==============================] - 0s 20ms/step - loss: 1.8625 - val_loss: 1.7289\n",
            "Epoch 173/200\n",
            "22/22 [==============================] - 0s 21ms/step - loss: 1.8195 - val_loss: 1.8980\n",
            "Epoch 174/200\n",
            "22/22 [==============================] - 0s 20ms/step - loss: 1.8460 - val_loss: 1.7944\n",
            "Epoch 175/200\n",
            "22/22 [==============================] - 0s 21ms/step - loss: 1.8433 - val_loss: 1.7497\n",
            "Epoch 176/200\n",
            "22/22 [==============================] - 0s 20ms/step - loss: 1.8530 - val_loss: 1.7639\n",
            "Epoch 177/200\n",
            "22/22 [==============================] - 0s 21ms/step - loss: 1.8388 - val_loss: 1.8098\n",
            "Epoch 178/200\n",
            "22/22 [==============================] - 0s 20ms/step - loss: 1.8233 - val_loss: 1.8276\n",
            "Epoch 179/200\n",
            "22/22 [==============================] - 0s 20ms/step - loss: 1.8213 - val_loss: 1.7434\n",
            "Epoch 180/200\n",
            "22/22 [==============================] - 0s 21ms/step - loss: 1.8094 - val_loss: 1.7450\n",
            "Epoch 181/200\n",
            "22/22 [==============================] - 0s 21ms/step - loss: 1.8239 - val_loss: 1.8128\n",
            "Epoch 182/200\n",
            "22/22 [==============================] - 0s 20ms/step - loss: 1.8354 - val_loss: 1.8343\n",
            "Epoch 183/200\n",
            "22/22 [==============================] - 0s 21ms/step - loss: 1.8143 - val_loss: 1.7669\n",
            "Epoch 184/200\n",
            "22/22 [==============================] - 0s 21ms/step - loss: 1.8269 - val_loss: 1.8171\n",
            "Epoch 185/200\n",
            "22/22 [==============================] - 0s 21ms/step - loss: 1.8090 - val_loss: 1.7350\n",
            "Epoch 186/200\n",
            "22/22 [==============================] - 0s 20ms/step - loss: 1.8120 - val_loss: 1.9617\n",
            "Epoch 187/200\n",
            "22/22 [==============================] - 0s 21ms/step - loss: 1.8353 - val_loss: 1.7489\n",
            "Epoch 188/200\n",
            "22/22 [==============================] - 0s 20ms/step - loss: 1.8131 - val_loss: 1.8452\n",
            "Epoch 189/200\n",
            "22/22 [==============================] - 0s 21ms/step - loss: 1.8288 - val_loss: 1.8926\n",
            "Epoch 190/200\n",
            "22/22 [==============================] - 0s 21ms/step - loss: 1.8160 - val_loss: 1.7930\n",
            "Epoch 191/200\n",
            "22/22 [==============================] - 0s 20ms/step - loss: 1.8208 - val_loss: 1.8556\n",
            "Epoch 192/200\n",
            "22/22 [==============================] - 0s 20ms/step - loss: 1.8219 - val_loss: 1.7694\n",
            "Epoch 193/200\n",
            "22/22 [==============================] - 0s 21ms/step - loss: 1.8035 - val_loss: 1.7558\n",
            "Epoch 194/200\n",
            "22/22 [==============================] - 0s 20ms/step - loss: 1.8565 - val_loss: 1.7384\n",
            "Epoch 195/200\n",
            "22/22 [==============================] - 0s 20ms/step - loss: 1.8246 - val_loss: 1.8660\n",
            "Epoch 196/200\n",
            "22/22 [==============================] - 0s 19ms/step - loss: 1.8240 - val_loss: 1.8220\n",
            "Epoch 197/200\n",
            "22/22 [==============================] - 0s 21ms/step - loss: 1.8040 - val_loss: 1.7741\n",
            "Epoch 198/200\n",
            "22/22 [==============================] - 0s 20ms/step - loss: 1.8085 - val_loss: 1.8103\n",
            "Epoch 199/200\n",
            "22/22 [==============================] - 0s 20ms/step - loss: 1.7919 - val_loss: 1.7358\n",
            "Epoch 200/200\n",
            "22/22 [==============================] - 0s 20ms/step - loss: 1.8176 - val_loss: 1.7631\n"
          ],
          "name": "stdout"
        }
      ]
    },
    {
      "cell_type": "code",
      "metadata": {
        "id": "huOuOTmiTPw2",
        "colab_type": "code",
        "outputId": "362d25bb-f1e7-49fd-ea5f-76dbbd1acbe4",
        "colab": {
          "base_uri": "https://localhost:8080/",
          "height": 54
        }
      },
      "source": [
        "model4.evaluate(X_valid_3D, y_valid)"
      ],
      "execution_count": 87,
      "outputs": [
        {
          "output_type": "stream",
          "text": [
            "23/23 [==============================] - 0s 4ms/step - loss: 1.7631\n"
          ],
          "name": "stdout"
        },
        {
          "output_type": "execute_result",
          "data": {
            "text/plain": [
              "1.7630630731582642"
            ]
          },
          "metadata": {
            "tags": []
          },
          "execution_count": 87
        }
      ]
    },
    {
      "cell_type": "markdown",
      "metadata": {
        "id": "MGyGL9jWTPw4",
        "colab_type": "text"
      },
      "source": [
        "# Exercice 5 – Sequence classification"
      ]
    },
    {
      "cell_type": "markdown",
      "metadata": {
        "id": "286sQW9lTPw4",
        "colab_type": "text"
      },
      "source": [
        "Let's load the IMDB movie reviews, for binary sentiment analysis (positive review or negative review):"
      ]
    },
    {
      "cell_type": "markdown",
      "metadata": {
        "id": "is963DG8TPw4",
        "colab_type": "text"
      },
      "source": [
        "We only want the 10,000 most common words:"
      ]
    },
    {
      "cell_type": "code",
      "metadata": {
        "id": "WFZQUgSSTPw4",
        "colab_type": "code",
        "outputId": "f02e141f-f0e5-4f56-b263-33084e363a24",
        "colab": {
          "base_uri": "https://localhost:8080/",
          "height": 54
        }
      },
      "source": [
        "num_words = 10000\n",
        "(X_train, y_train), (X_test, y_test) = keras.datasets.imdb.load_data(num_words=num_words)"
      ],
      "execution_count": 88,
      "outputs": [
        {
          "output_type": "stream",
          "text": [
            "Downloading data from https://storage.googleapis.com/tensorflow/tf-keras-datasets/imdb.npz\n",
            "17465344/17464789 [==============================] - 0s 0us/step\n"
          ],
          "name": "stdout"
        }
      ]
    },
    {
      "cell_type": "markdown",
      "metadata": {
        "id": "3AyfMyfnTPw5",
        "colab_type": "text"
      },
      "source": [
        "Let's also get the word index (word to word id):"
      ]
    },
    {
      "cell_type": "code",
      "metadata": {
        "id": "XZjvUAc-TPw5",
        "colab_type": "code",
        "outputId": "2c91d020-787e-4e59-dba8-0d24a6dca31c",
        "colab": {
          "base_uri": "https://localhost:8080/",
          "height": 54
        }
      },
      "source": [
        "word_index = keras.datasets.imdb.get_word_index()"
      ],
      "execution_count": 89,
      "outputs": [
        {
          "output_type": "stream",
          "text": [
            "Downloading data from https://storage.googleapis.com/tensorflow/tf-keras-datasets/imdb_word_index.json\n",
            "1646592/1641221 [==============================] - 0s 0us/step\n"
          ],
          "name": "stdout"
        }
      ]
    },
    {
      "cell_type": "markdown",
      "metadata": {
        "id": "zAEOL1tVTPw6",
        "colab_type": "text"
      },
      "source": [
        "And let's create a reverse index (word id to word). Three special word ids are added:"
      ]
    },
    {
      "cell_type": "code",
      "metadata": {
        "id": "YoaDp4BsTPw7",
        "colab_type": "code",
        "colab": {}
      },
      "source": [
        "reverse_index = {word_id + 3: word for word, word_id in word_index.items()}\n",
        "reverse_index[0] = \"<pad>\" # padding\n",
        "reverse_index[1] = \"<sos>\" # start of sequence\n",
        "reverse_index[2] = \"<oov>\" # out-of-vocabulary\n",
        "reverse_index[3] = \"<unk>\" # unknown"
      ],
      "execution_count": 0,
      "outputs": []
    },
    {
      "cell_type": "markdown",
      "metadata": {
        "id": "osxS5L5_TPw8",
        "colab_type": "text"
      },
      "source": [
        "Let's write a little function to decode reviews:"
      ]
    },
    {
      "cell_type": "code",
      "metadata": {
        "id": "sooRbPHRTPw8",
        "colab_type": "code",
        "colab": {}
      },
      "source": [
        "def decode_review(word_ids):\n",
        "    return \" \".join([reverse_index.get(word_id, \"<err>\") for word_id in word_ids])"
      ],
      "execution_count": 0,
      "outputs": []
    },
    {
      "cell_type": "markdown",
      "metadata": {
        "id": "l0DTWDYZTPw-",
        "colab_type": "text"
      },
      "source": [
        "Let's look at a review:"
      ]
    },
    {
      "cell_type": "code",
      "metadata": {
        "id": "6wKFoFNsTPw-",
        "colab_type": "code",
        "outputId": "1bb2a4e0-f0e7-4220-b910-4c2ff1722194",
        "colab": {
          "base_uri": "https://localhost:8080/",
          "height": 55
        }
      },
      "source": [
        "decode_review(X_train[0])"
      ],
      "execution_count": 92,
      "outputs": [
        {
          "output_type": "execute_result",
          "data": {
            "text/plain": [
              "\"<sos> this film was just brilliant casting location scenery story direction everyone's really suited the part they played and you could just imagine being there robert <oov> is an amazing actor and now the same being director <oov> father came from the same scottish island as myself so i loved the fact there was a real connection with this film the witty remarks throughout the film were great it was just brilliant so much that i bought the film as soon as it was released for <oov> and would recommend it to everyone to watch and the fly fishing was amazing really cried at the end it was so sad and you know what they say if you cry at a film it must have been good and this definitely was also <oov> to the two little boy's that played the <oov> of norman and paul they were just brilliant children are often left out of the <oov> list i think because the stars that play them all grown up are such a big profile for the whole film but these children are amazing and should be praised for what they have done don't you think the whole story was so lovely because it was true and was someone's life after all that was shared with us all\""
            ]
          },
          "metadata": {
            "tags": []
          },
          "execution_count": 92
        }
      ]
    },
    {
      "cell_type": "markdown",
      "metadata": {
        "id": "qDS175thTPw_",
        "colab_type": "text"
      },
      "source": [
        "It seems very positive, let's look at the target (0=negative review, 1=positive review):"
      ]
    },
    {
      "cell_type": "code",
      "metadata": {
        "id": "zSKJP7jITPw_",
        "colab_type": "code",
        "outputId": "c4fda6c9-99ec-449c-8c78-4c05fed620dc",
        "colab": {
          "base_uri": "https://localhost:8080/",
          "height": 35
        }
      },
      "source": [
        "y_train[0]"
      ],
      "execution_count": 93,
      "outputs": [
        {
          "output_type": "execute_result",
          "data": {
            "text/plain": [
              "1"
            ]
          },
          "metadata": {
            "tags": []
          },
          "execution_count": 93
        }
      ]
    },
    {
      "cell_type": "markdown",
      "metadata": {
        "id": "qiyEcGSjTPxA",
        "colab_type": "text"
      },
      "source": [
        "And another review:"
      ]
    },
    {
      "cell_type": "code",
      "metadata": {
        "id": "cMvOT93yTPxA",
        "colab_type": "code",
        "outputId": "d446d15f-d64b-4c42-f18b-02dc331944ad",
        "colab": {
          "base_uri": "https://localhost:8080/",
          "height": 55
        }
      },
      "source": [
        "decode_review(X_train[1])"
      ],
      "execution_count": 94,
      "outputs": [
        {
          "output_type": "execute_result",
          "data": {
            "text/plain": [
              "\"<sos> big hair big boobs bad music and a giant safety pin these are the words to best describe this terrible movie i love cheesy horror movies and i've seen hundreds but this had got to be on of the worst ever made the plot is paper thin and ridiculous the acting is an abomination the script is completely laughable the best is the end showdown with the cop and how he worked out who the killer is it's just so damn terribly written the clothes are sickening and funny in equal <oov> the hair is big lots of boobs <oov> men wear those cut <oov> shirts that show off their <oov> sickening that men actually wore them and the music is just <oov> trash that plays over and over again in almost every scene there is trashy music boobs and <oov> taking away bodies and the gym still doesn't close for <oov> all joking aside this is a truly bad film whose only charm is to look back on the disaster that was the 80's and have a good old laugh at how bad everything was back then\""
            ]
          },
          "metadata": {
            "tags": []
          },
          "execution_count": 94
        }
      ]
    },
    {
      "cell_type": "markdown",
      "metadata": {
        "id": "L-CQnAWaTPxB",
        "colab_type": "text"
      },
      "source": [
        "Very negative! Let's check the target:"
      ]
    },
    {
      "cell_type": "code",
      "metadata": {
        "id": "qZlUDjrzTPxB",
        "colab_type": "code",
        "outputId": "89d91c3b-cf73-46a7-9b2f-e21fbbb040f9",
        "colab": {
          "base_uri": "https://localhost:8080/",
          "height": 35
        }
      },
      "source": [
        "y_train[1]"
      ],
      "execution_count": 95,
      "outputs": [
        {
          "output_type": "execute_result",
          "data": {
            "text/plain": [
              "0"
            ]
          },
          "metadata": {
            "tags": []
          },
          "execution_count": 95
        }
      ]
    },
    {
      "cell_type": "markdown",
      "metadata": {
        "id": "3PtTb3dGTPxD",
        "colab_type": "text"
      },
      "source": [
        "## 5.1) Train a baseline model"
      ]
    },
    {
      "cell_type": "markdown",
      "metadata": {
        "id": "lzEGwdNmTPxD",
        "colab_type": "text"
      },
      "source": [
        "Train and evaluate a baseline model using ScikitLearn. You will need to create a pipeline with a `CountVectorizer`, a `TfidfTransformer` and an `SGDClassifier`. The `CountVectorizer` transformer expects text as input, so let's create a text version of the training set and test set:"
      ]
    },
    {
      "cell_type": "code",
      "metadata": {
        "id": "60mq_dDNTPxD",
        "colab_type": "code",
        "colab": {}
      },
      "source": [
        "X_train_text = [decode_review(words_ids) for words_ids in X_train]\n",
        "X_test_text = [decode_review(words_ids) for words_ids in X_test]"
      ],
      "execution_count": 0,
      "outputs": []
    },
    {
      "cell_type": "code",
      "metadata": {
        "id": "h5mS5uPNTPxG",
        "colab_type": "code",
        "colab": {}
      },
      "source": [
        "from sklearn.feature_extraction.text import CountVectorizer, TfidfTransformer\n",
        "from sklearn.pipeline import Pipeline\n",
        "from sklearn.linear_model import SGDClassifier"
      ],
      "execution_count": 0,
      "outputs": []
    },
    {
      "cell_type": "code",
      "metadata": {
        "id": "UNxauuowTPxH",
        "colab_type": "code",
        "colab": {}
      },
      "source": [
        ""
      ],
      "execution_count": 0,
      "outputs": []
    },
    {
      "cell_type": "code",
      "metadata": {
        "id": "9jX8U3gbTPxI",
        "colab_type": "code",
        "colab": {}
      },
      "source": [
        ""
      ],
      "execution_count": 0,
      "outputs": []
    },
    {
      "cell_type": "code",
      "metadata": {
        "id": "gLbHtrOwTPxJ",
        "colab_type": "code",
        "colab": {}
      },
      "source": [
        ""
      ],
      "execution_count": 0,
      "outputs": []
    },
    {
      "cell_type": "markdown",
      "metadata": {
        "id": "DUUntpYATPxK",
        "colab_type": "text"
      },
      "source": [
        "## 5.2) Create a sequence classifier"
      ]
    },
    {
      "cell_type": "markdown",
      "metadata": {
        "id": "mFPYjWvgTPxK",
        "colab_type": "text"
      },
      "source": [
        "Create a sequence classifier using Keras:\n",
        "* Use `keras.preprocessing.sequence.pad_sequences()` to preprocess `X_train`: this will create a 2D array of 25,000 rows (one per review) and `maxlen=500` columns. Reviews longer than 500 words will be cropped, while reviews shorter \n",
        "than 500 words will be padded with zeros.\n",
        "* The first layer in your model should be an `Embedding` layer, with `input_dim=num_words` and `output_dim=10`. The model will gradually learn to represent each of the 10,000 words as a 10-dimensional vector. So the next layer will receive 3D batchs of shape (batch size, 500, 10).\n",
        "* Add one or more LSTM layers with 32 neurons each.\n",
        "* The output layer should be a Dense layer with a sigmoid activation function, since this is a binary classification problem.\n",
        "* When compiling the model, you should use the `binary_crossentropy` loss.\n",
        "* Fit the model for 10 epochs, using a batch size of 128 and `validation_split=0.2`."
      ]
    },
    {
      "cell_type": "code",
      "metadata": {
        "id": "46SykXJaTPxL",
        "colab_type": "code",
        "colab": {}
      },
      "source": [
        ""
      ],
      "execution_count": 0,
      "outputs": []
    },
    {
      "cell_type": "code",
      "metadata": {
        "id": "SvLuDX84TPxL",
        "colab_type": "code",
        "colab": {}
      },
      "source": [
        ""
      ],
      "execution_count": 0,
      "outputs": []
    },
    {
      "cell_type": "code",
      "metadata": {
        "id": "mJAXnPQjTPxM",
        "colab_type": "code",
        "colab": {}
      },
      "source": [
        ""
      ],
      "execution_count": 0,
      "outputs": []
    },
    {
      "cell_type": "markdown",
      "metadata": {
        "id": "8Tvq_7_OTPxN",
        "colab_type": "text"
      },
      "source": [
        "# Exercice 5 – Solution"
      ]
    },
    {
      "cell_type": "markdown",
      "metadata": {
        "id": "Y-GuwmK6TPxN",
        "colab_type": "text"
      },
      "source": [
        "## 5.1) Train a baseline model"
      ]
    },
    {
      "cell_type": "code",
      "metadata": {
        "id": "hz7Xp5QCTPxO",
        "colab_type": "code",
        "colab": {}
      },
      "source": [
        "X_train_text = [decode_review(words_ids) for words_ids in X_train]\n",
        "X_test_text = [decode_review(words_ids) for words_ids in X_test]"
      ],
      "execution_count": 0,
      "outputs": []
    },
    {
      "cell_type": "code",
      "metadata": {
        "id": "tnXDiO1nTPxQ",
        "colab_type": "code",
        "colab": {}
      },
      "source": [
        "from sklearn.feature_extraction.text import CountVectorizer, TfidfTransformer\n",
        "from sklearn.pipeline import Pipeline\n",
        "from sklearn.linear_model import SGDClassifier"
      ],
      "execution_count": 0,
      "outputs": []
    },
    {
      "cell_type": "code",
      "metadata": {
        "id": "MLpITLfiTPxR",
        "colab_type": "code",
        "colab": {}
      },
      "source": [
        "pipeline = Pipeline([\n",
        "    ('vect', CountVectorizer()),\n",
        "    ('tfidf', TfidfTransformer()),\n",
        "    ('clf', SGDClassifier(max_iter=50)),\n",
        "])"
      ],
      "execution_count": 0,
      "outputs": []
    },
    {
      "cell_type": "code",
      "metadata": {
        "id": "uwNeUMq2TPxU",
        "colab_type": "code",
        "outputId": "b3225772-14c7-4c45-d52f-437b75b35f08",
        "colab": {
          "base_uri": "https://localhost:8080/",
          "height": 399
        }
      },
      "source": [
        "pipeline.fit(X_train_text, y_train)"
      ],
      "execution_count": 101,
      "outputs": [
        {
          "output_type": "execute_result",
          "data": {
            "text/plain": [
              "Pipeline(memory=None,\n",
              "         steps=[('vect',\n",
              "                 CountVectorizer(analyzer='word', binary=False,\n",
              "                                 decode_error='strict',\n",
              "                                 dtype=<class 'numpy.int64'>, encoding='utf-8',\n",
              "                                 input='content', lowercase=True, max_df=1.0,\n",
              "                                 max_features=None, min_df=1,\n",
              "                                 ngram_range=(1, 1), preprocessor=None,\n",
              "                                 stop_words=None, strip_accents=None,\n",
              "                                 token_pattern='(?u)\\\\b\\\\w\\\\w+\\\\b',\n",
              "                                 tokenizer=None, vocabulary=Non...\n",
              "                ('clf',\n",
              "                 SGDClassifier(alpha=0.0001, average=False, class_weight=None,\n",
              "                               early_stopping=False, epsilon=0.1, eta0=0.0,\n",
              "                               fit_intercept=True, l1_ratio=0.15,\n",
              "                               learning_rate='optimal', loss='hinge',\n",
              "                               max_iter=50, n_iter_no_change=5, n_jobs=None,\n",
              "                               penalty='l2', power_t=0.5, random_state=None,\n",
              "                               shuffle=True, tol=0.001, validation_fraction=0.1,\n",
              "                               verbose=0, warm_start=False))],\n",
              "         verbose=False)"
            ]
          },
          "metadata": {
            "tags": []
          },
          "execution_count": 101
        }
      ]
    },
    {
      "cell_type": "code",
      "metadata": {
        "id": "gGXSDCxlTPxV",
        "colab_type": "code",
        "outputId": "374df801-066e-4129-81a2-216d7b2756b0",
        "colab": {
          "base_uri": "https://localhost:8080/",
          "height": 35
        }
      },
      "source": [
        "pipeline.score(X_test_text, y_test)"
      ],
      "execution_count": 102,
      "outputs": [
        {
          "output_type": "execute_result",
          "data": {
            "text/plain": [
              "0.88512"
            ]
          },
          "metadata": {
            "tags": []
          },
          "execution_count": 102
        }
      ]
    },
    {
      "cell_type": "markdown",
      "metadata": {
        "id": "vWuzoHqiTPxX",
        "colab_type": "text"
      },
      "source": [
        "We get 88.5% accuracy, that's not too bad. But don't forget to check the ratio of positive reviews:"
      ]
    },
    {
      "cell_type": "code",
      "metadata": {
        "id": "aoA2_4jnTPxX",
        "colab_type": "code",
        "outputId": "c4a0c2ff-c091-46fc-8ab3-ba7eaef81166",
        "colab": {
          "base_uri": "https://localhost:8080/",
          "height": 35
        }
      },
      "source": [
        "y_test.mean()"
      ],
      "execution_count": 103,
      "outputs": [
        {
          "output_type": "execute_result",
          "data": {
            "text/plain": [
              "0.5"
            ]
          },
          "metadata": {
            "tags": []
          },
          "execution_count": 103
        }
      ]
    },
    {
      "cell_type": "markdown",
      "metadata": {
        "id": "DNXso2r2TPxZ",
        "colab_type": "text"
      },
      "source": [
        "Let's try our model:"
      ]
    },
    {
      "cell_type": "code",
      "metadata": {
        "id": "s43UfOpxTPxZ",
        "colab_type": "code",
        "outputId": "d36819aa-6aad-460c-fd2e-c1a7af972c13",
        "colab": {
          "base_uri": "https://localhost:8080/",
          "height": 35
        }
      },
      "source": [
        "pipeline.predict([\"this movie was really awesome\"])"
      ],
      "execution_count": 104,
      "outputs": [
        {
          "output_type": "execute_result",
          "data": {
            "text/plain": [
              "array([1])"
            ]
          },
          "metadata": {
            "tags": []
          },
          "execution_count": 104
        }
      ]
    },
    {
      "cell_type": "markdown",
      "metadata": {
        "id": "2qPMSyEmTPxc",
        "colab_type": "text"
      },
      "source": [
        "## 5.2) Create a sequence classifier"
      ]
    },
    {
      "cell_type": "code",
      "metadata": {
        "id": "X828d4j0TPxc",
        "colab_type": "code",
        "colab": {}
      },
      "source": [
        "maxlen = 500\n",
        "X_train_trim = keras.preprocessing.sequence.pad_sequences(X_train, maxlen=maxlen)\n",
        "X_test_trim = keras.preprocessing.sequence.pad_sequences(X_test, maxlen=maxlen)"
      ],
      "execution_count": 0,
      "outputs": []
    },
    {
      "cell_type": "code",
      "metadata": {
        "id": "kmTax25jTPxd",
        "colab_type": "code",
        "colab": {}
      },
      "source": [
        "model = keras.models.Sequential()\n",
        "model.add(keras.layers.Embedding(input_dim=num_words, output_dim=10))\n",
        "model.add(keras.layers.LSTM(32))\n",
        "model.add(keras.layers.Dense(1, activation=\"sigmoid\"))"
      ],
      "execution_count": 0,
      "outputs": []
    },
    {
      "cell_type": "code",
      "metadata": {
        "id": "7E5aSmsLTPxe",
        "colab_type": "code",
        "colab": {}
      },
      "source": [
        "model.compile(loss=\"binary_crossentropy\", optimizer=\"rmsprop\", metrics=[\"accuracy\"])"
      ],
      "execution_count": 0,
      "outputs": []
    },
    {
      "cell_type": "code",
      "metadata": {
        "id": "0NarEgdPTPxh",
        "colab_type": "code",
        "outputId": "24352033-0b4d-4153-a523-92bad033c534",
        "colab": {
          "base_uri": "https://localhost:8080/",
          "height": 272
        }
      },
      "source": [
        "model.summary()"
      ],
      "execution_count": 108,
      "outputs": [
        {
          "output_type": "stream",
          "text": [
            "Model: \"sequential_6\"\n",
            "_________________________________________________________________\n",
            "Layer (type)                 Output Shape              Param #   \n",
            "=================================================================\n",
            "embedding (Embedding)        (None, None, 10)          100000    \n",
            "_________________________________________________________________\n",
            "lstm_6 (LSTM)                (None, 32)                5504      \n",
            "_________________________________________________________________\n",
            "dense_6 (Dense)              (None, 1)                 33        \n",
            "=================================================================\n",
            "Total params: 105,537\n",
            "Trainable params: 105,537\n",
            "Non-trainable params: 0\n",
            "_________________________________________________________________\n"
          ],
          "name": "stdout"
        }
      ]
    },
    {
      "cell_type": "code",
      "metadata": {
        "id": "E-fNFllJTPxh",
        "colab_type": "code",
        "outputId": "38f805be-d065-44be-aa4d-448ff58b4cad",
        "colab": {
          "base_uri": "https://localhost:8080/",
          "height": 381
        }
      },
      "source": [
        "history = model.fit(X_train_trim, y_train,\n",
        "                    epochs=10, batch_size=128, validation_split=0.2)"
      ],
      "execution_count": 109,
      "outputs": [
        {
          "output_type": "stream",
          "text": [
            "Epoch 1/10\n",
            "157/157 [==============================] - 50s 317ms/step - loss: 0.5697 - accuracy: 0.7268 - val_loss: 0.4225 - val_accuracy: 0.8048\n",
            "Epoch 2/10\n",
            "157/157 [==============================] - 53s 340ms/step - loss: 0.3427 - accuracy: 0.8627 - val_loss: 1.7735 - val_accuracy: 0.5306\n",
            "Epoch 3/10\n",
            "157/157 [==============================] - 53s 338ms/step - loss: 0.2768 - accuracy: 0.8960 - val_loss: 0.3656 - val_accuracy: 0.8386\n",
            "Epoch 4/10\n",
            "157/157 [==============================] - 53s 339ms/step - loss: 0.2286 - accuracy: 0.9147 - val_loss: 0.3002 - val_accuracy: 0.8810\n",
            "Epoch 5/10\n",
            "157/157 [==============================] - 54s 343ms/step - loss: 0.1957 - accuracy: 0.9286 - val_loss: 0.3269 - val_accuracy: 0.8660\n",
            "Epoch 6/10\n",
            "157/157 [==============================] - 53s 339ms/step - loss: 0.1799 - accuracy: 0.9336 - val_loss: 0.3298 - val_accuracy: 0.8754\n",
            "Epoch 7/10\n",
            "157/157 [==============================] - 57s 361ms/step - loss: 0.1566 - accuracy: 0.9449 - val_loss: 0.2846 - val_accuracy: 0.8882\n",
            "Epoch 8/10\n",
            "157/157 [==============================] - 56s 359ms/step - loss: 0.1422 - accuracy: 0.9482 - val_loss: 0.3285 - val_accuracy: 0.8902\n",
            "Epoch 9/10\n",
            "157/157 [==============================] - 57s 362ms/step - loss: 0.1333 - accuracy: 0.9536 - val_loss: 0.3151 - val_accuracy: 0.8870\n",
            "Epoch 10/10\n",
            "157/157 [==============================] - 56s 360ms/step - loss: 0.1255 - accuracy: 0.9560 - val_loss: 0.4028 - val_accuracy: 0.8388\n"
          ],
          "name": "stdout"
        }
      ]
    },
    {
      "cell_type": "code",
      "metadata": {
        "id": "Lx-LeGqXTPxk",
        "colab_type": "code",
        "outputId": "49b6e65f-da67-487c-fa1b-2131bf7ae40a",
        "colab": {
          "base_uri": "https://localhost:8080/",
          "height": 54
        }
      },
      "source": [
        "model.evaluate(X_test_trim, y_test)"
      ],
      "execution_count": 110,
      "outputs": [
        {
          "output_type": "stream",
          "text": [
            "782/782 [==============================] - 33s 42ms/step - loss: 0.4500 - accuracy: 0.8211\n"
          ],
          "name": "stdout"
        },
        {
          "output_type": "execute_result",
          "data": {
            "text/plain": [
              "[0.4499984085559845, 0.821120023727417]"
            ]
          },
          "metadata": {
            "tags": []
          },
          "execution_count": 110
        }
      ]
    },
    {
      "cell_type": "markdown",
      "metadata": {
        "id": "_Vg-dYkkTPxo",
        "colab_type": "text"
      },
      "source": [
        "# Exercise 6 – Bidirectional RNN"
      ]
    },
    {
      "cell_type": "markdown",
      "metadata": {
        "id": "hHSOu8SmTPxo",
        "colab_type": "text"
      },
      "source": [
        "Update the previous sequence classification model to use a bidirectional LSTM. For this, you just need to wrap the LSTM layer in a `Bidirectional` layer. If the model overfits, try adding a dropout layer."
      ]
    },
    {
      "cell_type": "code",
      "metadata": {
        "id": "ffGciOQzTPxo",
        "colab_type": "code",
        "colab": {}
      },
      "source": [
        ""
      ],
      "execution_count": 0,
      "outputs": []
    },
    {
      "cell_type": "code",
      "metadata": {
        "id": "lEPA10CeTPxr",
        "colab_type": "code",
        "colab": {}
      },
      "source": [
        ""
      ],
      "execution_count": 0,
      "outputs": []
    },
    {
      "cell_type": "code",
      "metadata": {
        "id": "bOfgQ4QXTPxt",
        "colab_type": "code",
        "colab": {}
      },
      "source": [
        ""
      ],
      "execution_count": 0,
      "outputs": []
    },
    {
      "cell_type": "markdown",
      "metadata": {
        "id": "ZFoTD1b0TPxv",
        "colab_type": "text"
      },
      "source": [
        "# Exercise 6 – Solution"
      ]
    },
    {
      "cell_type": "code",
      "metadata": {
        "id": "ZlT-TJT_TPxv",
        "colab_type": "code",
        "colab": {}
      },
      "source": [
        "model = keras.models.Sequential()\n",
        "model.add(keras.layers.Embedding(input_dim=num_words, output_dim=10))\n",
        "model.add(keras.layers.Dropout(0.5))\n",
        "model.add(keras.layers.Bidirectional(keras.layers.LSTM(32)))\n",
        "model.add(keras.layers.Dense(1, activation=\"sigmoid\"))"
      ],
      "execution_count": 0,
      "outputs": []
    },
    {
      "cell_type": "code",
      "metadata": {
        "id": "F64K6VZoTPxy",
        "colab_type": "code",
        "colab": {}
      },
      "source": [
        "model.compile(loss=\"binary_crossentropy\", optimizer=\"rmsprop\", metrics=[\"accuracy\"])"
      ],
      "execution_count": 0,
      "outputs": []
    },
    {
      "cell_type": "code",
      "metadata": {
        "id": "F9AAftvqTPx1",
        "colab_type": "code",
        "outputId": "83a667fd-f0ac-4d6c-dd50-60ac6c154109",
        "colab": {
          "base_uri": "https://localhost:8080/",
          "height": 381
        }
      },
      "source": [
        "history = model.fit(X_train_trim, y_train,\n",
        "                    epochs=10, batch_size=128, validation_split=0.2)"
      ],
      "execution_count": 113,
      "outputs": [
        {
          "output_type": "stream",
          "text": [
            "Epoch 1/10\n",
            "157/157 [==============================] - 86s 547ms/step - loss: 0.6130 - accuracy: 0.6676 - val_loss: 0.4722 - val_accuracy: 0.8218\n",
            "Epoch 2/10\n",
            "157/157 [==============================] - 85s 542ms/step - loss: 0.4093 - accuracy: 0.8305 - val_loss: 0.5048 - val_accuracy: 0.7968\n",
            "Epoch 3/10\n",
            "157/157 [==============================] - 85s 542ms/step - loss: 0.3223 - accuracy: 0.8748 - val_loss: 0.3624 - val_accuracy: 0.8562\n",
            "Epoch 4/10\n",
            "157/157 [==============================] - 85s 543ms/step - loss: 0.2704 - accuracy: 0.8936 - val_loss: 0.2881 - val_accuracy: 0.8810\n",
            "Epoch 5/10\n",
            "157/157 [==============================] - 85s 541ms/step - loss: 0.2458 - accuracy: 0.9048 - val_loss: 0.3466 - val_accuracy: 0.8618\n",
            "Epoch 6/10\n",
            "157/157 [==============================] - 85s 542ms/step - loss: 0.2247 - accuracy: 0.9178 - val_loss: 0.2617 - val_accuracy: 0.8968\n",
            "Epoch 7/10\n",
            "157/157 [==============================] - 91s 580ms/step - loss: 0.2035 - accuracy: 0.9229 - val_loss: 0.3204 - val_accuracy: 0.8650\n",
            "Epoch 8/10\n",
            "157/157 [==============================] - 91s 578ms/step - loss: 0.1964 - accuracy: 0.9273 - val_loss: 0.2595 - val_accuracy: 0.8952\n",
            "Epoch 9/10\n",
            "157/157 [==============================] - 86s 545ms/step - loss: 0.1838 - accuracy: 0.9305 - val_loss: 0.4971 - val_accuracy: 0.8462\n",
            "Epoch 10/10\n",
            "157/157 [==============================] - 85s 543ms/step - loss: 0.1744 - accuracy: 0.9348 - val_loss: 0.3048 - val_accuracy: 0.8916\n"
          ],
          "name": "stdout"
        }
      ]
    },
    {
      "cell_type": "code",
      "metadata": {
        "scrolled": true,
        "id": "MHVlMaXxTPx3",
        "colab_type": "code",
        "outputId": "b7bc9fe3-40ba-425f-d81d-c8c79089157a",
        "colab": {
          "base_uri": "https://localhost:8080/",
          "height": 54
        }
      },
      "source": [
        "model.evaluate(X_test_trim, y_test)"
      ],
      "execution_count": 114,
      "outputs": [
        {
          "output_type": "stream",
          "text": [
            "782/782 [==============================] - 46s 59ms/step - loss: 0.3471 - accuracy: 0.8742\n"
          ],
          "name": "stdout"
        },
        {
          "output_type": "execute_result",
          "data": {
            "text/plain": [
              "[0.3471306562423706, 0.874239981174469]"
            ]
          },
          "metadata": {
            "tags": []
          },
          "execution_count": 114
        }
      ]
    }
  ]
}