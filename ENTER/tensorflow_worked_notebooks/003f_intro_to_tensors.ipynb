{
  "nbformat": 4,
  "nbformat_minor": 0,
  "metadata": {
    "colab": {
      "name": "003f_intro_to_tensors.ipynb",
      "provenance": [],
      "collapsed_sections": [],
      "include_colab_link": true
    },
    "kernelspec": {
      "display_name": "Python 3",
      "name": "python3"
    },
    "accelerator": "GPU"
  },
  "cells": [
    {
      "cell_type": "markdown",
      "metadata": {
        "id": "view-in-github",
        "colab_type": "text"
      },
      "source": [
        "<a href=\"https://colab.research.google.com/github/tombresee/Tensorflow/blob/master/ENTER/tensorflow_worked_notebooks/003f_intro_to_tensors.ipynb\" target=\"_parent\"><img src=\"https://colab.research.google.com/assets/colab-badge.svg\" alt=\"Open In Colab\"/></a>"
      ]
    },
    {
      "cell_type": "markdown",
      "metadata": {
        "colab_type": "text",
        "id": "qFdPvlXBOdUN"
      },
      "source": [
        "# Introduction to Tensors"
      ]
    },
    {
      "cell_type": "code",
      "metadata": {
        "colab_type": "code",
        "id": "AL2hzxorJiWy",
        "colab": {}
      },
      "source": [
        "import tensorflow as tf\n",
        "import numpy as np"
      ],
      "execution_count": 0,
      "outputs": []
    },
    {
      "cell_type": "markdown",
      "metadata": {
        "colab_type": "text",
        "id": "VQ3s2J8Vgowq"
      },
      "source": [
        "Tensors are multi-dimensional arrays with a uniform type (called a `dtype`).  You can see all supported `dtypes` at `tf.dtypes.DType`.\n",
        "\n",
        "If you're familiar with [NumPy](https://numpy.org/devdocs/user/quickstart.html), tensors are (kind of) like `np.arrays`.\n",
        "\n",
        "All tensors are immutable like python numbers and strings: you can never update the contents of a tensor, only create a new one.\n"
      ]
    },
    {
      "cell_type": "code",
      "metadata": {
        "id": "D4IYSj19kncU",
        "colab_type": "code",
        "outputId": "d2c45ad9-b4a9-477b-d3d9-7595c4c41f81",
        "colab": {
          "base_uri": "https://localhost:8080/",
          "height": 1000
        }
      },
      "source": [
        "# the types of dtypes:\n",
        "\n",
        "help(tf.dtypes.DType)"
      ],
      "execution_count": 2,
      "outputs": [
        {
          "output_type": "stream",
          "text": [
            "Help on class DType in module tensorflow.python.framework.dtypes:\n",
            "\n",
            "class DType(tensorflow.python._dtypes.DType)\n",
            " |  Represents the type of the elements in a `Tensor`.\n",
            " |  \n",
            " |  The following `DType` objects are defined:\n",
            " |  \n",
            " |  * `tf.float16`: 16-bit half-precision floating-point.\n",
            " |  * `tf.float32`: 32-bit single-precision floating-point.\n",
            " |  * `tf.float64`: 64-bit double-precision floating-point.\n",
            " |  * `tf.bfloat16`: 16-bit truncated floating-point.\n",
            " |  * `tf.complex64`: 64-bit single-precision complex.\n",
            " |  * `tf.complex128`: 128-bit double-precision complex.\n",
            " |  * `tf.int8`: 8-bit signed integer.\n",
            " |  * `tf.uint8`: 8-bit unsigned integer.\n",
            " |  * `tf.uint16`: 16-bit unsigned integer.\n",
            " |  * `tf.uint32`: 32-bit unsigned integer.\n",
            " |  * `tf.uint64`: 64-bit unsigned integer.\n",
            " |  * `tf.int16`: 16-bit signed integer.\n",
            " |  * `tf.int32`: 32-bit signed integer.\n",
            " |  * `tf.int64`: 64-bit signed integer.\n",
            " |  * `tf.bool`: Boolean.\n",
            " |  * `tf.string`: String.\n",
            " |  * `tf.qint8`: Quantized 8-bit signed integer.\n",
            " |  * `tf.quint8`: Quantized 8-bit unsigned integer.\n",
            " |  * `tf.qint16`: Quantized 16-bit signed integer.\n",
            " |  * `tf.quint16`: Quantized 16-bit unsigned integer.\n",
            " |  * `tf.qint32`: Quantized 32-bit signed integer.\n",
            " |  * `tf.resource`: Handle to a mutable resource.\n",
            " |  * `tf.variant`: Values of arbitrary types.\n",
            " |  \n",
            " |  The `tf.as_dtype()` function converts numpy types and string type\n",
            " |  names to a `DType` object.\n",
            " |  \n",
            " |  Method resolution order:\n",
            " |      DType\n",
            " |      tensorflow.python._dtypes.DType\n",
            " |      pybind11_builtins.pybind11_object\n",
            " |      builtins.object\n",
            " |  \n",
            " |  Methods defined here:\n",
            " |  \n",
            " |  __eq__(self, other)\n",
            " |      Returns True iff this DType refers to the same type as `other`.\n",
            " |  \n",
            " |  __hash__(...)\n",
            " |      __hash__(self: tensorflow.python._dtypes.DType) -> int\n",
            " |  \n",
            " |  __ne__(self, other)\n",
            " |      Returns True iff self != other.\n",
            " |  \n",
            " |  __reduce__(self)\n",
            " |      helper for pickle\n",
            " |  \n",
            " |  is_compatible_with(self, other)\n",
            " |      Returns True if the `other` DType will be converted to this DType.\n",
            " |      \n",
            " |      The conversion rules are as follows:\n",
            " |      \n",
            " |      ```python\n",
            " |      DType(T)       .is_compatible_with(DType(T))        == True\n",
            " |      ```\n",
            " |      \n",
            " |      Args:\n",
            " |        other: A `DType` (or object that may be converted to a `DType`).\n",
            " |      \n",
            " |      Returns:\n",
            " |        True if a Tensor of the `other` `DType` will be implicitly converted to\n",
            " |        this `DType`.\n",
            " |  \n",
            " |  ----------------------------------------------------------------------\n",
            " |  Data descriptors defined here:\n",
            " |  \n",
            " |  as_numpy_dtype\n",
            " |      Returns a Python `type` object based on this `DType`.\n",
            " |  \n",
            " |  base_dtype\n",
            " |      Returns a non-reference `DType` based on this `DType`.\n",
            " |  \n",
            " |  limits\n",
            " |      Return intensity limits, i.e.\n",
            " |      \n",
            " |      (min, max) tuple, of the dtype.\n",
            " |      Args:\n",
            " |        clip_negative : bool, optional If True, clip the negative range (i.e.\n",
            " |          return 0 for min intensity) even if the image dtype allows negative\n",
            " |          values. Returns\n",
            " |        min, max : tuple Lower and upper intensity limits.\n",
            " |  \n",
            " |  max\n",
            " |      Returns the maximum representable value in this data type.\n",
            " |      \n",
            " |      Raises:\n",
            " |        TypeError: if this is a non-numeric, unordered, or quantized type.\n",
            " |  \n",
            " |  min\n",
            " |      Returns the minimum representable value in this data type.\n",
            " |      \n",
            " |      Raises:\n",
            " |        TypeError: if this is a non-numeric, unordered, or quantized type.\n",
            " |  \n",
            " |  real_dtype\n",
            " |      Returns the `DType` corresponding to this `DType`'s real part.\n",
            " |  \n",
            " |  ----------------------------------------------------------------------\n",
            " |  Methods inherited from tensorflow.python._dtypes.DType:\n",
            " |  \n",
            " |  __init__(...)\n",
            " |      __init__(self: tensorflow.python._dtypes.DType, arg0: object) -> None\n",
            " |  \n",
            " |  __repr__(...)\n",
            " |      __repr__(self: tensorflow.python._dtypes.DType) -> str\n",
            " |  \n",
            " |  __str__(...)\n",
            " |      __str__(self: tensorflow.python._dtypes.DType) -> str\n",
            " |  \n",
            " |  ----------------------------------------------------------------------\n",
            " |  Data descriptors inherited from tensorflow.python._dtypes.DType:\n",
            " |  \n",
            " |  as_datatype_enum\n",
            " |      Returns a `types_pb2.DataType` enum value based on this data type.\n",
            " |  \n",
            " |  is_bool\n",
            " |      Returns whether this is a boolean data type.\n",
            " |  \n",
            " |  is_complex\n",
            " |      Returns whether this is a complex floating point type.\n",
            " |  \n",
            " |  is_floating\n",
            " |      Returns whether this is a (non-quantized, real) floating point type.\n",
            " |  \n",
            " |  is_integer\n",
            " |      Returns whether this is a (non-quantized) integer type.\n",
            " |  \n",
            " |  is_numpy_compatible\n",
            " |      Returns whether this data type has a compatible NumPy data type.\n",
            " |  \n",
            " |  is_quantized\n",
            " |      Returns whether this is a quantized data type.\n",
            " |  \n",
            " |  is_unsigned\n",
            " |      Returns whether this type is unsigned.\n",
            " |      \n",
            " |      Non-numeric, unordered, and quantized types are not considered unsigned, and\n",
            " |      this function returns `False`.\n",
            " |  \n",
            " |  name\n",
            " |  \n",
            " |  size\n",
            " |  \n",
            " |  ----------------------------------------------------------------------\n",
            " |  Methods inherited from pybind11_builtins.pybind11_object:\n",
            " |  \n",
            " |  __new__(*args, **kwargs) from pybind11_builtins.pybind11_type\n",
            " |      Create and return a new object.  See help(type) for accurate signature.\n",
            "\n"
          ],
          "name": "stdout"
        }
      ]
    },
    {
      "cell_type": "code",
      "metadata": {
        "id": "OPcvJT92knaK",
        "colab_type": "code",
        "colab": {}
      },
      "source": [
        ""
      ],
      "execution_count": 0,
      "outputs": []
    },
    {
      "cell_type": "markdown",
      "metadata": {
        "colab_type": "text",
        "id": "DRK5-9EpYbzG"
      },
      "source": [
        "## Basics\n",
        "\n",
        "Let's create some basic tensors."
      ]
    },
    {
      "cell_type": "markdown",
      "metadata": {
        "colab_type": "text",
        "id": "uSHRFT6LJbxq"
      },
      "source": [
        "Here is a \"scalar\" or \"rank-0\" tensor . A scalar contains a single value, and no \"axes\".  In physics, a scalar is a simple value that has no direction (vector qualities).  "
      ]
    },
    {
      "cell_type": "code",
      "metadata": {
        "colab_type": "code",
        "id": "d5JcgLFR6gHv",
        "colab": {
          "base_uri": "https://localhost:8080/",
          "height": 35
        },
        "outputId": "5f922fd9-016f-4439-bf91-01cb806dcbda"
      },
      "source": [
        "# This will be an int32 tensor by default; see \"dtypes\" below.\n",
        "rank_0_tensor = tf.constant(4)\n",
        "print(rank_0_tensor)\n",
        "\n",
        "# see how it 'has no shape' ? "
      ],
      "execution_count": 3,
      "outputs": [
        {
          "output_type": "stream",
          "text": [
            "tf.Tensor(4, shape=(), dtype=int32)\n"
          ],
          "name": "stdout"
        }
      ]
    },
    {
      "cell_type": "code",
      "metadata": {
        "id": "L50as_3rlDCa",
        "colab_type": "code",
        "outputId": "f23020ae-2e1c-4358-bc7f-068373bb93a2",
        "colab": {
          "base_uri": "https://localhost:8080/",
          "height": 35
        }
      },
      "source": [
        "another_rank_0_tensor = tf.constant(10000000000000000)\n",
        "print(another_rank_0_tensor)\n",
        "# see how it is int64 dtype to cover the breadth of value ? "
      ],
      "execution_count": 4,
      "outputs": [
        {
          "output_type": "stream",
          "text": [
            "tf.Tensor(10000000000000000, shape=(), dtype=int64)\n"
          ],
          "name": "stdout"
        }
      ]
    },
    {
      "cell_type": "markdown",
      "metadata": {
        "id": "RuS53i2slTXH",
        "colab_type": "text"
      },
      "source": [
        "<br>"
      ]
    },
    {
      "cell_type": "markdown",
      "metadata": {
        "colab_type": "text",
        "id": "tdmPAn9fWYs5"
      },
      "source": [
        "A \"vector\" or \"rank-1\" tensor is like a list of values. A vector has 1-axis:"
      ]
    },
    {
      "cell_type": "code",
      "metadata": {
        "colab_type": "code",
        "id": "oZos8o_R6oE7",
        "colab": {
          "base_uri": "https://localhost:8080/",
          "height": 35
        },
        "outputId": "38ba1fdd-e9c4-45c6-f6ce-aa23931f3a1f"
      },
      "source": [
        "# Let's make this a float tensor.\n",
        "rank_1_tensor = tf.constant([2.0, 3.0, 4.0])\n",
        "print(rank_1_tensor)\n",
        "\n",
        "#  see how it does actually have a comma after the 3"
      ],
      "execution_count": 5,
      "outputs": [
        {
          "output_type": "stream",
          "text": [
            "tf.Tensor([2. 3. 4.], shape=(3,), dtype=float32)\n"
          ],
          "name": "stdout"
        }
      ]
    },
    {
      "cell_type": "markdown",
      "metadata": {
        "colab_type": "text",
        "id": "G3IJG-ug_H4u"
      },
      "source": [
        "A \"matrix\" or \"rank-2\" tensor has 2-axes:\n"
      ]
    },
    {
      "cell_type": "code",
      "metadata": {
        "id": "PIpe2rnDlree",
        "colab_type": "code",
        "colab": {}
      },
      "source": [
        "# note:  scalar is rank 0 and thus has no 'axis'\n",
        "#        vector is a true physics vector, i.e. like numpy as well, \n",
        "#        where vector is a column so to speak of values\n",
        "#        A matrix (like in numpy) is two dimensions, two axes"
      ],
      "execution_count": 0,
      "outputs": []
    },
    {
      "cell_type": "code",
      "metadata": {
        "colab_type": "code",
        "id": "cnOIA_xb6u0M",
        "colab": {
          "base_uri": "https://localhost:8080/",
          "height": 90
        },
        "outputId": "3e2cf619-aadb-4ac9-ade3-aba7ad883446"
      },
      "source": [
        "# If we want to be specific, we can set the dtype (see below) at creation time\n",
        "rank_2_tensor = tf.constant([[1, 2],\n",
        "                             [3, 4],\n",
        "                             [5, 6]], dtype=tf.float16)\n",
        "print(rank_2_tensor)\n",
        "\n",
        "# like in numpy, you see it is a list of lists concept\n",
        "# rows of rows"
      ],
      "execution_count": 7,
      "outputs": [
        {
          "output_type": "stream",
          "text": [
            "tf.Tensor(\n",
            "[[1. 2.]\n",
            " [3. 4.]\n",
            " [5. 6.]], shape=(3, 2), dtype=float16)\n"
          ],
          "name": "stdout"
        }
      ]
    },
    {
      "cell_type": "code",
      "metadata": {
        "id": "x25l7_y3l6Zk",
        "colab_type": "code",
        "colab": {}
      },
      "source": [
        "# shape is still the view from numpy"
      ],
      "execution_count": 0,
      "outputs": []
    },
    {
      "cell_type": "markdown",
      "metadata": {
        "colab_type": "text",
        "id": "19m72qEPkfxi"
      },
      "source": [
        "<table>\n",
        "<tr>\n",
        "  <th>A scalar, shape: <code>[]</code></th>\n",
        "  <th>A vector, shape: <code>[3]</code></th>\n",
        "  <th>A matrix, shape: <code>[3, 2]</code></th>\n",
        "</tr>\n",
        "<tr>\n",
        "  <td>\n",
        "   <img src=\"https://github.com/tensorflow/docs/blob/master/site/en/guide/images/tensor/scalar.png?raw=1\" alt=\"A scalar, the number 4\" />\n",
        "  </td>\n",
        "\n",
        "  <td>\n",
        "   <img src=\"https://github.com/tensorflow/docs/blob/master/site/en/guide/images/tensor/vector.png?raw=1\" alt=\"The line with 3 sections, each one containing a number.\"/>\n",
        "  </td>\n",
        "  <td>\n",
        "   <img src=\"https://github.com/tensorflow/docs/blob/master/site/en/guide/images/tensor/matrix.png?raw=1\" alt=\"A 3x2 grid, with each cell containing a number.\">\n",
        "  </td>\n",
        "</tr>\n",
        "</table>\n"
      ]
    },
    {
      "cell_type": "code",
      "metadata": {
        "id": "EPjgrRysmHLt",
        "colab_type": "code",
        "colab": {}
      },
      "source": [
        "# it is odd that the shape is "
      ],
      "execution_count": 0,
      "outputs": []
    },
    {
      "cell_type": "markdown",
      "metadata": {
        "colab_type": "text",
        "id": "fjFvzcn4_ehD"
      },
      "source": [
        "Tensors may have more axes, here is a tensor with 3-axes:"
      ]
    },
    {
      "cell_type": "code",
      "metadata": {
        "colab_type": "code",
        "id": "sesW7gw6JkXy",
        "colab": {
          "base_uri": "https://localhost:8080/",
          "height": 181
        },
        "outputId": "73159976-1ccb-4502-eed4-10b6e0d27a03"
      },
      "source": [
        "\n",
        "# There can be an arbitrary number of\n",
        "# axes (sometimes called \"dimensions\")\n",
        "\n",
        "rank_3_tensor = tf.constant([\n",
        "  [[0, 1, 2, 3, 4],\n",
        "   [5, 6, 7, 8, 9]],\n",
        "  [[10, 11, 12, 13, 14],\n",
        "   [15, 16, 17, 18, 19]],\n",
        "  [[20, 21, 22, 23, 24],\n",
        "   [25, 26, 27, 28, 29]],])\n",
        "                    \n",
        "print(rank_3_tensor)\n",
        "\n",
        "# i do find it odd how they do 3,2,5, i.e.:\n",
        "# you have chunks that are 2 rows and 5 columns each, and that is the row x col = 2 x 5\n",
        "# but then you add the actual veritical height FIRST, i.e. how many chunks do you have ? \n",
        "# its almost like the z axis is the first dimension, and its Z x X x Y ??? odd\n"
      ],
      "execution_count": 10,
      "outputs": [
        {
          "output_type": "stream",
          "text": [
            "tf.Tensor(\n",
            "[[[ 0  1  2  3  4]\n",
            "  [ 5  6  7  8  9]]\n",
            "\n",
            " [[10 11 12 13 14]\n",
            "  [15 16 17 18 19]]\n",
            "\n",
            " [[20 21 22 23 24]\n",
            "  [25 26 27 28 29]]], shape=(3, 2, 5), dtype=int32)\n"
          ],
          "name": "stdout"
        }
      ]
    },
    {
      "cell_type": "code",
      "metadata": {
        "id": "jEuaHioony2X",
        "colab_type": "code",
        "outputId": "bdf3ad63-7e3c-4954-c8ed-de5c91594d5b",
        "colab": {
          "base_uri": "https://localhost:8080/",
          "height": 35
        }
      },
      "source": [
        "print(type(rank_3_tensor))"
      ],
      "execution_count": 11,
      "outputs": [
        {
          "output_type": "stream",
          "text": [
            "<class 'tensorflow.python.framework.ops.EagerTensor'>\n"
          ],
          "name": "stdout"
        }
      ]
    },
    {
      "cell_type": "code",
      "metadata": {
        "id": "swZYTPjPn1yH",
        "colab_type": "code",
        "outputId": "c25c8e71-8725-42c5-f627-7bad3d3ca22b",
        "colab": {
          "base_uri": "https://localhost:8080/",
          "height": 363
        }
      },
      "source": [
        "for method in dir(rank_3_tensor):\n",
        "  if not method.startswith(\"_\"):\n",
        "    print(method)"
      ],
      "execution_count": 12,
      "outputs": [
        {
          "output_type": "stream",
          "text": [
            "OVERLOADABLE_OPERATORS\n",
            "backing_device\n",
            "consumers\n",
            "cpu\n",
            "device\n",
            "dtype\n",
            "eval\n",
            "experimental_ref\n",
            "get_shape\n",
            "gpu\n",
            "graph\n",
            "name\n",
            "ndim\n",
            "numpy\n",
            "op\n",
            "ref\n",
            "set_shape\n",
            "shape\n",
            "value_index\n"
          ],
          "name": "stdout"
        }
      ]
    },
    {
      "cell_type": "code",
      "metadata": {
        "id": "WQky0x_GoFGB",
        "colab_type": "code",
        "outputId": "d0b719e4-0db4-440f-cba7-a880548548d9",
        "colab": {
          "base_uri": "https://localhost:8080/",
          "height": 35
        }
      },
      "source": [
        "rank_3_tensor.shape"
      ],
      "execution_count": 13,
      "outputs": [
        {
          "output_type": "execute_result",
          "data": {
            "text/plain": [
              "TensorShape([3, 2, 5])"
            ]
          },
          "metadata": {
            "tags": []
          },
          "execution_count": 13
        }
      ]
    },
    {
      "cell_type": "code",
      "metadata": {
        "id": "oEgxB6EvoIwD",
        "colab_type": "code",
        "outputId": "15e15f56-e1c9-41b5-95e0-02818df74065",
        "colab": {
          "base_uri": "https://localhost:8080/",
          "height": 35
        }
      },
      "source": [
        "rank_3_tensor.ndim  # how many total dimensions does it have ??? "
      ],
      "execution_count": 14,
      "outputs": [
        {
          "output_type": "execute_result",
          "data": {
            "text/plain": [
              "3"
            ]
          },
          "metadata": {
            "tags": []
          },
          "execution_count": 14
        }
      ]
    },
    {
      "cell_type": "code",
      "metadata": {
        "id": "C2rvzSmRodkV",
        "colab_type": "code",
        "outputId": "d0cdf72a-5d1f-4256-d18c-ebe1dbf037ce",
        "colab": {
          "base_uri": "https://localhost:8080/",
          "height": 181
        }
      },
      "source": [
        "rank_3_tensor   # i want its values ! "
      ],
      "execution_count": 15,
      "outputs": [
        {
          "output_type": "execute_result",
          "data": {
            "text/plain": [
              "<tf.Tensor: shape=(3, 2, 5), dtype=int32, numpy=\n",
              "array([[[ 0,  1,  2,  3,  4],\n",
              "        [ 5,  6,  7,  8,  9]],\n",
              "\n",
              "       [[10, 11, 12, 13, 14],\n",
              "        [15, 16, 17, 18, 19]],\n",
              "\n",
              "       [[20, 21, 22, 23, 24],\n",
              "        [25, 26, 27, 28, 29]]], dtype=int32)>"
            ]
          },
          "metadata": {
            "tags": []
          },
          "execution_count": 15
        }
      ]
    },
    {
      "cell_type": "code",
      "metadata": {
        "id": "w-rowDxnoPiW",
        "colab_type": "code",
        "outputId": "8bc3074a-e08c-4503-e788-054d287a9ee0",
        "colab": {
          "base_uri": "https://localhost:8080/",
          "height": 181
        }
      },
      "source": [
        "rank_3_tensor.get_shape"
      ],
      "execution_count": 16,
      "outputs": [
        {
          "output_type": "execute_result",
          "data": {
            "text/plain": [
              "<bound method _EagerTensorBase.get_shape of <tf.Tensor: shape=(3, 2, 5), dtype=int32, numpy=\n",
              "array([[[ 0,  1,  2,  3,  4],\n",
              "        [ 5,  6,  7,  8,  9]],\n",
              "\n",
              "       [[10, 11, 12, 13, 14],\n",
              "        [15, 16, 17, 18, 19]],\n",
              "\n",
              "       [[20, 21, 22, 23, 24],\n",
              "        [25, 26, 27, 28, 29]]], dtype=int32)>>"
            ]
          },
          "metadata": {
            "tags": []
          },
          "execution_count": 16
        }
      ]
    },
    {
      "cell_type": "markdown",
      "metadata": {
        "colab_type": "text",
        "id": "rM2sTGIkoE3S"
      },
      "source": [
        "There are many ways you might visualize a tensor with more than 2-axes."
      ]
    },
    {
      "cell_type": "markdown",
      "metadata": {
        "colab_type": "text",
        "id": "NFiYfNMMhDgL"
      },
      "source": [
        "<table>\n",
        "<tr>\n",
        "  <th colspan=3>A 3-axis tensor, shape: <code>[3, 2, 5]</code></th>\n",
        "<tr>\n",
        "<tr>\n",
        "  <td>\n",
        "   <img src=\"https://github.com/tensorflow/docs/blob/master/site/en/guide/images/tensor/3-axis_numpy.png?raw=1\"/>\n",
        "  </td>\n",
        "  <td>\n",
        "   <img src=\"https://github.com/tensorflow/docs/blob/master/site/en/guide/images/tensor/3-axis_front.png?raw=1\"/>\n",
        "  </td>\n",
        "\n",
        "  <td>\n",
        "   <img src=\"https://github.com/tensorflow/docs/blob/master/site/en/guide/images/tensor/3-axis_block.png?raw=1\"/>\n",
        "  </td>\n",
        "</tr>\n",
        "\n",
        "</table>"
      ]
    },
    {
      "cell_type": "markdown",
      "metadata": {
        "colab_type": "text",
        "id": "oWAc0U8OZwNb"
      },
      "source": [
        "You can convert a tensor to a NumPy array either using `np.array` or the `tensor.numpy` method:"
      ]
    },
    {
      "cell_type": "code",
      "metadata": {
        "colab_type": "code",
        "id": "J5u6_6ZYaS7B",
        "colab": {
          "base_uri": "https://localhost:8080/",
          "height": 72
        },
        "outputId": "fb070a4f-04e0-4575-8c8b-7304d3f211e2"
      },
      "source": [
        "np.array(rank_2_tensor)"
      ],
      "execution_count": 17,
      "outputs": [
        {
          "output_type": "execute_result",
          "data": {
            "text/plain": [
              "array([[1., 2.],\n",
              "       [3., 4.],\n",
              "       [5., 6.]], dtype=float16)"
            ]
          },
          "metadata": {
            "tags": []
          },
          "execution_count": 17
        }
      ]
    },
    {
      "cell_type": "code",
      "metadata": {
        "id": "fAXp7P0boj3n",
        "colab_type": "code",
        "outputId": "2dfc94a4-dfb7-4e76-9cf5-915c2a7ab3e1",
        "colab": {
          "base_uri": "https://localhost:8080/",
          "height": 35
        }
      },
      "source": [
        "print(type(np.array(rank_2_tensor)))"
      ],
      "execution_count": 18,
      "outputs": [
        {
          "output_type": "stream",
          "text": [
            "<class 'numpy.ndarray'>\n"
          ],
          "name": "stdout"
        }
      ]
    },
    {
      "cell_type": "code",
      "metadata": {
        "colab_type": "code",
        "id": "c6Taz2gIaZeo",
        "colab": {
          "base_uri": "https://localhost:8080/",
          "height": 72
        },
        "outputId": "51b52921-b422-4080-88c9-b9ef1f0b04cd"
      },
      "source": [
        "rank_2_tensor.numpy()   # you can either do np.array(tensor) orrr tensor.numpy(), i think np.array makes more sense..."
      ],
      "execution_count": 19,
      "outputs": [
        {
          "output_type": "execute_result",
          "data": {
            "text/plain": [
              "array([[1., 2.],\n",
              "       [3., 4.],\n",
              "       [5., 6.]], dtype=float16)"
            ]
          },
          "metadata": {
            "tags": []
          },
          "execution_count": 19
        }
      ]
    },
    {
      "cell_type": "markdown",
      "metadata": {
        "id": "tcfbYDzaosHG",
        "colab_type": "text"
      },
      "source": [
        "<br>"
      ]
    },
    {
      "cell_type": "markdown",
      "metadata": {
        "colab_type": "text",
        "id": "hnz19F0ocEKD"
      },
      "source": [
        "Tensors often contain floats and ints, but have many other types, including:\n",
        "\n",
        "* complex numbers\n",
        "* strings\n",
        "\n",
        "The base `tf.Tensor` class requires tensors to be \"rectangular\"---that is, along each axis, every element is the same size.  However, there are specialized types of Tensors that can handle different shapes: \n",
        "\n",
        "* ragged (see [RaggedTensor](#ragged_tensors) below)\n",
        "* sparse (see [SparseTensor](#sparse_tensors) below)"
      ]
    },
    {
      "cell_type": "markdown",
      "metadata": {
        "colab_type": "text",
        "id": "SDC7OGeAIJr8"
      },
      "source": [
        "We can do basic math on tensors, including addition, element-wise multiplication, and matrix multiplication."
      ]
    },
    {
      "cell_type": "code",
      "metadata": {
        "id": "15f0uAGWo1e6",
        "colab_type": "code",
        "colab": {}
      },
      "source": [
        "# ?  whats the diff between a tensor and a tensor constant ? ? ? "
      ],
      "execution_count": 0,
      "outputs": []
    },
    {
      "cell_type": "code",
      "metadata": {
        "colab_type": "code",
        "id": "-DTkjwDOIIDa",
        "colab": {
          "base_uri": "https://localhost:8080/",
          "height": 235
        },
        "outputId": "5a2e2609-2334-42b7-a7d5-ec47095e9676"
      },
      "source": [
        "a = tf.constant([[1, 2],\n",
        "                 [3, 4]])\n",
        "\n",
        "b = tf.constant([[1, 1],\n",
        "                 [1, 1]]) # Could have also said `tf.ones([2,2])`\n",
        "\n",
        "\n",
        "print(tf.add(a, b), \"\\n\")\n",
        "print(tf.multiply(a, b), \"\\n\")\n",
        "print(tf.matmul(a, b), \"\\n\")\n"
      ],
      "execution_count": 21,
      "outputs": [
        {
          "output_type": "stream",
          "text": [
            "tf.Tensor(\n",
            "[[2 3]\n",
            " [4 5]], shape=(2, 2), dtype=int32) \n",
            "\n",
            "tf.Tensor(\n",
            "[[1 2]\n",
            " [3 4]], shape=(2, 2), dtype=int32) \n",
            "\n",
            "tf.Tensor(\n",
            "[[3 3]\n",
            " [7 7]], shape=(2, 2), dtype=int32) \n",
            "\n"
          ],
          "name": "stdout"
        }
      ]
    },
    {
      "cell_type": "code",
      "metadata": {
        "colab_type": "code",
        "id": "2smoWeUz-N2q",
        "colab": {
          "base_uri": "https://localhost:8080/",
          "height": 235
        },
        "outputId": "2a6240bc-968f-411d-c547-ffd0fd84f505"
      },
      "source": [
        "print(a + b, \"\\n\") # element-wise addition\n",
        "print(a * b, \"\\n\") # element-wise multiplication\n",
        "print(a @ b, \"\\n\") # matrix multiplication\n",
        "\n",
        "# a and b are true tensors, and you use the same numpy matrix multiplication approach ? "
      ],
      "execution_count": 22,
      "outputs": [
        {
          "output_type": "stream",
          "text": [
            "tf.Tensor(\n",
            "[[2 3]\n",
            " [4 5]], shape=(2, 2), dtype=int32) \n",
            "\n",
            "tf.Tensor(\n",
            "[[1 2]\n",
            " [3 4]], shape=(2, 2), dtype=int32) \n",
            "\n",
            "tf.Tensor(\n",
            "[[3 3]\n",
            " [7 7]], shape=(2, 2), dtype=int32) \n",
            "\n"
          ],
          "name": "stdout"
        }
      ]
    },
    {
      "cell_type": "markdown",
      "metadata": {
        "colab_type": "text",
        "id": "S3_vIAl2JPVc"
      },
      "source": [
        "Tensors are used in all kinds of operations (ops)."
      ]
    },
    {
      "cell_type": "code",
      "metadata": {
        "colab_type": "code",
        "id": "Gp4WUYzGIbnv",
        "colab": {
          "base_uri": "https://localhost:8080/",
          "height": 108
        },
        "outputId": "84ed1c24-0fb5-426d-c2bc-3021bfaf0f5c"
      },
      "source": [
        "c = tf.constant([[4.0, 5.0], [10.0, 1.0]])\n",
        "\n",
        "# Find the largest value\n",
        "print(tf.reduce_max(c))\n",
        "\n",
        "# Find the index of the largest value\n",
        "print(tf.argmax(c))  # 1th row, 0th element \n",
        "\n",
        "# Compute the softmax\n",
        "print(tf.nn.softmax(c))\n"
      ],
      "execution_count": 23,
      "outputs": [
        {
          "output_type": "stream",
          "text": [
            "tf.Tensor(10.0, shape=(), dtype=float32)\n",
            "tf.Tensor([1 0], shape=(2,), dtype=int64)\n",
            "tf.Tensor(\n",
            "[[2.6894143e-01 7.3105860e-01]\n",
            " [9.9987662e-01 1.2339458e-04]], shape=(2, 2), dtype=float32)\n"
          ],
          "name": "stdout"
        }
      ]
    },
    {
      "cell_type": "code",
      "metadata": {
        "id": "8NgcsFU5pQKN",
        "colab_type": "code",
        "outputId": "7f46ea3f-0558-41fb-e6be-1accd8b9a589",
        "colab": {
          "base_uri": "https://localhost:8080/",
          "height": 435
        }
      },
      "source": [
        "\n",
        "# explain tf.nn.softmax(c)\n",
        "\n",
        "help(tf.nn.softmax)\n",
        "\n",
        "#  softmax = tf.exp(logits) / tf.reduce_sum(tf.exp(logits), axis)\n"
      ],
      "execution_count": 24,
      "outputs": [
        {
          "output_type": "stream",
          "text": [
            "Help on function softmax_v2 in module tensorflow.python.ops.nn_ops:\n",
            "\n",
            "softmax_v2(logits, axis=None, name=None)\n",
            "    Computes softmax activations.\n",
            "    \n",
            "    This function performs the equivalent of\n",
            "    \n",
            "        softmax = tf.exp(logits) / tf.reduce_sum(tf.exp(logits), axis)\n",
            "    \n",
            "    Args:\n",
            "      logits: A non-empty `Tensor`. Must be one of the following types: `half`,\n",
            "        `float32`, `float64`.\n",
            "      axis: The dimension softmax would be performed on. The default is -1 which\n",
            "        indicates the last dimension.\n",
            "      name: A name for the operation (optional).\n",
            "    \n",
            "    Returns:\n",
            "      A `Tensor`. Has the same type and shape as `logits`.\n",
            "    \n",
            "    Raises:\n",
            "      InvalidArgumentError: if `logits` is empty or `axis` is beyond the last\n",
            "        dimension of `logits`.\n",
            "\n"
          ],
          "name": "stdout"
        }
      ]
    },
    {
      "cell_type": "code",
      "metadata": {
        "id": "MHqj7uVnrGq1",
        "colab_type": "code",
        "outputId": "f713364a-0ca7-484e-caed-2a18666a7666",
        "colab": {
          "base_uri": "https://localhost:8080/",
          "height": 345
        }
      },
      "source": [
        "\n",
        "import tensorflow as tf\n",
        "\n",
        "\n",
        "# Use softmax on vector.\n",
        "\n",
        "x = [0., -1., 2., 3.]\n",
        "\n",
        "softmax_x = tf.nn.softmax(x)\n",
        "\n",
        "# Create 2D tensor and use soft max on the second dimension.\n",
        "y = [5., 4., 6., 7., 5.5, 6.5, 4.5, 4.]\n",
        "\n",
        "y_reshape = tf.reshape(y, [2, 2, 2])\n",
        "\n",
        "softmax_y = tf.nn.softmax(y_reshape, 1)\n",
        "\n",
        "print(\"X\")\n",
        "print(x)\n",
        "print(\"SOFTMAX X\")\n",
        "print(softmax_x)\n",
        "print(\"Y\")\n",
        "print(y_reshape)\n",
        "print(\"SOFTMAX Y\")\n",
        "print(softmax_y)\n"
      ],
      "execution_count": 25,
      "outputs": [
        {
          "output_type": "stream",
          "text": [
            "X\n",
            "[0.0, -1.0, 2.0, 3.0]\n",
            "SOFTMAX X\n",
            "tf.Tensor([0.03467109 0.01275478 0.25618666 0.6963875 ], shape=(4,), dtype=float32)\n",
            "Y\n",
            "tf.Tensor(\n",
            "[[[5.  4. ]\n",
            "  [6.  7. ]]\n",
            "\n",
            " [[5.5 6.5]\n",
            "  [4.5 4. ]]], shape=(2, 2, 2), dtype=float32)\n",
            "SOFTMAX Y\n",
            "tf.Tensor(\n",
            "[[[0.26894143 0.04742587]\n",
            "  [0.7310586  0.95257413]]\n",
            "\n",
            " [[0.7310586  0.9241418 ]\n",
            "  [0.26894143 0.07585817]]], shape=(2, 2, 2), dtype=float32)\n"
          ],
          "name": "stdout"
        }
      ]
    },
    {
      "cell_type": "code",
      "metadata": {
        "id": "X4EwzH1Src_V",
        "colab_type": "code",
        "colab": {}
      },
      "source": [
        "# break"
      ],
      "execution_count": 0,
      "outputs": []
    },
    {
      "cell_type": "markdown",
      "metadata": {
        "id": "bX8MjiPVstSX",
        "colab_type": "text"
      },
      "source": [
        "<br><br>"
      ]
    },
    {
      "cell_type": "markdown",
      "metadata": {
        "colab_type": "text",
        "id": "NvSAbowVVuRr"
      },
      "source": [
        "## About shapes"
      ]
    },
    {
      "cell_type": "markdown",
      "metadata": {
        "colab_type": "text",
        "id": "hkaBIqkTCcGY"
      },
      "source": [
        "Tensors have shapes.  Some vocabulary:\n",
        "\n",
        "* **Shape**: The length (number of elements) of each of the dimensions of a tensor.\n",
        "* **Rank**: Number of tensor dimensions.  A scalar has rank 0, a vector has rank 1, a matrix is rank 2.\n",
        "* **Axis** or **Dimension**: A particular dimension of a tensor.\n",
        "* **Size**: The total number of items in the tensor, the product shape vector\n"
      ]
    },
    {
      "cell_type": "markdown",
      "metadata": {
        "colab_type": "text",
        "id": "E9L3-kCQq2f6"
      },
      "source": [
        "Note: Although you may see reference to a \"tensor of two dimensions\", a rank-2 tensor does not usually describe a 2D space."
      ]
    },
    {
      "cell_type": "markdown",
      "metadata": {
        "colab_type": "text",
        "id": "VFOyG2tn8LhW"
      },
      "source": [
        "Tensors and `tf.TensorShape` objects have convenient properties for accessing these:"
      ]
    },
    {
      "cell_type": "code",
      "metadata": {
        "colab_type": "code",
        "id": "RyD3yewUKdnK",
        "colab": {}
      },
      "source": [
        "rank_4_tensor = tf.zeros([3, 2, 4, 5])"
      ],
      "execution_count": 0,
      "outputs": []
    },
    {
      "cell_type": "markdown",
      "metadata": {
        "colab_type": "text",
        "id": "oTZZW9ziq4og"
      },
      "source": [
        "<table>\n",
        "<tr>\n",
        "  <th colspan=2>A rank-4 tensor, shape: <code>[3, 2, 4, 5]</code></th>\n",
        "</tr>\n",
        "<tr>\n",
        "  <td>\n",
        "<img src=\"https://github.com/tensorflow/docs/blob/master/site/en/guide/images/tensor/shape.png?raw=1\" alt=\"A tensor shape is like a vector.\">\n",
        "    <td>\n",
        "<img src=\"https://github.com/tensorflow/docs/blob/master/site/en/guide/images/tensor/4-axis_block.png?raw=1\" alt=\"A 4-axis tensor\">\n",
        "  </td>\n",
        "  </tr>\n",
        "</table>\n"
      ]
    },
    {
      "cell_type": "code",
      "metadata": {
        "colab_type": "code",
        "id": "MHm9vSqogsBk",
        "colab": {
          "base_uri": "https://localhost:8080/",
          "height": 126
        },
        "outputId": "c5ba96a5-2fb8-4604-9773-ccc2c320d11c"
      },
      "source": [
        "print(\"Type of every element:\", rank_4_tensor.dtype)\n",
        "print(\"Number of dimensions:\", rank_4_tensor.ndim)\n",
        "print(\"Shape of tensor:\", rank_4_tensor.shape)\n",
        "print(\"Elements along axis 0 of tensor:\", rank_4_tensor.shape[0])\n",
        "print(\"Elements along the last axis of tensor:\", rank_4_tensor.shape[-1])\n",
        "print(\"Total number of elements (3*2*4*5): \", tf.size(rank_4_tensor).numpy())"
      ],
      "execution_count": 28,
      "outputs": [
        {
          "output_type": "stream",
          "text": [
            "Type of every element: <dtype: 'float32'>\n",
            "Number of dimensions: 4\n",
            "Shape of tensor: (3, 2, 4, 5)\n",
            "Elements along axis 0 of tensor: 3\n",
            "Elements along the last axis of tensor: 5\n",
            "Total number of elements (3*2*4*5):  120\n"
          ],
          "name": "stdout"
        }
      ]
    },
    {
      "cell_type": "markdown",
      "metadata": {
        "colab_type": "text",
        "id": "bQmE_Vx5JilS"
      },
      "source": [
        "While axes are often referred to by their indices, you should always keep track of the meaning of each. Often axes are ordered from global to local: The batch axis first, followed by spatial dimensions, and features for each location last. This way feature vectors are contiguous regions of memory.\n",
        "\n",
        "<table>\n",
        "<tr>\n",
        "<th>Typical axis order</th>\n",
        "</tr>\n",
        "<tr>\n",
        "    <td>\n",
        "<img src=\"https://github.com/tensorflow/docs/blob/master/site/en/guide/images/tensor/shape2.png?raw=1\" alt=\"Keep track of what each axis is. A 4-axis tensor might be: Batch, Width, Height, Freatures\">\n",
        "  </td>\n",
        "</tr>\n",
        "</table>"
      ]
    },
    {
      "cell_type": "markdown",
      "metadata": {
        "colab_type": "text",
        "id": "FlPoVvJS75Bb"
      },
      "source": [
        "## Indexing"
      ]
    },
    {
      "cell_type": "markdown",
      "metadata": {
        "colab_type": "text",
        "id": "apOkCKqCZIZu"
      },
      "source": [
        "### Single-axis indexing\n",
        "\n",
        "TensorFlow follow standard python indexing rules, similar to [indexing a list or a string in python](https://docs.python.org/3/tutorial/introduction.html#strings), and the bacic rules for numpy indexing.\n",
        "\n",
        "* indexes start at `0`\n",
        "* negative indices count backwards from the end\n",
        "* colons, `:`, are used for slices `start:stop:step`\n"
      ]
    },
    {
      "cell_type": "code",
      "metadata": {
        "colab_type": "code",
        "id": "SQ-CrJxLXTIM",
        "colab": {
          "base_uri": "https://localhost:8080/",
          "height": 35
        },
        "outputId": "50299a54-5018-46d8-edb1-566ce7ec0b72"
      },
      "source": [
        "rank_1_tensor = tf.constant([0, 1, 1, 2, 3, 5, 8, 13, 21, 34])\n",
        "print(rank_1_tensor.numpy())"
      ],
      "execution_count": 29,
      "outputs": [
        {
          "output_type": "stream",
          "text": [
            "[ 0  1  1  2  3  5  8 13 21 34]\n"
          ],
          "name": "stdout"
        }
      ]
    },
    {
      "cell_type": "markdown",
      "metadata": {
        "colab_type": "text",
        "id": "mQYYL56PXSak"
      },
      "source": [
        "Indexing with a scalar removes the dimension:"
      ]
    },
    {
      "cell_type": "code",
      "metadata": {
        "colab_type": "code",
        "id": "n6tqHciOWMt5",
        "colab": {
          "base_uri": "https://localhost:8080/",
          "height": 72
        },
        "outputId": "35a0c6a2-5632-46cd-a3c0-8122c7bfd706"
      },
      "source": [
        "print(\"First:\", rank_1_tensor[0].numpy())\n",
        "print(\"Second:\", rank_1_tensor[1].numpy())\n",
        "print(\"Last:\", rank_1_tensor[-1].numpy())"
      ],
      "execution_count": 30,
      "outputs": [
        {
          "output_type": "stream",
          "text": [
            "First: 0\n",
            "Second: 1\n",
            "Last: 34\n"
          ],
          "name": "stdout"
        }
      ]
    },
    {
      "cell_type": "markdown",
      "metadata": {
        "colab_type": "text",
        "id": "qJLHU_a2XwpG"
      },
      "source": [
        "Indexing with a `:` slice keeps the dimension:"
      ]
    },
    {
      "cell_type": "code",
      "metadata": {
        "colab_type": "code",
        "id": "giVPPcfQX-cu",
        "colab": {
          "base_uri": "https://localhost:8080/",
          "height": 126
        },
        "outputId": "9d94a731-2b73-4ac5-866e-0b1d0774c3b2"
      },
      "source": [
        "print(\"Everything:\", rank_1_tensor[:].numpy())\n",
        "print(\"Before 4:\", rank_1_tensor[:4].numpy())\n",
        "print(\"From 4 to the end:\", rank_1_tensor[4:].numpy())\n",
        "print(\"From 2, before 7:\", rank_1_tensor[2:7].numpy())\n",
        "print(\"Every other item:\", rank_1_tensor[::2].numpy())\n",
        "print(\"Reversed:\", rank_1_tensor[::-1].numpy())"
      ],
      "execution_count": 31,
      "outputs": [
        {
          "output_type": "stream",
          "text": [
            "Everything: [ 0  1  1  2  3  5  8 13 21 34]\n",
            "Before 4: [0 1 1 2]\n",
            "From 4 to the end: [ 3  5  8 13 21 34]\n",
            "From 2, before 7: [1 2 3 5 8]\n",
            "Every other item: [ 0  1  3  8 21]\n",
            "Reversed: [34 21 13  8  5  3  2  1  1  0]\n"
          ],
          "name": "stdout"
        }
      ]
    },
    {
      "cell_type": "markdown",
      "metadata": {
        "colab_type": "text",
        "id": "elDSxXi7X-Bh"
      },
      "source": [
        "### Multi-axis indexing"
      ]
    },
    {
      "cell_type": "markdown",
      "metadata": {
        "colab_type": "text",
        "id": "Cgk0uRUYZiai"
      },
      "source": [
        "Higher rank tensors are indexed by passing multiple indices. \n",
        "\n",
        "The single-axis exact same rules as in  the single-axis case apply to each axis independently."
      ]
    },
    {
      "cell_type": "code",
      "metadata": {
        "colab_type": "code",
        "id": "Tc5X_WlsZXmd",
        "colab": {
          "base_uri": "https://localhost:8080/",
          "height": 72
        },
        "outputId": "a4aa9298-72ca-4418-8084-66e2316797db"
      },
      "source": [
        "print(rank_2_tensor.numpy())"
      ],
      "execution_count": 32,
      "outputs": [
        {
          "output_type": "stream",
          "text": [
            "[[1. 2.]\n",
            " [3. 4.]\n",
            " [5. 6.]]\n"
          ],
          "name": "stdout"
        }
      ]
    },
    {
      "cell_type": "markdown",
      "metadata": {
        "colab_type": "text",
        "id": "w07U9vq5ipQk"
      },
      "source": [
        "Passing an integer for each index the result is a scalar."
      ]
    },
    {
      "cell_type": "code",
      "metadata": {
        "colab_type": "code",
        "id": "PvILXc1PjqTM",
        "colab": {
          "base_uri": "https://localhost:8080/",
          "height": 35
        },
        "outputId": "644da32f-781e-4e86-8969-cab6e364dd2c"
      },
      "source": [
        "# Pull out a single value from a 2-rank tensor\n",
        "print(rank_2_tensor[1, 1].numpy())"
      ],
      "execution_count": 33,
      "outputs": [
        {
          "output_type": "stream",
          "text": [
            "4.0\n"
          ],
          "name": "stdout"
        }
      ]
    },
    {
      "cell_type": "markdown",
      "metadata": {
        "colab_type": "text",
        "id": "3RLCzAOHjfEH"
      },
      "source": [
        "You can index using any combination integers and slices:"
      ]
    },
    {
      "cell_type": "code",
      "metadata": {
        "colab_type": "code",
        "id": "YTqNqsfJkJP_",
        "colab": {
          "base_uri": "https://localhost:8080/",
          "height": 163
        },
        "outputId": "61915608-0d7d-4cfb-a3f4-48f323f71764"
      },
      "source": [
        "# Get row and column tensors\n",
        "print(\"Second row:\", rank_2_tensor[1, :].numpy())\n",
        "print(\"Second column:\", rank_2_tensor[:, 1].numpy())\n",
        "print(\"Last row:\", rank_2_tensor[-1, :].numpy())\n",
        "print(\"First item in last column:\", rank_2_tensor[0, -1].numpy())\n",
        "print(\"Skip the first row:\")\n",
        "print(rank_2_tensor[1:, :].numpy(), \"\\n\")"
      ],
      "execution_count": 34,
      "outputs": [
        {
          "output_type": "stream",
          "text": [
            "Second row: [3. 4.]\n",
            "Second column: [2. 4. 6.]\n",
            "Last row: [5. 6.]\n",
            "First item in last column: 2.0\n",
            "Skip the first row:\n",
            "[[3. 4.]\n",
            " [5. 6.]] \n",
            "\n"
          ],
          "name": "stdout"
        }
      ]
    },
    {
      "cell_type": "markdown",
      "metadata": {
        "colab_type": "text",
        "id": "P45TwSUVSK6G"
      },
      "source": [
        "Here is an example with a 3-axis tensor:"
      ]
    },
    {
      "cell_type": "code",
      "metadata": {
        "colab_type": "code",
        "id": "GuLoMoCVSLxK",
        "colab": {
          "base_uri": "https://localhost:8080/",
          "height": 90
        },
        "outputId": "fdfe7f81-bb21-49ce-d64d-43e41a7c741f"
      },
      "source": [
        "print(rank_3_tensor[:, :, 4])"
      ],
      "execution_count": 35,
      "outputs": [
        {
          "output_type": "stream",
          "text": [
            "tf.Tensor(\n",
            "[[ 4  9]\n",
            " [14 19]\n",
            " [24 29]], shape=(3, 2), dtype=int32)\n"
          ],
          "name": "stdout"
        }
      ]
    },
    {
      "cell_type": "markdown",
      "metadata": {
        "colab_type": "text",
        "id": "9NgmHq27TJOE"
      },
      "source": [
        "<table>\n",
        "<tr>\n",
        "<th colspan=2>Selecting the last feature across all locations in each example in the batch </th>\n",
        "</tr>\n",
        "<tr>\n",
        "    <td>\n",
        "<img src=\"https://github.com/tensorflow/docs/blob/master/site/en/guide/images/tensor/index1.png?raw=1\" alt=\"A 3x2x5 tensor with all the values at the index-4 of the last axis selected.\">\n",
        "  </td>\n",
        "      <td>\n",
        "<img src=\"https://github.com/tensorflow/docs/blob/master/site/en/guide/images/tensor/index2.png?raw=1\" alt=\"The selected values packed into a 2-axis tensor.\">\n",
        "  </td>\n",
        "</tr>\n",
        "</table>"
      ]
    },
    {
      "cell_type": "markdown",
      "metadata": {
        "colab_type": "text",
        "id": "fpr7R0t4SVb0"
      },
      "source": [
        "## Manipulating Shapes\n",
        "\n",
        "Reshaping a tensor is of great utility. \n",
        "\n",
        "The `tf.reshape` operation is fast and cheap as the underlying data does not need to be duplicated.\n"
      ]
    },
    {
      "cell_type": "code",
      "metadata": {
        "colab_type": "code",
        "id": "EMeTtga5Wq8j",
        "colab": {
          "base_uri": "https://localhost:8080/",
          "height": 35
        },
        "outputId": "84f1f1d3-6a23-4f78-ccf6-19fbe4bda66d"
      },
      "source": [
        "# Shape returns a `TensorShape` object that shows the size on each dimension\n",
        "var_x = tf.Variable(tf.constant([[1], [2], [3]]))\n",
        "print(var_x.shape)"
      ],
      "execution_count": 36,
      "outputs": [
        {
          "output_type": "stream",
          "text": [
            "(3, 1)\n"
          ],
          "name": "stdout"
        }
      ]
    },
    {
      "cell_type": "code",
      "metadata": {
        "colab_type": "code",
        "id": "38jc2RXziT3W",
        "colab": {
          "base_uri": "https://localhost:8080/",
          "height": 35
        },
        "outputId": "cef9c62f-6706-4f49-ba2e-4f702d923684"
      },
      "source": [
        "# You can convert this object into a Python list, too\n",
        "print(var_x.shape.as_list())"
      ],
      "execution_count": 37,
      "outputs": [
        {
          "output_type": "stream",
          "text": [
            "[3, 1]\n"
          ],
          "name": "stdout"
        }
      ]
    },
    {
      "cell_type": "markdown",
      "metadata": {
        "colab_type": "text",
        "id": "J_xRlHZMKYnF"
      },
      "source": [
        "You can reshape a tensor into a new shape.  Reshaping is fast and cheap as the underlying data does not need to be duplicated."
      ]
    },
    {
      "cell_type": "code",
      "metadata": {
        "colab_type": "code",
        "id": "pa9JCgMLWy87",
        "colab": {}
      },
      "source": [
        "# We can reshape a tensor to a new shape.\n",
        "# Note that we're passing in a list\n",
        "reshaped = tf.reshape(var_x, [1, 3])"
      ],
      "execution_count": 0,
      "outputs": []
    },
    {
      "cell_type": "code",
      "metadata": {
        "colab_type": "code",
        "id": "Mcq7iXOkW3LK",
        "colab": {
          "base_uri": "https://localhost:8080/",
          "height": 54
        },
        "outputId": "a7dd0512-3e49-47f5-aae0-1586ded46377"
      },
      "source": [
        "print(var_x.shape)\n",
        "print(reshaped.shape)"
      ],
      "execution_count": 39,
      "outputs": [
        {
          "output_type": "stream",
          "text": [
            "(3, 1)\n",
            "(1, 3)\n"
          ],
          "name": "stdout"
        }
      ]
    },
    {
      "cell_type": "markdown",
      "metadata": {
        "colab_type": "text",
        "id": "gIB2tOkoVr6E"
      },
      "source": [
        "The data maintains it's layout in memory and a new tensor is created, with the requested shape, pointing to the same data. TensorFlow uses C-style \"row-major\" memory ordering, where incrementing the right-most index corresponds to a single step in memory."
      ]
    },
    {
      "cell_type": "code",
      "metadata": {
        "colab_type": "code",
        "id": "7kMfM0RpUgI8",
        "colab": {
          "base_uri": "https://localhost:8080/",
          "height": 181
        },
        "outputId": "690fed1c-5bf3-4350-9e63-c1b5b3bbba8c"
      },
      "source": [
        "print(rank_3_tensor)"
      ],
      "execution_count": 40,
      "outputs": [
        {
          "output_type": "stream",
          "text": [
            "tf.Tensor(\n",
            "[[[ 0  1  2  3  4]\n",
            "  [ 5  6  7  8  9]]\n",
            "\n",
            " [[10 11 12 13 14]\n",
            "  [15 16 17 18 19]]\n",
            "\n",
            " [[20 21 22 23 24]\n",
            "  [25 26 27 28 29]]], shape=(3, 2, 5), dtype=int32)\n"
          ],
          "name": "stdout"
        }
      ]
    },
    {
      "cell_type": "markdown",
      "metadata": {
        "colab_type": "text",
        "id": "TcDtfQkJWzIx"
      },
      "source": [
        "If you flatten a tensor you can see what order it is laid out in memory."
      ]
    },
    {
      "cell_type": "code",
      "metadata": {
        "colab_type": "code",
        "id": "COnHEPuaWDQp",
        "colab": {
          "base_uri": "https://localhost:8080/",
          "height": 72
        },
        "outputId": "facc935c-cbff-4c0f-faf9-5009081b588b"
      },
      "source": [
        "# A `-1` passed in the `shape` argument says \"Whatever fits\".\n",
        "print(tf.reshape(rank_3_tensor, [-1]))\n",
        "\n",
        "# explain what whatever fits actually means ! "
      ],
      "execution_count": 41,
      "outputs": [
        {
          "output_type": "stream",
          "text": [
            "tf.Tensor(\n",
            "[ 0  1  2  3  4  5  6  7  8  9 10 11 12 13 14 15 16 17 18 19 20 21 22 23\n",
            " 24 25 26 27 28 29], shape=(30,), dtype=int32)\n"
          ],
          "name": "stdout"
        }
      ]
    },
    {
      "cell_type": "markdown",
      "metadata": {
        "colab_type": "text",
        "id": "jJZRira2W--c"
      },
      "source": [
        "Typically the only reasonable uses of `tf.reshape` are to combine or split adjacent axes (or add/remove `1`s).\n",
        "\n",
        "For this 3x2x5 tensor, reshaping to (3x2)x5 or 3x(2x5) are both reasonable things to do, as the slices do not mix:"
      ]
    },
    {
      "cell_type": "code",
      "metadata": {
        "colab_type": "code",
        "id": "zP2Iqc7zWu_J",
        "colab": {
          "base_uri": "https://localhost:8080/",
          "height": 235
        },
        "outputId": "ec948def-dc75-4462-ae19-bdc2b3490050"
      },
      "source": [
        "print(tf.reshape(rank_3_tensor, [3*2, 5]), \"\\n\")\n",
        "print(tf.reshape(rank_3_tensor, [3, -1]))"
      ],
      "execution_count": 42,
      "outputs": [
        {
          "output_type": "stream",
          "text": [
            "tf.Tensor(\n",
            "[[ 0  1  2  3  4]\n",
            " [ 5  6  7  8  9]\n",
            " [10 11 12 13 14]\n",
            " [15 16 17 18 19]\n",
            " [20 21 22 23 24]\n",
            " [25 26 27 28 29]], shape=(6, 5), dtype=int32) \n",
            "\n",
            "tf.Tensor(\n",
            "[[ 0  1  2  3  4  5  6  7  8  9]\n",
            " [10 11 12 13 14 15 16 17 18 19]\n",
            " [20 21 22 23 24 25 26 27 28 29]], shape=(3, 10), dtype=int32)\n"
          ],
          "name": "stdout"
        }
      ]
    },
    {
      "cell_type": "markdown",
      "metadata": {
        "colab_type": "text",
        "id": "6ZsZRUhihlDB"
      },
      "source": [
        "<table>\n",
        "<th colspan=3>\n",
        "Some good reshapes.\n",
        "</th>\n",
        "<tr>\n",
        "  <td>\n",
        "<img src=\"https://github.com/tensorflow/docs/blob/master/site/en/guide/images/tensor/reshape-before.png?raw=1\" alt=\"A 3x2x5 tensor\">\n",
        "  </td>\n",
        "  <td>\n",
        "  <img src=\"https://github.com/tensorflow/docs/blob/master/site/en/guide/images/tensor/reshape-good1.png?raw=1\" alt=\"The same data reshaped to (3x2)x5\">\n",
        "  </td>\n",
        "  <td>\n",
        "<img src=\"https://github.com/tensorflow/docs/blob/master/site/en/guide/images/tensor/reshape-good2.png?raw=1\" alt=\"The same data reshaped to 3x(2x5)\">\n",
        "  </td>\n",
        "</tr>\n",
        "</table>\n"
      ]
    },
    {
      "cell_type": "markdown",
      "metadata": {
        "colab_type": "text",
        "id": "nOcRxDC3jNIU"
      },
      "source": [
        "Reshaping will \"work\" for any new shape with the same total number of elements, but it will not do anything useful if you do not respect the order of the axes.\n",
        "\n",
        "Swapping axes in `tf.reshape` does not work, you need `tf.transpose` for that. \n"
      ]
    },
    {
      "cell_type": "code",
      "metadata": {
        "colab_type": "code",
        "id": "I9qDL_8u7cBH",
        "colab": {
          "base_uri": "https://localhost:8080/",
          "height": 326
        },
        "outputId": "c54024bb-d573-4c1a-8f37-9cf36899fab5"
      },
      "source": [
        "# Bad examples: don't do this\n",
        "\n",
        "# You can't reorder axes with reshape.\n",
        "print(tf.reshape(rank_3_tensor, [2, 3, 5]), \"\\n\") \n",
        "\n",
        "# This is a mess\n",
        "print(tf.reshape(rank_3_tensor, [5, 6]), \"\\n\")\n",
        "\n",
        "# This doesn't work at all\n",
        "try:\n",
        "  tf.reshape(rank_3_tensor, [7, -1])\n",
        "except Exception as e:\n",
        "  print(f\"{type(e).__name__}: {e}\")"
      ],
      "execution_count": 43,
      "outputs": [
        {
          "output_type": "stream",
          "text": [
            "tf.Tensor(\n",
            "[[[ 0  1  2  3  4]\n",
            "  [ 5  6  7  8  9]\n",
            "  [10 11 12 13 14]]\n",
            "\n",
            " [[15 16 17 18 19]\n",
            "  [20 21 22 23 24]\n",
            "  [25 26 27 28 29]]], shape=(2, 3, 5), dtype=int32) \n",
            "\n",
            "tf.Tensor(\n",
            "[[ 0  1  2  3  4  5]\n",
            " [ 6  7  8  9 10 11]\n",
            " [12 13 14 15 16 17]\n",
            " [18 19 20 21 22 23]\n",
            " [24 25 26 27 28 29]], shape=(5, 6), dtype=int32) \n",
            "\n",
            "InvalidArgumentError: Input to reshape is a tensor with 30 values, but the requested shape requires a multiple of 7 [Op:Reshape]\n"
          ],
          "name": "stdout"
        }
      ]
    },
    {
      "cell_type": "markdown",
      "metadata": {
        "colab_type": "text",
        "id": "qTM9-5eh68oo"
      },
      "source": [
        "<table>\n",
        "<th colspan=3>\n",
        "Some bad reshapes.\n",
        "</th>\n",
        "<tr>\n",
        "  <td>\n",
        "<img src=\"https://github.com/tensorflow/docs/blob/master/site/en/guide/images/tensor/reshape-bad.png?raw=1\" alt=\"You can't reorder axes, use tf.transpose for that\">\n",
        "  </td>\n",
        "  <td>\n",
        "<img src=\"https://github.com/tensorflow/docs/blob/master/site/en/guide/images/tensor/reshape-bad4.png?raw=1\" alt=\"Anything that mixes the slices of data together is probably wrong.\">\n",
        "  </td>\n",
        "  <td>\n",
        "<img src=\"https://github.com/tensorflow/docs/blob/master/site/en/guide/images/tensor/reshape-bad2.png?raw=1\" alt=\"The new shape must fit exactly.\">\n",
        "  </td>\n",
        "</tr>\n",
        "</table>"
      ]
    },
    {
      "cell_type": "markdown",
      "metadata": {
        "colab_type": "text",
        "id": "N9r90BvHCbTt"
      },
      "source": [
        "You may run across not-fully-specified shapes. Either the shape contains a `None` (a dimension's length is unknown) or the shape is `None` (the rank of the tensor is unknown).\n",
        "\n",
        "Except for [tf.RaggedTensor](#ragged_tensors), this will only occur in the context of TensorFlow's, symbolic, graph-building  APIs: \n",
        "\n",
        "* [tf.function](function.ipynb) \n",
        "* The [keras functional API](keras/functional.ipynb).\n"
      ]
    },
    {
      "cell_type": "markdown",
      "metadata": {
        "id": "L0fAcGzjx-3E",
        "colab_type": "text"
      },
      "source": [
        "<br>"
      ]
    },
    {
      "cell_type": "markdown",
      "metadata": {
        "colab_type": "text",
        "id": "fDmFtFM7k0R2"
      },
      "source": [
        "## More on `DTypes`\n",
        "\n",
        "To inspect a `tf.Tensor`'s data type use the `Tensor.dtype` property.\n",
        "\n",
        "When creating a `tf.Tensor` from a Python object you may optionally specify the datatype.\n",
        "\n",
        "If you don't, TensorFlow chooses a datatype that can represent your data. TensorFlow converts Python integers to `tf.int32` and python floating point numbers to `tf.float32`. Otherwise TensorFlow uses the same rules NumPy uses when converting to arrays.\n",
        "\n",
        "You can cast from type to type."
      ]
    },
    {
      "cell_type": "code",
      "metadata": {
        "colab_type": "code",
        "id": "5mSTDWbelUvu",
        "colab": {
          "base_uri": "https://localhost:8080/",
          "height": 35
        },
        "outputId": "24c037d4-da72-4ff2-9f4f-4776a6148116"
      },
      "source": [
        "the_f64_tensor = tf.constant([2.2, 3.3, 4.4], dtype=tf.float64)\n",
        "the_f16_tensor = tf.cast(the_f64_tensor, dtype=tf.float16)\n",
        "# Now, let's cast to an uint8 and lose the decimal precision\n",
        "the_u8_tensor = tf.cast(the_f16_tensor, dtype=tf.uint8)\n",
        "print(the_u8_tensor)"
      ],
      "execution_count": 44,
      "outputs": [
        {
          "output_type": "stream",
          "text": [
            "tf.Tensor([2 3 4], shape=(3,), dtype=uint8)\n"
          ],
          "name": "stdout"
        }
      ]
    },
    {
      "cell_type": "markdown",
      "metadata": {
        "id": "B_nkZ0JByJph",
        "colab_type": "text"
      },
      "source": [
        "<br>"
      ]
    },
    {
      "cell_type": "markdown",
      "metadata": {
        "colab_type": "text",
        "id": "s1yBlJsVlFSu"
      },
      "source": [
        "## Broadcasting\n",
        "\n",
        "Broadcasting is a concept borrowed from the [equivalent feature in NumPy](https://numpy.org/doc/stable/user/basics.html).  In short, under certain conditions, smaller tensors are \"stretched\" automatically to fit larger tensors when running combined operations on them.\n",
        "\n",
        "The simplest and most common case is when you attempt to multiply or add a tensor to a scalar.  In that case, the scalar is broadcast to be the same shape as the other argument. "
      ]
    },
    {
      "cell_type": "code",
      "metadata": {
        "id": "hpU-fodJyPAB",
        "colab_type": "code",
        "colab": {}
      },
      "source": [
        ""
      ],
      "execution_count": 0,
      "outputs": []
    },
    {
      "cell_type": "code",
      "metadata": {
        "colab_type": "code",
        "id": "P8sypqmagHQN",
        "colab": {
          "base_uri": "https://localhost:8080/",
          "height": 72
        },
        "outputId": "c34124e4-a991-41a1-b70d-a9774621b4c4"
      },
      "source": [
        "x = tf.constant([1, 2, 3])\n",
        "\n",
        "y = tf.constant(2)\n",
        "z = tf.constant([2, 2, 2])\n",
        "# All of these are the same computation\n",
        "print(tf.multiply(x, 2))\n",
        "print(x * y)\n",
        "print(x * z)\n"
      ],
      "execution_count": 45,
      "outputs": [
        {
          "output_type": "stream",
          "text": [
            "tf.Tensor([2 4 6], shape=(3,), dtype=int32)\n",
            "tf.Tensor([2 4 6], shape=(3,), dtype=int32)\n",
            "tf.Tensor([2 4 6], shape=(3,), dtype=int32)\n"
          ],
          "name": "stdout"
        }
      ]
    },
    {
      "cell_type": "markdown",
      "metadata": {
        "colab_type": "text",
        "id": "o0SBoR6voWcb"
      },
      "source": [
        "Likewise, 1-sized dimensions can be stretched out to match the other arguments.  Both arguments can be stretched in the same computation.\n",
        "\n",
        "In this case a 3x1 matrix is element-wise multiplied by a 1x4 matrix to produce a 3x4 matrix. Note how the leading 1 is optional: The shape of y is `[4]`."
      ]
    },
    {
      "cell_type": "code",
      "metadata": {
        "colab_type": "code",
        "id": "6sGmkPg3XANr",
        "colab": {
          "base_uri": "https://localhost:8080/",
          "height": 217
        },
        "outputId": "4d857811-93c3-452f-8dde-7d1d2193b6fb"
      },
      "source": [
        "# These are the same computations\n",
        "x = tf.reshape(x,[3,1])\n",
        "y = tf.range(1, 5)\n",
        "print(x, \"\\n\")\n",
        "print(y, \"\\n\")\n",
        "print(tf.multiply(x, y))"
      ],
      "execution_count": 46,
      "outputs": [
        {
          "output_type": "stream",
          "text": [
            "tf.Tensor(\n",
            "[[1]\n",
            " [2]\n",
            " [3]], shape=(3, 1), dtype=int32) \n",
            "\n",
            "tf.Tensor([1 2 3 4], shape=(4,), dtype=int32) \n",
            "\n",
            "tf.Tensor(\n",
            "[[ 1  2  3  4]\n",
            " [ 2  4  6  8]\n",
            " [ 3  6  9 12]], shape=(3, 4), dtype=int32)\n"
          ],
          "name": "stdout"
        }
      ]
    },
    {
      "cell_type": "markdown",
      "metadata": {
        "colab_type": "text",
        "id": "t_7sh-EUYLrE"
      },
      "source": [
        "<table>\n",
        "<tr>\n",
        "  <th>A broadcasted add: a <code>[3, 1]</code> times a <code>[1, 4]</code> gives a <code>[3,4]</code> </th>\n",
        "</tr>\n",
        "<tr>\n",
        "  <td>\n",
        "<img src=\"https://github.com/tensorflow/docs/blob/master/site/en/guide/images/tensor/broadcasting.png?raw=1\" alt=\"Adding a 3x1 matrix to a 4x1 matrix results in a 3x4 matrix\">\n",
        "  </td>\n",
        "</tr>\n",
        "</table>\n"
      ]
    },
    {
      "cell_type": "markdown",
      "metadata": {
        "colab_type": "text",
        "id": "9V3KgSJcKDRz"
      },
      "source": [
        "Here is the same operation without broadcasting:"
      ]
    },
    {
      "cell_type": "code",
      "metadata": {
        "colab_type": "code",
        "id": "elrF6v63igY8",
        "colab": {
          "base_uri": "https://localhost:8080/",
          "height": 90
        },
        "outputId": "0d489726-19bb-4b8d-81b7-163c497d8acb"
      },
      "source": [
        "x_stretch = tf.constant([[1, 1, 1, 1],\n",
        "                         [2, 2, 2, 2],\n",
        "                         [3, 3, 3, 3]])\n",
        "\n",
        "y_stretch = tf.constant([[1, 2, 3, 4],\n",
        "                         [1, 2, 3, 4],\n",
        "                         [1, 2, 3, 4]])\n",
        "\n",
        "print(x_stretch * y_stretch)  # Again, operator overloading"
      ],
      "execution_count": 47,
      "outputs": [
        {
          "output_type": "stream",
          "text": [
            "tf.Tensor(\n",
            "[[ 1  2  3  4]\n",
            " [ 2  4  6  8]\n",
            " [ 3  6  9 12]], shape=(3, 4), dtype=int32)\n"
          ],
          "name": "stdout"
        }
      ]
    },
    {
      "cell_type": "markdown",
      "metadata": {
        "colab_type": "text",
        "id": "14KobqYu85gi"
      },
      "source": [
        "Most of the time, broadcasting is both time and space efficient, as the broadcast operation never materializes the expanded tensors in memory.  \n",
        "\n",
        "You see what broadcasting looks like using `tf.broadcast_to`."
      ]
    },
    {
      "cell_type": "code",
      "metadata": {
        "colab_type": "code",
        "id": "GW2Q59_r8hZ6",
        "colab": {
          "base_uri": "https://localhost:8080/",
          "height": 90
        },
        "outputId": "45590d47-92bb-4d63-b1ca-e020e8f3309b"
      },
      "source": [
        "print(tf.broadcast_to(tf.constant([1, 2, 3]), [3, 3]))"
      ],
      "execution_count": 48,
      "outputs": [
        {
          "output_type": "stream",
          "text": [
            "tf.Tensor(\n",
            "[[1 2 3]\n",
            " [1 2 3]\n",
            " [1 2 3]], shape=(3, 3), dtype=int32)\n"
          ],
          "name": "stdout"
        }
      ]
    },
    {
      "cell_type": "markdown",
      "metadata": {
        "colab_type": "text",
        "id": "Z2bAMMQY-jpP"
      },
      "source": [
        "Unlike a mathematical op, for example, `broadcast_to` does nothing special to save memory.  Here, you are materializing the tensor.\n",
        "\n",
        "It can get even more complicated.  [This section](https://jakevdp.github.io/PythonDataScienceHandbook/02.05-computation-on-arrays-broadcasting.html) of Jake VanderPlas's book _Python Data Science Handbook_ shows more broadcasting tricks (again in NumPy)."
      ]
    },
    {
      "cell_type": "markdown",
      "metadata": {
        "colab_type": "text",
        "id": "o4Rpz0xAsKSI"
      },
      "source": [
        "## tf.convert_to_tensor\n",
        "\n",
        "Most ops, like `tf.matmul` and `tf.reshape` take arguments of class `tf.Tensor`.  However, you'll notice in the above case, we frequently pass Python objects shaped like tensors.\n",
        "\n",
        "Most, but not all, ops call `convert_to_tensor` on non-tensor arguments.  There is a registry of conversions, and most object classes like NumPy's `ndarray`, `TensorShape`, Python lists, and `tf.Variable` will all convert automatically.\n",
        "\n",
        "See `tf.register_tensor_conversion_function` for more details, and if you have your own type you'd like to automatically convert to a tensor."
      ]
    },
    {
      "cell_type": "markdown",
      "metadata": {
        "colab_type": "text",
        "id": "05bBVBVYV0y6"
      },
      "source": [
        "## Ragged Tensors\n",
        "\n",
        "A tensor with variable numbers of elements along some axis is called \"ragged\". Use `tf.ragged.RaggedTensor` for ragged data.\n",
        "\n",
        "For example, This cannot be represented as a regular tensor:"
      ]
    },
    {
      "cell_type": "markdown",
      "metadata": {
        "colab_type": "text",
        "id": "VPc3jGoeJqB7"
      },
      "source": [
        "<table>\n",
        "<tr>\n",
        "  <th>A `tf.RaggedTensor`, shape: <code>[4, None]</code></th>\n",
        "</tr>\n",
        "<tr>\n",
        "  <td>\n",
        "<img src=\"https://github.com/tensorflow/docs/blob/master/site/en/guide/images/tensor/ragged.png?raw=1\" alt=\"A 2-axis ragged tensor, each row can have a different length.\">\n",
        "  </td>\n",
        "</tr>\n",
        "</table>"
      ]
    },
    {
      "cell_type": "code",
      "metadata": {
        "colab_type": "code",
        "id": "VsbTjoFfNVBF",
        "colab": {}
      },
      "source": [
        "ragged_list = [\n",
        "    [0, 1, 2, 3],\n",
        "    [4, 5],\n",
        "    [6, 7, 8],\n",
        "    [9]]"
      ],
      "execution_count": 0,
      "outputs": []
    },
    {
      "cell_type": "code",
      "metadata": {
        "colab_type": "code",
        "id": "p4xKTo57tutG",
        "colab": {
          "base_uri": "https://localhost:8080/",
          "height": 35
        },
        "outputId": "26d88f85-1c69-4fa9-925d-e70cff3e6e4b"
      },
      "source": [
        "try:\n",
        "  tensor = tf.constant(ragged_list)\n",
        "except Exception as e:\n",
        "  print(f\"{type(e).__name__}: {e}\")"
      ],
      "execution_count": 50,
      "outputs": [
        {
          "output_type": "stream",
          "text": [
            "ValueError: Can't convert non-rectangular Python sequence to Tensor.\n"
          ],
          "name": "stdout"
        }
      ]
    },
    {
      "cell_type": "markdown",
      "metadata": {
        "colab_type": "text",
        "id": "0cm9KuEeMLGI"
      },
      "source": [
        "Instead create a `tf.RaggedTensor` using `tf.ragged.constant`:"
      ]
    },
    {
      "cell_type": "code",
      "metadata": {
        "colab_type": "code",
        "id": "XhF3QV3jiqTj",
        "colab": {
          "base_uri": "https://localhost:8080/",
          "height": 35
        },
        "outputId": "0bf1d4e7-ad77-4b45-b78f-105626023876"
      },
      "source": [
        "ragged_tensor = tf.ragged.constant(ragged_list)\n",
        "print(ragged_tensor)"
      ],
      "execution_count": 51,
      "outputs": [
        {
          "output_type": "stream",
          "text": [
            "<tf.RaggedTensor [[0, 1, 2, 3], [4, 5], [6, 7, 8], [9]]>\n"
          ],
          "name": "stdout"
        }
      ]
    },
    {
      "cell_type": "markdown",
      "metadata": {
        "colab_type": "text",
        "id": "sFgHduHVNoIE"
      },
      "source": [
        "The shape of a `tf.RaggedTensor` contains unknown dimensions:"
      ]
    },
    {
      "cell_type": "code",
      "metadata": {
        "colab_type": "code",
        "id": "Eo_3wJUWNgqB",
        "colab": {
          "base_uri": "https://localhost:8080/",
          "height": 35
        },
        "outputId": "f5be19f5-58ad-4502-90f4-cc452d0e7503"
      },
      "source": [
        "print(ragged_tensor.shape)"
      ],
      "execution_count": 52,
      "outputs": [
        {
          "output_type": "stream",
          "text": [
            "(4, None)\n"
          ],
          "name": "stdout"
        }
      ]
    },
    {
      "cell_type": "markdown",
      "metadata": {
        "colab_type": "text",
        "id": "V9njclVkkN7G"
      },
      "source": [
        "## String tensors\n",
        "\n",
        "`tf.string` is a `dtype`, which is to say we can represent data as strings (variable-length byte arrays) in tensors.  \n",
        "\n",
        "The strings are atomic and cannot be indexed the way Python strings are. The length of the string is not one of the dimensions of the tensor. See `tf.strings` for functions to manipulate them."
      ]
    },
    {
      "cell_type": "markdown",
      "metadata": {
        "colab_type": "text",
        "id": "5P_8spEGQ0wp"
      },
      "source": [
        "Here is a scalar string tensor:"
      ]
    },
    {
      "cell_type": "code",
      "metadata": {
        "colab_type": "code",
        "id": "sBosmM8MkIh4",
        "colab": {
          "base_uri": "https://localhost:8080/",
          "height": 35
        },
        "outputId": "b12420b3-de13-48b5-d3f7-0c7c9cd353b0"
      },
      "source": [
        "# Tensors can be strings, too here is a scalar string.\n",
        "scalar_string_tensor = tf.constant(\"Gray wolf\")\n",
        "print(scalar_string_tensor)"
      ],
      "execution_count": 53,
      "outputs": [
        {
          "output_type": "stream",
          "text": [
            "tf.Tensor(b'Gray wolf', shape=(), dtype=string)\n"
          ],
          "name": "stdout"
        }
      ]
    },
    {
      "cell_type": "markdown",
      "metadata": {
        "colab_type": "text",
        "id": "CMFBSl1FQ3vE"
      },
      "source": [
        "And a vector of strings:"
      ]
    },
    {
      "cell_type": "markdown",
      "metadata": {
        "colab_type": "text",
        "id": "IO-c3Tq3RC1L"
      },
      "source": [
        "<table>\n",
        "<tr>\n",
        "  <th>A vector of strings, shape: <code>[3,]</code></th>\n",
        "</tr>\n",
        "<tr>\n",
        "  <td>\n",
        "<img src=\"https://github.com/tensorflow/docs/blob/master/site/en/guide/images/tensor/strings.png?raw=1\" alt=\"The string length is not one of the tensor's axes.\">\n",
        "  </td>\n",
        "</tr>\n",
        "</table>"
      ]
    },
    {
      "cell_type": "code",
      "metadata": {
        "colab_type": "code",
        "id": "41Dv2kL9QrtO",
        "colab": {
          "base_uri": "https://localhost:8080/",
          "height": 35
        },
        "outputId": "869a6b4e-0301-43c8-ba50-bf3698dc4148"
      },
      "source": [
        "# If we have two string tensors of different lengths, this is OK.\n",
        "tensor_of_strings = tf.constant([\"Gray wolf\",\n",
        "                                 \"Quick brown fox\",\n",
        "                                 \"Lazy dog\"])\n",
        "# Note that the shape is (2,), indicating that it is 2 x unknown.\n",
        "print(tensor_of_strings)"
      ],
      "execution_count": 54,
      "outputs": [
        {
          "output_type": "stream",
          "text": [
            "tf.Tensor([b'Gray wolf' b'Quick brown fox' b'Lazy dog'], shape=(3,), dtype=string)\n"
          ],
          "name": "stdout"
        }
      ]
    },
    {
      "cell_type": "markdown",
      "metadata": {
        "colab_type": "text",
        "id": "76gQ9qrgSMzS"
      },
      "source": [
        "In the above printout the `b` prefix indicates that `tf.string` dtype is not a unicode string, but a byte-string. See the [Unicode Tutorial](https://www.tensorflow.org/tutorials/load_data/unicode) for more about working with unicode text in TensorFlow."
      ]
    },
    {
      "cell_type": "markdown",
      "metadata": {
        "colab_type": "text",
        "id": "ClSBPK-lZBQp"
      },
      "source": [
        "If you pass unicode characters they are utf-8 encoded."
      ]
    },
    {
      "cell_type": "code",
      "metadata": {
        "colab_type": "code",
        "id": "GTgL53jxSMd9",
        "colab": {
          "base_uri": "https://localhost:8080/",
          "height": 35
        },
        "outputId": "25bd0654-26b5-450d-b422-6904310ac8b7"
      },
      "source": [
        "tf.constant(\"🥳👍\")"
      ],
      "execution_count": 55,
      "outputs": [
        {
          "output_type": "execute_result",
          "data": {
            "text/plain": [
              "<tf.Tensor: shape=(), dtype=string, numpy=b'\\xf0\\x9f\\xa5\\xb3\\xf0\\x9f\\x91\\x8d'>"
            ]
          },
          "metadata": {
            "tags": []
          },
          "execution_count": 55
        }
      ]
    },
    {
      "cell_type": "markdown",
      "metadata": {
        "colab_type": "text",
        "id": "Ir9cY42MMAei"
      },
      "source": [
        "Some basic functions with strings can be found in `tf.strings`, including `tf.strings.split`."
      ]
    },
    {
      "cell_type": "code",
      "metadata": {
        "colab_type": "code",
        "id": "8k2K0VTFyj8e",
        "colab": {
          "base_uri": "https://localhost:8080/",
          "height": 35
        },
        "outputId": "1c9f4b1e-eeb2-4380-eb3d-188e37f306f7"
      },
      "source": [
        "# We can use split to split a string into a set of tensors\n",
        "print(tf.strings.split(scalar_string_tensor, sep=\" \"))"
      ],
      "execution_count": 56,
      "outputs": [
        {
          "output_type": "stream",
          "text": [
            "tf.Tensor([b'Gray' b'wolf'], shape=(2,), dtype=string)\n"
          ],
          "name": "stdout"
        }
      ]
    },
    {
      "cell_type": "code",
      "metadata": {
        "colab_type": "code",
        "id": "zgGAn1dfR-04",
        "colab": {
          "base_uri": "https://localhost:8080/",
          "height": 35
        },
        "outputId": "c0dc7528-fef7-4c5d-b258-674a9c6ccbd0"
      },
      "source": [
        "# ...but it turns into a `RaggedTensor` if we split up a tensor of strings,\n",
        "# as each string might be split into a different number of parts.\n",
        "print(tf.strings.split(tensor_of_strings))"
      ],
      "execution_count": 57,
      "outputs": [
        {
          "output_type": "stream",
          "text": [
            "<tf.RaggedTensor [[b'Gray', b'wolf'], [b'Quick', b'brown', b'fox'], [b'Lazy', b'dog']]>\n"
          ],
          "name": "stdout"
        }
      ]
    },
    {
      "cell_type": "markdown",
      "metadata": {
        "colab_type": "text",
        "id": "HsAn1kPeO84m"
      },
      "source": [
        "<table>\n",
        "<tr>\n",
        "  <th>Three strings split, shape: <code>[3, None]</code></th>\n",
        "</tr>\n",
        "<tr>\n",
        "  <td>\n",
        "<img src=\"https://github.com/tensorflow/docs/blob/master/site/en/guide/images/tensor/string-split.png?raw=1\" alt=\"Splitting multiple strings returns a tf.RaggedTensor\">\n",
        "  </td>\n",
        "</tr>\n",
        "</table>"
      ]
    },
    {
      "cell_type": "markdown",
      "metadata": {
        "colab_type": "text",
        "id": "st9OxrUxWSKY"
      },
      "source": [
        "And `tf.string.to_number`:"
      ]
    },
    {
      "cell_type": "code",
      "metadata": {
        "colab_type": "code",
        "id": "3nRtx3X9WRfN",
        "colab": {
          "base_uri": "https://localhost:8080/",
          "height": 35
        },
        "outputId": "b92c686d-8c12-47c6-b383-1105801dd707"
      },
      "source": [
        "text = tf.constant(\"1 10 100\")\n",
        "print(tf.strings.to_number(tf.strings.split(text, \" \")))"
      ],
      "execution_count": 58,
      "outputs": [
        {
          "output_type": "stream",
          "text": [
            "tf.Tensor([  1.  10. 100.], shape=(3,), dtype=float32)\n"
          ],
          "name": "stdout"
        }
      ]
    },
    {
      "cell_type": "markdown",
      "metadata": {
        "colab_type": "text",
        "id": "r2EZtBbJBns4"
      },
      "source": [
        "Although you can't use `tf.cast` to turn a string tensor into numbers, you can convert it into bytes, and then into numbers."
      ]
    },
    {
      "cell_type": "code",
      "metadata": {
        "colab_type": "code",
        "id": "fo8BjmH7gyTj",
        "colab": {
          "base_uri": "https://localhost:8080/",
          "height": 54
        },
        "outputId": "d270c50d-8323-4d25-e077-d4bc349d6afb"
      },
      "source": [
        "byte_strings = tf.strings.bytes_split(tf.constant(\"Duck\"))\n",
        "byte_ints = tf.io.decode_raw(tf.constant(\"Duck\"), tf.uint8)\n",
        "print(\"Byte strings:\", byte_strings)\n",
        "print(\"Bytes:\", byte_ints)"
      ],
      "execution_count": 59,
      "outputs": [
        {
          "output_type": "stream",
          "text": [
            "Byte strings: tf.Tensor([b'D' b'u' b'c' b'k'], shape=(4,), dtype=string)\n",
            "Bytes: tf.Tensor([ 68 117  99 107], shape=(4,), dtype=uint8)\n"
          ],
          "name": "stdout"
        }
      ]
    },
    {
      "cell_type": "code",
      "metadata": {
        "colab_type": "code",
        "id": "uSQnZ7d1jCSQ",
        "colab": {
          "base_uri": "https://localhost:8080/",
          "height": 126
        },
        "outputId": "168ebd78-c2e5-4d48-f4d0-d538b4f04774"
      },
      "source": [
        "# Or split it up as unicode and then decode it\n",
        "unicode_bytes = tf.constant(\"アヒル 🦆\")\n",
        "unicode_char_bytes = tf.strings.unicode_split(unicode_bytes, \"UTF-8\")\n",
        "unicode_values = tf.strings.unicode_decode(unicode_bytes, \"UTF-8\")\n",
        "\n",
        "print(\"\\nUnicode bytes:\", unicode_bytes)\n",
        "print(\"\\nUnicode chars:\", unicode_char_bytes)\n",
        "print(\"\\nUnicode values:\", unicode_values)"
      ],
      "execution_count": 60,
      "outputs": [
        {
          "output_type": "stream",
          "text": [
            "\n",
            "Unicode bytes: tf.Tensor(b'\\xe3\\x82\\xa2\\xe3\\x83\\x92\\xe3\\x83\\xab \\xf0\\x9f\\xa6\\x86', shape=(), dtype=string)\n",
            "\n",
            "Unicode chars: tf.Tensor([b'\\xe3\\x82\\xa2' b'\\xe3\\x83\\x92' b'\\xe3\\x83\\xab' b' ' b'\\xf0\\x9f\\xa6\\x86'], shape=(5,), dtype=string)\n",
            "\n",
            "Unicode values: tf.Tensor([ 12450  12498  12523     32 129414], shape=(5,), dtype=int32)\n"
          ],
          "name": "stdout"
        }
      ]
    },
    {
      "cell_type": "markdown",
      "metadata": {
        "colab_type": "text",
        "id": "fE7nKJ2YW3aY"
      },
      "source": [
        "The `tf.string` dtype is used for all raw bytes data in TensorFlow. The `tf.io` module contains functions for converting data to and from bytes, including decoding images and parsing csv."
      ]
    },
    {
      "cell_type": "markdown",
      "metadata": {
        "colab_type": "text",
        "id": "ua8BnAzxkRKV"
      },
      "source": [
        "## Sparse tensors\n",
        "\n",
        "Sometimes, your data is sparse, like a very wide embedding space.  TensorFlow supports `tf.sparse.SparseTensor` and related operations to store sparse data efficiently."
      ]
    },
    {
      "cell_type": "markdown",
      "metadata": {
        "colab_type": "text",
        "id": "mS5zgqgUTPRb"
      },
      "source": [
        "<table>\n",
        "<tr>\n",
        "  <th>A `tf.SparseTensor`, shape: <code>[3, 4]</code></th>\n",
        "</tr>\n",
        "<tr>\n",
        "  <td>\n",
        "<img src=\"https://github.com/tensorflow/docs/blob/master/site/en/guide/images/tensor/sparse.png?raw=1\" alt=\"An 3x4 grid, with values in only two of the cells.\">\n",
        "  </td>\n",
        "</tr>\n",
        "</table>"
      ]
    },
    {
      "cell_type": "code",
      "metadata": {
        "colab_type": "code",
        "id": "B9nbO1E2kSUN",
        "colab": {
          "base_uri": "https://localhost:8080/",
          "height": 163
        },
        "outputId": "d90f64ef-9590-49f6-f7b8-608ccf0ee602"
      },
      "source": [
        "# Sparse tensors store values by index in a memory-efficient manner\n",
        "sparse_tensor = tf.sparse.SparseTensor(indices=[[0, 0], [1, 2]],\n",
        "                                       values=[1, 2],\n",
        "                                       dense_shape=[3, 4])\n",
        "print(sparse_tensor, \"\\n\")\n",
        "\n",
        "# We can convert sparse tensors to dense\n",
        "print(tf.sparse.to_dense(sparse_tensor))"
      ],
      "execution_count": 61,
      "outputs": [
        {
          "output_type": "stream",
          "text": [
            "SparseTensor(indices=tf.Tensor(\n",
            "[[0 0]\n",
            " [1 2]], shape=(2, 2), dtype=int64), values=tf.Tensor([1 2], shape=(2,), dtype=int32), dense_shape=tf.Tensor([3 4], shape=(2,), dtype=int64)) \n",
            "\n",
            "tf.Tensor(\n",
            "[[1 0 0 0]\n",
            " [0 0 2 0]\n",
            " [0 0 0 0]], shape=(3, 4), dtype=int32)\n"
          ],
          "name": "stdout"
        }
      ]
    }
  ]
}